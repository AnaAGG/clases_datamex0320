{
 "cells": [
  {
   "cell_type": "markdown",
   "metadata": {},
   "source": [
    "# Evaluación"
   ]
  },
  {
   "cell_type": "markdown",
   "metadata": {},
   "source": [
    "### Regresión"
   ]
  },
  {
   "cell_type": "code",
   "execution_count": 1,
   "metadata": {},
   "outputs": [],
   "source": [
    "import warnings\n",
    "warnings.simplefilter('ignore')\n",
    "\n",
    "from sklearn.datasets import load_diabetes\n",
    "\n",
    "from sklearn.ensemble import RandomForestRegressor as RFR\n",
    "\n",
    "from sklearn.model_selection import train_test_split as tts"
   ]
  },
  {
   "cell_type": "code",
   "execution_count": 2,
   "metadata": {},
   "outputs": [],
   "source": [
    "data=load_diabetes()"
   ]
  },
  {
   "cell_type": "code",
   "execution_count": 3,
   "metadata": {},
   "outputs": [],
   "source": [
    "X_train, X_test, y_train, y_test = tts(data.data, data.target)"
   ]
  },
  {
   "cell_type": "code",
   "execution_count": 4,
   "metadata": {},
   "outputs": [],
   "source": [
    "rf=RFR()\n",
    "rf.fit(X_train, y_train)\n",
    "\n",
    "y_pred=rf.predict(X_test)"
   ]
  },
  {
   "cell_type": "code",
   "execution_count": 7,
   "metadata": {},
   "outputs": [
    {
     "data": {
      "text/plain": [
       "array([321., 124., 131.,  75., 230., 235.,  90., 283., 235., 132.])"
      ]
     },
     "execution_count": 7,
     "metadata": {},
     "output_type": "execute_result"
    }
   ],
   "source": [
    "y_test[:10]"
   ]
  },
  {
   "cell_type": "markdown",
   "metadata": {},
   "source": [
    "###### MSE\n",
    "\n",
    "\n",
    "$$MSE = \\frac{1}{n}\\sum_{i=1}^{n}(y_i-\\hat{y}_i)^{2}$$\n",
    "\n",
    "\n",
    "pertenece al intervalo [0, +$\\infty$)"
   ]
  },
  {
   "cell_type": "code",
   "execution_count": 6,
   "metadata": {},
   "outputs": [
    {
     "data": {
      "text/plain": [
       "3858.7205324324327"
      ]
     },
     "execution_count": 6,
     "metadata": {},
     "output_type": "execute_result"
    }
   ],
   "source": [
    "from sklearn.metrics import mean_squared_error as mse\n",
    "\n",
    "mse(y_test, y_pred)"
   ]
  },
  {
   "cell_type": "markdown",
   "metadata": {},
   "source": [
    "###### RMSE\n",
    "\n",
    "\n",
    "$$RMSE = \\sqrt{\\frac{1}{n}\\sum_{i=1}^{n}(y_i-\\hat{y}_i)^{2}}$$\n",
    "\n",
    "\n",
    "pertenece al intervalo [0, +$\\infty$)"
   ]
  },
  {
   "cell_type": "code",
   "execution_count": 8,
   "metadata": {},
   "outputs": [
    {
     "data": {
      "text/plain": [
       "62.118600535044514"
      ]
     },
     "execution_count": 8,
     "metadata": {},
     "output_type": "execute_result"
    }
   ],
   "source": [
    "mse(y_test, y_pred)**0.5"
   ]
  },
  {
   "cell_type": "markdown",
   "metadata": {},
   "source": [
    "###### RMSLE\n",
    "\n",
    "\n",
    "$$RMSLE = \\sqrt{\\frac{1}{n}\\sum_{i=1}^{n}(log(y_i)-log(\\hat{y}_i))^{2}}$$\n",
    "\n",
    "\n",
    "pertenece al intervalo [0, +$\\infty$)"
   ]
  },
  {
   "cell_type": "code",
   "execution_count": 10,
   "metadata": {},
   "outputs": [
    {
     "data": {
      "text/plain": [
       "0.45705457134671795"
      ]
     },
     "execution_count": 10,
     "metadata": {},
     "output_type": "execute_result"
    }
   ],
   "source": [
    "from sklearn.metrics import mean_squared_log_error as msle\n",
    "\n",
    "msle(y_test, y_pred)**0.5"
   ]
  },
  {
   "cell_type": "markdown",
   "metadata": {},
   "source": [
    "###### MAE\n",
    "\n",
    "\n",
    "$$MAE = \\frac{1}{n}\\sum_{i=1}^{n}|y_i-\\hat{y}_i|$$\n",
    "\n",
    "\n",
    "pertenece al intervalo [0, +$\\infty$)"
   ]
  },
  {
   "cell_type": "code",
   "execution_count": 11,
   "metadata": {},
   "outputs": [
    {
     "data": {
      "text/plain": [
       "51.946396396396395"
      ]
     },
     "execution_count": 11,
     "metadata": {},
     "output_type": "execute_result"
    }
   ],
   "source": [
    "from sklearn.metrics import mean_absolute_error as mae\n",
    "\n",
    "mae(y_test, y_pred)"
   ]
  },
  {
   "cell_type": "markdown",
   "metadata": {},
   "source": [
    "###### R2\n",
    "\n",
    "\n",
    "$$R2 = 1 - \\frac{\\sum_{i=1}^{n}(y_i-\\hat{y}_i)^{2}}{\\sum_{i=1}^{n}(y_i-\\bar{y})^{2}}$$"
   ]
  },
  {
   "cell_type": "markdown",
   "metadata": {},
   "source": [
    "###### Adjusted R2\n",
    "\n",
    "$$AdjustedR2 = 1-(1-R^{2})\\frac{n-1}{n-p-1}$$\n",
    "\n",
    "\n",
    "donde:\n",
    "+ n = tamaño de la muestra\n",
    "+ p = nº de variables del modelo\n",
    "\n",
    "\n",
    "pertenecen al intervalo (-$\\infty$, 1]"
   ]
  },
  {
   "cell_type": "code",
   "execution_count": 12,
   "metadata": {},
   "outputs": [
    {
     "data": {
      "text/plain": [
       "0.47405361679229285"
      ]
     },
     "execution_count": 12,
     "metadata": {},
     "output_type": "execute_result"
    }
   ],
   "source": [
    "from sklearn.metrics import r2_score as r2\n",
    "\n",
    "r2(y_test, y_pred)"
   ]
  },
  {
   "cell_type": "code",
   "execution_count": 14,
   "metadata": {},
   "outputs": [
    {
     "data": {
      "text/plain": [
       "0.4740536167922929"
      ]
     },
     "execution_count": 14,
     "metadata": {},
     "output_type": "execute_result"
    }
   ],
   "source": [
    "rf.score(X_test, y_test)"
   ]
  },
  {
   "cell_type": "markdown",
   "metadata": {},
   "source": [
    "### Clasificación"
   ]
  },
  {
   "cell_type": "code",
   "execution_count": 15,
   "metadata": {},
   "outputs": [],
   "source": [
    "from sklearn.datasets import load_wine\n",
    "from sklearn.svm import SVC\n",
    "\n",
    "data=load_wine()\n",
    "\n",
    "X_train, X_test, y_train, y_test=tts(data.data, data.target)"
   ]
  },
  {
   "cell_type": "code",
   "execution_count": 16,
   "metadata": {},
   "outputs": [],
   "source": [
    "svc=SVC().fit(X_train, y_train)\n",
    "\n",
    "y_pred=svc.predict(X_test)"
   ]
  },
  {
   "cell_type": "code",
   "execution_count": 24,
   "metadata": {},
   "outputs": [
    {
     "data": {
      "text/plain": [
       "array([2, 1, 0, 0, 0, 0, 2, 2, 2, 0])"
      ]
     },
     "execution_count": 24,
     "metadata": {},
     "output_type": "execute_result"
    }
   ],
   "source": [
    "y_test[:10]"
   ]
  },
  {
   "cell_type": "markdown",
   "metadata": {},
   "source": [
    "+ TP := True Positive (aciertos clase 1)\n",
    "+ TN := True Negative (aciertos clase 0)\n",
    "+ FP := False Positive (Error tipo I, decir 1 cuando es 0)\n",
    "+ FN := False Negative (Error tipo II, decir 0 cuando es 1)"
   ]
  },
  {
   "cell_type": "markdown",
   "metadata": {},
   "source": [
    "+ Accuracy  := (TP+TN)/(TP+TN+FP+FN) (acierto)  ($\\frac{1}{n}\\sum 1(\\hat{y_i}=y_i$))\n",
    "+ Precision := TP/(TP+FP)\n",
    "+ Recall    := TP/(TP+FN)  (Sensibilidad, TPR)\n",
    "+ F1_Score  := 2·Recall·Precision/(Recall+Precision)\n",
    "\n",
    "(F1 funciona mejor que el accuracy cuando los datos no están balanceados y cuando FP y FN son muy diferentes)"
   ]
  },
  {
   "cell_type": "markdown",
   "metadata": {},
   "source": [
    "![](data/f1.png)"
   ]
  },
  {
   "cell_type": "markdown",
   "metadata": {},
   "source": [
    "##### Accuracy"
   ]
  },
  {
   "cell_type": "code",
   "execution_count": 17,
   "metadata": {},
   "outputs": [
    {
     "data": {
      "text/plain": [
       "0.8222222222222222"
      ]
     },
     "execution_count": 17,
     "metadata": {},
     "output_type": "execute_result"
    }
   ],
   "source": [
    "from sklearn.metrics import accuracy_score as acc\n",
    "\n",
    "acc(y_test, y_pred)"
   ]
  },
  {
   "cell_type": "code",
   "execution_count": 18,
   "metadata": {},
   "outputs": [
    {
     "data": {
      "text/plain": [
       "0.8222222222222222"
      ]
     },
     "execution_count": 18,
     "metadata": {},
     "output_type": "execute_result"
    }
   ],
   "source": [
    "svc.score(X_test, y_test)"
   ]
  },
  {
   "cell_type": "markdown",
   "metadata": {},
   "source": [
    "##### Precision"
   ]
  },
  {
   "cell_type": "code",
   "execution_count": 21,
   "metadata": {},
   "outputs": [
    {
     "data": {
      "text/plain": [
       "0.7896613190730838"
      ]
     },
     "execution_count": 21,
     "metadata": {},
     "output_type": "execute_result"
    }
   ],
   "source": [
    "from sklearn.metrics import precision_score as prec\n",
    "\n",
    "prec(y_test, y_pred, average='macro')"
   ]
  },
  {
   "cell_type": "markdown",
   "metadata": {},
   "source": [
    "##### Recall"
   ]
  },
  {
   "cell_type": "code",
   "execution_count": 22,
   "metadata": {},
   "outputs": [
    {
     "data": {
      "text/plain": [
       "0.8011695906432749"
      ]
     },
     "execution_count": 22,
     "metadata": {},
     "output_type": "execute_result"
    }
   ],
   "source": [
    "from sklearn.metrics import recall_score as rec\n",
    "\n",
    "rec(y_test, y_pred, average='macro')"
   ]
  },
  {
   "cell_type": "markdown",
   "metadata": {},
   "source": [
    "##### F1_Score"
   ]
  },
  {
   "cell_type": "code",
   "execution_count": 23,
   "metadata": {},
   "outputs": [
    {
     "data": {
      "text/plain": [
       "0.7925925925925926"
      ]
     },
     "execution_count": 23,
     "metadata": {},
     "output_type": "execute_result"
    }
   ],
   "source": [
    "from sklearn.metrics import f1_score as f1\n",
    "\n",
    "f1(y_test, y_pred, average='macro')"
   ]
  },
  {
   "cell_type": "markdown",
   "metadata": {},
   "source": [
    "##### Matriz de Confusión\n",
    "\n",
    "![](data/conf_matrix.jpeg)"
   ]
  },
  {
   "cell_type": "code",
   "execution_count": 25,
   "metadata": {},
   "outputs": [
    {
     "data": {
      "text/plain": [
       "array([[17,  0,  0],\n",
       "       [ 0, 14,  5],\n",
       "       [ 0,  3,  6]])"
      ]
     },
     "execution_count": 25,
     "metadata": {},
     "output_type": "execute_result"
    }
   ],
   "source": [
    "from sklearn.metrics import confusion_matrix as cm\n",
    "\n",
    "cm(y_test, y_pred)"
   ]
  },
  {
   "cell_type": "code",
   "execution_count": 26,
   "metadata": {},
   "outputs": [],
   "source": [
    "import matplotlib.pyplot as plt\n",
    "%matplotlib inline\n",
    "import seaborn as sns"
   ]
  },
  {
   "cell_type": "code",
   "execution_count": 29,
   "metadata": {},
   "outputs": [
    {
     "data": {
      "image/png": "[encoded data removed]",
      "text/plain": [
       "<Figure size 432x288 with 2 Axes>"
      ]
     },
     "metadata": {
      "needs_background": "light"
     },
     "output_type": "display_data"
    }
   ],
   "source": [
    "ax=sns.heatmap(cm(y_test, y_pred)/sum(sum(cm(y_test, y_pred))), annot=True)\n",
    "\n",
    "b, t=ax.get_ylim()\n",
    "ax.set_ylim(b+0.5, t-0.5)\n",
    "\n",
    "plt.title('Matriz confusion')\n",
    "plt.ylabel('Verdad')\n",
    "plt.xlabel('Prediccion')\n",
    "plt.show();"
   ]
  },
  {
   "cell_type": "markdown",
   "metadata": {},
   "source": [
    "##### ROC-AUC  (Característica operativa del receptor y área debajo de la curva)\n",
    "\n",
    "+ TPR := TP/(TP+FN)\n",
    "+ FPR := FP/(TN+FP)\n",
    "\n",
    "\n",
    "![](data/roc.png)"
   ]
  },
  {
   "cell_type": "code",
   "execution_count": 32,
   "metadata": {},
   "outputs": [],
   "source": [
    "from sklearn.datasets import load_breast_cancer\n",
    "from sklearn.svm import SVC\n",
    "\n",
    "data=load_breast_cancer()\n",
    "\n",
    "X_train, X_test, y_train, y_test=tts(data.data, data.target)\n",
    "\n",
    "\n",
    "svc=SVC(probability=True).fit(X_train, y_train)\n",
    "\n",
    "y_pred=svc.predict(X_test) # predice etiqueta\n",
    "\n",
    "y_prob=svc.predict_proba(X_test)[::, 1]  # devuelve la prob"
   ]
  },
  {
   "cell_type": "code",
   "execution_count": 34,
   "metadata": {},
   "outputs": [],
   "source": [
    "from sklearn.metrics import roc_curve as roc\n",
    "from sklearn.metrics import roc_auc_score as auc"
   ]
  },
  {
   "cell_type": "code",
   "execution_count": 35,
   "metadata": {},
   "outputs": [
    {
     "data": {
      "image/png": "[encoded data removed]",
      "text/plain": [
       "<Figure size 432x288 with 1 Axes>"
      ]
     },
     "metadata": {},
     "output_type": "display_data"
    }
   ],
   "source": [
    "with plt.xkcd():  # mal pintao, y_pred\n",
    "    fpr, tpr, umbrales=roc(y_test, y_pred)\n",
    "    a=auc(y_test, y_pred)\n",
    "    plt.plot(fpr, tpr)\n",
    "    plt.plot(fpr, fpr, 'r--')\n",
    "    plt.xlabel('FPR')\n",
    "    plt.ylabel('TPR')\n",
    "    plt.title('Binary ROC Curve --- AUC={:.3f}'.format(a))\n",
    "    plt.show();"
   ]
  },
  {
   "cell_type": "code",
   "execution_count": 38,
   "metadata": {},
   "outputs": [
    {
     "data": {
      "image/png": "[encoded data removed]",
      "text/plain": [
       "<Figure size 432x288 with 1 Axes>"
      ]
     },
     "metadata": {},
     "output_type": "display_data"
    }
   ],
   "source": [
    "with plt.xkcd(): # bien pintá, y_prob\n",
    "    fpr, tpr, umbrales=roc(y_test, y_prob)\n",
    "    a=auc(y_test, y_prob)\n",
    "    plt.plot(fpr, tpr)\n",
    "    plt.plot(fpr, fpr, 'r--')\n",
    "    plt.xlabel('FPR')\n",
    "    plt.ylabel('TPR')\n",
    "    plt.title('Prob ROC Curve --- AUC={:.3f}'.format(a))\n",
    "    plt.show();"
   ]
  },
  {
   "cell_type": "code",
   "execution_count": 43,
   "metadata": {},
   "outputs": [
    {
     "data": {
      "text/plain": [
       "0.9230769230769231"
      ]
     },
     "execution_count": 43,
     "metadata": {},
     "output_type": "execute_result"
    }
   ],
   "source": [
    "acc(y_test, y_pred)  # accuracy"
   ]
  },
  {
   "cell_type": "code",
   "execution_count": 44,
   "metadata": {},
   "outputs": [
    {
     "data": {
      "text/plain": [
       "array([1.98338450e+00, 9.83384500e-01, 8.39905515e-01, 8.33265612e-01,\n",
       "       7.83600402e-01, 7.61561324e-01, 7.21511670e-01, 6.82231256e-01,\n",
       "       6.15031911e-01, 5.82777871e-01, 5.55963548e-01, 5.00000000e-01,\n",
       "       4.72279421e-01, 3.20793922e-01, 2.86102865e-01, 3.89090240e-04])"
      ]
     },
     "execution_count": 44,
     "metadata": {},
     "output_type": "execute_result"
    }
   ],
   "source": [
    "umbrales"
   ]
  },
  {
   "cell_type": "markdown",
   "metadata": {},
   "source": [
    "# HyperOpt (GridSearching bayesiano)"
   ]
  },
  {
   "cell_type": "code",
   "execution_count": 45,
   "metadata": {},
   "outputs": [],
   "source": [
    "#!pip3 install hyperopt\n",
    "\n",
    "\n",
    "import pandas as pd\n",
    "import xgboost as xgb\n",
    "\n",
    "from hyperopt import fmin, hp, tpe, Trials, space_eval, STATUS_OK\n",
    "from hyperopt.pyll import scope as ho_scope\n",
    "from hyperopt.pyll.stochastic import sample as ho_sample\n",
    "\n",
    "from sklearn.metrics import mean_squared_error as mse\n",
    "from sklearn.model_selection import train_test_split as tts"
   ]
  },
  {
   "cell_type": "code",
   "execution_count": 46,
   "metadata": {},
   "outputs": [
    {
     "data": {
      "text/html": [
       "<div>\n",
       "<style scoped>\n",
       "    .dataframe tbody tr th:only-of-type {\n",
       "        vertical-align: middle;\n",
       "    }\n",
       "\n",
       "    .dataframe tbody tr th {\n",
       "        vertical-align: top;\n",
       "    }\n",
       "\n",
       "    .dataframe thead th {\n",
       "        text-align: right;\n",
       "    }\n",
       "</style>\n",
       "<table border=\"1\" class=\"dataframe\">\n",
       "  <thead>\n",
       "    <tr style=\"text-align: right;\">\n",
       "      <th></th>\n",
       "      <th>carat</th>\n",
       "      <th>cut</th>\n",
       "      <th>color</th>\n",
       "      <th>clarity</th>\n",
       "      <th>depth</th>\n",
       "      <th>table</th>\n",
       "      <th>price</th>\n",
       "      <th>x</th>\n",
       "      <th>y</th>\n",
       "      <th>z</th>\n",
       "    </tr>\n",
       "  </thead>\n",
       "  <tbody>\n",
       "    <tr>\n",
       "      <td>0</td>\n",
       "      <td>1.21</td>\n",
       "      <td>Premium</td>\n",
       "      <td>J</td>\n",
       "      <td>VS2</td>\n",
       "      <td>62.4</td>\n",
       "      <td>58.0</td>\n",
       "      <td>4268</td>\n",
       "      <td>6.83</td>\n",
       "      <td>6.79</td>\n",
       "      <td>4.25</td>\n",
       "    </tr>\n",
       "    <tr>\n",
       "      <td>1</td>\n",
       "      <td>0.32</td>\n",
       "      <td>Very Good</td>\n",
       "      <td>H</td>\n",
       "      <td>VS2</td>\n",
       "      <td>63.0</td>\n",
       "      <td>57.0</td>\n",
       "      <td>505</td>\n",
       "      <td>4.35</td>\n",
       "      <td>4.38</td>\n",
       "      <td>2.75</td>\n",
       "    </tr>\n",
       "    <tr>\n",
       "      <td>2</td>\n",
       "      <td>0.71</td>\n",
       "      <td>Fair</td>\n",
       "      <td>G</td>\n",
       "      <td>VS1</td>\n",
       "      <td>65.5</td>\n",
       "      <td>55.0</td>\n",
       "      <td>2686</td>\n",
       "      <td>5.62</td>\n",
       "      <td>5.53</td>\n",
       "      <td>3.65</td>\n",
       "    </tr>\n",
       "    <tr>\n",
       "      <td>3</td>\n",
       "      <td>0.41</td>\n",
       "      <td>Good</td>\n",
       "      <td>D</td>\n",
       "      <td>SI1</td>\n",
       "      <td>63.8</td>\n",
       "      <td>56.0</td>\n",
       "      <td>738</td>\n",
       "      <td>4.68</td>\n",
       "      <td>4.72</td>\n",
       "      <td>3.00</td>\n",
       "    </tr>\n",
       "    <tr>\n",
       "      <td>4</td>\n",
       "      <td>1.02</td>\n",
       "      <td>Ideal</td>\n",
       "      <td>G</td>\n",
       "      <td>SI1</td>\n",
       "      <td>60.5</td>\n",
       "      <td>59.0</td>\n",
       "      <td>4882</td>\n",
       "      <td>6.55</td>\n",
       "      <td>6.51</td>\n",
       "      <td>3.95</td>\n",
       "    </tr>\n",
       "  </tbody>\n",
       "</table>\n",
       "</div>"
      ],
      "text/plain": [
       "   carat        cut color clarity  depth  table  price     x     y     z\n",
       "0   1.21    Premium     J     VS2   62.4   58.0   4268  6.83  6.79  4.25\n",
       "1   0.32  Very Good     H     VS2   63.0   57.0    505  4.35  4.38  2.75\n",
       "2   0.71       Fair     G     VS1   65.5   55.0   2686  5.62  5.53  3.65\n",
       "3   0.41       Good     D     SI1   63.8   56.0    738  4.68  4.72  3.00\n",
       "4   1.02      Ideal     G     SI1   60.5   59.0   4882  6.55  6.51  3.95"
      ]
     },
     "execution_count": 46,
     "metadata": {},
     "output_type": "execute_result"
    }
   ],
   "source": [
    "df=pd.read_csv('data/diamonds_train.csv')\n",
    "df=df.dropna()\n",
    "\n",
    "df.head()"
   ]
  },
  {
   "cell_type": "code",
   "execution_count": 47,
   "metadata": {},
   "outputs": [],
   "source": [
    "X=df.drop('price', axis=1)\n",
    "y=df.price"
   ]
  },
  {
   "cell_type": "code",
   "execution_count": 48,
   "metadata": {},
   "outputs": [],
   "source": [
    "clarity={'I1':0, 'SI2':1, 'SI1':2, 'VS2':3, 'VS1':4,\n",
    "         'VVS2':5, 'VVS1':6, 'IF':7}\n",
    "\n",
    "\n",
    "cut={'Fair':0, 'Good':1, 'Very Good':2, 'Premium':3, 'Ideal':4}\n",
    "\n",
    "\n",
    "color={'J':0, 'I':1, 'H':2, 'G':3, 'F':4, 'E':5, 'D':6}"
   ]
  },
  {
   "cell_type": "code",
   "execution_count": 49,
   "metadata": {},
   "outputs": [],
   "source": [
    "def label(s, dic):\n",
    "    return dic[s]"
   ]
  },
  {
   "cell_type": "code",
   "execution_count": 50,
   "metadata": {},
   "outputs": [
    {
     "data": {
      "text/html": [
       "<div>\n",
       "<style scoped>\n",
       "    .dataframe tbody tr th:only-of-type {\n",
       "        vertical-align: middle;\n",
       "    }\n",
       "\n",
       "    .dataframe tbody tr th {\n",
       "        vertical-align: top;\n",
       "    }\n",
       "\n",
       "    .dataframe thead th {\n",
       "        text-align: right;\n",
       "    }\n",
       "</style>\n",
       "<table border=\"1\" class=\"dataframe\">\n",
       "  <thead>\n",
       "    <tr style=\"text-align: right;\">\n",
       "      <th></th>\n",
       "      <th>carat</th>\n",
       "      <th>cut</th>\n",
       "      <th>color</th>\n",
       "      <th>clarity</th>\n",
       "      <th>depth</th>\n",
       "      <th>table</th>\n",
       "      <th>x</th>\n",
       "      <th>y</th>\n",
       "      <th>z</th>\n",
       "    </tr>\n",
       "  </thead>\n",
       "  <tbody>\n",
       "    <tr>\n",
       "      <td>0</td>\n",
       "      <td>1.21</td>\n",
       "      <td>3</td>\n",
       "      <td>0</td>\n",
       "      <td>3</td>\n",
       "      <td>62.4</td>\n",
       "      <td>58.0</td>\n",
       "      <td>6.83</td>\n",
       "      <td>6.79</td>\n",
       "      <td>4.25</td>\n",
       "    </tr>\n",
       "    <tr>\n",
       "      <td>1</td>\n",
       "      <td>0.32</td>\n",
       "      <td>2</td>\n",
       "      <td>2</td>\n",
       "      <td>3</td>\n",
       "      <td>63.0</td>\n",
       "      <td>57.0</td>\n",
       "      <td>4.35</td>\n",
       "      <td>4.38</td>\n",
       "      <td>2.75</td>\n",
       "    </tr>\n",
       "    <tr>\n",
       "      <td>2</td>\n",
       "      <td>0.71</td>\n",
       "      <td>0</td>\n",
       "      <td>3</td>\n",
       "      <td>4</td>\n",
       "      <td>65.5</td>\n",
       "      <td>55.0</td>\n",
       "      <td>5.62</td>\n",
       "      <td>5.53</td>\n",
       "      <td>3.65</td>\n",
       "    </tr>\n",
       "    <tr>\n",
       "      <td>3</td>\n",
       "      <td>0.41</td>\n",
       "      <td>1</td>\n",
       "      <td>6</td>\n",
       "      <td>2</td>\n",
       "      <td>63.8</td>\n",
       "      <td>56.0</td>\n",
       "      <td>4.68</td>\n",
       "      <td>4.72</td>\n",
       "      <td>3.00</td>\n",
       "    </tr>\n",
       "    <tr>\n",
       "      <td>4</td>\n",
       "      <td>1.02</td>\n",
       "      <td>4</td>\n",
       "      <td>3</td>\n",
       "      <td>2</td>\n",
       "      <td>60.5</td>\n",
       "      <td>59.0</td>\n",
       "      <td>6.55</td>\n",
       "      <td>6.51</td>\n",
       "      <td>3.95</td>\n",
       "    </tr>\n",
       "  </tbody>\n",
       "</table>\n",
       "</div>"
      ],
      "text/plain": [
       "   carat  cut  color  clarity  depth  table     x     y     z\n",
       "0   1.21    3      0        3   62.4   58.0  6.83  6.79  4.25\n",
       "1   0.32    2      2        3   63.0   57.0  4.35  4.38  2.75\n",
       "2   0.71    0      3        4   65.5   55.0  5.62  5.53  3.65\n",
       "3   0.41    1      6        2   63.8   56.0  4.68  4.72  3.00\n",
       "4   1.02    4      3        2   60.5   59.0  6.55  6.51  3.95"
      ]
     },
     "execution_count": 50,
     "metadata": {},
     "output_type": "execute_result"
    }
   ],
   "source": [
    "X.clarity=X.clarity.apply(lambda x: label(x, clarity))\n",
    "\n",
    "X.cut=X.cut.apply(lambda x: label(x, cut))\n",
    "\n",
    "X.color=X.color.apply(lambda x: label(x, color))\n",
    "\n",
    "X.head()"
   ]
  },
  {
   "cell_type": "code",
   "execution_count": 51,
   "metadata": {},
   "outputs": [],
   "source": [
    "X_train, X_test, y_train, y_test = tts(X, y)"
   ]
  },
  {
   "cell_type": "code",
   "execution_count": 52,
   "metadata": {},
   "outputs": [],
   "source": [
    "space={\n",
    "    'n_estimators':hp.quniform('n_estimators', 10, 1000, 25),\n",
    "    \n",
    "    'learning_rate':hp.uniform('learning_rate', 0.0001, 1.0),\n",
    "    \n",
    "    'max_depth':hp.quniform('x_max_depth', 4, 16, 1),\n",
    "    \n",
    "    'min_child_weight':hp.quniform('x_min_child', 1, 10, 1),\n",
    "    \n",
    "    'subsample':hp.uniform('x_subsample', 0.7, 1),\n",
    "    \n",
    "    'gamma':hp.uniform('x_gamma', 0.1, 0.5),\n",
    "    \n",
    "    'reg_lambda':hp.uniform('x_reg_lambda', 0, 1)\n",
    "}"
   ]
  },
  {
   "cell_type": "code",
   "execution_count": 53,
   "metadata": {},
   "outputs": [],
   "source": [
    "def objetivo(space):\n",
    "    \n",
    "    modelo=xgb.XGBRegressor(\n",
    "        n_estimators=int(space['n_estimators']),\n",
    "        learning_rate=space['learning_rate'],\n",
    "        max_depth=int(space['max_depth']),\n",
    "        min_child_weight=space['min_child_weight'],\n",
    "        subsample=space['subsample'],\n",
    "        gamma=space['gamma'],\n",
    "        reg_lambda=space['reg_lambda'],\n",
    "        objective='reg:squarederror'\n",
    "    )\n",
    "    \n",
    "    eval_set=[(X_train, y_train), (X_test, y_test)]\n",
    "    \n",
    "    modelo.fit(X_train, y_train, eval_set=eval_set, eval_metric='rmse', verbose=False)\n",
    "    \n",
    "    y_pred=modelo.predict(X_test)\n",
    "    \n",
    "    rmse=mse(y_test, y_pred)**0.5\n",
    "    \n",
    "    return {'loss':rmse, 'status':STATUS_OK}"
   ]
  },
  {
   "cell_type": "code",
   "execution_count": 54,
   "metadata": {},
   "outputs": [
    {
     "name": "stdout",
     "output_type": "stream",
     "text": [
      "100%|██████████| 10/10 [04:39<00:00, 27.92s/it, best loss: 540.8825001459674]\n"
     ]
    },
    {
     "data": {
      "text/plain": [
       "{'learning_rate': 0.09731207050419076,\n",
       " 'n_estimators': 575.0,\n",
       " 'x_gamma': 0.3215276842561301,\n",
       " 'x_max_depth': 4.0,\n",
       " 'x_min_child': 7.0,\n",
       " 'x_reg_lambda': 0.6563701833874768,\n",
       " 'x_subsample': 0.9935127676771988}"
      ]
     },
     "execution_count": 54,
     "metadata": {},
     "output_type": "execute_result"
    }
   ],
   "source": [
    "trials_reg=Trials()\n",
    "\n",
    "best=fmin(fn=objetivo, space=space, algo=tpe.suggest, max_evals=10, trials=Trials())\n",
    "\n",
    "best"
   ]
  },
  {
   "cell_type": "code",
   "execution_count": 55,
   "metadata": {},
   "outputs": [],
   "source": [
    "modelo=xgb.XGBRegressor(\n",
    "    n_estimators=int(best['n_estimators']),\n",
    "    learning_rate=best['learning_rate'],\n",
    "    x_max_depth=int(best['x_max_depth']),\n",
    "    x_min_child=best['x_min_child'],\n",
    "    x_subsample=best['x_subsample'],\n",
    "    x_gamma=best['x_gamma'],\n",
    "    x_reg_lambda=best['x_reg_lambda'],\n",
    "    objective='reg:squarederror'\n",
    "    )"
   ]
  },
  {
   "cell_type": "code",
   "execution_count": 56,
   "metadata": {},
   "outputs": [
    {
     "data": {
      "text/plain": [
       "556.4552691240643"
      ]
     },
     "execution_count": 56,
     "metadata": {},
     "output_type": "execute_result"
    }
   ],
   "source": [
    "modelo.fit(X_train, y_train)\n",
    "y_pred=modelo.predict(X_test)\n",
    "mse(y_test, y_pred)**0.5"
   ]
  },
  {
   "cell_type": "code",
   "execution_count": 57,
   "metadata": {},
   "outputs": [
    {
     "name": "stdout",
     "output_type": "stream",
     "text": [
      "[12:13:11] WARNING: src/objective/regression_obj.cu:152: reg:linear is now deprecated in favor of reg:squarederror.\n"
     ]
    },
    {
     "data": {
      "text/plain": [
       "622.8651549377946"
      ]
     },
     "execution_count": 57,
     "metadata": {},
     "output_type": "execute_result"
    }
   ],
   "source": [
    "m=xgb.XGBRegressor()\n",
    "m.fit(X_train, y_train)\n",
    "y_pred=m.predict(X_test)\n",
    "mse(y_test, y_pred)**0.5"
   ]
  },
  {
   "cell_type": "markdown",
   "metadata": {},
   "source": [
    "# PyCaret\n",
    "\n",
    "https://pycaret.org/tutorial/\n",
    "\n",
    "https://colab.research.google.com/drive/1GqQ3XAIzg4krBbnOpKyeRqT0qBQhdwYL#scrollTo=lUvE187JEQm3"
   ]
  },
  {
   "cell_type": "code",
   "execution_count": 58,
   "metadata": {},
   "outputs": [
    {
     "data": {
      "text/html": [
       "<div>\n",
       "<style scoped>\n",
       "    .dataframe tbody tr th:only-of-type {\n",
       "        vertical-align: middle;\n",
       "    }\n",
       "\n",
       "    .dataframe tbody tr th {\n",
       "        vertical-align: top;\n",
       "    }\n",
       "\n",
       "    .dataframe thead th {\n",
       "        text-align: right;\n",
       "    }\n",
       "</style>\n",
       "<table border=\"1\" class=\"dataframe\">\n",
       "  <thead>\n",
       "    <tr style=\"text-align: right;\">\n",
       "      <th></th>\n",
       "      <th>LIMIT_BAL</th>\n",
       "      <th>SEX</th>\n",
       "      <th>EDUCATION</th>\n",
       "      <th>MARRIAGE</th>\n",
       "      <th>AGE</th>\n",
       "      <th>PAY_1</th>\n",
       "      <th>PAY_2</th>\n",
       "      <th>PAY_3</th>\n",
       "      <th>PAY_4</th>\n",
       "      <th>PAY_5</th>\n",
       "      <th>...</th>\n",
       "      <th>BILL_AMT4</th>\n",
       "      <th>BILL_AMT5</th>\n",
       "      <th>BILL_AMT6</th>\n",
       "      <th>PAY_AMT1</th>\n",
       "      <th>PAY_AMT2</th>\n",
       "      <th>PAY_AMT3</th>\n",
       "      <th>PAY_AMT4</th>\n",
       "      <th>PAY_AMT5</th>\n",
       "      <th>PAY_AMT6</th>\n",
       "      <th>default</th>\n",
       "    </tr>\n",
       "  </thead>\n",
       "  <tbody>\n",
       "    <tr>\n",
       "      <td>0</td>\n",
       "      <td>20000</td>\n",
       "      <td>2</td>\n",
       "      <td>2</td>\n",
       "      <td>1</td>\n",
       "      <td>24</td>\n",
       "      <td>2</td>\n",
       "      <td>2</td>\n",
       "      <td>-1</td>\n",
       "      <td>-1</td>\n",
       "      <td>-2</td>\n",
       "      <td>...</td>\n",
       "      <td>0.0</td>\n",
       "      <td>0.0</td>\n",
       "      <td>0.0</td>\n",
       "      <td>0.0</td>\n",
       "      <td>689.0</td>\n",
       "      <td>0.0</td>\n",
       "      <td>0.0</td>\n",
       "      <td>0.0</td>\n",
       "      <td>0.0</td>\n",
       "      <td>1</td>\n",
       "    </tr>\n",
       "    <tr>\n",
       "      <td>1</td>\n",
       "      <td>90000</td>\n",
       "      <td>2</td>\n",
       "      <td>2</td>\n",
       "      <td>2</td>\n",
       "      <td>34</td>\n",
       "      <td>0</td>\n",
       "      <td>0</td>\n",
       "      <td>0</td>\n",
       "      <td>0</td>\n",
       "      <td>0</td>\n",
       "      <td>...</td>\n",
       "      <td>14331.0</td>\n",
       "      <td>14948.0</td>\n",
       "      <td>15549.0</td>\n",
       "      <td>1518.0</td>\n",
       "      <td>1500.0</td>\n",
       "      <td>1000.0</td>\n",
       "      <td>1000.0</td>\n",
       "      <td>1000.0</td>\n",
       "      <td>5000.0</td>\n",
       "      <td>0</td>\n",
       "    </tr>\n",
       "    <tr>\n",
       "      <td>2</td>\n",
       "      <td>50000</td>\n",
       "      <td>2</td>\n",
       "      <td>2</td>\n",
       "      <td>1</td>\n",
       "      <td>37</td>\n",
       "      <td>0</td>\n",
       "      <td>0</td>\n",
       "      <td>0</td>\n",
       "      <td>0</td>\n",
       "      <td>0</td>\n",
       "      <td>...</td>\n",
       "      <td>28314.0</td>\n",
       "      <td>28959.0</td>\n",
       "      <td>29547.0</td>\n",
       "      <td>2000.0</td>\n",
       "      <td>2019.0</td>\n",
       "      <td>1200.0</td>\n",
       "      <td>1100.0</td>\n",
       "      <td>1069.0</td>\n",
       "      <td>1000.0</td>\n",
       "      <td>0</td>\n",
       "    </tr>\n",
       "    <tr>\n",
       "      <td>3</td>\n",
       "      <td>50000</td>\n",
       "      <td>1</td>\n",
       "      <td>2</td>\n",
       "      <td>1</td>\n",
       "      <td>57</td>\n",
       "      <td>-1</td>\n",
       "      <td>0</td>\n",
       "      <td>-1</td>\n",
       "      <td>0</td>\n",
       "      <td>0</td>\n",
       "      <td>...</td>\n",
       "      <td>20940.0</td>\n",
       "      <td>19146.0</td>\n",
       "      <td>19131.0</td>\n",
       "      <td>2000.0</td>\n",
       "      <td>36681.0</td>\n",
       "      <td>10000.0</td>\n",
       "      <td>9000.0</td>\n",
       "      <td>689.0</td>\n",
       "      <td>679.0</td>\n",
       "      <td>0</td>\n",
       "    </tr>\n",
       "    <tr>\n",
       "      <td>4</td>\n",
       "      <td>50000</td>\n",
       "      <td>1</td>\n",
       "      <td>1</td>\n",
       "      <td>2</td>\n",
       "      <td>37</td>\n",
       "      <td>0</td>\n",
       "      <td>0</td>\n",
       "      <td>0</td>\n",
       "      <td>0</td>\n",
       "      <td>0</td>\n",
       "      <td>...</td>\n",
       "      <td>19394.0</td>\n",
       "      <td>19619.0</td>\n",
       "      <td>20024.0</td>\n",
       "      <td>2500.0</td>\n",
       "      <td>1815.0</td>\n",
       "      <td>657.0</td>\n",
       "      <td>1000.0</td>\n",
       "      <td>1000.0</td>\n",
       "      <td>800.0</td>\n",
       "      <td>0</td>\n",
       "    </tr>\n",
       "  </tbody>\n",
       "</table>\n",
       "<p>5 rows × 24 columns</p>\n",
       "</div>"
      ],
      "text/plain": [
       "   LIMIT_BAL  SEX  EDUCATION  MARRIAGE  AGE  PAY_1  PAY_2  PAY_3  PAY_4  \\\n",
       "0      20000    2          2         1   24      2      2     -1     -1   \n",
       "1      90000    2          2         2   34      0      0      0      0   \n",
       "2      50000    2          2         1   37      0      0      0      0   \n",
       "3      50000    1          2         1   57     -1      0     -1      0   \n",
       "4      50000    1          1         2   37      0      0      0      0   \n",
       "\n",
       "   PAY_5  ...  BILL_AMT4  BILL_AMT5  BILL_AMT6  PAY_AMT1  PAY_AMT2  PAY_AMT3  \\\n",
       "0     -2  ...        0.0        0.0        0.0       0.0     689.0       0.0   \n",
       "1      0  ...    14331.0    14948.0    15549.0    1518.0    1500.0    1000.0   \n",
       "2      0  ...    28314.0    28959.0    29547.0    2000.0    2019.0    1200.0   \n",
       "3      0  ...    20940.0    19146.0    19131.0    2000.0   36681.0   10000.0   \n",
       "4      0  ...    19394.0    19619.0    20024.0    2500.0    1815.0     657.0   \n",
       "\n",
       "   PAY_AMT4  PAY_AMT5  PAY_AMT6  default  \n",
       "0       0.0       0.0       0.0        1  \n",
       "1    1000.0    1000.0    5000.0        0  \n",
       "2    1100.0    1069.0    1000.0        0  \n",
       "3    9000.0     689.0     679.0        0  \n",
       "4    1000.0    1000.0     800.0        0  \n",
       "\n",
       "[5 rows x 24 columns]"
      ]
     },
     "metadata": {},
     "output_type": "display_data"
    }
   ],
   "source": [
    "#!pip3 install pycaret\n",
    "\n",
    "from pycaret.datasets import get_data\n",
    "dataset=get_data('credit')"
   ]
  },
  {
   "cell_type": "code",
   "execution_count": 59,
   "metadata": {},
   "outputs": [
    {
     "data": {
      "text/plain": [
       "(24000, 24)"
      ]
     },
     "execution_count": 59,
     "metadata": {},
     "output_type": "execute_result"
    }
   ],
   "source": [
    "dataset.shape"
   ]
  },
  {
   "cell_type": "code",
   "execution_count": 60,
   "metadata": {},
   "outputs": [
    {
     "name": "stdout",
     "output_type": "stream",
     "text": [
      "Data for Modeling: (22800, 24)\n",
      "Unseen Data For Predictions: (1200, 24)\n"
     ]
    }
   ],
   "source": [
    "data = dataset.sample(frac=0.95, random_state=786).reset_index(drop=True)\n",
    "data_unseen = dataset.drop(data.index).reset_index(drop=True)\n",
    "\n",
    "print('Data for Modeling: ' + str(data.shape))\n",
    "print('Unseen Data For Predictions: ' + str(data_unseen.shape))"
   ]
  },
  {
   "cell_type": "code",
   "execution_count": 61,
   "metadata": {},
   "outputs": [],
   "source": [
    "from pycaret.classification import *"
   ]
  },
  {
   "cell_type": "code",
   "execution_count": 62,
   "metadata": {},
   "outputs": [
    {
     "name": "stdout",
     "output_type": "stream",
     "text": [
      " \n",
      "Setup Succesfully Completed!\n"
     ]
    },
    {
     "data": {
      "text/html": [
       "<style  type=\"text/css\" >\n",
       "</style><table id=\"T_0252fa0e_8bd0_11ea_b6e8_a860b6378866\" ><thead>    <tr>        <th class=\"blank level0\" ></th>        <th class=\"col_heading level0 col0\" >Description</th>        <th class=\"col_heading level0 col1\" >Value</th>    </tr></thead><tbody>\n",
       "                <tr>\n",
       "                        <th id=\"T_0252fa0e_8bd0_11ea_b6e8_a860b6378866level0_row0\" class=\"row_heading level0 row0\" >0</th>\n",
       "                        <td id=\"T_0252fa0e_8bd0_11ea_b6e8_a860b6378866row0_col0\" class=\"data row0 col0\" >session_id</td>\n",
       "                        <td id=\"T_0252fa0e_8bd0_11ea_b6e8_a860b6378866row0_col1\" class=\"data row0 col1\" >123</td>\n",
       "            </tr>\n",
       "            <tr>\n",
       "                        <th id=\"T_0252fa0e_8bd0_11ea_b6e8_a860b6378866level0_row1\" class=\"row_heading level0 row1\" >1</th>\n",
       "                        <td id=\"T_0252fa0e_8bd0_11ea_b6e8_a860b6378866row1_col0\" class=\"data row1 col0\" >Target Type</td>\n",
       "                        <td id=\"T_0252fa0e_8bd0_11ea_b6e8_a860b6378866row1_col1\" class=\"data row1 col1\" >Binary</td>\n",
       "            </tr>\n",
       "            <tr>\n",
       "                        <th id=\"T_0252fa0e_8bd0_11ea_b6e8_a860b6378866level0_row2\" class=\"row_heading level0 row2\" >2</th>\n",
       "                        <td id=\"T_0252fa0e_8bd0_11ea_b6e8_a860b6378866row2_col0\" class=\"data row2 col0\" >Label Encoded</td>\n",
       "                        <td id=\"T_0252fa0e_8bd0_11ea_b6e8_a860b6378866row2_col1\" class=\"data row2 col1\" >None</td>\n",
       "            </tr>\n",
       "            <tr>\n",
       "                        <th id=\"T_0252fa0e_8bd0_11ea_b6e8_a860b6378866level0_row3\" class=\"row_heading level0 row3\" >3</th>\n",
       "                        <td id=\"T_0252fa0e_8bd0_11ea_b6e8_a860b6378866row3_col0\" class=\"data row3 col0\" >Original Data</td>\n",
       "                        <td id=\"T_0252fa0e_8bd0_11ea_b6e8_a860b6378866row3_col1\" class=\"data row3 col1\" >(22800, 24)</td>\n",
       "            </tr>\n",
       "            <tr>\n",
       "                        <th id=\"T_0252fa0e_8bd0_11ea_b6e8_a860b6378866level0_row4\" class=\"row_heading level0 row4\" >4</th>\n",
       "                        <td id=\"T_0252fa0e_8bd0_11ea_b6e8_a860b6378866row4_col0\" class=\"data row4 col0\" >Missing Values </td>\n",
       "                        <td id=\"T_0252fa0e_8bd0_11ea_b6e8_a860b6378866row4_col1\" class=\"data row4 col1\" >False</td>\n",
       "            </tr>\n",
       "            <tr>\n",
       "                        <th id=\"T_0252fa0e_8bd0_11ea_b6e8_a860b6378866level0_row5\" class=\"row_heading level0 row5\" >5</th>\n",
       "                        <td id=\"T_0252fa0e_8bd0_11ea_b6e8_a860b6378866row5_col0\" class=\"data row5 col0\" >Numeric Features </td>\n",
       "                        <td id=\"T_0252fa0e_8bd0_11ea_b6e8_a860b6378866row5_col1\" class=\"data row5 col1\" >14</td>\n",
       "            </tr>\n",
       "            <tr>\n",
       "                        <th id=\"T_0252fa0e_8bd0_11ea_b6e8_a860b6378866level0_row6\" class=\"row_heading level0 row6\" >6</th>\n",
       "                        <td id=\"T_0252fa0e_8bd0_11ea_b6e8_a860b6378866row6_col0\" class=\"data row6 col0\" >Categorical Features </td>\n",
       "                        <td id=\"T_0252fa0e_8bd0_11ea_b6e8_a860b6378866row6_col1\" class=\"data row6 col1\" >9</td>\n",
       "            </tr>\n",
       "            <tr>\n",
       "                        <th id=\"T_0252fa0e_8bd0_11ea_b6e8_a860b6378866level0_row7\" class=\"row_heading level0 row7\" >7</th>\n",
       "                        <td id=\"T_0252fa0e_8bd0_11ea_b6e8_a860b6378866row7_col0\" class=\"data row7 col0\" >Ordinal Features </td>\n",
       "                        <td id=\"T_0252fa0e_8bd0_11ea_b6e8_a860b6378866row7_col1\" class=\"data row7 col1\" >False</td>\n",
       "            </tr>\n",
       "            <tr>\n",
       "                        <th id=\"T_0252fa0e_8bd0_11ea_b6e8_a860b6378866level0_row8\" class=\"row_heading level0 row8\" >8</th>\n",
       "                        <td id=\"T_0252fa0e_8bd0_11ea_b6e8_a860b6378866row8_col0\" class=\"data row8 col0\" >High Cardinality Features </td>\n",
       "                        <td id=\"T_0252fa0e_8bd0_11ea_b6e8_a860b6378866row8_col1\" class=\"data row8 col1\" >False</td>\n",
       "            </tr>\n",
       "            <tr>\n",
       "                        <th id=\"T_0252fa0e_8bd0_11ea_b6e8_a860b6378866level0_row9\" class=\"row_heading level0 row9\" >9</th>\n",
       "                        <td id=\"T_0252fa0e_8bd0_11ea_b6e8_a860b6378866row9_col0\" class=\"data row9 col0\" >High Cardinality Method </td>\n",
       "                        <td id=\"T_0252fa0e_8bd0_11ea_b6e8_a860b6378866row9_col1\" class=\"data row9 col1\" >None</td>\n",
       "            </tr>\n",
       "            <tr>\n",
       "                        <th id=\"T_0252fa0e_8bd0_11ea_b6e8_a860b6378866level0_row10\" class=\"row_heading level0 row10\" >10</th>\n",
       "                        <td id=\"T_0252fa0e_8bd0_11ea_b6e8_a860b6378866row10_col0\" class=\"data row10 col0\" >Sampled Data</td>\n",
       "                        <td id=\"T_0252fa0e_8bd0_11ea_b6e8_a860b6378866row10_col1\" class=\"data row10 col1\" >(22800, 24)</td>\n",
       "            </tr>\n",
       "            <tr>\n",
       "                        <th id=\"T_0252fa0e_8bd0_11ea_b6e8_a860b6378866level0_row11\" class=\"row_heading level0 row11\" >11</th>\n",
       "                        <td id=\"T_0252fa0e_8bd0_11ea_b6e8_a860b6378866row11_col0\" class=\"data row11 col0\" >Transformed Train Set</td>\n",
       "                        <td id=\"T_0252fa0e_8bd0_11ea_b6e8_a860b6378866row11_col1\" class=\"data row11 col1\" >(15959, 90)</td>\n",
       "            </tr>\n",
       "            <tr>\n",
       "                        <th id=\"T_0252fa0e_8bd0_11ea_b6e8_a860b6378866level0_row12\" class=\"row_heading level0 row12\" >12</th>\n",
       "                        <td id=\"T_0252fa0e_8bd0_11ea_b6e8_a860b6378866row12_col0\" class=\"data row12 col0\" >Transformed Test Set</td>\n",
       "                        <td id=\"T_0252fa0e_8bd0_11ea_b6e8_a860b6378866row12_col1\" class=\"data row12 col1\" >(6841, 90)</td>\n",
       "            </tr>\n",
       "            <tr>\n",
       "                        <th id=\"T_0252fa0e_8bd0_11ea_b6e8_a860b6378866level0_row13\" class=\"row_heading level0 row13\" >13</th>\n",
       "                        <td id=\"T_0252fa0e_8bd0_11ea_b6e8_a860b6378866row13_col0\" class=\"data row13 col0\" >Numeric Imputer </td>\n",
       "                        <td id=\"T_0252fa0e_8bd0_11ea_b6e8_a860b6378866row13_col1\" class=\"data row13 col1\" >mean</td>\n",
       "            </tr>\n",
       "            <tr>\n",
       "                        <th id=\"T_0252fa0e_8bd0_11ea_b6e8_a860b6378866level0_row14\" class=\"row_heading level0 row14\" >14</th>\n",
       "                        <td id=\"T_0252fa0e_8bd0_11ea_b6e8_a860b6378866row14_col0\" class=\"data row14 col0\" >Categorical Imputer </td>\n",
       "                        <td id=\"T_0252fa0e_8bd0_11ea_b6e8_a860b6378866row14_col1\" class=\"data row14 col1\" >constant</td>\n",
       "            </tr>\n",
       "            <tr>\n",
       "                        <th id=\"T_0252fa0e_8bd0_11ea_b6e8_a860b6378866level0_row15\" class=\"row_heading level0 row15\" >15</th>\n",
       "                        <td id=\"T_0252fa0e_8bd0_11ea_b6e8_a860b6378866row15_col0\" class=\"data row15 col0\" >Normalize </td>\n",
       "                        <td id=\"T_0252fa0e_8bd0_11ea_b6e8_a860b6378866row15_col1\" class=\"data row15 col1\" >False</td>\n",
       "            </tr>\n",
       "            <tr>\n",
       "                        <th id=\"T_0252fa0e_8bd0_11ea_b6e8_a860b6378866level0_row16\" class=\"row_heading level0 row16\" >16</th>\n",
       "                        <td id=\"T_0252fa0e_8bd0_11ea_b6e8_a860b6378866row16_col0\" class=\"data row16 col0\" >Normalize Method </td>\n",
       "                        <td id=\"T_0252fa0e_8bd0_11ea_b6e8_a860b6378866row16_col1\" class=\"data row16 col1\" >None</td>\n",
       "            </tr>\n",
       "            <tr>\n",
       "                        <th id=\"T_0252fa0e_8bd0_11ea_b6e8_a860b6378866level0_row17\" class=\"row_heading level0 row17\" >17</th>\n",
       "                        <td id=\"T_0252fa0e_8bd0_11ea_b6e8_a860b6378866row17_col0\" class=\"data row17 col0\" >Transformation </td>\n",
       "                        <td id=\"T_0252fa0e_8bd0_11ea_b6e8_a860b6378866row17_col1\" class=\"data row17 col1\" >False</td>\n",
       "            </tr>\n",
       "            <tr>\n",
       "                        <th id=\"T_0252fa0e_8bd0_11ea_b6e8_a860b6378866level0_row18\" class=\"row_heading level0 row18\" >18</th>\n",
       "                        <td id=\"T_0252fa0e_8bd0_11ea_b6e8_a860b6378866row18_col0\" class=\"data row18 col0\" >Transformation Method </td>\n",
       "                        <td id=\"T_0252fa0e_8bd0_11ea_b6e8_a860b6378866row18_col1\" class=\"data row18 col1\" >None</td>\n",
       "            </tr>\n",
       "            <tr>\n",
       "                        <th id=\"T_0252fa0e_8bd0_11ea_b6e8_a860b6378866level0_row19\" class=\"row_heading level0 row19\" >19</th>\n",
       "                        <td id=\"T_0252fa0e_8bd0_11ea_b6e8_a860b6378866row19_col0\" class=\"data row19 col0\" >PCA </td>\n",
       "                        <td id=\"T_0252fa0e_8bd0_11ea_b6e8_a860b6378866row19_col1\" class=\"data row19 col1\" >False</td>\n",
       "            </tr>\n",
       "            <tr>\n",
       "                        <th id=\"T_0252fa0e_8bd0_11ea_b6e8_a860b6378866level0_row20\" class=\"row_heading level0 row20\" >20</th>\n",
       "                        <td id=\"T_0252fa0e_8bd0_11ea_b6e8_a860b6378866row20_col0\" class=\"data row20 col0\" >PCA Method </td>\n",
       "                        <td id=\"T_0252fa0e_8bd0_11ea_b6e8_a860b6378866row20_col1\" class=\"data row20 col1\" >None</td>\n",
       "            </tr>\n",
       "            <tr>\n",
       "                        <th id=\"T_0252fa0e_8bd0_11ea_b6e8_a860b6378866level0_row21\" class=\"row_heading level0 row21\" >21</th>\n",
       "                        <td id=\"T_0252fa0e_8bd0_11ea_b6e8_a860b6378866row21_col0\" class=\"data row21 col0\" >PCA Components </td>\n",
       "                        <td id=\"T_0252fa0e_8bd0_11ea_b6e8_a860b6378866row21_col1\" class=\"data row21 col1\" >None</td>\n",
       "            </tr>\n",
       "            <tr>\n",
       "                        <th id=\"T_0252fa0e_8bd0_11ea_b6e8_a860b6378866level0_row22\" class=\"row_heading level0 row22\" >22</th>\n",
       "                        <td id=\"T_0252fa0e_8bd0_11ea_b6e8_a860b6378866row22_col0\" class=\"data row22 col0\" >Ignore Low Variance </td>\n",
       "                        <td id=\"T_0252fa0e_8bd0_11ea_b6e8_a860b6378866row22_col1\" class=\"data row22 col1\" >False</td>\n",
       "            </tr>\n",
       "            <tr>\n",
       "                        <th id=\"T_0252fa0e_8bd0_11ea_b6e8_a860b6378866level0_row23\" class=\"row_heading level0 row23\" >23</th>\n",
       "                        <td id=\"T_0252fa0e_8bd0_11ea_b6e8_a860b6378866row23_col0\" class=\"data row23 col0\" >Combine Rare Levels </td>\n",
       "                        <td id=\"T_0252fa0e_8bd0_11ea_b6e8_a860b6378866row23_col1\" class=\"data row23 col1\" >False</td>\n",
       "            </tr>\n",
       "            <tr>\n",
       "                        <th id=\"T_0252fa0e_8bd0_11ea_b6e8_a860b6378866level0_row24\" class=\"row_heading level0 row24\" >24</th>\n",
       "                        <td id=\"T_0252fa0e_8bd0_11ea_b6e8_a860b6378866row24_col0\" class=\"data row24 col0\" >Rare Level Threshold </td>\n",
       "                        <td id=\"T_0252fa0e_8bd0_11ea_b6e8_a860b6378866row24_col1\" class=\"data row24 col1\" >None</td>\n",
       "            </tr>\n",
       "            <tr>\n",
       "                        <th id=\"T_0252fa0e_8bd0_11ea_b6e8_a860b6378866level0_row25\" class=\"row_heading level0 row25\" >25</th>\n",
       "                        <td id=\"T_0252fa0e_8bd0_11ea_b6e8_a860b6378866row25_col0\" class=\"data row25 col0\" >Numeric Binning </td>\n",
       "                        <td id=\"T_0252fa0e_8bd0_11ea_b6e8_a860b6378866row25_col1\" class=\"data row25 col1\" >False</td>\n",
       "            </tr>\n",
       "            <tr>\n",
       "                        <th id=\"T_0252fa0e_8bd0_11ea_b6e8_a860b6378866level0_row26\" class=\"row_heading level0 row26\" >26</th>\n",
       "                        <td id=\"T_0252fa0e_8bd0_11ea_b6e8_a860b6378866row26_col0\" class=\"data row26 col0\" >Remove Outliers </td>\n",
       "                        <td id=\"T_0252fa0e_8bd0_11ea_b6e8_a860b6378866row26_col1\" class=\"data row26 col1\" >False</td>\n",
       "            </tr>\n",
       "            <tr>\n",
       "                        <th id=\"T_0252fa0e_8bd0_11ea_b6e8_a860b6378866level0_row27\" class=\"row_heading level0 row27\" >27</th>\n",
       "                        <td id=\"T_0252fa0e_8bd0_11ea_b6e8_a860b6378866row27_col0\" class=\"data row27 col0\" >Outliers Threshold </td>\n",
       "                        <td id=\"T_0252fa0e_8bd0_11ea_b6e8_a860b6378866row27_col1\" class=\"data row27 col1\" >None</td>\n",
       "            </tr>\n",
       "            <tr>\n",
       "                        <th id=\"T_0252fa0e_8bd0_11ea_b6e8_a860b6378866level0_row28\" class=\"row_heading level0 row28\" >28</th>\n",
       "                        <td id=\"T_0252fa0e_8bd0_11ea_b6e8_a860b6378866row28_col0\" class=\"data row28 col0\" >Remove Multicollinearity </td>\n",
       "                        <td id=\"T_0252fa0e_8bd0_11ea_b6e8_a860b6378866row28_col1\" class=\"data row28 col1\" >False</td>\n",
       "            </tr>\n",
       "            <tr>\n",
       "                        <th id=\"T_0252fa0e_8bd0_11ea_b6e8_a860b6378866level0_row29\" class=\"row_heading level0 row29\" >29</th>\n",
       "                        <td id=\"T_0252fa0e_8bd0_11ea_b6e8_a860b6378866row29_col0\" class=\"data row29 col0\" >Multicollinearity Threshold </td>\n",
       "                        <td id=\"T_0252fa0e_8bd0_11ea_b6e8_a860b6378866row29_col1\" class=\"data row29 col1\" >None</td>\n",
       "            </tr>\n",
       "            <tr>\n",
       "                        <th id=\"T_0252fa0e_8bd0_11ea_b6e8_a860b6378866level0_row30\" class=\"row_heading level0 row30\" >30</th>\n",
       "                        <td id=\"T_0252fa0e_8bd0_11ea_b6e8_a860b6378866row30_col0\" class=\"data row30 col0\" >Clustering </td>\n",
       "                        <td id=\"T_0252fa0e_8bd0_11ea_b6e8_a860b6378866row30_col1\" class=\"data row30 col1\" >False</td>\n",
       "            </tr>\n",
       "            <tr>\n",
       "                        <th id=\"T_0252fa0e_8bd0_11ea_b6e8_a860b6378866level0_row31\" class=\"row_heading level0 row31\" >31</th>\n",
       "                        <td id=\"T_0252fa0e_8bd0_11ea_b6e8_a860b6378866row31_col0\" class=\"data row31 col0\" >Clustering Iteration </td>\n",
       "                        <td id=\"T_0252fa0e_8bd0_11ea_b6e8_a860b6378866row31_col1\" class=\"data row31 col1\" >None</td>\n",
       "            </tr>\n",
       "            <tr>\n",
       "                        <th id=\"T_0252fa0e_8bd0_11ea_b6e8_a860b6378866level0_row32\" class=\"row_heading level0 row32\" >32</th>\n",
       "                        <td id=\"T_0252fa0e_8bd0_11ea_b6e8_a860b6378866row32_col0\" class=\"data row32 col0\" >Polynomial Features </td>\n",
       "                        <td id=\"T_0252fa0e_8bd0_11ea_b6e8_a860b6378866row32_col1\" class=\"data row32 col1\" >False</td>\n",
       "            </tr>\n",
       "            <tr>\n",
       "                        <th id=\"T_0252fa0e_8bd0_11ea_b6e8_a860b6378866level0_row33\" class=\"row_heading level0 row33\" >33</th>\n",
       "                        <td id=\"T_0252fa0e_8bd0_11ea_b6e8_a860b6378866row33_col0\" class=\"data row33 col0\" >Polynomial Degree </td>\n",
       "                        <td id=\"T_0252fa0e_8bd0_11ea_b6e8_a860b6378866row33_col1\" class=\"data row33 col1\" >None</td>\n",
       "            </tr>\n",
       "            <tr>\n",
       "                        <th id=\"T_0252fa0e_8bd0_11ea_b6e8_a860b6378866level0_row34\" class=\"row_heading level0 row34\" >34</th>\n",
       "                        <td id=\"T_0252fa0e_8bd0_11ea_b6e8_a860b6378866row34_col0\" class=\"data row34 col0\" >Trignometry Features </td>\n",
       "                        <td id=\"T_0252fa0e_8bd0_11ea_b6e8_a860b6378866row34_col1\" class=\"data row34 col1\" >False</td>\n",
       "            </tr>\n",
       "            <tr>\n",
       "                        <th id=\"T_0252fa0e_8bd0_11ea_b6e8_a860b6378866level0_row35\" class=\"row_heading level0 row35\" >35</th>\n",
       "                        <td id=\"T_0252fa0e_8bd0_11ea_b6e8_a860b6378866row35_col0\" class=\"data row35 col0\" >Polynomial Threshold </td>\n",
       "                        <td id=\"T_0252fa0e_8bd0_11ea_b6e8_a860b6378866row35_col1\" class=\"data row35 col1\" >None</td>\n",
       "            </tr>\n",
       "            <tr>\n",
       "                        <th id=\"T_0252fa0e_8bd0_11ea_b6e8_a860b6378866level0_row36\" class=\"row_heading level0 row36\" >36</th>\n",
       "                        <td id=\"T_0252fa0e_8bd0_11ea_b6e8_a860b6378866row36_col0\" class=\"data row36 col0\" >Group Features </td>\n",
       "                        <td id=\"T_0252fa0e_8bd0_11ea_b6e8_a860b6378866row36_col1\" class=\"data row36 col1\" >False</td>\n",
       "            </tr>\n",
       "            <tr>\n",
       "                        <th id=\"T_0252fa0e_8bd0_11ea_b6e8_a860b6378866level0_row37\" class=\"row_heading level0 row37\" >37</th>\n",
       "                        <td id=\"T_0252fa0e_8bd0_11ea_b6e8_a860b6378866row37_col0\" class=\"data row37 col0\" >Feature Selection </td>\n",
       "                        <td id=\"T_0252fa0e_8bd0_11ea_b6e8_a860b6378866row37_col1\" class=\"data row37 col1\" >False</td>\n",
       "            </tr>\n",
       "            <tr>\n",
       "                        <th id=\"T_0252fa0e_8bd0_11ea_b6e8_a860b6378866level0_row38\" class=\"row_heading level0 row38\" >38</th>\n",
       "                        <td id=\"T_0252fa0e_8bd0_11ea_b6e8_a860b6378866row38_col0\" class=\"data row38 col0\" >Features Selection Threshold </td>\n",
       "                        <td id=\"T_0252fa0e_8bd0_11ea_b6e8_a860b6378866row38_col1\" class=\"data row38 col1\" >None</td>\n",
       "            </tr>\n",
       "            <tr>\n",
       "                        <th id=\"T_0252fa0e_8bd0_11ea_b6e8_a860b6378866level0_row39\" class=\"row_heading level0 row39\" >39</th>\n",
       "                        <td id=\"T_0252fa0e_8bd0_11ea_b6e8_a860b6378866row39_col0\" class=\"data row39 col0\" >Feature Interaction </td>\n",
       "                        <td id=\"T_0252fa0e_8bd0_11ea_b6e8_a860b6378866row39_col1\" class=\"data row39 col1\" >False</td>\n",
       "            </tr>\n",
       "            <tr>\n",
       "                        <th id=\"T_0252fa0e_8bd0_11ea_b6e8_a860b6378866level0_row40\" class=\"row_heading level0 row40\" >40</th>\n",
       "                        <td id=\"T_0252fa0e_8bd0_11ea_b6e8_a860b6378866row40_col0\" class=\"data row40 col0\" >Feature Ratio </td>\n",
       "                        <td id=\"T_0252fa0e_8bd0_11ea_b6e8_a860b6378866row40_col1\" class=\"data row40 col1\" >False</td>\n",
       "            </tr>\n",
       "            <tr>\n",
       "                        <th id=\"T_0252fa0e_8bd0_11ea_b6e8_a860b6378866level0_row41\" class=\"row_heading level0 row41\" >41</th>\n",
       "                        <td id=\"T_0252fa0e_8bd0_11ea_b6e8_a860b6378866row41_col0\" class=\"data row41 col0\" >Interaction Threshold </td>\n",
       "                        <td id=\"T_0252fa0e_8bd0_11ea_b6e8_a860b6378866row41_col1\" class=\"data row41 col1\" >None</td>\n",
       "            </tr>\n",
       "    </tbody></table>"
      ],
      "text/plain": [
       "<pandas.io.formats.style.Styler at 0x135637110>"
      ]
     },
     "metadata": {},
     "output_type": "display_data"
    }
   ],
   "source": [
    "exp_clf101 = setup(data = data, target = 'default', session_id=123) "
   ]
  },
  {
   "cell_type": "code",
   "execution_count": 63,
   "metadata": {},
   "outputs": [
    {
     "data": {
      "text/html": [
       "<style  type=\"text/css\" >\n",
       "    #T_e86a8bf6_8bd0_11ea_b6e8_a860b6378866 th {\n",
       "          text-align: left;\n",
       "    }    #T_e86a8bf6_8bd0_11ea_b6e8_a860b6378866row0_col0 {\n",
       "            text-align:  left;\n",
       "        }    #T_e86a8bf6_8bd0_11ea_b6e8_a860b6378866row0_col1 {\n",
       "            background-color:  yellow;\n",
       "            text-align:  left;\n",
       "        }    #T_e86a8bf6_8bd0_11ea_b6e8_a860b6378866row0_col2 {\n",
       "            : ;\n",
       "            text-align:  left;\n",
       "        }    #T_e86a8bf6_8bd0_11ea_b6e8_a860b6378866row0_col3 {\n",
       "            : ;\n",
       "            text-align:  left;\n",
       "        }    #T_e86a8bf6_8bd0_11ea_b6e8_a860b6378866row0_col4 {\n",
       "            background-color:  yellow;\n",
       "            text-align:  left;\n",
       "        }    #T_e86a8bf6_8bd0_11ea_b6e8_a860b6378866row0_col5 {\n",
       "            : ;\n",
       "            text-align:  left;\n",
       "        }    #T_e86a8bf6_8bd0_11ea_b6e8_a860b6378866row0_col6 {\n",
       "            : ;\n",
       "            text-align:  left;\n",
       "        }    #T_e86a8bf6_8bd0_11ea_b6e8_a860b6378866row1_col0 {\n",
       "            text-align:  left;\n",
       "        }    #T_e86a8bf6_8bd0_11ea_b6e8_a860b6378866row1_col1 {\n",
       "            background-color:  yellow;\n",
       "            text-align:  left;\n",
       "        }    #T_e86a8bf6_8bd0_11ea_b6e8_a860b6378866row1_col2 {\n",
       "            : ;\n",
       "            text-align:  left;\n",
       "        }    #T_e86a8bf6_8bd0_11ea_b6e8_a860b6378866row1_col3 {\n",
       "            : ;\n",
       "            text-align:  left;\n",
       "        }    #T_e86a8bf6_8bd0_11ea_b6e8_a860b6378866row1_col4 {\n",
       "            : ;\n",
       "            text-align:  left;\n",
       "        }    #T_e86a8bf6_8bd0_11ea_b6e8_a860b6378866row1_col5 {\n",
       "            : ;\n",
       "            text-align:  left;\n",
       "        }    #T_e86a8bf6_8bd0_11ea_b6e8_a860b6378866row1_col6 {\n",
       "            background-color:  yellow;\n",
       "            text-align:  left;\n",
       "        }    #T_e86a8bf6_8bd0_11ea_b6e8_a860b6378866row2_col0 {\n",
       "            text-align:  left;\n",
       "        }    #T_e86a8bf6_8bd0_11ea_b6e8_a860b6378866row2_col1 {\n",
       "            : ;\n",
       "            text-align:  left;\n",
       "        }    #T_e86a8bf6_8bd0_11ea_b6e8_a860b6378866row2_col2 {\n",
       "            : ;\n",
       "            text-align:  left;\n",
       "        }    #T_e86a8bf6_8bd0_11ea_b6e8_a860b6378866row2_col3 {\n",
       "            : ;\n",
       "            text-align:  left;\n",
       "        }    #T_e86a8bf6_8bd0_11ea_b6e8_a860b6378866row2_col4 {\n",
       "            : ;\n",
       "            text-align:  left;\n",
       "        }    #T_e86a8bf6_8bd0_11ea_b6e8_a860b6378866row2_col5 {\n",
       "            : ;\n",
       "            text-align:  left;\n",
       "        }    #T_e86a8bf6_8bd0_11ea_b6e8_a860b6378866row2_col6 {\n",
       "            : ;\n",
       "            text-align:  left;\n",
       "        }    #T_e86a8bf6_8bd0_11ea_b6e8_a860b6378866row3_col0 {\n",
       "            text-align:  left;\n",
       "        }    #T_e86a8bf6_8bd0_11ea_b6e8_a860b6378866row3_col1 {\n",
       "            : ;\n",
       "            text-align:  left;\n",
       "        }    #T_e86a8bf6_8bd0_11ea_b6e8_a860b6378866row3_col2 {\n",
       "            background-color:  yellow;\n",
       "            text-align:  left;\n",
       "        }    #T_e86a8bf6_8bd0_11ea_b6e8_a860b6378866row3_col3 {\n",
       "            : ;\n",
       "            text-align:  left;\n",
       "        }    #T_e86a8bf6_8bd0_11ea_b6e8_a860b6378866row3_col4 {\n",
       "            : ;\n",
       "            text-align:  left;\n",
       "        }    #T_e86a8bf6_8bd0_11ea_b6e8_a860b6378866row3_col5 {\n",
       "            : ;\n",
       "            text-align:  left;\n",
       "        }    #T_e86a8bf6_8bd0_11ea_b6e8_a860b6378866row3_col6 {\n",
       "            : ;\n",
       "            text-align:  left;\n",
       "        }    #T_e86a8bf6_8bd0_11ea_b6e8_a860b6378866row4_col0 {\n",
       "            text-align:  left;\n",
       "        }    #T_e86a8bf6_8bd0_11ea_b6e8_a860b6378866row4_col1 {\n",
       "            : ;\n",
       "            text-align:  left;\n",
       "        }    #T_e86a8bf6_8bd0_11ea_b6e8_a860b6378866row4_col2 {\n",
       "            : ;\n",
       "            text-align:  left;\n",
       "        }    #T_e86a8bf6_8bd0_11ea_b6e8_a860b6378866row4_col3 {\n",
       "            : ;\n",
       "            text-align:  left;\n",
       "        }    #T_e86a8bf6_8bd0_11ea_b6e8_a860b6378866row4_col4 {\n",
       "            : ;\n",
       "            text-align:  left;\n",
       "        }    #T_e86a8bf6_8bd0_11ea_b6e8_a860b6378866row4_col5 {\n",
       "            background-color:  yellow;\n",
       "            text-align:  left;\n",
       "        }    #T_e86a8bf6_8bd0_11ea_b6e8_a860b6378866row4_col6 {\n",
       "            : ;\n",
       "            text-align:  left;\n",
       "        }    #T_e86a8bf6_8bd0_11ea_b6e8_a860b6378866row5_col0 {\n",
       "            text-align:  left;\n",
       "        }    #T_e86a8bf6_8bd0_11ea_b6e8_a860b6378866row5_col1 {\n",
       "            : ;\n",
       "            text-align:  left;\n",
       "        }    #T_e86a8bf6_8bd0_11ea_b6e8_a860b6378866row5_col2 {\n",
       "            : ;\n",
       "            text-align:  left;\n",
       "        }    #T_e86a8bf6_8bd0_11ea_b6e8_a860b6378866row5_col3 {\n",
       "            : ;\n",
       "            text-align:  left;\n",
       "        }    #T_e86a8bf6_8bd0_11ea_b6e8_a860b6378866row5_col4 {\n",
       "            : ;\n",
       "            text-align:  left;\n",
       "        }    #T_e86a8bf6_8bd0_11ea_b6e8_a860b6378866row5_col5 {\n",
       "            : ;\n",
       "            text-align:  left;\n",
       "        }    #T_e86a8bf6_8bd0_11ea_b6e8_a860b6378866row5_col6 {\n",
       "            : ;\n",
       "            text-align:  left;\n",
       "        }    #T_e86a8bf6_8bd0_11ea_b6e8_a860b6378866row6_col0 {\n",
       "            text-align:  left;\n",
       "        }    #T_e86a8bf6_8bd0_11ea_b6e8_a860b6378866row6_col1 {\n",
       "            : ;\n",
       "            text-align:  left;\n",
       "        }    #T_e86a8bf6_8bd0_11ea_b6e8_a860b6378866row6_col2 {\n",
       "            : ;\n",
       "            text-align:  left;\n",
       "        }    #T_e86a8bf6_8bd0_11ea_b6e8_a860b6378866row6_col3 {\n",
       "            : ;\n",
       "            text-align:  left;\n",
       "        }    #T_e86a8bf6_8bd0_11ea_b6e8_a860b6378866row6_col4 {\n",
       "            : ;\n",
       "            text-align:  left;\n",
       "        }    #T_e86a8bf6_8bd0_11ea_b6e8_a860b6378866row6_col5 {\n",
       "            : ;\n",
       "            text-align:  left;\n",
       "        }    #T_e86a8bf6_8bd0_11ea_b6e8_a860b6378866row6_col6 {\n",
       "            : ;\n",
       "            text-align:  left;\n",
       "        }    #T_e86a8bf6_8bd0_11ea_b6e8_a860b6378866row7_col0 {\n",
       "            text-align:  left;\n",
       "        }    #T_e86a8bf6_8bd0_11ea_b6e8_a860b6378866row7_col1 {\n",
       "            : ;\n",
       "            text-align:  left;\n",
       "        }    #T_e86a8bf6_8bd0_11ea_b6e8_a860b6378866row7_col2 {\n",
       "            : ;\n",
       "            text-align:  left;\n",
       "        }    #T_e86a8bf6_8bd0_11ea_b6e8_a860b6378866row7_col3 {\n",
       "            : ;\n",
       "            text-align:  left;\n",
       "        }    #T_e86a8bf6_8bd0_11ea_b6e8_a860b6378866row7_col4 {\n",
       "            : ;\n",
       "            text-align:  left;\n",
       "        }    #T_e86a8bf6_8bd0_11ea_b6e8_a860b6378866row7_col5 {\n",
       "            : ;\n",
       "            text-align:  left;\n",
       "        }    #T_e86a8bf6_8bd0_11ea_b6e8_a860b6378866row7_col6 {\n",
       "            : ;\n",
       "            text-align:  left;\n",
       "        }    #T_e86a8bf6_8bd0_11ea_b6e8_a860b6378866row8_col0 {\n",
       "            text-align:  left;\n",
       "        }    #T_e86a8bf6_8bd0_11ea_b6e8_a860b6378866row8_col1 {\n",
       "            : ;\n",
       "            text-align:  left;\n",
       "        }    #T_e86a8bf6_8bd0_11ea_b6e8_a860b6378866row8_col2 {\n",
       "            : ;\n",
       "            text-align:  left;\n",
       "        }    #T_e86a8bf6_8bd0_11ea_b6e8_a860b6378866row8_col3 {\n",
       "            : ;\n",
       "            text-align:  left;\n",
       "        }    #T_e86a8bf6_8bd0_11ea_b6e8_a860b6378866row8_col4 {\n",
       "            : ;\n",
       "            text-align:  left;\n",
       "        }    #T_e86a8bf6_8bd0_11ea_b6e8_a860b6378866row8_col5 {\n",
       "            : ;\n",
       "            text-align:  left;\n",
       "        }    #T_e86a8bf6_8bd0_11ea_b6e8_a860b6378866row8_col6 {\n",
       "            : ;\n",
       "            text-align:  left;\n",
       "        }    #T_e86a8bf6_8bd0_11ea_b6e8_a860b6378866row9_col0 {\n",
       "            text-align:  left;\n",
       "        }    #T_e86a8bf6_8bd0_11ea_b6e8_a860b6378866row9_col1 {\n",
       "            : ;\n",
       "            text-align:  left;\n",
       "        }    #T_e86a8bf6_8bd0_11ea_b6e8_a860b6378866row9_col2 {\n",
       "            : ;\n",
       "            text-align:  left;\n",
       "        }    #T_e86a8bf6_8bd0_11ea_b6e8_a860b6378866row9_col3 {\n",
       "            : ;\n",
       "            text-align:  left;\n",
       "        }    #T_e86a8bf6_8bd0_11ea_b6e8_a860b6378866row9_col4 {\n",
       "            : ;\n",
       "            text-align:  left;\n",
       "        }    #T_e86a8bf6_8bd0_11ea_b6e8_a860b6378866row9_col5 {\n",
       "            : ;\n",
       "            text-align:  left;\n",
       "        }    #T_e86a8bf6_8bd0_11ea_b6e8_a860b6378866row9_col6 {\n",
       "            : ;\n",
       "            text-align:  left;\n",
       "        }    #T_e86a8bf6_8bd0_11ea_b6e8_a860b6378866row10_col0 {\n",
       "            text-align:  left;\n",
       "        }    #T_e86a8bf6_8bd0_11ea_b6e8_a860b6378866row10_col1 {\n",
       "            : ;\n",
       "            text-align:  left;\n",
       "        }    #T_e86a8bf6_8bd0_11ea_b6e8_a860b6378866row10_col2 {\n",
       "            : ;\n",
       "            text-align:  left;\n",
       "        }    #T_e86a8bf6_8bd0_11ea_b6e8_a860b6378866row10_col3 {\n",
       "            : ;\n",
       "            text-align:  left;\n",
       "        }    #T_e86a8bf6_8bd0_11ea_b6e8_a860b6378866row10_col4 {\n",
       "            : ;\n",
       "            text-align:  left;\n",
       "        }    #T_e86a8bf6_8bd0_11ea_b6e8_a860b6378866row10_col5 {\n",
       "            : ;\n",
       "            text-align:  left;\n",
       "        }    #T_e86a8bf6_8bd0_11ea_b6e8_a860b6378866row10_col6 {\n",
       "            : ;\n",
       "            text-align:  left;\n",
       "        }    #T_e86a8bf6_8bd0_11ea_b6e8_a860b6378866row11_col0 {\n",
       "            text-align:  left;\n",
       "        }    #T_e86a8bf6_8bd0_11ea_b6e8_a860b6378866row11_col1 {\n",
       "            : ;\n",
       "            text-align:  left;\n",
       "        }    #T_e86a8bf6_8bd0_11ea_b6e8_a860b6378866row11_col2 {\n",
       "            : ;\n",
       "            text-align:  left;\n",
       "        }    #T_e86a8bf6_8bd0_11ea_b6e8_a860b6378866row11_col3 {\n",
       "            : ;\n",
       "            text-align:  left;\n",
       "        }    #T_e86a8bf6_8bd0_11ea_b6e8_a860b6378866row11_col4 {\n",
       "            : ;\n",
       "            text-align:  left;\n",
       "        }    #T_e86a8bf6_8bd0_11ea_b6e8_a860b6378866row11_col5 {\n",
       "            : ;\n",
       "            text-align:  left;\n",
       "        }    #T_e86a8bf6_8bd0_11ea_b6e8_a860b6378866row11_col6 {\n",
       "            : ;\n",
       "            text-align:  left;\n",
       "        }    #T_e86a8bf6_8bd0_11ea_b6e8_a860b6378866row12_col0 {\n",
       "            text-align:  left;\n",
       "        }    #T_e86a8bf6_8bd0_11ea_b6e8_a860b6378866row12_col1 {\n",
       "            : ;\n",
       "            text-align:  left;\n",
       "        }    #T_e86a8bf6_8bd0_11ea_b6e8_a860b6378866row12_col2 {\n",
       "            : ;\n",
       "            text-align:  left;\n",
       "        }    #T_e86a8bf6_8bd0_11ea_b6e8_a860b6378866row12_col3 {\n",
       "            : ;\n",
       "            text-align:  left;\n",
       "        }    #T_e86a8bf6_8bd0_11ea_b6e8_a860b6378866row12_col4 {\n",
       "            : ;\n",
       "            text-align:  left;\n",
       "        }    #T_e86a8bf6_8bd0_11ea_b6e8_a860b6378866row12_col5 {\n",
       "            : ;\n",
       "            text-align:  left;\n",
       "        }    #T_e86a8bf6_8bd0_11ea_b6e8_a860b6378866row12_col6 {\n",
       "            : ;\n",
       "            text-align:  left;\n",
       "        }    #T_e86a8bf6_8bd0_11ea_b6e8_a860b6378866row13_col0 {\n",
       "            text-align:  left;\n",
       "        }    #T_e86a8bf6_8bd0_11ea_b6e8_a860b6378866row13_col1 {\n",
       "            : ;\n",
       "            text-align:  left;\n",
       "        }    #T_e86a8bf6_8bd0_11ea_b6e8_a860b6378866row13_col2 {\n",
       "            : ;\n",
       "            text-align:  left;\n",
       "        }    #T_e86a8bf6_8bd0_11ea_b6e8_a860b6378866row13_col3 {\n",
       "            : ;\n",
       "            text-align:  left;\n",
       "        }    #T_e86a8bf6_8bd0_11ea_b6e8_a860b6378866row13_col4 {\n",
       "            : ;\n",
       "            text-align:  left;\n",
       "        }    #T_e86a8bf6_8bd0_11ea_b6e8_a860b6378866row13_col5 {\n",
       "            : ;\n",
       "            text-align:  left;\n",
       "        }    #T_e86a8bf6_8bd0_11ea_b6e8_a860b6378866row13_col6 {\n",
       "            : ;\n",
       "            text-align:  left;\n",
       "        }    #T_e86a8bf6_8bd0_11ea_b6e8_a860b6378866row14_col0 {\n",
       "            text-align:  left;\n",
       "        }    #T_e86a8bf6_8bd0_11ea_b6e8_a860b6378866row14_col1 {\n",
       "            : ;\n",
       "            text-align:  left;\n",
       "        }    #T_e86a8bf6_8bd0_11ea_b6e8_a860b6378866row14_col2 {\n",
       "            : ;\n",
       "            text-align:  left;\n",
       "        }    #T_e86a8bf6_8bd0_11ea_b6e8_a860b6378866row14_col3 {\n",
       "            background-color:  yellow;\n",
       "            text-align:  left;\n",
       "        }    #T_e86a8bf6_8bd0_11ea_b6e8_a860b6378866row14_col4 {\n",
       "            : ;\n",
       "            text-align:  left;\n",
       "        }    #T_e86a8bf6_8bd0_11ea_b6e8_a860b6378866row14_col5 {\n",
       "            : ;\n",
       "            text-align:  left;\n",
       "        }    #T_e86a8bf6_8bd0_11ea_b6e8_a860b6378866row14_col6 {\n",
       "            : ;\n",
       "            text-align:  left;\n",
       "        }</style><table id=\"T_e86a8bf6_8bd0_11ea_b6e8_a860b6378866\" ><thead>    <tr>        <th class=\"blank level0\" ></th>        <th class=\"col_heading level0 col0\" >Model</th>        <th class=\"col_heading level0 col1\" >Accuracy</th>        <th class=\"col_heading level0 col2\" >AUC</th>        <th class=\"col_heading level0 col3\" >Recall</th>        <th class=\"col_heading level0 col4\" >Prec.</th>        <th class=\"col_heading level0 col5\" >F1</th>        <th class=\"col_heading level0 col6\" >Kappa</th>    </tr></thead><tbody>\n",
       "                <tr>\n",
       "                        <th id=\"T_e86a8bf6_8bd0_11ea_b6e8_a860b6378866level0_row0\" class=\"row_heading level0 row0\" >0</th>\n",
       "                        <td id=\"T_e86a8bf6_8bd0_11ea_b6e8_a860b6378866row0_col0\" class=\"data row0 col0\" >Ridge Classifier</td>\n",
       "                        <td id=\"T_e86a8bf6_8bd0_11ea_b6e8_a860b6378866row0_col1\" class=\"data row0 col1\" >0.8236</td>\n",
       "                        <td id=\"T_e86a8bf6_8bd0_11ea_b6e8_a860b6378866row0_col2\" class=\"data row0 col2\" >0</td>\n",
       "                        <td id=\"T_e86a8bf6_8bd0_11ea_b6e8_a860b6378866row0_col3\" class=\"data row0 col3\" >0.3646</td>\n",
       "                        <td id=\"T_e86a8bf6_8bd0_11ea_b6e8_a860b6378866row0_col4\" class=\"data row0 col4\" >0.6932</td>\n",
       "                        <td id=\"T_e86a8bf6_8bd0_11ea_b6e8_a860b6378866row0_col5\" class=\"data row0 col5\" >0.4776</td>\n",
       "                        <td id=\"T_e86a8bf6_8bd0_11ea_b6e8_a860b6378866row0_col6\" class=\"data row0 col6\" >0.3836</td>\n",
       "            </tr>\n",
       "            <tr>\n",
       "                        <th id=\"T_e86a8bf6_8bd0_11ea_b6e8_a860b6378866level0_row1\" class=\"row_heading level0 row1\" >1</th>\n",
       "                        <td id=\"T_e86a8bf6_8bd0_11ea_b6e8_a860b6378866row1_col0\" class=\"data row1 col0\" >Linear Discriminant Analysis</td>\n",
       "                        <td id=\"T_e86a8bf6_8bd0_11ea_b6e8_a860b6378866row1_col1\" class=\"data row1 col1\" >0.8236</td>\n",
       "                        <td id=\"T_e86a8bf6_8bd0_11ea_b6e8_a860b6378866row1_col2\" class=\"data row1 col2\" >0.7703</td>\n",
       "                        <td id=\"T_e86a8bf6_8bd0_11ea_b6e8_a860b6378866row1_col3\" class=\"data row1 col3\" >0.3813</td>\n",
       "                        <td id=\"T_e86a8bf6_8bd0_11ea_b6e8_a860b6378866row1_col4\" class=\"data row1 col4\" >0.6818</td>\n",
       "                        <td id=\"T_e86a8bf6_8bd0_11ea_b6e8_a860b6378866row1_col5\" class=\"data row1 col5\" >0.4888</td>\n",
       "                        <td id=\"T_e86a8bf6_8bd0_11ea_b6e8_a860b6378866row1_col6\" class=\"data row1 col6\" >0.3923</td>\n",
       "            </tr>\n",
       "            <tr>\n",
       "                        <th id=\"T_e86a8bf6_8bd0_11ea_b6e8_a860b6378866level0_row2\" class=\"row_heading level0 row2\" >2</th>\n",
       "                        <td id=\"T_e86a8bf6_8bd0_11ea_b6e8_a860b6378866row2_col0\" class=\"data row2 col0\" >Gradient Boosting Classifier</td>\n",
       "                        <td id=\"T_e86a8bf6_8bd0_11ea_b6e8_a860b6378866row2_col1\" class=\"data row2 col1\" >0.8225</td>\n",
       "                        <td id=\"T_e86a8bf6_8bd0_11ea_b6e8_a860b6378866row2_col2\" class=\"data row2 col2\" >0.7887</td>\n",
       "                        <td id=\"T_e86a8bf6_8bd0_11ea_b6e8_a860b6378866row2_col3\" class=\"data row2 col3\" >0.3649</td>\n",
       "                        <td id=\"T_e86a8bf6_8bd0_11ea_b6e8_a860b6378866row2_col4\" class=\"data row2 col4\" >0.687</td>\n",
       "                        <td id=\"T_e86a8bf6_8bd0_11ea_b6e8_a860b6378866row2_col5\" class=\"data row2 col5\" >0.4763</td>\n",
       "                        <td id=\"T_e86a8bf6_8bd0_11ea_b6e8_a860b6378866row2_col6\" class=\"data row2 col6\" >0.3813</td>\n",
       "            </tr>\n",
       "            <tr>\n",
       "                        <th id=\"T_e86a8bf6_8bd0_11ea_b6e8_a860b6378866level0_row3\" class=\"row_heading level0 row3\" >3</th>\n",
       "                        <td id=\"T_e86a8bf6_8bd0_11ea_b6e8_a860b6378866row3_col0\" class=\"data row3 col0\" >Extreme Gradient Boosting</td>\n",
       "                        <td id=\"T_e86a8bf6_8bd0_11ea_b6e8_a860b6378866row3_col1\" class=\"data row3 col1\" >0.8218</td>\n",
       "                        <td id=\"T_e86a8bf6_8bd0_11ea_b6e8_a860b6378866row3_col2\" class=\"data row3 col2\" >0.7894</td>\n",
       "                        <td id=\"T_e86a8bf6_8bd0_11ea_b6e8_a860b6378866row3_col3\" class=\"data row3 col3\" >0.3595</td>\n",
       "                        <td id=\"T_e86a8bf6_8bd0_11ea_b6e8_a860b6378866row3_col4\" class=\"data row3 col4\" >0.6862</td>\n",
       "                        <td id=\"T_e86a8bf6_8bd0_11ea_b6e8_a860b6378866row3_col5\" class=\"data row3 col5\" >0.4715</td>\n",
       "                        <td id=\"T_e86a8bf6_8bd0_11ea_b6e8_a860b6378866row3_col6\" class=\"data row3 col6\" >0.3767</td>\n",
       "            </tr>\n",
       "            <tr>\n",
       "                        <th id=\"T_e86a8bf6_8bd0_11ea_b6e8_a860b6378866level0_row4\" class=\"row_heading level0 row4\" >4</th>\n",
       "                        <td id=\"T_e86a8bf6_8bd0_11ea_b6e8_a860b6378866row4_col0\" class=\"data row4 col0\" >Light Gradient Boosting Machine</td>\n",
       "                        <td id=\"T_e86a8bf6_8bd0_11ea_b6e8_a860b6378866row4_col1\" class=\"data row4 col1\" >0.8214</td>\n",
       "                        <td id=\"T_e86a8bf6_8bd0_11ea_b6e8_a860b6378866row4_col2\" class=\"data row4 col2\" >0.7859</td>\n",
       "                        <td id=\"T_e86a8bf6_8bd0_11ea_b6e8_a860b6378866row4_col3\" class=\"data row4 col3\" >0.3878</td>\n",
       "                        <td id=\"T_e86a8bf6_8bd0_11ea_b6e8_a860b6378866row4_col4\" class=\"data row4 col4\" >0.6663</td>\n",
       "                        <td id=\"T_e86a8bf6_8bd0_11ea_b6e8_a860b6378866row4_col5\" class=\"data row4 col5\" >0.49</td>\n",
       "                        <td id=\"T_e86a8bf6_8bd0_11ea_b6e8_a860b6378866row4_col6\" class=\"data row4 col6\" >0.3908</td>\n",
       "            </tr>\n",
       "            <tr>\n",
       "                        <th id=\"T_e86a8bf6_8bd0_11ea_b6e8_a860b6378866level0_row5\" class=\"row_heading level0 row5\" >5</th>\n",
       "                        <td id=\"T_e86a8bf6_8bd0_11ea_b6e8_a860b6378866row5_col0\" class=\"data row5 col0\" >CatBoost Classifier</td>\n",
       "                        <td id=\"T_e86a8bf6_8bd0_11ea_b6e8_a860b6378866row5_col1\" class=\"data row5 col1\" >0.8211</td>\n",
       "                        <td id=\"T_e86a8bf6_8bd0_11ea_b6e8_a860b6378866row5_col2\" class=\"data row5 col2\" >0.787</td>\n",
       "                        <td id=\"T_e86a8bf6_8bd0_11ea_b6e8_a860b6378866row5_col3\" class=\"data row5 col3\" >0.3856</td>\n",
       "                        <td id=\"T_e86a8bf6_8bd0_11ea_b6e8_a860b6378866row5_col4\" class=\"data row5 col4\" >0.6656</td>\n",
       "                        <td id=\"T_e86a8bf6_8bd0_11ea_b6e8_a860b6378866row5_col5\" class=\"data row5 col5\" >0.488</td>\n",
       "                        <td id=\"T_e86a8bf6_8bd0_11ea_b6e8_a860b6378866row5_col6\" class=\"data row5 col6\" >0.3888</td>\n",
       "            </tr>\n",
       "            <tr>\n",
       "                        <th id=\"T_e86a8bf6_8bd0_11ea_b6e8_a860b6378866level0_row6\" class=\"row_heading level0 row6\" >6</th>\n",
       "                        <td id=\"T_e86a8bf6_8bd0_11ea_b6e8_a860b6378866row6_col0\" class=\"data row6 col0\" >Ada Boost Classifier</td>\n",
       "                        <td id=\"T_e86a8bf6_8bd0_11ea_b6e8_a860b6378866row6_col1\" class=\"data row6 col1\" >0.8185</td>\n",
       "                        <td id=\"T_e86a8bf6_8bd0_11ea_b6e8_a860b6378866row6_col2\" class=\"data row6 col2\" >0.7783</td>\n",
       "                        <td id=\"T_e86a8bf6_8bd0_11ea_b6e8_a860b6378866row6_col3\" class=\"data row6 col3\" >0.3507</td>\n",
       "                        <td id=\"T_e86a8bf6_8bd0_11ea_b6e8_a860b6378866row6_col4\" class=\"data row6 col4\" >0.6729</td>\n",
       "                        <td id=\"T_e86a8bf6_8bd0_11ea_b6e8_a860b6378866row6_col5\" class=\"data row6 col5\" >0.4607</td>\n",
       "                        <td id=\"T_e86a8bf6_8bd0_11ea_b6e8_a860b6378866row6_col6\" class=\"data row6 col6\" >0.3644</td>\n",
       "            </tr>\n",
       "            <tr>\n",
       "                        <th id=\"T_e86a8bf6_8bd0_11ea_b6e8_a860b6378866level0_row7\" class=\"row_heading level0 row7\" >7</th>\n",
       "                        <td id=\"T_e86a8bf6_8bd0_11ea_b6e8_a860b6378866row7_col0\" class=\"data row7 col0\" >Extra Trees Classifier</td>\n",
       "                        <td id=\"T_e86a8bf6_8bd0_11ea_b6e8_a860b6378866row7_col1\" class=\"data row7 col1\" >0.8093</td>\n",
       "                        <td id=\"T_e86a8bf6_8bd0_11ea_b6e8_a860b6378866row7_col2\" class=\"data row7 col2\" >0.7533</td>\n",
       "                        <td id=\"T_e86a8bf6_8bd0_11ea_b6e8_a860b6378866row7_col3\" class=\"data row7 col3\" >0.3839</td>\n",
       "                        <td id=\"T_e86a8bf6_8bd0_11ea_b6e8_a860b6378866row7_col4\" class=\"data row7 col4\" >0.61</td>\n",
       "                        <td id=\"T_e86a8bf6_8bd0_11ea_b6e8_a860b6378866row7_col5\" class=\"data row7 col5\" >0.4711</td>\n",
       "                        <td id=\"T_e86a8bf6_8bd0_11ea_b6e8_a860b6378866row7_col6\" class=\"data row7 col6\" >0.362</td>\n",
       "            </tr>\n",
       "            <tr>\n",
       "                        <th id=\"T_e86a8bf6_8bd0_11ea_b6e8_a860b6378866level0_row8\" class=\"row_heading level0 row8\" >8</th>\n",
       "                        <td id=\"T_e86a8bf6_8bd0_11ea_b6e8_a860b6378866row8_col0\" class=\"data row8 col0\" >Random Forest Classifier</td>\n",
       "                        <td id=\"T_e86a8bf6_8bd0_11ea_b6e8_a860b6378866row8_col1\" class=\"data row8 col1\" >0.8084</td>\n",
       "                        <td id=\"T_e86a8bf6_8bd0_11ea_b6e8_a860b6378866row8_col2\" class=\"data row8 col2\" >0.738</td>\n",
       "                        <td id=\"T_e86a8bf6_8bd0_11ea_b6e8_a860b6378866row8_col3\" class=\"data row8 col3\" >0.3337</td>\n",
       "                        <td id=\"T_e86a8bf6_8bd0_11ea_b6e8_a860b6378866row8_col4\" class=\"data row8 col4\" >0.6254</td>\n",
       "                        <td id=\"T_e86a8bf6_8bd0_11ea_b6e8_a860b6378866row8_col5\" class=\"data row8 col5\" >0.4349</td>\n",
       "                        <td id=\"T_e86a8bf6_8bd0_11ea_b6e8_a860b6378866row8_col6\" class=\"data row8 col6\" >0.3323</td>\n",
       "            </tr>\n",
       "            <tr>\n",
       "                        <th id=\"T_e86a8bf6_8bd0_11ea_b6e8_a860b6378866level0_row9\" class=\"row_heading level0 row9\" >9</th>\n",
       "                        <td id=\"T_e86a8bf6_8bd0_11ea_b6e8_a860b6378866row9_col0\" class=\"data row9 col0\" >Quadratic Discriminant Analysis</td>\n",
       "                        <td id=\"T_e86a8bf6_8bd0_11ea_b6e8_a860b6378866row9_col1\" class=\"data row9 col1\" >0.7892</td>\n",
       "                        <td id=\"T_e86a8bf6_8bd0_11ea_b6e8_a860b6378866row9_col2\" class=\"data row9 col2\" >0.7391</td>\n",
       "                        <td id=\"T_e86a8bf6_8bd0_11ea_b6e8_a860b6378866row9_col3\" class=\"data row9 col3\" >0.1731</td>\n",
       "                        <td id=\"T_e86a8bf6_8bd0_11ea_b6e8_a860b6378866row9_col4\" class=\"data row9 col4\" >0.6275</td>\n",
       "                        <td id=\"T_e86a8bf6_8bd0_11ea_b6e8_a860b6378866row9_col5\" class=\"data row9 col5\" >0.2376</td>\n",
       "                        <td id=\"T_e86a8bf6_8bd0_11ea_b6e8_a860b6378866row9_col6\" class=\"data row9 col6\" >0.1696</td>\n",
       "            </tr>\n",
       "            <tr>\n",
       "                        <th id=\"T_e86a8bf6_8bd0_11ea_b6e8_a860b6378866level0_row10\" class=\"row_heading level0 row10\" >10</th>\n",
       "                        <td id=\"T_e86a8bf6_8bd0_11ea_b6e8_a860b6378866row10_col0\" class=\"data row10 col0\" >Logistic Regression</td>\n",
       "                        <td id=\"T_e86a8bf6_8bd0_11ea_b6e8_a860b6378866row10_col1\" class=\"data row10 col1\" >0.7786</td>\n",
       "                        <td id=\"T_e86a8bf6_8bd0_11ea_b6e8_a860b6378866row10_col2\" class=\"data row10 col2\" >0.6509</td>\n",
       "                        <td id=\"T_e86a8bf6_8bd0_11ea_b6e8_a860b6378866row10_col3\" class=\"data row10 col3\" >0.0006</td>\n",
       "                        <td id=\"T_e86a8bf6_8bd0_11ea_b6e8_a860b6378866row10_col4\" class=\"data row10 col4\" >0.075</td>\n",
       "                        <td id=\"T_e86a8bf6_8bd0_11ea_b6e8_a860b6378866row10_col5\" class=\"data row10 col5\" >0.0011</td>\n",
       "                        <td id=\"T_e86a8bf6_8bd0_11ea_b6e8_a860b6378866row10_col6\" class=\"data row10 col6\" >0.0001</td>\n",
       "            </tr>\n",
       "            <tr>\n",
       "                        <th id=\"T_e86a8bf6_8bd0_11ea_b6e8_a860b6378866level0_row11\" class=\"row_heading level0 row11\" >11</th>\n",
       "                        <td id=\"T_e86a8bf6_8bd0_11ea_b6e8_a860b6378866row11_col0\" class=\"data row11 col0\" >K Neighbors Classifier</td>\n",
       "                        <td id=\"T_e86a8bf6_8bd0_11ea_b6e8_a860b6378866row11_col1\" class=\"data row11 col1\" >0.7505</td>\n",
       "                        <td id=\"T_e86a8bf6_8bd0_11ea_b6e8_a860b6378866row11_col2\" class=\"data row11 col2\" >0.6099</td>\n",
       "                        <td id=\"T_e86a8bf6_8bd0_11ea_b6e8_a860b6378866row11_col3\" class=\"data row11 col3\" >0.1802</td>\n",
       "                        <td id=\"T_e86a8bf6_8bd0_11ea_b6e8_a860b6378866row11_col4\" class=\"data row11 col4\" >0.3693</td>\n",
       "                        <td id=\"T_e86a8bf6_8bd0_11ea_b6e8_a860b6378866row11_col5\" class=\"data row11 col5\" >0.2421</td>\n",
       "                        <td id=\"T_e86a8bf6_8bd0_11ea_b6e8_a860b6378866row11_col6\" class=\"data row11 col6\" >0.1134</td>\n",
       "            </tr>\n",
       "            <tr>\n",
       "                        <th id=\"T_e86a8bf6_8bd0_11ea_b6e8_a860b6378866level0_row12\" class=\"row_heading level0 row12\" >12</th>\n",
       "                        <td id=\"T_e86a8bf6_8bd0_11ea_b6e8_a860b6378866row12_col0\" class=\"data row12 col0\" >Decision Tree Classifier</td>\n",
       "                        <td id=\"T_e86a8bf6_8bd0_11ea_b6e8_a860b6378866row12_col1\" class=\"data row12 col1\" >0.7294</td>\n",
       "                        <td id=\"T_e86a8bf6_8bd0_11ea_b6e8_a860b6378866row12_col2\" class=\"data row12 col2\" >0.6197</td>\n",
       "                        <td id=\"T_e86a8bf6_8bd0_11ea_b6e8_a860b6378866row12_col3\" class=\"data row12 col3\" >0.4221</td>\n",
       "                        <td id=\"T_e86a8bf6_8bd0_11ea_b6e8_a860b6378866row12_col4\" class=\"data row12 col4\" >0.3953</td>\n",
       "                        <td id=\"T_e86a8bf6_8bd0_11ea_b6e8_a860b6378866row12_col5\" class=\"data row12 col5\" >0.4081</td>\n",
       "                        <td id=\"T_e86a8bf6_8bd0_11ea_b6e8_a860b6378866row12_col6\" class=\"data row12 col6\" >0.233</td>\n",
       "            </tr>\n",
       "            <tr>\n",
       "                        <th id=\"T_e86a8bf6_8bd0_11ea_b6e8_a860b6378866level0_row13\" class=\"row_heading level0 row13\" >13</th>\n",
       "                        <td id=\"T_e86a8bf6_8bd0_11ea_b6e8_a860b6378866row13_col0\" class=\"data row13 col0\" >SVM - Linear Kernel</td>\n",
       "                        <td id=\"T_e86a8bf6_8bd0_11ea_b6e8_a860b6378866row13_col1\" class=\"data row13 col1\" >0.653</td>\n",
       "                        <td id=\"T_e86a8bf6_8bd0_11ea_b6e8_a860b6378866row13_col2\" class=\"data row13 col2\" >0</td>\n",
       "                        <td id=\"T_e86a8bf6_8bd0_11ea_b6e8_a860b6378866row13_col3\" class=\"data row13 col3\" >0.2547</td>\n",
       "                        <td id=\"T_e86a8bf6_8bd0_11ea_b6e8_a860b6378866row13_col4\" class=\"data row13 col4\" >0.1056</td>\n",
       "                        <td id=\"T_e86a8bf6_8bd0_11ea_b6e8_a860b6378866row13_col5\" class=\"data row13 col5\" >0.112</td>\n",
       "                        <td id=\"T_e86a8bf6_8bd0_11ea_b6e8_a860b6378866row13_col6\" class=\"data row13 col6\" >0.0121</td>\n",
       "            </tr>\n",
       "            <tr>\n",
       "                        <th id=\"T_e86a8bf6_8bd0_11ea_b6e8_a860b6378866level0_row14\" class=\"row_heading level0 row14\" >14</th>\n",
       "                        <td id=\"T_e86a8bf6_8bd0_11ea_b6e8_a860b6378866row14_col0\" class=\"data row14 col0\" >Naive Bayes</td>\n",
       "                        <td id=\"T_e86a8bf6_8bd0_11ea_b6e8_a860b6378866row14_col1\" class=\"data row14 col1\" >0.3651</td>\n",
       "                        <td id=\"T_e86a8bf6_8bd0_11ea_b6e8_a860b6378866row14_col2\" class=\"data row14 col2\" >0.6457</td>\n",
       "                        <td id=\"T_e86a8bf6_8bd0_11ea_b6e8_a860b6378866row14_col3\" class=\"data row14 col3\" >0.902</td>\n",
       "                        <td id=\"T_e86a8bf6_8bd0_11ea_b6e8_a860b6378866row14_col4\" class=\"data row14 col4\" >0.2455</td>\n",
       "                        <td id=\"T_e86a8bf6_8bd0_11ea_b6e8_a860b6378866row14_col5\" class=\"data row14 col5\" >0.3859</td>\n",
       "                        <td id=\"T_e86a8bf6_8bd0_11ea_b6e8_a860b6378866row14_col6\" class=\"data row14 col6\" >0.0585</td>\n",
       "            </tr>\n",
       "    </tbody></table>"
      ],
      "text/plain": [
       "<pandas.io.formats.style.Styler at 0x134ac3710>"
      ]
     },
     "execution_count": 63,
     "metadata": {},
     "output_type": "execute_result"
    }
   ],
   "source": [
    "compare_models()"
   ]
  },
  {
   "cell_type": "code",
   "execution_count": 64,
   "metadata": {},
   "outputs": [
    {
     "data": {
      "text/html": [
       "<div>\n",
       "<style scoped>\n",
       "    .dataframe tbody tr th:only-of-type {\n",
       "        vertical-align: middle;\n",
       "    }\n",
       "\n",
       "    .dataframe tbody tr th {\n",
       "        vertical-align: top;\n",
       "    }\n",
       "\n",
       "    .dataframe thead th {\n",
       "        text-align: right;\n",
       "    }\n",
       "</style>\n",
       "<table border=\"1\" class=\"dataframe\">\n",
       "  <thead>\n",
       "    <tr style=\"text-align: right;\">\n",
       "      <th></th>\n",
       "      <th>Accuracy</th>\n",
       "      <th>AUC</th>\n",
       "      <th>Recall</th>\n",
       "      <th>Prec.</th>\n",
       "      <th>F1</th>\n",
       "      <th>Kappa</th>\n",
       "    </tr>\n",
       "  </thead>\n",
       "  <tbody>\n",
       "    <tr>\n",
       "      <td>0</td>\n",
       "      <td>0.7325</td>\n",
       "      <td>0.6213</td>\n",
       "      <td>0.4221</td>\n",
       "      <td>0.4005</td>\n",
       "      <td>0.4110</td>\n",
       "      <td>0.2381</td>\n",
       "    </tr>\n",
       "    <tr>\n",
       "      <td>1</td>\n",
       "      <td>0.7237</td>\n",
       "      <td>0.6199</td>\n",
       "      <td>0.4306</td>\n",
       "      <td>0.3878</td>\n",
       "      <td>0.4081</td>\n",
       "      <td>0.2285</td>\n",
       "    </tr>\n",
       "    <tr>\n",
       "      <td>2</td>\n",
       "      <td>0.7400</td>\n",
       "      <td>0.6361</td>\n",
       "      <td>0.4504</td>\n",
       "      <td>0.4184</td>\n",
       "      <td>0.4338</td>\n",
       "      <td>0.2654</td>\n",
       "    </tr>\n",
       "    <tr>\n",
       "      <td>3</td>\n",
       "      <td>0.7155</td>\n",
       "      <td>0.5984</td>\n",
       "      <td>0.3853</td>\n",
       "      <td>0.3646</td>\n",
       "      <td>0.3747</td>\n",
       "      <td>0.1907</td>\n",
       "    </tr>\n",
       "    <tr>\n",
       "      <td>4</td>\n",
       "      <td>0.7375</td>\n",
       "      <td>0.6175</td>\n",
       "      <td>0.4023</td>\n",
       "      <td>0.4057</td>\n",
       "      <td>0.4040</td>\n",
       "      <td>0.2356</td>\n",
       "    </tr>\n",
       "    <tr>\n",
       "      <td>5</td>\n",
       "      <td>0.7356</td>\n",
       "      <td>0.6376</td>\n",
       "      <td>0.4618</td>\n",
       "      <td>0.4127</td>\n",
       "      <td>0.4358</td>\n",
       "      <td>0.2639</td>\n",
       "    </tr>\n",
       "    <tr>\n",
       "      <td>6</td>\n",
       "      <td>0.7237</td>\n",
       "      <td>0.6210</td>\n",
       "      <td>0.4363</td>\n",
       "      <td>0.3889</td>\n",
       "      <td>0.4112</td>\n",
       "      <td>0.2315</td>\n",
       "    </tr>\n",
       "    <tr>\n",
       "      <td>7</td>\n",
       "      <td>0.7387</td>\n",
       "      <td>0.6365</td>\n",
       "      <td>0.4533</td>\n",
       "      <td>0.4167</td>\n",
       "      <td>0.4342</td>\n",
       "      <td>0.2647</td>\n",
       "    </tr>\n",
       "    <tr>\n",
       "      <td>8</td>\n",
       "      <td>0.7262</td>\n",
       "      <td>0.6062</td>\n",
       "      <td>0.3909</td>\n",
       "      <td>0.3833</td>\n",
       "      <td>0.3871</td>\n",
       "      <td>0.2108</td>\n",
       "    </tr>\n",
       "    <tr>\n",
       "      <td>9</td>\n",
       "      <td>0.7210</td>\n",
       "      <td>0.6030</td>\n",
       "      <td>0.3881</td>\n",
       "      <td>0.3743</td>\n",
       "      <td>0.3811</td>\n",
       "      <td>0.2011</td>\n",
       "    </tr>\n",
       "    <tr>\n",
       "      <td>Mean</td>\n",
       "      <td>0.7294</td>\n",
       "      <td>0.6197</td>\n",
       "      <td>0.4221</td>\n",
       "      <td>0.3953</td>\n",
       "      <td>0.4081</td>\n",
       "      <td>0.2330</td>\n",
       "    </tr>\n",
       "    <tr>\n",
       "      <td>SD</td>\n",
       "      <td>0.0081</td>\n",
       "      <td>0.0134</td>\n",
       "      <td>0.0274</td>\n",
       "      <td>0.0175</td>\n",
       "      <td>0.0211</td>\n",
       "      <td>0.0252</td>\n",
       "    </tr>\n",
       "  </tbody>\n",
       "</table>\n",
       "</div>"
      ],
      "text/plain": [
       "      Accuracy     AUC  Recall   Prec.      F1   Kappa\n",
       "0       0.7325  0.6213  0.4221  0.4005  0.4110  0.2381\n",
       "1       0.7237  0.6199  0.4306  0.3878  0.4081  0.2285\n",
       "2       0.7400  0.6361  0.4504  0.4184  0.4338  0.2654\n",
       "3       0.7155  0.5984  0.3853  0.3646  0.3747  0.1907\n",
       "4       0.7375  0.6175  0.4023  0.4057  0.4040  0.2356\n",
       "5       0.7356  0.6376  0.4618  0.4127  0.4358  0.2639\n",
       "6       0.7237  0.6210  0.4363  0.3889  0.4112  0.2315\n",
       "7       0.7387  0.6365  0.4533  0.4167  0.4342  0.2647\n",
       "8       0.7262  0.6062  0.3909  0.3833  0.3871  0.2108\n",
       "9       0.7210  0.6030  0.3881  0.3743  0.3811  0.2011\n",
       "Mean    0.7294  0.6197  0.4221  0.3953  0.4081  0.2330\n",
       "SD      0.0081  0.0134  0.0274  0.0175  0.0211  0.0252"
      ]
     },
     "metadata": {},
     "output_type": "display_data"
    },
    {
     "name": "stdout",
     "output_type": "stream",
     "text": [
      "DecisionTreeClassifier(ccp_alpha=0.0, class_weight=None, criterion='gini',\n",
      "                       max_depth=None, max_features=None, max_leaf_nodes=None,\n",
      "                       min_impurity_decrease=0.0, min_impurity_split=None,\n",
      "                       min_samples_leaf=1, min_samples_split=2,\n",
      "                       min_weight_fraction_leaf=0.0, presort='deprecated',\n",
      "                       random_state=123, splitter='best')\n"
     ]
    }
   ],
   "source": [
    "dt = create_model('dt')\n",
    "print (dt)"
   ]
  },
  {
   "cell_type": "code",
   "execution_count": 65,
   "metadata": {},
   "outputs": [
    {
     "data": {
      "text/html": [
       "<div>\n",
       "<style scoped>\n",
       "    .dataframe tbody tr th:only-of-type {\n",
       "        vertical-align: middle;\n",
       "    }\n",
       "\n",
       "    .dataframe tbody tr th {\n",
       "        vertical-align: top;\n",
       "    }\n",
       "\n",
       "    .dataframe thead th {\n",
       "        text-align: right;\n",
       "    }\n",
       "</style>\n",
       "<table border=\"1\" class=\"dataframe\">\n",
       "  <thead>\n",
       "    <tr style=\"text-align: right;\">\n",
       "      <th></th>\n",
       "      <th>Accuracy</th>\n",
       "      <th>AUC</th>\n",
       "      <th>Recall</th>\n",
       "      <th>Prec.</th>\n",
       "      <th>F1</th>\n",
       "      <th>Kappa</th>\n",
       "    </tr>\n",
       "  </thead>\n",
       "  <tbody>\n",
       "    <tr>\n",
       "      <td>0</td>\n",
       "      <td>0.7406</td>\n",
       "      <td>0.5879</td>\n",
       "      <td>0.1671</td>\n",
       "      <td>0.3296</td>\n",
       "      <td>0.2218</td>\n",
       "      <td>0.0857</td>\n",
       "    </tr>\n",
       "    <tr>\n",
       "      <td>1</td>\n",
       "      <td>0.7350</td>\n",
       "      <td>0.5787</td>\n",
       "      <td>0.1473</td>\n",
       "      <td>0.2989</td>\n",
       "      <td>0.1973</td>\n",
       "      <td>0.0601</td>\n",
       "    </tr>\n",
       "    <tr>\n",
       "      <td>2</td>\n",
       "      <td>0.7632</td>\n",
       "      <td>0.6648</td>\n",
       "      <td>0.2096</td>\n",
       "      <td>0.4277</td>\n",
       "      <td>0.2814</td>\n",
       "      <td>0.1590</td>\n",
       "    </tr>\n",
       "    <tr>\n",
       "      <td>3</td>\n",
       "      <td>0.7462</td>\n",
       "      <td>0.5984</td>\n",
       "      <td>0.1530</td>\n",
       "      <td>0.3375</td>\n",
       "      <td>0.2105</td>\n",
       "      <td>0.0842</td>\n",
       "    </tr>\n",
       "    <tr>\n",
       "      <td>4</td>\n",
       "      <td>0.7550</td>\n",
       "      <td>0.6098</td>\n",
       "      <td>0.2040</td>\n",
       "      <td>0.3956</td>\n",
       "      <td>0.2692</td>\n",
       "      <td>0.1397</td>\n",
       "    </tr>\n",
       "    <tr>\n",
       "      <td>5</td>\n",
       "      <td>0.7613</td>\n",
       "      <td>0.6203</td>\n",
       "      <td>0.1870</td>\n",
       "      <td>0.4125</td>\n",
       "      <td>0.2573</td>\n",
       "      <td>0.1384</td>\n",
       "    </tr>\n",
       "    <tr>\n",
       "      <td>6</td>\n",
       "      <td>0.7412</td>\n",
       "      <td>0.5883</td>\n",
       "      <td>0.1671</td>\n",
       "      <td>0.3315</td>\n",
       "      <td>0.2222</td>\n",
       "      <td>0.0868</td>\n",
       "    </tr>\n",
       "    <tr>\n",
       "      <td>7</td>\n",
       "      <td>0.7594</td>\n",
       "      <td>0.6139</td>\n",
       "      <td>0.1898</td>\n",
       "      <td>0.4061</td>\n",
       "      <td>0.2587</td>\n",
       "      <td>0.1371</td>\n",
       "    </tr>\n",
       "    <tr>\n",
       "      <td>8</td>\n",
       "      <td>0.7487</td>\n",
       "      <td>0.6100</td>\n",
       "      <td>0.1898</td>\n",
       "      <td>0.3681</td>\n",
       "      <td>0.2505</td>\n",
       "      <td>0.1177</td>\n",
       "    </tr>\n",
       "    <tr>\n",
       "      <td>9</td>\n",
       "      <td>0.7542</td>\n",
       "      <td>0.6264</td>\n",
       "      <td>0.1870</td>\n",
       "      <td>0.3860</td>\n",
       "      <td>0.2519</td>\n",
       "      <td>0.1256</td>\n",
       "    </tr>\n",
       "    <tr>\n",
       "      <td>Mean</td>\n",
       "      <td>0.7505</td>\n",
       "      <td>0.6099</td>\n",
       "      <td>0.1802</td>\n",
       "      <td>0.3693</td>\n",
       "      <td>0.2421</td>\n",
       "      <td>0.1134</td>\n",
       "    </tr>\n",
       "    <tr>\n",
       "      <td>SD</td>\n",
       "      <td>0.0091</td>\n",
       "      <td>0.0234</td>\n",
       "      <td>0.0197</td>\n",
       "      <td>0.0407</td>\n",
       "      <td>0.0260</td>\n",
       "      <td>0.0305</td>\n",
       "    </tr>\n",
       "  </tbody>\n",
       "</table>\n",
       "</div>"
      ],
      "text/plain": [
       "      Accuracy     AUC  Recall   Prec.      F1   Kappa\n",
       "0       0.7406  0.5879  0.1671  0.3296  0.2218  0.0857\n",
       "1       0.7350  0.5787  0.1473  0.2989  0.1973  0.0601\n",
       "2       0.7632  0.6648  0.2096  0.4277  0.2814  0.1590\n",
       "3       0.7462  0.5984  0.1530  0.3375  0.2105  0.0842\n",
       "4       0.7550  0.6098  0.2040  0.3956  0.2692  0.1397\n",
       "5       0.7613  0.6203  0.1870  0.4125  0.2573  0.1384\n",
       "6       0.7412  0.5883  0.1671  0.3315  0.2222  0.0868\n",
       "7       0.7594  0.6139  0.1898  0.4061  0.2587  0.1371\n",
       "8       0.7487  0.6100  0.1898  0.3681  0.2505  0.1177\n",
       "9       0.7542  0.6264  0.1870  0.3860  0.2519  0.1256\n",
       "Mean    0.7505  0.6099  0.1802  0.3693  0.2421  0.1134\n",
       "SD      0.0091  0.0234  0.0197  0.0407  0.0260  0.0305"
      ]
     },
     "metadata": {},
     "output_type": "display_data"
    }
   ],
   "source": [
    "knn = create_model('knn')"
   ]
  },
  {
   "cell_type": "code",
   "execution_count": 66,
   "metadata": {},
   "outputs": [
    {
     "data": {
      "text/html": [
       "<div>\n",
       "<style scoped>\n",
       "    .dataframe tbody tr th:only-of-type {\n",
       "        vertical-align: middle;\n",
       "    }\n",
       "\n",
       "    .dataframe tbody tr th {\n",
       "        vertical-align: top;\n",
       "    }\n",
       "\n",
       "    .dataframe thead th {\n",
       "        text-align: right;\n",
       "    }\n",
       "</style>\n",
       "<table border=\"1\" class=\"dataframe\">\n",
       "  <thead>\n",
       "    <tr style=\"text-align: right;\">\n",
       "      <th></th>\n",
       "      <th>Accuracy</th>\n",
       "      <th>AUC</th>\n",
       "      <th>Recall</th>\n",
       "      <th>Prec.</th>\n",
       "      <th>F1</th>\n",
       "      <th>Kappa</th>\n",
       "    </tr>\n",
       "  </thead>\n",
       "  <tbody>\n",
       "    <tr>\n",
       "      <td>0</td>\n",
       "      <td>0.8064</td>\n",
       "      <td>0.7435</td>\n",
       "      <td>0.3229</td>\n",
       "      <td>0.6196</td>\n",
       "      <td>0.4246</td>\n",
       "      <td>0.3218</td>\n",
       "    </tr>\n",
       "    <tr>\n",
       "      <td>1</td>\n",
       "      <td>0.8076</td>\n",
       "      <td>0.7488</td>\n",
       "      <td>0.3314</td>\n",
       "      <td>0.6223</td>\n",
       "      <td>0.4325</td>\n",
       "      <td>0.3295</td>\n",
       "    </tr>\n",
       "    <tr>\n",
       "      <td>2</td>\n",
       "      <td>0.8170</td>\n",
       "      <td>0.7576</td>\n",
       "      <td>0.3683</td>\n",
       "      <td>0.6533</td>\n",
       "      <td>0.4710</td>\n",
       "      <td>0.3707</td>\n",
       "    </tr>\n",
       "    <tr>\n",
       "      <td>3</td>\n",
       "      <td>0.8139</td>\n",
       "      <td>0.7175</td>\n",
       "      <td>0.3513</td>\n",
       "      <td>0.6458</td>\n",
       "      <td>0.4550</td>\n",
       "      <td>0.3544</td>\n",
       "    </tr>\n",
       "    <tr>\n",
       "      <td>4</td>\n",
       "      <td>0.8026</td>\n",
       "      <td>0.7199</td>\n",
       "      <td>0.2890</td>\n",
       "      <td>0.6145</td>\n",
       "      <td>0.3931</td>\n",
       "      <td>0.2930</td>\n",
       "    </tr>\n",
       "    <tr>\n",
       "      <td>5</td>\n",
       "      <td>0.8114</td>\n",
       "      <td>0.7446</td>\n",
       "      <td>0.3569</td>\n",
       "      <td>0.6300</td>\n",
       "      <td>0.4557</td>\n",
       "      <td>0.3520</td>\n",
       "    </tr>\n",
       "    <tr>\n",
       "      <td>6</td>\n",
       "      <td>0.8008</td>\n",
       "      <td>0.7286</td>\n",
       "      <td>0.3258</td>\n",
       "      <td>0.5897</td>\n",
       "      <td>0.4197</td>\n",
       "      <td>0.3113</td>\n",
       "    </tr>\n",
       "    <tr>\n",
       "      <td>7</td>\n",
       "      <td>0.8070</td>\n",
       "      <td>0.7502</td>\n",
       "      <td>0.3144</td>\n",
       "      <td>0.6271</td>\n",
       "      <td>0.4189</td>\n",
       "      <td>0.3181</td>\n",
       "    </tr>\n",
       "    <tr>\n",
       "      <td>8</td>\n",
       "      <td>0.8114</td>\n",
       "      <td>0.7262</td>\n",
       "      <td>0.3371</td>\n",
       "      <td>0.6398</td>\n",
       "      <td>0.4416</td>\n",
       "      <td>0.3410</td>\n",
       "    </tr>\n",
       "    <tr>\n",
       "      <td>9</td>\n",
       "      <td>0.8063</td>\n",
       "      <td>0.7428</td>\n",
       "      <td>0.3399</td>\n",
       "      <td>0.6122</td>\n",
       "      <td>0.4372</td>\n",
       "      <td>0.3315</td>\n",
       "    </tr>\n",
       "    <tr>\n",
       "      <td>Mean</td>\n",
       "      <td>0.8084</td>\n",
       "      <td>0.7380</td>\n",
       "      <td>0.3337</td>\n",
       "      <td>0.6254</td>\n",
       "      <td>0.4349</td>\n",
       "      <td>0.3323</td>\n",
       "    </tr>\n",
       "    <tr>\n",
       "      <td>SD</td>\n",
       "      <td>0.0048</td>\n",
       "      <td>0.0131</td>\n",
       "      <td>0.0216</td>\n",
       "      <td>0.0174</td>\n",
       "      <td>0.0213</td>\n",
       "      <td>0.0217</td>\n",
       "    </tr>\n",
       "  </tbody>\n",
       "</table>\n",
       "</div>"
      ],
      "text/plain": [
       "      Accuracy     AUC  Recall   Prec.      F1   Kappa\n",
       "0       0.8064  0.7435  0.3229  0.6196  0.4246  0.3218\n",
       "1       0.8076  0.7488  0.3314  0.6223  0.4325  0.3295\n",
       "2       0.8170  0.7576  0.3683  0.6533  0.4710  0.3707\n",
       "3       0.8139  0.7175  0.3513  0.6458  0.4550  0.3544\n",
       "4       0.8026  0.7199  0.2890  0.6145  0.3931  0.2930\n",
       "5       0.8114  0.7446  0.3569  0.6300  0.4557  0.3520\n",
       "6       0.8008  0.7286  0.3258  0.5897  0.4197  0.3113\n",
       "7       0.8070  0.7502  0.3144  0.6271  0.4189  0.3181\n",
       "8       0.8114  0.7262  0.3371  0.6398  0.4416  0.3410\n",
       "9       0.8063  0.7428  0.3399  0.6122  0.4372  0.3315\n",
       "Mean    0.8084  0.7380  0.3337  0.6254  0.4349  0.3323\n",
       "SD      0.0048  0.0131  0.0216  0.0174  0.0213  0.0217"
      ]
     },
     "metadata": {},
     "output_type": "display_data"
    }
   ],
   "source": [
    "rf = create_model('rf')"
   ]
  },
  {
   "cell_type": "code",
   "execution_count": 67,
   "metadata": {},
   "outputs": [
    {
     "data": {
      "text/html": [
       "<div>\n",
       "<style scoped>\n",
       "    .dataframe tbody tr th:only-of-type {\n",
       "        vertical-align: middle;\n",
       "    }\n",
       "\n",
       "    .dataframe tbody tr th {\n",
       "        vertical-align: top;\n",
       "    }\n",
       "\n",
       "    .dataframe thead th {\n",
       "        text-align: right;\n",
       "    }\n",
       "</style>\n",
       "<table border=\"1\" class=\"dataframe\">\n",
       "  <thead>\n",
       "    <tr style=\"text-align: right;\">\n",
       "      <th></th>\n",
       "      <th>Accuracy</th>\n",
       "      <th>AUC</th>\n",
       "      <th>Recall</th>\n",
       "      <th>Prec.</th>\n",
       "      <th>F1</th>\n",
       "      <th>Kappa</th>\n",
       "    </tr>\n",
       "  </thead>\n",
       "  <tbody>\n",
       "    <tr>\n",
       "      <td>0</td>\n",
       "      <td>0.8264</td>\n",
       "      <td>0.7219</td>\n",
       "      <td>0.3201</td>\n",
       "      <td>0.7533</td>\n",
       "      <td>0.4493</td>\n",
       "      <td>0.3656</td>\n",
       "    </tr>\n",
       "    <tr>\n",
       "      <td>1</td>\n",
       "      <td>0.8239</td>\n",
       "      <td>0.7259</td>\n",
       "      <td>0.3059</td>\n",
       "      <td>0.7500</td>\n",
       "      <td>0.4346</td>\n",
       "      <td>0.3515</td>\n",
       "    </tr>\n",
       "    <tr>\n",
       "      <td>2</td>\n",
       "      <td>0.8158</td>\n",
       "      <td>0.7548</td>\n",
       "      <td>0.2946</td>\n",
       "      <td>0.6980</td>\n",
       "      <td>0.4143</td>\n",
       "      <td>0.3258</td>\n",
       "    </tr>\n",
       "    <tr>\n",
       "      <td>3</td>\n",
       "      <td>0.8208</td>\n",
       "      <td>0.7171</td>\n",
       "      <td>0.3173</td>\n",
       "      <td>0.7134</td>\n",
       "      <td>0.4392</td>\n",
       "      <td>0.3508</td>\n",
       "    </tr>\n",
       "    <tr>\n",
       "      <td>4</td>\n",
       "      <td>0.8133</td>\n",
       "      <td>0.7178</td>\n",
       "      <td>0.3173</td>\n",
       "      <td>0.6627</td>\n",
       "      <td>0.4291</td>\n",
       "      <td>0.3337</td>\n",
       "    </tr>\n",
       "    <tr>\n",
       "      <td>5</td>\n",
       "      <td>0.8239</td>\n",
       "      <td>0.7359</td>\n",
       "      <td>0.3003</td>\n",
       "      <td>0.7571</td>\n",
       "      <td>0.4300</td>\n",
       "      <td>0.3481</td>\n",
       "    </tr>\n",
       "    <tr>\n",
       "      <td>6</td>\n",
       "      <td>0.8164</td>\n",
       "      <td>0.7197</td>\n",
       "      <td>0.2975</td>\n",
       "      <td>0.7000</td>\n",
       "      <td>0.4175</td>\n",
       "      <td>0.3290</td>\n",
       "    </tr>\n",
       "    <tr>\n",
       "      <td>7</td>\n",
       "      <td>0.8264</td>\n",
       "      <td>0.7408</td>\n",
       "      <td>0.3031</td>\n",
       "      <td>0.7754</td>\n",
       "      <td>0.4358</td>\n",
       "      <td>0.3557</td>\n",
       "    </tr>\n",
       "    <tr>\n",
       "      <td>8</td>\n",
       "      <td>0.8214</td>\n",
       "      <td>0.7158</td>\n",
       "      <td>0.3003</td>\n",
       "      <td>0.7361</td>\n",
       "      <td>0.4266</td>\n",
       "      <td>0.3423</td>\n",
       "    </tr>\n",
       "    <tr>\n",
       "      <td>9</td>\n",
       "      <td>0.8107</td>\n",
       "      <td>0.7322</td>\n",
       "      <td>0.3003</td>\n",
       "      <td>0.6584</td>\n",
       "      <td>0.4125</td>\n",
       "      <td>0.3179</td>\n",
       "    </tr>\n",
       "    <tr>\n",
       "      <td>Mean</td>\n",
       "      <td>0.8199</td>\n",
       "      <td>0.7282</td>\n",
       "      <td>0.3057</td>\n",
       "      <td>0.7204</td>\n",
       "      <td>0.4289</td>\n",
       "      <td>0.3420</td>\n",
       "    </tr>\n",
       "    <tr>\n",
       "      <td>SD</td>\n",
       "      <td>0.0053</td>\n",
       "      <td>0.0120</td>\n",
       "      <td>0.0087</td>\n",
       "      <td>0.0384</td>\n",
       "      <td>0.0111</td>\n",
       "      <td>0.0143</td>\n",
       "    </tr>\n",
       "  </tbody>\n",
       "</table>\n",
       "</div>"
      ],
      "text/plain": [
       "      Accuracy     AUC  Recall   Prec.      F1   Kappa\n",
       "0       0.8264  0.7219  0.3201  0.7533  0.4493  0.3656\n",
       "1       0.8239  0.7259  0.3059  0.7500  0.4346  0.3515\n",
       "2       0.8158  0.7548  0.2946  0.6980  0.4143  0.3258\n",
       "3       0.8208  0.7171  0.3173  0.7134  0.4392  0.3508\n",
       "4       0.8133  0.7178  0.3173  0.6627  0.4291  0.3337\n",
       "5       0.8239  0.7359  0.3003  0.7571  0.4300  0.3481\n",
       "6       0.8164  0.7197  0.2975  0.7000  0.4175  0.3290\n",
       "7       0.8264  0.7408  0.3031  0.7754  0.4358  0.3557\n",
       "8       0.8214  0.7158  0.3003  0.7361  0.4266  0.3423\n",
       "9       0.8107  0.7322  0.3003  0.6584  0.4125  0.3179\n",
       "Mean    0.8199  0.7282  0.3057  0.7204  0.4289  0.3420\n",
       "SD      0.0053  0.0120  0.0087  0.0384  0.0111  0.0143"
      ]
     },
     "metadata": {},
     "output_type": "display_data"
    }
   ],
   "source": [
    "tuned_dt = tune_model('dt')"
   ]
  },
  {
   "cell_type": "code",
   "execution_count": 68,
   "metadata": {},
   "outputs": [
    {
     "data": {
      "text/html": [
       "<div>\n",
       "<style scoped>\n",
       "    .dataframe tbody tr th:only-of-type {\n",
       "        vertical-align: middle;\n",
       "    }\n",
       "\n",
       "    .dataframe tbody tr th {\n",
       "        vertical-align: top;\n",
       "    }\n",
       "\n",
       "    .dataframe thead th {\n",
       "        text-align: right;\n",
       "    }\n",
       "</style>\n",
       "<table border=\"1\" class=\"dataframe\">\n",
       "  <thead>\n",
       "    <tr style=\"text-align: right;\">\n",
       "      <th></th>\n",
       "      <th>Accuracy</th>\n",
       "      <th>AUC</th>\n",
       "      <th>Recall</th>\n",
       "      <th>Prec.</th>\n",
       "      <th>F1</th>\n",
       "      <th>Kappa</th>\n",
       "    </tr>\n",
       "  </thead>\n",
       "  <tbody>\n",
       "    <tr>\n",
       "      <td>0</td>\n",
       "      <td>0.8289</td>\n",
       "      <td>0.7871</td>\n",
       "      <td>0.3484</td>\n",
       "      <td>0.7410</td>\n",
       "      <td>0.4740</td>\n",
       "      <td>0.3873</td>\n",
       "    </tr>\n",
       "    <tr>\n",
       "      <td>1</td>\n",
       "      <td>0.8227</td>\n",
       "      <td>0.7990</td>\n",
       "      <td>0.3513</td>\n",
       "      <td>0.6966</td>\n",
       "      <td>0.4670</td>\n",
       "      <td>0.3743</td>\n",
       "    </tr>\n",
       "    <tr>\n",
       "      <td>2</td>\n",
       "      <td>0.8221</td>\n",
       "      <td>0.8251</td>\n",
       "      <td>0.3824</td>\n",
       "      <td>0.6716</td>\n",
       "      <td>0.4874</td>\n",
       "      <td>0.3894</td>\n",
       "    </tr>\n",
       "    <tr>\n",
       "      <td>3</td>\n",
       "      <td>0.8227</td>\n",
       "      <td>0.7740</td>\n",
       "      <td>0.3626</td>\n",
       "      <td>0.6882</td>\n",
       "      <td>0.4750</td>\n",
       "      <td>0.3804</td>\n",
       "    </tr>\n",
       "    <tr>\n",
       "      <td>4</td>\n",
       "      <td>0.8227</td>\n",
       "      <td>0.7795</td>\n",
       "      <td>0.3513</td>\n",
       "      <td>0.6966</td>\n",
       "      <td>0.4670</td>\n",
       "      <td>0.3743</td>\n",
       "    </tr>\n",
       "    <tr>\n",
       "      <td>5</td>\n",
       "      <td>0.8239</td>\n",
       "      <td>0.7918</td>\n",
       "      <td>0.3598</td>\n",
       "      <td>0.6978</td>\n",
       "      <td>0.4748</td>\n",
       "      <td>0.3817</td>\n",
       "    </tr>\n",
       "    <tr>\n",
       "      <td>6</td>\n",
       "      <td>0.8202</td>\n",
       "      <td>0.7536</td>\n",
       "      <td>0.3343</td>\n",
       "      <td>0.6941</td>\n",
       "      <td>0.4512</td>\n",
       "      <td>0.3591</td>\n",
       "    </tr>\n",
       "    <tr>\n",
       "      <td>7</td>\n",
       "      <td>0.8302</td>\n",
       "      <td>0.7935</td>\n",
       "      <td>0.3569</td>\n",
       "      <td>0.7412</td>\n",
       "      <td>0.4818</td>\n",
       "      <td>0.3948</td>\n",
       "    </tr>\n",
       "    <tr>\n",
       "      <td>8</td>\n",
       "      <td>0.8214</td>\n",
       "      <td>0.7649</td>\n",
       "      <td>0.3541</td>\n",
       "      <td>0.6868</td>\n",
       "      <td>0.4673</td>\n",
       "      <td>0.3729</td>\n",
       "    </tr>\n",
       "    <tr>\n",
       "      <td>9</td>\n",
       "      <td>0.8138</td>\n",
       "      <td>0.7824</td>\n",
       "      <td>0.3598</td>\n",
       "      <td>0.6414</td>\n",
       "      <td>0.4610</td>\n",
       "      <td>0.3590</td>\n",
       "    </tr>\n",
       "    <tr>\n",
       "      <td>Mean</td>\n",
       "      <td>0.8229</td>\n",
       "      <td>0.7851</td>\n",
       "      <td>0.3561</td>\n",
       "      <td>0.6955</td>\n",
       "      <td>0.4707</td>\n",
       "      <td>0.3773</td>\n",
       "    </tr>\n",
       "    <tr>\n",
       "      <td>SD</td>\n",
       "      <td>0.0043</td>\n",
       "      <td>0.0186</td>\n",
       "      <td>0.0116</td>\n",
       "      <td>0.0279</td>\n",
       "      <td>0.0098</td>\n",
       "      <td>0.0113</td>\n",
       "    </tr>\n",
       "  </tbody>\n",
       "</table>\n",
       "</div>"
      ],
      "text/plain": [
       "      Accuracy     AUC  Recall   Prec.      F1   Kappa\n",
       "0       0.8289  0.7871  0.3484  0.7410  0.4740  0.3873\n",
       "1       0.8227  0.7990  0.3513  0.6966  0.4670  0.3743\n",
       "2       0.8221  0.8251  0.3824  0.6716  0.4874  0.3894\n",
       "3       0.8227  0.7740  0.3626  0.6882  0.4750  0.3804\n",
       "4       0.8227  0.7795  0.3513  0.6966  0.4670  0.3743\n",
       "5       0.8239  0.7918  0.3598  0.6978  0.4748  0.3817\n",
       "6       0.8202  0.7536  0.3343  0.6941  0.4512  0.3591\n",
       "7       0.8302  0.7935  0.3569  0.7412  0.4818  0.3948\n",
       "8       0.8214  0.7649  0.3541  0.6868  0.4673  0.3729\n",
       "9       0.8138  0.7824  0.3598  0.6414  0.4610  0.3590\n",
       "Mean    0.8229  0.7851  0.3561  0.6955  0.4707  0.3773\n",
       "SD      0.0043  0.0186  0.0116  0.0279  0.0098  0.0113"
      ]
     },
     "metadata": {},
     "output_type": "display_data"
    }
   ],
   "source": [
    "tuned_rf = tune_model('rf')"
   ]
  },
  {
   "cell_type": "code",
   "execution_count": 69,
   "metadata": {},
   "outputs": [
    {
     "data": {
      "image/png": "[encoded data removed]",
      "text/plain": [
       "<Figure size 576x396 with 1 Axes>"
      ]
     },
     "metadata": {},
     "output_type": "display_data"
    }
   ],
   "source": [
    "plot_model(tuned_rf, plot = 'auc')"
   ]
  },
  {
   "cell_type": "code",
   "execution_count": 70,
   "metadata": {},
   "outputs": [
    {
     "data": {
      "image/png": "[encoded data removed]",
      "text/plain": [
       "<Figure size 576x396 with 1 Axes>"
      ]
     },
     "metadata": {},
     "output_type": "display_data"
    }
   ],
   "source": [
    "plot_model(tuned_rf, plot = 'pr')"
   ]
  },
  {
   "cell_type": "code",
   "execution_count": 71,
   "metadata": {},
   "outputs": [
    {
     "data": {
      "image/png": "[encoded data removed]",
      "text/plain": [
       "<Figure size 576x360 with 1 Axes>"
      ]
     },
     "metadata": {},
     "output_type": "display_data"
    }
   ],
   "source": [
    "plot_model(tuned_rf, plot='feature')"
   ]
  },
  {
   "cell_type": "code",
   "execution_count": 72,
   "metadata": {},
   "outputs": [
    {
     "data": {
      "image/png": "[encoded data removed]",
      "text/plain": [
       "<Figure size 576x396 with 1 Axes>"
      ]
     },
     "metadata": {},
     "output_type": "display_data"
    }
   ],
   "source": [
    "plot_model(tuned_rf, plot = 'confusion_matrix')"
   ]
  },
  {
   "cell_type": "code",
   "execution_count": 73,
   "metadata": {},
   "outputs": [
    {
     "data": {
      "text/html": [
       "<div>\n",
       "<style scoped>\n",
       "    .dataframe tbody tr th:only-of-type {\n",
       "        vertical-align: middle;\n",
       "    }\n",
       "\n",
       "    .dataframe tbody tr th {\n",
       "        vertical-align: top;\n",
       "    }\n",
       "\n",
       "    .dataframe thead th {\n",
       "        text-align: right;\n",
       "    }\n",
       "</style>\n",
       "<table border=\"1\" class=\"dataframe\">\n",
       "  <thead>\n",
       "    <tr style=\"text-align: right;\">\n",
       "      <th></th>\n",
       "      <th>Model</th>\n",
       "      <th>Accuracy</th>\n",
       "      <th>AUC</th>\n",
       "      <th>Recall</th>\n",
       "      <th>Prec.</th>\n",
       "      <th>F1</th>\n",
       "      <th>Kappa</th>\n",
       "    </tr>\n",
       "  </thead>\n",
       "  <tbody>\n",
       "    <tr>\n",
       "      <td>0</td>\n",
       "      <td>Random Forest Classifier</td>\n",
       "      <td>0.8126</td>\n",
       "      <td>0.7538</td>\n",
       "      <td>0.3212</td>\n",
       "      <td>0.6559</td>\n",
       "      <td>0.4312</td>\n",
       "      <td>0.3345</td>\n",
       "    </tr>\n",
       "  </tbody>\n",
       "</table>\n",
       "</div>"
      ],
      "text/plain": [
       "                      Model  Accuracy     AUC  Recall   Prec.      F1   Kappa\n",
       "0  Random Forest Classifier    0.8126  0.7538  0.3212  0.6559  0.4312  0.3345"
      ]
     },
     "metadata": {},
     "output_type": "display_data"
    }
   ],
   "source": [
    "predict_model(tuned_rf);"
   ]
  },
  {
   "cell_type": "code",
   "execution_count": 74,
   "metadata": {},
   "outputs": [
    {
     "name": "stdout",
     "output_type": "stream",
     "text": [
      "RandomForestClassifier(bootstrap=True, ccp_alpha=0.0, class_weight=None,\n",
      "                       criterion='gini', max_depth=10, max_features='auto',\n",
      "                       max_leaf_nodes=None, max_samples=None,\n",
      "                       min_impurity_decrease=0.0, min_impurity_split=None,\n",
      "                       min_samples_leaf=2, min_samples_split=10,\n",
      "                       min_weight_fraction_leaf=0.0, n_estimators=70,\n",
      "                       n_jobs=None, oob_score=False, random_state=123,\n",
      "                       verbose=0, warm_start=False)\n"
     ]
    }
   ],
   "source": [
    "final_rf = finalize_model(tuned_rf)\n",
    "print(final_rf)"
   ]
  },
  {
   "cell_type": "code",
   "execution_count": 75,
   "metadata": {},
   "outputs": [
    {
     "data": {
      "text/html": [
       "<div>\n",
       "<style scoped>\n",
       "    .dataframe tbody tr th:only-of-type {\n",
       "        vertical-align: middle;\n",
       "    }\n",
       "\n",
       "    .dataframe tbody tr th {\n",
       "        vertical-align: top;\n",
       "    }\n",
       "\n",
       "    .dataframe thead th {\n",
       "        text-align: right;\n",
       "    }\n",
       "</style>\n",
       "<table border=\"1\" class=\"dataframe\">\n",
       "  <thead>\n",
       "    <tr style=\"text-align: right;\">\n",
       "      <th></th>\n",
       "      <th>Model</th>\n",
       "      <th>Accuracy</th>\n",
       "      <th>AUC</th>\n",
       "      <th>Recall</th>\n",
       "      <th>Prec.</th>\n",
       "      <th>F1</th>\n",
       "      <th>Kappa</th>\n",
       "    </tr>\n",
       "  </thead>\n",
       "  <tbody>\n",
       "    <tr>\n",
       "      <td>0</td>\n",
       "      <td>Random Forest Classifier</td>\n",
       "      <td>0.8361</td>\n",
       "      <td>0.8189</td>\n",
       "      <td>0.3681</td>\n",
       "      <td>0.7715</td>\n",
       "      <td>0.4984</td>\n",
       "      <td>0.4148</td>\n",
       "    </tr>\n",
       "  </tbody>\n",
       "</table>\n",
       "</div>"
      ],
      "text/plain": [
       "                      Model  Accuracy     AUC  Recall   Prec.      F1   Kappa\n",
       "0  Random Forest Classifier    0.8361  0.8189  0.3681  0.7715  0.4984  0.4148"
      ]
     },
     "metadata": {},
     "output_type": "display_data"
    }
   ],
   "source": [
    "predict_model(final_rf);"
   ]
  },
  {
   "cell_type": "code",
   "execution_count": null,
   "metadata": {},
   "outputs": [],
   "source": []
  }
 ],
 "metadata": {
  "kernelspec": {
   "display_name": "Python 3",
   "language": "python",
   "name": "python3"
  },
  "language_info": {
   "codemirror_mode": {
    "name": "ipython",
    "version": 3
   },
   "file_extension": ".py",
   "mimetype": "text/x-python",
   "name": "python",
   "nbconvert_exporter": "python",
   "pygments_lexer": "ipython3",
   "version": "3.7.6"
  }
 },
 "nbformat": 4,
 "nbformat_minor": 2
}
