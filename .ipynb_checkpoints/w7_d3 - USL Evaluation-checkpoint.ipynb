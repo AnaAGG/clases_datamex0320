{
 "cells": [
  {
   "cell_type": "markdown",
   "metadata": {},
   "source": [
    "# Silhoutte Score"
   ]
  },
  {
   "cell_type": "markdown",
   "metadata": {},
   "source": [
    "  "
   ]
  },
  {
   "cell_type": "markdown",
   "metadata": {},
   "source": [
    "$$S=\\frac{b(v)-a(v)}{max(a,b)}$$\n",
    "\n",
    "donde:\n",
    "\n",
    "+ a(v):=distancia media desde v al resto de vectores del mismo cluster\n",
    "+ b(v):=distancia media desde v a los vectores del cluster más cercano\n",
    "\n"
   ]
  },
  {
   "cell_type": "markdown",
   "metadata": {},
   "source": [
    "S pertenece al intervalo [-1,1], de tal manera que:\n",
    "\n",
    "+ S=1  => buena clusterizacion\n",
    "+ S=0  => overlapping\n",
    "+ S=-1 => mala clusterizacion"
   ]
  },
  {
   "cell_type": "code",
   "execution_count": null,
   "metadata": {},
   "outputs": [],
   "source": []
  },
  {
   "cell_type": "code",
   "execution_count": null,
   "metadata": {},
   "outputs": [],
   "source": []
  },
  {
   "cell_type": "code",
   "execution_count": null,
   "metadata": {},
   "outputs": [],
   "source": []
  },
  {
   "cell_type": "code",
   "execution_count": null,
   "metadata": {},
   "outputs": [],
   "source": []
  },
  {
   "cell_type": "markdown",
   "metadata": {},
   "source": [
    "# Elbow\n",
    "\n",
    "**nº óptimo de clusters**\n",
    "\n",
    "\n",
    "![](data/elbow.png)"
   ]
  },
  {
   "cell_type": "markdown",
   "metadata": {},
   "source": [
    "$$WSS=Inercia=\\sum_{i=0}^{n} min(|x_i - \\bar{x}|^{2})$$"
   ]
  },
  {
   "cell_type": "code",
   "execution_count": null,
   "metadata": {},
   "outputs": [],
   "source": []
  },
  {
   "cell_type": "code",
   "execution_count": null,
   "metadata": {},
   "outputs": [],
   "source": []
  },
  {
   "cell_type": "code",
   "execution_count": null,
   "metadata": {},
   "outputs": [],
   "source": []
  },
  {
   "cell_type": "code",
   "execution_count": null,
   "metadata": {},
   "outputs": [],
   "source": []
  },
  {
   "cell_type": "markdown",
   "metadata": {},
   "source": [
    "# Rand Score"
   ]
  },
  {
   "cell_type": "markdown",
   "metadata": {},
   "source": [
    "   "
   ]
  },
  {
   "cell_type": "markdown",
   "metadata": {},
   "source": [
    "$$R=\\frac{(a+b)}{(a+b+c+d)}$$\n",
    "\n",
    "\n",
    "pertece al intervalo [0,1]"
   ]
  },
  {
   "cell_type": "markdown",
   "metadata": {},
   "source": [
    "Sea  S={ s_1, $\\ldots{}$, s_n }; X={ x_1, $\\ldots{}$, x_n } partición de S e Y={ y_1, $\\ldots{}$, y_n } partición de S, entonces:\n",
    "\n",
    "+ a:=nº de pares de elementos en S que están en el mismo subconjunto de X e Y\n",
    "+ b:=nº de pares de elementos en S que están en diferentes subconjuntos de X e Y\n",
    "+ c:=nº de pares de elementos en S que están en el mismo subconjunto de X e Y\n",
    "+ d:=nº de pares de elementos en S que están en el mismo subconjunto de X e Y\n",
    "\n",
    "\n",
    "\n",
    "https://es.wikipedia.org/wiki/Partici%C3%B3n_de_un_conjunto"
   ]
  },
  {
   "cell_type": "code",
   "execution_count": null,
   "metadata": {},
   "outputs": [],
   "source": []
  }
 ],
 "metadata": {
  "kernelspec": {
   "display_name": "Python 3",
   "language": "python",
   "name": "python3"
  },
  "language_info": {
   "codemirror_mode": {
    "name": "ipython",
    "version": 3
   },
   "file_extension": ".py",
   "mimetype": "text/x-python",
   "name": "python",
   "nbconvert_exporter": "python",
   "pygments_lexer": "ipython3",
   "version": "3.7.6"
  }
 },
 "nbformat": 4,
 "nbformat_minor": 2
}
