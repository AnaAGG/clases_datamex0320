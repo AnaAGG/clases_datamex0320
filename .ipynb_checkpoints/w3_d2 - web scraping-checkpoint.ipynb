{
 "cells": [
  {
   "cell_type": "markdown",
   "metadata": {},
   "source": [
    "# Scavengers chapter-1"
   ]
  },
  {
   "cell_type": "code",
   "execution_count": 1,
   "metadata": {},
   "outputs": [],
   "source": [
    "with open('token.txt', 'r') as f:\n",
    "    acceso=f.readlines()[0].split('=')\n",
    "\n",
    "user=acceso[0]\n",
    "key=acceso[1].rstrip('\\n')"
   ]
  },
  {
   "cell_type": "code",
   "execution_count": null,
   "metadata": {},
   "outputs": [],
   "source": [
    "# https://developer.github.com/v3/guides/"
   ]
  },
  {
   "cell_type": "code",
   "execution_count": 4,
   "metadata": {},
   "outputs": [],
   "source": [
    "import json\n",
    "import requests\n",
    "import pandas as pd\n",
    "import time"
   ]
  },
  {
   "cell_type": "code",
   "execution_count": 13,
   "metadata": {},
   "outputs": [],
   "source": [
    "repo='ironhack-datalabs/madrid-oct-2018'\n",
    "\n",
    "get_forks='http://api.github.com/repos/'+repo+'/forks'"
   ]
  },
  {
   "cell_type": "code",
   "execution_count": 14,
   "metadata": {},
   "outputs": [],
   "source": [
    "res_forks=requests.get(get_forks, auth=(user, key))\n",
    "\n",
    "res=res_forks.json()"
   ]
  },
  {
   "cell_type": "code",
   "execution_count": 15,
   "metadata": {},
   "outputs": [
    {
     "data": {
      "text/plain": [
       "dict_keys(['id', 'node_id', 'name', 'full_name', 'private', 'owner', 'html_url', 'description', 'fork', 'url', 'forks_url', 'keys_url', 'collaborators_url', 'teams_url', 'hooks_url', 'issue_events_url', 'events_url', 'assignees_url', 'branches_url', 'tags_url', 'blobs_url', 'git_tags_url', 'git_refs_url', 'trees_url', 'statuses_url', 'languages_url', 'stargazers_url', 'contributors_url', 'subscribers_url', 'subscription_url', 'commits_url', 'git_commits_url', 'comments_url', 'issue_comment_url', 'contents_url', 'compare_url', 'merges_url', 'archive_url', 'downloads_url', 'issues_url', 'pulls_url', 'milestones_url', 'notifications_url', 'labels_url', 'releases_url', 'deployments_url', 'created_at', 'updated_at', 'pushed_at', 'git_url', 'ssh_url', 'clone_url', 'svn_url', 'homepage', 'size', 'stargazers_count', 'watchers_count', 'language', 'has_issues', 'has_projects', 'has_downloads', 'has_wiki', 'has_pages', 'forks_count', 'mirror_url', 'archived', 'disabled', 'open_issues_count', 'license', 'forks', 'open_issues', 'watchers', 'default_branch', 'permissions'])"
      ]
     },
     "execution_count": 15,
     "metadata": {},
     "output_type": "execute_result"
    }
   ],
   "source": [
    "res[0].keys()"
   ]
  },
  {
   "cell_type": "code",
   "execution_count": 16,
   "metadata": {},
   "outputs": [
    {
     "data": {
      "text/plain": [
       "{'HTML', 'Jupyter Notebook', None}"
      ]
     },
     "execution_count": 16,
     "metadata": {},
     "output_type": "execute_result"
    }
   ],
   "source": [
    "lenguajes=set()\n",
    "\n",
    "for i in range(len(res)):\n",
    "    lenguajes.add(res[i]['language'])\n",
    "    \n",
    "lenguajes"
   ]
  },
  {
   "cell_type": "code",
   "execution_count": 17,
   "metadata": {},
   "outputs": [
    {
     "data": {
      "text/plain": [
       "{'HTML', 'Jupyter Notebook', None}"
      ]
     },
     "execution_count": 17,
     "metadata": {},
     "output_type": "execute_result"
    }
   ],
   "source": [
    "lenguajes=[]\n",
    "\n",
    "for i in range(len(res)):\n",
    "    lenguajes.append(res[i]['language'])\n",
    "    \n",
    "set(lenguajes)"
   ]
  },
  {
   "cell_type": "markdown",
   "metadata": {},
   "source": [
    "# scavengers chapter 2"
   ]
  },
  {
   "cell_type": "code",
   "execution_count": 24,
   "metadata": {},
   "outputs": [],
   "source": [
    "repo='YonatanRA/clases_datamex0320'\n",
    "\n",
    "desde='2020-03-27T00:00:00Z'\n",
    "hasta='2020-04-06T23:59:59Z'"
   ]
  },
  {
   "cell_type": "code",
   "execution_count": 25,
   "metadata": {},
   "outputs": [],
   "source": [
    "get_commits='http://api.github.com/repos/{}/commits?since={}&until={}'.format(repo, desde, hasta)"
   ]
  },
  {
   "cell_type": "code",
   "execution_count": 26,
   "metadata": {},
   "outputs": [],
   "source": [
    "res_commit=requests.get(get_commits, auth=(user, key))\n",
    "\n",
    "res=res_commit.json()"
   ]
  },
  {
   "cell_type": "code",
   "execution_count": 30,
   "metadata": {},
   "outputs": [
    {
     "data": {
      "text/plain": [
       "30"
      ]
     },
     "execution_count": 30,
     "metadata": {},
     "output_type": "execute_result"
    }
   ],
   "source": [
    "commit=[]\n",
    "\n",
    "for i in range(len(res)):\n",
    "    commit.append(res[i]['commit'])\n",
    "    \n",
    "len(commit)"
   ]
  },
  {
   "cell_type": "markdown",
   "metadata": {},
   "source": [
    "# scavengers chapter 3 V1"
   ]
  },
  {
   "cell_type": "code",
   "execution_count": 32,
   "metadata": {},
   "outputs": [],
   "source": [
    "repo='ironhack-datalabs/scavenger'"
   ]
  },
  {
   "cell_type": "code",
   "execution_count": 33,
   "metadata": {},
   "outputs": [],
   "source": [
    "get_repo='http://api.github.com/repos/{}/git/trees/master?recursive=1'.format(repo)"
   ]
  },
  {
   "cell_type": "code",
   "execution_count": 34,
   "metadata": {},
   "outputs": [],
   "source": [
    "get_repo=requests.get(get_repo, auth=(user, key))\n",
    "\n",
    "res=get_repo.json()"
   ]
  },
  {
   "cell_type": "code",
   "execution_count": 44,
   "metadata": {},
   "outputs": [
    {
     "data": {
      "text/plain": [
       "'15534/.0008.scavengerhunt'"
      ]
     },
     "execution_count": 44,
     "metadata": {},
     "output_type": "execute_result"
    }
   ],
   "source": [
    "res['tree'][7]['path']"
   ]
  },
  {
   "cell_type": "code",
   "execution_count": 45,
   "metadata": {},
   "outputs": [],
   "source": [
    "url='https://api.github.com/repos/ironhack-datalabs/scavenger/contents/'\n",
    "\n",
    "tree=res['tree']"
   ]
  },
  {
   "cell_type": "code",
   "execution_count": 48,
   "metadata": {},
   "outputs": [
    {
     "data": {
      "text/plain": [
       "[('.0006.scavengerhunt', 'b2YK\\n'),\n",
       " ('.0008.scavengerhunt', 'c3BlbnQK\\n'),\n",
       " ('.0012.scavengerhunt', 'MjAK\\n'),\n",
       " ('.0007.scavengerhunt', 'dGltZQo=\\n'),\n",
       " ('.0021.scavengerhunt', 'bmVlZAo=\\n'),\n",
       " ('.0022.scavengerhunt', 'dG8K\\n'),\n",
       " ('.0005.scavengerhunt', 'cGVyY2VudAo=\\n'),\n",
       " ('.0018.scavengerhunt', 'Y29tcGxhaW5pbmcK\\n'),\n",
       " ('.0016.scavengerhunt', 'aXMK\\n'),\n",
       " ('.0024.scavengerhunt', 'ZGF0YS4K\\n'),\n",
       " ('.0010.scavengerhunt', 'cHJlcGFyaW5nCg==\\n'),\n",
       " ('.0014.scavengerhunt', 'b2YK\\n'),\n",
       " ('.0011.scavengerhunt', 'ZGF0YSwK\\n'),\n",
       " ('.0023.scavengerhunt', 'cHJlcGFyZQo=\\n'),\n",
       " ('.0020.scavengerhunt', 'dGhlCg==\\n'),\n",
       " ('.0003.scavengerhunt', 'c2NpZW5jZSwK\\n'),\n",
       " ('.0004.scavengerhunt', 'ODAK\\n'),\n",
       " ('.0019.scavengerhunt', 'YWJvdXQK\\n'),\n",
       " ('.0017.scavengerhunt', 'c3BlbnQK\\n'),\n",
       " ('.0002.scavengerhunt', 'ZGF0YQo=\\n'),\n",
       " ('.0013.scavengerhunt', 'cGVyY2VudAo=\\n'),\n",
       " ('.0015.scavengerhunt', 'dGltZQo=\\n'),\n",
       " ('.0009.scavengerhunt', 'aXMK\\n'),\n",
       " ('.0001.scavengerhunt', 'SW4K\\n')]"
      ]
     },
     "execution_count": 48,
     "metadata": {},
     "output_type": "execute_result"
    }
   ],
   "source": [
    "archivos=[]\n",
    "\n",
    "for i in range(len(tree)):\n",
    "    if tree[i]['type']=='blob' and 'scavengerhunt' in tree[i]['path']:\n",
    "        # obtengo el path y el contenido del archivo\n",
    "        get_contenido=requests.get(url + tree[i]['path'], auth=(user, key))\n",
    "        contenido=get_contenido.json()\n",
    "        archivos.append((contenido['name'], contenido['content']))\n",
    "        time.sleep(1)\n",
    "        \n",
    "archivos"
   ]
  },
  {
   "cell_type": "code",
   "execution_count": 50,
   "metadata": {},
   "outputs": [
    {
     "data": {
      "text/plain": [
       "[('.0001.scavengerhunt', 'SW4K\\n'),\n",
       " ('.0002.scavengerhunt', 'ZGF0YQo=\\n'),\n",
       " ('.0003.scavengerhunt', 'c2NpZW5jZSwK\\n'),\n",
       " ('.0004.scavengerhunt', 'ODAK\\n'),\n",
       " ('.0005.scavengerhunt', 'cGVyY2VudAo=\\n'),\n",
       " ('.0006.scavengerhunt', 'b2YK\\n'),\n",
       " ('.0007.scavengerhunt', 'dGltZQo=\\n'),\n",
       " ('.0008.scavengerhunt', 'c3BlbnQK\\n'),\n",
       " ('.0009.scavengerhunt', 'aXMK\\n'),\n",
       " ('.0010.scavengerhunt', 'cHJlcGFyaW5nCg==\\n'),\n",
       " ('.0011.scavengerhunt', 'ZGF0YSwK\\n'),\n",
       " ('.0012.scavengerhunt', 'MjAK\\n'),\n",
       " ('.0013.scavengerhunt', 'cGVyY2VudAo=\\n'),\n",
       " ('.0014.scavengerhunt', 'b2YK\\n'),\n",
       " ('.0015.scavengerhunt', 'dGltZQo=\\n'),\n",
       " ('.0016.scavengerhunt', 'aXMK\\n'),\n",
       " ('.0017.scavengerhunt', 'c3BlbnQK\\n'),\n",
       " ('.0018.scavengerhunt', 'Y29tcGxhaW5pbmcK\\n'),\n",
       " ('.0019.scavengerhunt', 'YWJvdXQK\\n'),\n",
       " ('.0020.scavengerhunt', 'dGhlCg==\\n'),\n",
       " ('.0021.scavengerhunt', 'bmVlZAo=\\n'),\n",
       " ('.0022.scavengerhunt', 'dG8K\\n'),\n",
       " ('.0023.scavengerhunt', 'cHJlcGFyZQo=\\n'),\n",
       " ('.0024.scavengerhunt', 'ZGF0YS4K\\n')]"
      ]
     },
     "execution_count": 50,
     "metadata": {},
     "output_type": "execute_result"
    }
   ],
   "source": [
    "archivos.sort()\n",
    "\n",
    "archivos"
   ]
  },
  {
   "cell_type": "code",
   "execution_count": 51,
   "metadata": {},
   "outputs": [
    {
     "data": {
      "text/plain": [
       "'In data science, 80 percent of time spent is preparing data, 20 percent of time is spent complaining about the need to prepare data. '"
      ]
     },
     "execution_count": 51,
     "metadata": {},
     "output_type": "execute_result"
    }
   ],
   "source": [
    "import base64\n",
    "\n",
    "frase=''\n",
    "\n",
    "for texto in archivos:\n",
    "    frase+=str(base64.b64decode(texto[1]))\n",
    "    \n",
    "# La frase buscada es....\n",
    "\n",
    "frase=frase.replace('b\\'', '').replace('\\\\n\\'', ' ')\n",
    "\n",
    "frase"
   ]
  },
  {
   "cell_type": "markdown",
   "metadata": {},
   "source": [
    "# scavengers chater 3 V2"
   ]
  },
  {
   "cell_type": "code",
   "execution_count": 52,
   "metadata": {},
   "outputs": [],
   "source": [
    "def get_auth(url, headers={'Authorization': 'token {}'.format(key)}):\n",
    "    baseURL='https://api.github.com{}'.format(url)\n",
    "    res=requests.get(baseURL, headers=headers, auth=(user, key))\n",
    "    return res.json()"
   ]
  },
  {
   "cell_type": "code",
   "execution_count": 53,
   "metadata": {},
   "outputs": [],
   "source": [
    "data=get_auth('/search/code?q=extension:.scavengerhunt repo:ironhack-datalabs/scavenger')"
   ]
  },
  {
   "cell_type": "code",
   "execution_count": 57,
   "metadata": {},
   "outputs": [
    {
     "data": {
      "text/plain": [
       "'.0006.scavengerhunt'"
      ]
     },
     "execution_count": 57,
     "metadata": {},
     "output_type": "execute_result"
    }
   ],
   "source": [
    "data['items'][0]['name']"
   ]
  },
  {
   "cell_type": "code",
   "execution_count": 58,
   "metadata": {},
   "outputs": [
    {
     "data": {
      "text/plain": [
       "('.0008.scavengerhunt', '15534/.0008.scavengerhunt')"
      ]
     },
     "execution_count": 58,
     "metadata": {},
     "output_type": "execute_result"
    }
   ],
   "source": [
    "files=[(e['name'], e['path']) for e in data['items']]\n",
    "\n",
    "files[2]"
   ]
  },
  {
   "cell_type": "code",
   "execution_count": 59,
   "metadata": {},
   "outputs": [],
   "source": [
    "formated=[(e[0], 'https://githubusercontent.com/ironhack-datalabs/scavenger/master/{}'.format(e[1])) for e in files]"
   ]
  },
  {
   "cell_type": "code",
   "execution_count": 61,
   "metadata": {},
   "outputs": [
    {
     "data": {
      "text/plain": [
       "('.0006.scavengerhunt',\n",
       " 'https://githubusercontent.com/ironhack-datalabs/scavenger/master/15024/.0006.scavengerhunt')"
      ]
     },
     "execution_count": 61,
     "metadata": {},
     "output_type": "execute_result"
    }
   ],
   "source": [
    "formated[0]"
   ]
  },
  {
   "cell_type": "code",
   "execution_count": 63,
   "metadata": {},
   "outputs": [],
   "source": [
    "urls=[e[1] for e in sorted(formated, key=lambda x: x[0])]"
   ]
  },
  {
   "cell_type": "code",
   "execution_count": 65,
   "metadata": {},
   "outputs": [
    {
     "data": {
      "text/plain": [
       "'https://githubusercontent.com/ironhack-datalabs/scavenger/master/98750/.0001.scavengerhunt'"
      ]
     },
     "execution_count": 65,
     "metadata": {},
     "output_type": "execute_result"
    }
   ],
   "source": [
    "urls[0]"
   ]
  },
  {
   "cell_type": "code",
   "execution_count": 68,
   "metadata": {},
   "outputs": [],
   "source": [
    "#lst=[requests.get(e, auth=(user, key)).text for e in urls]"
   ]
  },
  {
   "cell_type": "code",
   "execution_count": 69,
   "metadata": {},
   "outputs": [],
   "source": [
    "#' '.join(lst)"
   ]
  },
  {
   "cell_type": "code",
   "execution_count": 70,
   "metadata": {},
   "outputs": [],
   "source": [
    "# ya no se puede asi"
   ]
  },
  {
   "cell_type": "markdown",
   "metadata": {},
   "source": [
    "# Web Scraping"
   ]
  },
  {
   "cell_type": "markdown",
   "metadata": {},
   "source": [
    "### Ejemplo reuters"
   ]
  },
  {
   "cell_type": "code",
   "execution_count": 71,
   "metadata": {},
   "outputs": [],
   "source": [
    "import requests"
   ]
  },
  {
   "cell_type": "code",
   "execution_count": 72,
   "metadata": {},
   "outputs": [],
   "source": [
    "url='https://www.reuters.com/article/us-shazam-m-a-apple-eu/apple-completes-deal-to-buy-shazam-idUSKCN1M4202'"
   ]
  },
  {
   "cell_type": "code",
   "execution_count": 75,
   "metadata": {},
   "outputs": [
    {
     "data": {
      "text/plain": [
       "b'<!--[if !IE]> This has NOT been served from cache <![endif]-->\\n<!--[if !IE]> Request served from apache server: prodie--i-0f6be8944140a23ce <![endif]-->\\n<!--[if !IE]> token: db756ecc-3542-47c3-8ea9-07216bbb08e6 <![endif]-->\\n<!--[if !IE]> App Server /prodie--i-0f6be8944140a23ce/ <![endif]-->\\n\\n<!doctype html><html lang=\"en\" data-edition=\"BETAUS\">\\n    <head>\\n\\n    <title>\\n                Apple completes deal to buy Shazam - Reuters</title>\\n        <meta http-equiv=\"X-UA-Compatible\" content=\"IE=edge\"><meta charset=\"utf-8\"><meta http-equiv=\"x-dns-prefetch-control\" content=\"on\"><link rel=\"dns-prefetc'"
      ]
     },
     "execution_count": 75,
     "metadata": {},
     "output_type": "execute_result"
    }
   ],
   "source": [
    "html=requests.get(url).content   # contenido\n",
    "p=html[:600].decode()            # de binario a str\n",
    "p.encode()"
   ]
  },
  {
   "cell_type": "code",
   "execution_count": 77,
   "metadata": {},
   "outputs": [
    {
     "name": "stdout",
     "output_type": "stream",
     "text": [
      "Requirement already satisfied: beautifulsoup4 in /Users/data/Library/Python/3.7/lib/python/site-packages (4.8.0)\n",
      "Requirement already satisfied: soupsieve>=1.2 in /Users/data/Library/Python/3.7/lib/python/site-packages (from beautifulsoup4) (1.9.3)\n"
     ]
    }
   ],
   "source": [
    "!pip3 install beautifulsoup4"
   ]
  },
  {
   "cell_type": "code",
   "execution_count": 78,
   "metadata": {},
   "outputs": [],
   "source": [
    "from bs4 import BeautifulSoup as bs"
   ]
  },
  {
   "cell_type": "code",
   "execution_count": 80,
   "metadata": {},
   "outputs": [],
   "source": [
    "soup=bs(html, 'lxml')\n",
    "# soup"
   ]
  },
  {
   "cell_type": "code",
   "execution_count": 81,
   "metadata": {},
   "outputs": [
    {
     "data": {
      "text/plain": [
       "bs4.BeautifulSoup"
      ]
     },
     "execution_count": 81,
     "metadata": {},
     "output_type": "execute_result"
    }
   ],
   "source": [
    "type(soup)"
   ]
  },
  {
   "cell_type": "code",
   "execution_count": 82,
   "metadata": {},
   "outputs": [],
   "source": [
    "tags=['h1', 'h2', 'h3', 'h4', 'h5', 'h6', 'h7', 'p']"
   ]
  },
  {
   "cell_type": "code",
   "execution_count": 86,
   "metadata": {},
   "outputs": [
    {
     "data": {
      "text/plain": [
       "['Apple completes deal to buy Shazam',\n",
       " '1 Min Read',\n",
       " '(Reuters) - Apple Inc has completed the acquisition of music discovery app Shazam, it said on Monday, weeks after the European Union approved the deal. ',\n",
       " 'The deal, announced in December last year, is expected to help the iPhone maker better compete with Spotify, the industry leader in music streaming services. ',\n",
       " 'Reporting by Sonam Rai in Bengaluru; Editing by Sai Sachin Ravikumar',\n",
       " 'All quotes delayed a minimum of 15 minutes. See here for a complete list of exchanges and delays.',\n",
       " '© 2020 Reuters. All Rights Reserved.']"
      ]
     },
     "execution_count": 86,
     "metadata": {},
     "output_type": "execute_result"
    }
   ],
   "source": [
    "text=[e.text for e in soup.find_all(tags)]\n",
    "\n",
    "text"
   ]
  },
  {
   "cell_type": "code",
   "execution_count": 87,
   "metadata": {},
   "outputs": [
    {
     "data": {
      "text/plain": [
       "str"
      ]
     },
     "execution_count": 87,
     "metadata": {},
     "output_type": "execute_result"
    }
   ],
   "source": [
    "type(text[0])"
   ]
  },
  {
   "cell_type": "code",
   "execution_count": 88,
   "metadata": {},
   "outputs": [
    {
     "data": {
      "text/plain": [
       "'Apple completes deal to buy Shazam\\n1 Min Read\\n(Reuters) - Apple Inc has completed the acquisition of music discovery app Shazam, it said on Monday, weeks after the European Union approved the deal. \\nThe deal, announced in December last year, is expected to help the iPhone maker better compete with Spotify, the industry leader in music streaming services. \\nReporting by Sonam Rai in Bengaluru; Editing by Sai Sachin Ravikumar\\nAll quotes delayed a minimum of 15 minutes. See here for a complete list of exchanges and delays.\\n© 2020 Reuters. All Rights Reserved.'"
      ]
     },
     "execution_count": 88,
     "metadata": {},
     "output_type": "execute_result"
    }
   ],
   "source": [
    "'\\n'.join(text)"
   ]
  },
  {
   "cell_type": "code",
   "execution_count": 89,
   "metadata": {},
   "outputs": [
    {
     "data": {
      "text/plain": [
       "'Apple completes deal to buy Shazam_1 Min Read_(Reuters) - Apple Inc has completed the acquisition of music discovery app Shazam, it said on Monday, weeks after the European Union approved the deal. _The deal, announced in December last year, is expected to help the iPhone maker better compete with Spotify, the industry leader in music streaming services. _Reporting by Sonam Rai in Bengaluru; Editing by Sai Sachin Ravikumar_All quotes delayed a minimum of 15 minutes. See here for a complete list of exchanges and delays._© 2020 Reuters. All Rights Reserved.'"
      ]
     },
     "execution_count": 89,
     "metadata": {},
     "output_type": "execute_result"
    }
   ],
   "source": [
    "'_'.join(text)"
   ]
  },
  {
   "cell_type": "markdown",
   "metadata": {},
   "source": [
    "### ejemplo wikipedia"
   ]
  },
  {
   "cell_type": "code",
   "execution_count": 90,
   "metadata": {},
   "outputs": [],
   "source": [
    "url='https://en.wikipedia.org/wiki/List_of_European_countries_by_life_expectancy'"
   ]
  },
  {
   "cell_type": "code",
   "execution_count": 92,
   "metadata": {},
   "outputs": [],
   "source": [
    "html=requests.get(url).content \n",
    "soup=bs(html, 'lxml')\n",
    "#soup"
   ]
  },
  {
   "cell_type": "code",
   "execution_count": 104,
   "metadata": {},
   "outputs": [
    {
     "data": {
      "text/plain": [
       "bs4.element.Tag"
      ]
     },
     "execution_count": 104,
     "metadata": {},
     "output_type": "execute_result"
    }
   ],
   "source": [
    "table=soup.find_all('table', {'class':'sortable wikitable'})[0]  # primera y unica tabla\n",
    "type(table)"
   ]
  },
  {
   "cell_type": "code",
   "execution_count": 106,
   "metadata": {},
   "outputs": [
    {
     "name": "stdout",
     "output_type": "stream",
     "text": [
      "[['Rank', '', 'Country', 'Life expectancy[1]'], ['1', '', '\\xa0Monaco[2]', '', '89.4'], ['2', '', '\\xa0San Marino[3]', '', '83.4']]\n"
     ]
    },
    {
     "data": {
      "text/plain": [
       "[['Rank', 'Country', 'Life expectancy[1]'],\n",
       " ['1', '\\xa0Monaco[2]', '89.4'],\n",
       " ['2', '\\xa0San Marino[3]', '83.4']]"
      ]
     },
     "execution_count": 106,
     "metadata": {},
     "output_type": "execute_result"
    }
   ],
   "source": [
    "rows=table.find_all('tr')\n",
    "rows=[r.text.strip().split('\\n') for r in rows]\n",
    "print (rows[:3])\n",
    "final=[]\n",
    "for e in rows:\n",
    "    tmp=[]\n",
    "    for st in e:\n",
    "        if st!='':\n",
    "            tmp.append(st)\n",
    "    final.append(tmp)\n",
    "    \n",
    "final[:3]"
   ]
  },
  {
   "cell_type": "code",
   "execution_count": 108,
   "metadata": {},
   "outputs": [
    {
     "data": {
      "text/html": [
       "<div>\n",
       "<style scoped>\n",
       "    .dataframe tbody tr th:only-of-type {\n",
       "        vertical-align: middle;\n",
       "    }\n",
       "\n",
       "    .dataframe tbody tr th {\n",
       "        vertical-align: top;\n",
       "    }\n",
       "\n",
       "    .dataframe thead th {\n",
       "        text-align: right;\n",
       "    }\n",
       "</style>\n",
       "<table border=\"1\" class=\"dataframe\">\n",
       "  <thead>\n",
       "    <tr style=\"text-align: right;\">\n",
       "      <th></th>\n",
       "      <th>Rank</th>\n",
       "      <th>Country</th>\n",
       "      <th>Life expectancy[1]</th>\n",
       "    </tr>\n",
       "  </thead>\n",
       "  <tbody>\n",
       "    <tr>\n",
       "      <td>0</td>\n",
       "      <td>1</td>\n",
       "      <td>Monaco[2]</td>\n",
       "      <td>89.4</td>\n",
       "    </tr>\n",
       "    <tr>\n",
       "      <td>1</td>\n",
       "      <td>2</td>\n",
       "      <td>San Marino[3]</td>\n",
       "      <td>83.4</td>\n",
       "    </tr>\n",
       "    <tr>\n",
       "      <td>2</td>\n",
       "      <td>3</td>\n",
       "      <td>Switzerland</td>\n",
       "      <td>83.0</td>\n",
       "    </tr>\n",
       "    <tr>\n",
       "      <td>3</td>\n",
       "      <td>4</td>\n",
       "      <td>Spain</td>\n",
       "      <td>82.8</td>\n",
       "    </tr>\n",
       "    <tr>\n",
       "      <td>4</td>\n",
       "      <td>5</td>\n",
       "      <td>Liechtenstein</td>\n",
       "      <td>82.7</td>\n",
       "    </tr>\n",
       "    <tr>\n",
       "      <td>5</td>\n",
       "      <td>6</td>\n",
       "      <td>Italy</td>\n",
       "      <td>82.5</td>\n",
       "    </tr>\n",
       "    <tr>\n",
       "      <td>6</td>\n",
       "      <td>7</td>\n",
       "      <td>Norway</td>\n",
       "      <td>82.5</td>\n",
       "    </tr>\n",
       "    <tr>\n",
       "      <td>7</td>\n",
       "      <td>8</td>\n",
       "      <td>Iceland</td>\n",
       "      <td>82.5</td>\n",
       "    </tr>\n",
       "    <tr>\n",
       "      <td>8</td>\n",
       "      <td>9</td>\n",
       "      <td>Luxembourg</td>\n",
       "      <td>82.3</td>\n",
       "    </tr>\n",
       "    <tr>\n",
       "      <td>9</td>\n",
       "      <td>10</td>\n",
       "      <td>France</td>\n",
       "      <td>82.3</td>\n",
       "    </tr>\n",
       "    <tr>\n",
       "      <td>10</td>\n",
       "      <td>11</td>\n",
       "      <td>Sweden</td>\n",
       "      <td>82.2</td>\n",
       "    </tr>\n",
       "    <tr>\n",
       "      <td>11</td>\n",
       "      <td>12</td>\n",
       "      <td>Malta</td>\n",
       "      <td>81.8</td>\n",
       "    </tr>\n",
       "    <tr>\n",
       "      <td>12</td>\n",
       "      <td>13</td>\n",
       "      <td>Finland</td>\n",
       "      <td>81.8</td>\n",
       "    </tr>\n",
       "    <tr>\n",
       "      <td>13</td>\n",
       "      <td>14</td>\n",
       "      <td>Ireland</td>\n",
       "      <td>81.6</td>\n",
       "    </tr>\n",
       "    <tr>\n",
       "      <td>14</td>\n",
       "      <td>15</td>\n",
       "      <td>Netherlands</td>\n",
       "      <td>81.5</td>\n",
       "    </tr>\n",
       "    <tr>\n",
       "      <td>15</td>\n",
       "      <td>16</td>\n",
       "      <td>Portugal</td>\n",
       "      <td>81.1</td>\n",
       "    </tr>\n",
       "    <tr>\n",
       "      <td>16</td>\n",
       "      <td>17</td>\n",
       "      <td>Greece</td>\n",
       "      <td>81.0</td>\n",
       "    </tr>\n",
       "    <tr>\n",
       "      <td>17</td>\n",
       "      <td>18</td>\n",
       "      <td>United Kingdom</td>\n",
       "      <td>81.0</td>\n",
       "    </tr>\n",
       "    <tr>\n",
       "      <td>18</td>\n",
       "      <td>19</td>\n",
       "      <td>Belgium</td>\n",
       "      <td>81.0</td>\n",
       "    </tr>\n",
       "    <tr>\n",
       "      <td>19</td>\n",
       "      <td>20</td>\n",
       "      <td>Austria</td>\n",
       "      <td>80.9</td>\n",
       "    </tr>\n",
       "    <tr>\n",
       "      <td>20</td>\n",
       "      <td>21</td>\n",
       "      <td>Slovenia</td>\n",
       "      <td>80.8</td>\n",
       "    </tr>\n",
       "    <tr>\n",
       "      <td>21</td>\n",
       "      <td>22</td>\n",
       "      <td>Denmark</td>\n",
       "      <td>80.7</td>\n",
       "    </tr>\n",
       "    <tr>\n",
       "      <td>22</td>\n",
       "      <td>23</td>\n",
       "      <td>Germany</td>\n",
       "      <td>80.6</td>\n",
       "    </tr>\n",
       "    <tr>\n",
       "      <td>23</td>\n",
       "      <td>24</td>\n",
       "      <td>Cyprus</td>\n",
       "      <td>80.5</td>\n",
       "    </tr>\n",
       "    <tr>\n",
       "      <td>24</td>\n",
       "      <td>25</td>\n",
       "      <td>Albania</td>\n",
       "      <td>78.3</td>\n",
       "    </tr>\n",
       "    <tr>\n",
       "      <td>25</td>\n",
       "      <td>26</td>\n",
       "      <td>Czech Republic</td>\n",
       "      <td>78.3</td>\n",
       "    </tr>\n",
       "    <tr>\n",
       "      <td>26</td>\n",
       "      <td>27</td>\n",
       "      <td>Croatia</td>\n",
       "      <td>78.0</td>\n",
       "    </tr>\n",
       "    <tr>\n",
       "      <td>27</td>\n",
       "      <td>28</td>\n",
       "      <td>Estonia</td>\n",
       "      <td>77.7</td>\n",
       "    </tr>\n",
       "    <tr>\n",
       "      <td>28</td>\n",
       "      <td>29</td>\n",
       "      <td>Poland</td>\n",
       "      <td>77.5</td>\n",
       "    </tr>\n",
       "    <tr>\n",
       "      <td>29</td>\n",
       "      <td>30</td>\n",
       "      <td>Montenegro</td>\n",
       "      <td>77.1</td>\n",
       "    </tr>\n",
       "    <tr>\n",
       "      <td>30</td>\n",
       "      <td>31</td>\n",
       "      <td>Bosnia and Herzegovina</td>\n",
       "      <td>76.9</td>\n",
       "    </tr>\n",
       "    <tr>\n",
       "      <td>31</td>\n",
       "      <td>32</td>\n",
       "      <td>Slovakia</td>\n",
       "      <td>76.6</td>\n",
       "    </tr>\n",
       "    <tr>\n",
       "      <td>32</td>\n",
       "      <td>33</td>\n",
       "      <td>Turkey</td>\n",
       "      <td>75.8</td>\n",
       "    </tr>\n",
       "    <tr>\n",
       "      <td>33</td>\n",
       "      <td>34</td>\n",
       "      <td>North Macedonia</td>\n",
       "      <td>75.7</td>\n",
       "    </tr>\n",
       "    <tr>\n",
       "      <td>34</td>\n",
       "      <td>35</td>\n",
       "      <td>Hungary</td>\n",
       "      <td>75.6</td>\n",
       "    </tr>\n",
       "    <tr>\n",
       "      <td>35</td>\n",
       "      <td>36</td>\n",
       "      <td>Serbia</td>\n",
       "      <td>75.2</td>\n",
       "    </tr>\n",
       "    <tr>\n",
       "      <td>36</td>\n",
       "      <td>37</td>\n",
       "      <td>Romania</td>\n",
       "      <td>75.0</td>\n",
       "    </tr>\n",
       "    <tr>\n",
       "      <td>37</td>\n",
       "      <td>38</td>\n",
       "      <td>Bulgaria</td>\n",
       "      <td>74.6</td>\n",
       "    </tr>\n",
       "    <tr>\n",
       "      <td>38</td>\n",
       "      <td>39</td>\n",
       "      <td>Latvia</td>\n",
       "      <td>74.5</td>\n",
       "    </tr>\n",
       "    <tr>\n",
       "      <td>39</td>\n",
       "      <td>40</td>\n",
       "      <td>Lithuania</td>\n",
       "      <td>74.3</td>\n",
       "    </tr>\n",
       "    <tr>\n",
       "      <td>40</td>\n",
       "      <td>41</td>\n",
       "      <td>Belarus</td>\n",
       "      <td>73.8</td>\n",
       "    </tr>\n",
       "    <tr>\n",
       "      <td>41</td>\n",
       "      <td>42</td>\n",
       "      <td>Kazakhstan</td>\n",
       "      <td>72.3</td>\n",
       "    </tr>\n",
       "    <tr>\n",
       "      <td>42</td>\n",
       "      <td>43</td>\n",
       "      <td>Moldova</td>\n",
       "      <td>71.6</td>\n",
       "    </tr>\n",
       "    <tr>\n",
       "      <td>43</td>\n",
       "      <td>44</td>\n",
       "      <td>Russia</td>\n",
       "      <td>71.6</td>\n",
       "    </tr>\n",
       "    <tr>\n",
       "      <td>44</td>\n",
       "      <td>45</td>\n",
       "      <td>Ukraine</td>\n",
       "      <td>71.5</td>\n",
       "    </tr>\n",
       "  </tbody>\n",
       "</table>\n",
       "</div>"
      ],
      "text/plain": [
       "   Rank                  Country Life expectancy[1]\n",
       "0     1                Monaco[2]               89.4\n",
       "1     2            San Marino[3]               83.4\n",
       "2     3              Switzerland               83.0\n",
       "3     4                    Spain               82.8\n",
       "4     5            Liechtenstein               82.7\n",
       "5     6                    Italy               82.5\n",
       "6     7                   Norway               82.5\n",
       "7     8                  Iceland               82.5\n",
       "8     9               Luxembourg               82.3\n",
       "9    10                   France               82.3\n",
       "10   11                   Sweden               82.2\n",
       "11   12                    Malta               81.8\n",
       "12   13                  Finland               81.8\n",
       "13   14                  Ireland               81.6\n",
       "14   15              Netherlands               81.5\n",
       "15   16                 Portugal               81.1\n",
       "16   17                   Greece               81.0\n",
       "17   18           United Kingdom               81.0\n",
       "18   19                  Belgium               81.0\n",
       "19   20                  Austria               80.9\n",
       "20   21                 Slovenia               80.8\n",
       "21   22                  Denmark               80.7\n",
       "22   23                  Germany               80.6\n",
       "23   24                   Cyprus               80.5\n",
       "24   25                  Albania               78.3\n",
       "25   26           Czech Republic               78.3\n",
       "26   27                  Croatia               78.0\n",
       "27   28                  Estonia               77.7\n",
       "28   29                   Poland               77.5\n",
       "29   30               Montenegro               77.1\n",
       "30   31   Bosnia and Herzegovina               76.9\n",
       "31   32                 Slovakia               76.6\n",
       "32   33                   Turkey               75.8\n",
       "33   34          North Macedonia               75.7\n",
       "34   35                  Hungary               75.6\n",
       "35   36                   Serbia               75.2\n",
       "36   37                  Romania               75.0\n",
       "37   38                 Bulgaria               74.6\n",
       "38   39                   Latvia               74.5\n",
       "39   40                Lithuania               74.3\n",
       "40   41                  Belarus               73.8\n",
       "41   42               Kazakhstan               72.3\n",
       "42   43                  Moldova               71.6\n",
       "43   44                   Russia               71.6\n",
       "44   45                  Ukraine               71.5"
      ]
     },
     "execution_count": 108,
     "metadata": {},
     "output_type": "execute_result"
    }
   ],
   "source": [
    "import pandas as pd\n",
    "\n",
    "col_names=final[0]\n",
    "data=final[1:]\n",
    "\n",
    "df=pd.DataFrame(data, columns=col_names)\n",
    "df"
   ]
  },
  {
   "cell_type": "markdown",
   "metadata": {},
   "source": [
    "### ejemplo wikipedia 2"
   ]
  },
  {
   "cell_type": "code",
   "execution_count": 109,
   "metadata": {},
   "outputs": [],
   "source": [
    "url='https://es.wikipedia.org/wiki/Juegos_Ol%C3%ADmpicos_de_Barcelona_1992'\n",
    "res=requests.get(url)"
   ]
  },
  {
   "cell_type": "code",
   "execution_count": 111,
   "metadata": {},
   "outputs": [],
   "source": [
    "data=res.text\n",
    "soup=bs(data, 'html.parser')\n",
    "#soup"
   ]
  },
  {
   "cell_type": "code",
   "execution_count": 117,
   "metadata": {},
   "outputs": [],
   "source": [
    "tables=soup.find_all('table')\n",
    "ultima=tables[-1]\n",
    "#ultima"
   ]
  },
  {
   "cell_type": "code",
   "execution_count": 118,
   "metadata": {},
   "outputs": [
    {
     "data": {
      "text/plain": [
       "<a href=\"/wiki/Ayuda:Control_de_autoridades\" title=\"Ayuda:Control de autoridades\">Control de autoridades</a>"
      ]
     },
     "execution_count": 118,
     "metadata": {},
     "output_type": "execute_result"
    }
   ],
   "source": [
    "elem=ultima.find_all('a')[0]\n",
    "elem"
   ]
  },
  {
   "cell_type": "code",
   "execution_count": 119,
   "metadata": {},
   "outputs": [
    {
     "data": {
      "text/plain": [
       "'Control de autoridades'"
      ]
     },
     "execution_count": 119,
     "metadata": {},
     "output_type": "execute_result"
    }
   ],
   "source": [
    "elem.text  # contenido de la caja, en este caso texto"
   ]
  },
  {
   "cell_type": "code",
   "execution_count": 126,
   "metadata": {},
   "outputs": [
    {
     "name": "stdout",
     "output_type": "stream",
     "text": [
      "['Control de autoridades']\n"
     ]
    }
   ],
   "source": [
    "print(elem.contents)  # contenido comom lista"
   ]
  },
  {
   "cell_type": "code",
   "execution_count": 123,
   "metadata": {},
   "outputs": [
    {
     "data": {
      "text/plain": [
       "{'href': '/wiki/Ayuda:Control_de_autoridades',\n",
       " 'title': 'Ayuda:Control de autoridades'}"
      ]
     },
     "execution_count": 123,
     "metadata": {},
     "output_type": "execute_result"
    }
   ],
   "source": [
    "elem.attrs  # sticker en la tapa de la caja"
   ]
  },
  {
   "cell_type": "code",
   "execution_count": 127,
   "metadata": {},
   "outputs": [
    {
     "data": {
      "text/plain": [
       "'/wiki/Ayuda:Control_de_autoridades'"
      ]
     },
     "execution_count": 127,
     "metadata": {},
     "output_type": "execute_result"
    }
   ],
   "source": [
    "elem.attrs['href']"
   ]
  },
  {
   "cell_type": "code",
   "execution_count": 129,
   "metadata": {},
   "outputs": [],
   "source": [
    "medallero=soup.find_all('table')[-4]\n",
    "#medallero"
   ]
  },
  {
   "cell_type": "code",
   "execution_count": 130,
   "metadata": {},
   "outputs": [
    {
     "data": {
      "text/plain": [
       "[{'nombre': 'Equipo Unificado', 'oros': 45, 'platas': 38, 'bronces': 29},\n",
       " {'nombre': 'Estados Unidos', 'oros': 37, 'platas': 34, 'bronces': 37},\n",
       " {'nombre': 'Alemania', 'oros': 33, 'platas': 21, 'bronces': 28},\n",
       " {'nombre': 'China', 'oros': 16, 'platas': 22, 'bronces': 16},\n",
       " {'nombre': 'Cuba', 'oros': 14, 'platas': 6, 'bronces': 11},\n",
       " {'nombre': 'España', 'oros': 13, 'platas': 7, 'bronces': 2},\n",
       " {'nombre': 'Corea del Sur', 'oros': 12, 'platas': 5, 'bronces': 12},\n",
       " {'nombre': 'Hungría', 'oros': 11, 'platas': 12, 'bronces': 7},\n",
       " {'nombre': 'Francia', 'oros': 8, 'platas': 5, 'bronces': 16},\n",
       " {'nombre': 'Australia', 'oros': 7, 'platas': 9, 'bronces': 11}]"
      ]
     },
     "execution_count": 130,
     "metadata": {},
     "output_type": "execute_result"
    }
   ],
   "source": [
    "med_paises=[]\n",
    "\n",
    "for f in medallero.find_all('tr'):  # lista de filas de la tabla\n",
    "    fila=[e for e in f.find_all('td')]  # elementos dentro de la fila\n",
    "    if len(fila)>0:\n",
    "        pais={'nombre': fila[1].find('a').text.strip(),\n",
    "              'oros':int(fila[2].text),\n",
    "              'platas':int(fila[3].text),\n",
    "              'bronces':int(fila[4].text),}\n",
    "        med_paises.append(pais)\n",
    "        \n",
    "med_paises"
   ]
  },
  {
   "cell_type": "code",
   "execution_count": 132,
   "metadata": {},
   "outputs": [
    {
     "data": {
      "text/html": [
       "<div>\n",
       "<style scoped>\n",
       "    .dataframe tbody tr th:only-of-type {\n",
       "        vertical-align: middle;\n",
       "    }\n",
       "\n",
       "    .dataframe tbody tr th {\n",
       "        vertical-align: top;\n",
       "    }\n",
       "\n",
       "    .dataframe thead th {\n",
       "        text-align: right;\n",
       "    }\n",
       "</style>\n",
       "<table border=\"1\" class=\"dataframe\">\n",
       "  <thead>\n",
       "    <tr style=\"text-align: right;\">\n",
       "      <th></th>\n",
       "      <th>nombre</th>\n",
       "      <th>oros</th>\n",
       "      <th>platas</th>\n",
       "      <th>bronces</th>\n",
       "    </tr>\n",
       "  </thead>\n",
       "  <tbody>\n",
       "    <tr>\n",
       "      <td>0</td>\n",
       "      <td>Equipo Unificado</td>\n",
       "      <td>45</td>\n",
       "      <td>38</td>\n",
       "      <td>29</td>\n",
       "    </tr>\n",
       "    <tr>\n",
       "      <td>1</td>\n",
       "      <td>Estados Unidos</td>\n",
       "      <td>37</td>\n",
       "      <td>34</td>\n",
       "      <td>37</td>\n",
       "    </tr>\n",
       "    <tr>\n",
       "      <td>2</td>\n",
       "      <td>Alemania</td>\n",
       "      <td>33</td>\n",
       "      <td>21</td>\n",
       "      <td>28</td>\n",
       "    </tr>\n",
       "    <tr>\n",
       "      <td>3</td>\n",
       "      <td>China</td>\n",
       "      <td>16</td>\n",
       "      <td>22</td>\n",
       "      <td>16</td>\n",
       "    </tr>\n",
       "    <tr>\n",
       "      <td>4</td>\n",
       "      <td>Cuba</td>\n",
       "      <td>14</td>\n",
       "      <td>6</td>\n",
       "      <td>11</td>\n",
       "    </tr>\n",
       "    <tr>\n",
       "      <td>5</td>\n",
       "      <td>España</td>\n",
       "      <td>13</td>\n",
       "      <td>7</td>\n",
       "      <td>2</td>\n",
       "    </tr>\n",
       "    <tr>\n",
       "      <td>6</td>\n",
       "      <td>Corea del Sur</td>\n",
       "      <td>12</td>\n",
       "      <td>5</td>\n",
       "      <td>12</td>\n",
       "    </tr>\n",
       "    <tr>\n",
       "      <td>7</td>\n",
       "      <td>Hungría</td>\n",
       "      <td>11</td>\n",
       "      <td>12</td>\n",
       "      <td>7</td>\n",
       "    </tr>\n",
       "    <tr>\n",
       "      <td>8</td>\n",
       "      <td>Francia</td>\n",
       "      <td>8</td>\n",
       "      <td>5</td>\n",
       "      <td>16</td>\n",
       "    </tr>\n",
       "    <tr>\n",
       "      <td>9</td>\n",
       "      <td>Australia</td>\n",
       "      <td>7</td>\n",
       "      <td>9</td>\n",
       "      <td>11</td>\n",
       "    </tr>\n",
       "  </tbody>\n",
       "</table>\n",
       "</div>"
      ],
      "text/plain": [
       "             nombre  oros  platas  bronces\n",
       "0  Equipo Unificado    45      38       29\n",
       "1    Estados Unidos    37      34       37\n",
       "2          Alemania    33      21       28\n",
       "3             China    16      22       16\n",
       "4              Cuba    14       6       11\n",
       "5            España    13       7        2\n",
       "6     Corea del Sur    12       5       12\n",
       "7           Hungría    11      12        7\n",
       "8           Francia     8       5       16\n",
       "9         Australia     7       9       11"
      ]
     },
     "execution_count": 132,
     "metadata": {},
     "output_type": "execute_result"
    }
   ],
   "source": [
    "df=pd.DataFrame(med_paises)\n",
    "df"
   ]
  },
  {
   "cell_type": "code",
   "execution_count": 134,
   "metadata": {},
   "outputs": [
    {
     "data": {
      "text/plain": [
       "196"
      ]
     },
     "execution_count": 134,
     "metadata": {},
     "output_type": "execute_result"
    }
   ],
   "source": [
    "df.oros.sum()"
   ]
  },
  {
   "cell_type": "code",
   "execution_count": 147,
   "metadata": {},
   "outputs": [
    {
     "data": {
      "text/plain": [
       "'Equipo Unificado'"
      ]
     },
     "execution_count": 147,
     "metadata": {},
     "output_type": "execute_result"
    }
   ],
   "source": [
    "medallero.find_all('tr')[1].find_all('td')[1].find('a').text.strip()"
   ]
  },
  {
   "cell_type": "markdown",
   "metadata": {},
   "source": [
    "### ejemplo wikipedia 3"
   ]
  },
  {
   "cell_type": "code",
   "execution_count": null,
   "metadata": {},
   "outputs": [],
   "source": []
  }
 ],
 "metadata": {
  "kernelspec": {
   "display_name": "Python 3",
   "language": "python",
   "name": "python3"
  },
  "language_info": {
   "codemirror_mode": {
    "name": "ipython",
    "version": 3
   },
   "file_extension": ".py",
   "mimetype": "text/x-python",
   "name": "python",
   "nbconvert_exporter": "python",
   "pygments_lexer": "ipython3",
   "version": "3.7.6"
  }
 },
 "nbformat": 4,
 "nbformat_minor": 2
}
