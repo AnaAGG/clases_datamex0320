{
 "cells": [
  {
   "cell_type": "markdown",
   "metadata": {},
   "source": [
    "# PCA  (análisis de componente principal)\n",
    "\n",
    "**PCA** es una transformación lineal usada para reducir dimensiones en los datos.\n",
    "\n",
    "¿Por qué reducir dimensiones?\n",
    "\n",
    "Existen varias razones, entre ellas:\n",
    "+ Mejora de la performance\n",
    "+ Mejor manejo de la dispersión de los datos\n",
    "+ Maldición de las dimensiones (ojo-también existe la bendición)\n",
    "+ etc...\n",
    "\n",
    "\n",
    "Hay dos maneras diferentes de hacer ésta transformación:\n",
    "\n",
    "+ A través de la matriz de correlaciones (dimensiones no homogéneas)\n",
    "+ A través de la matriz de covarianzas (dimensiones homogéneas)\n",
    "\n",
    "Ambas matrices son simétricas y diagonalizables. De hecho, el Teorema Espectral dice que si una matriz es hermítica, cuadrada y de dimensión finita, entonces existe una base de vectores propios donde dicha matriz puede ser representada.\n",
    "Esto quiere decir que podemos cambiar de base para después proyectar, reduciendo las dimensiones e intentando conservar la máxima información en el nuevo subespacio."
   ]
  },
  {
   "cell_type": "markdown",
   "metadata": {},
   "source": [
    "![gio1](data/gioconda.jpeg)\n",
    "![gio2](data/gioconda_lego.png)"
   ]
  },
  {
   "cell_type": "markdown",
   "metadata": {},
   "source": [
    "### Ejemplo intuitivo"
   ]
  },
  {
   "cell_type": "code",
   "execution_count": 1,
   "metadata": {},
   "outputs": [],
   "source": [
    "import matplotlib.pyplot as plt\n",
    "%matplotlib inline"
   ]
  },
  {
   "cell_type": "code",
   "execution_count": 2,
   "metadata": {},
   "outputs": [
    {
     "data": {
      "image/png": "[encoded data removed]",
      "text/plain": [
       "<Figure size 720x360 with 1 Axes>"
      ]
     },
     "metadata": {
      "needs_background": "light"
     },
     "output_type": "display_data"
    }
   ],
   "source": [
    "plt.figure(figsize=(10, 5))\n",
    "plt.scatter([i for i in range(15)],\n",
    "            [i+1 if i%2==0 else i-1 for i in range(15)])\n",
    "\n",
    "plt.quiver(7, 7, 9, 4, color='r', scale=20)\n",
    "plt.quiver(7, 7, -9, -4, color='r', scale=20)\n",
    "plt.plot(7, 8, marker='$PC1$', ms=30, color='r')\n",
    "\n",
    "plt.quiver(9, 9, -5, 4, color='b', scale=40)\n",
    "plt.quiver(9, 9, 5, -4, color='b', scale=40)\n",
    "plt.plot(8, 12, marker='$PC2$', ms=30, color='b');"
   ]
  },
  {
   "cell_type": "markdown",
   "metadata": {},
   "source": [
    "Se rota y se proyecta, resultando:"
   ]
  },
  {
   "cell_type": "code",
   "execution_count": 3,
   "metadata": {},
   "outputs": [
    {
     "data": {
      "image/png": "[encoded data removed]",
      "text/plain": [
       "<Figure size 720x360 with 1 Axes>"
      ]
     },
     "metadata": {
      "needs_background": "light"
     },
     "output_type": "display_data"
    }
   ],
   "source": [
    "plt.figure(figsize=(10, 5))\n",
    "plt.scatter([i for i in range(15)],\n",
    "            [6 for i in range(15)])\n",
    "\n",
    "plt.quiver(7, 6, 7, 0, color='r', scale=20)\n",
    "plt.quiver(7, 6, -7, 0, color='r', scale=20)\n",
    "plt.plot(7, 6.25, marker='$PC1$', ms=30, color='r');"
   ]
  },
  {
   "cell_type": "markdown",
   "metadata": {},
   "source": [
    "**Combinacion lineal**\n",
    "\n",
    "v1> vector 1\n",
    "v2> vector 2\n",
    "\n",
    "comb lineal = 2*v1> - 4*v2>\n",
    "\n",
    "**Combinacion no lineal**\n",
    "\n",
    "comb no lineal = 2*v1>*v2>"
   ]
  },
  {
   "cell_type": "markdown",
   "metadata": {},
   "source": [
    "##### Resumen PCA\n",
    "\n",
    "+ Normalización de los datos\n",
    "+ Obtener base de vectores propios desde matriz de correlacion o covarianza\n",
    "+ Ordenar los vectores propios de mayor a menor según sus dimensiones en el nuevo subespacio\n",
    "+ Matriz de proyección, con los autovectores seleccionados (W)\n",
    "+ Se transforma X (los datos) según W (matriz de proyección)"
   ]
  },
  {
   "cell_type": "code",
   "execution_count": 4,
   "metadata": {},
   "outputs": [],
   "source": [
    "import pandas as pd\n",
    "import numpy as np\n",
    "\n",
    "from sklearn.preprocessing import StandardScaler, MinMaxScaler  # normalizacion\n",
    "\n",
    "from sklearn.decomposition import PCA    # PCA\n",
    "\n",
    "import warnings\n",
    "warnings.simplefilter('ignore')"
   ]
  },
  {
   "cell_type": "code",
   "execution_count": 5,
   "metadata": {},
   "outputs": [
    {
     "data": {
      "text/html": [
       "<div>\n",
       "<style scoped>\n",
       "    .dataframe tbody tr th:only-of-type {\n",
       "        vertical-align: middle;\n",
       "    }\n",
       "\n",
       "    .dataframe tbody tr th {\n",
       "        vertical-align: top;\n",
       "    }\n",
       "\n",
       "    .dataframe thead th {\n",
       "        text-align: right;\n",
       "    }\n",
       "</style>\n",
       "<table border=\"1\" class=\"dataframe\">\n",
       "  <thead>\n",
       "    <tr style=\"text-align: right;\">\n",
       "      <th></th>\n",
       "      <th>Mean of the integrated profile</th>\n",
       "      <th>Standard deviation of the integrated profile</th>\n",
       "      <th>Excess kurtosis of the integrated profile</th>\n",
       "      <th>Skewness of the integrated profile</th>\n",
       "      <th>Mean of the DM-SNR curve</th>\n",
       "      <th>Standard deviation of the DM-SNR curve</th>\n",
       "      <th>Excess kurtosis of the DM-SNR curve</th>\n",
       "      <th>Skewness of the DM-SNR curve</th>\n",
       "      <th>target_class</th>\n",
       "    </tr>\n",
       "  </thead>\n",
       "  <tbody>\n",
       "    <tr>\n",
       "      <td>0</td>\n",
       "      <td>140.562500</td>\n",
       "      <td>55.683782</td>\n",
       "      <td>-0.234571</td>\n",
       "      <td>-0.699648</td>\n",
       "      <td>3.199833</td>\n",
       "      <td>19.110426</td>\n",
       "      <td>7.975532</td>\n",
       "      <td>74.242225</td>\n",
       "      <td>0</td>\n",
       "    </tr>\n",
       "    <tr>\n",
       "      <td>1</td>\n",
       "      <td>102.507812</td>\n",
       "      <td>58.882430</td>\n",
       "      <td>0.465318</td>\n",
       "      <td>-0.515088</td>\n",
       "      <td>1.677258</td>\n",
       "      <td>14.860146</td>\n",
       "      <td>10.576487</td>\n",
       "      <td>127.393580</td>\n",
       "      <td>0</td>\n",
       "    </tr>\n",
       "    <tr>\n",
       "      <td>2</td>\n",
       "      <td>103.015625</td>\n",
       "      <td>39.341649</td>\n",
       "      <td>0.323328</td>\n",
       "      <td>1.051164</td>\n",
       "      <td>3.121237</td>\n",
       "      <td>21.744669</td>\n",
       "      <td>7.735822</td>\n",
       "      <td>63.171909</td>\n",
       "      <td>0</td>\n",
       "    </tr>\n",
       "    <tr>\n",
       "      <td>3</td>\n",
       "      <td>136.750000</td>\n",
       "      <td>57.178449</td>\n",
       "      <td>-0.068415</td>\n",
       "      <td>-0.636238</td>\n",
       "      <td>3.642977</td>\n",
       "      <td>20.959280</td>\n",
       "      <td>6.896499</td>\n",
       "      <td>53.593661</td>\n",
       "      <td>0</td>\n",
       "    </tr>\n",
       "    <tr>\n",
       "      <td>4</td>\n",
       "      <td>88.726562</td>\n",
       "      <td>40.672225</td>\n",
       "      <td>0.600866</td>\n",
       "      <td>1.123492</td>\n",
       "      <td>1.178930</td>\n",
       "      <td>11.468720</td>\n",
       "      <td>14.269573</td>\n",
       "      <td>252.567306</td>\n",
       "      <td>0</td>\n",
       "    </tr>\n",
       "  </tbody>\n",
       "</table>\n",
       "</div>"
      ],
      "text/plain": [
       "    Mean of the integrated profile  \\\n",
       "0                       140.562500   \n",
       "1                       102.507812   \n",
       "2                       103.015625   \n",
       "3                       136.750000   \n",
       "4                        88.726562   \n",
       "\n",
       "    Standard deviation of the integrated profile  \\\n",
       "0                                      55.683782   \n",
       "1                                      58.882430   \n",
       "2                                      39.341649   \n",
       "3                                      57.178449   \n",
       "4                                      40.672225   \n",
       "\n",
       "    Excess kurtosis of the integrated profile  \\\n",
       "0                                   -0.234571   \n",
       "1                                    0.465318   \n",
       "2                                    0.323328   \n",
       "3                                   -0.068415   \n",
       "4                                    0.600866   \n",
       "\n",
       "    Skewness of the integrated profile   Mean of the DM-SNR curve  \\\n",
       "0                            -0.699648                   3.199833   \n",
       "1                            -0.515088                   1.677258   \n",
       "2                             1.051164                   3.121237   \n",
       "3                            -0.636238                   3.642977   \n",
       "4                             1.123492                   1.178930   \n",
       "\n",
       "    Standard deviation of the DM-SNR curve  \\\n",
       "0                                19.110426   \n",
       "1                                14.860146   \n",
       "2                                21.744669   \n",
       "3                                20.959280   \n",
       "4                                11.468720   \n",
       "\n",
       "    Excess kurtosis of the DM-SNR curve   Skewness of the DM-SNR curve  \\\n",
       "0                              7.975532                      74.242225   \n",
       "1                             10.576487                     127.393580   \n",
       "2                              7.735822                      63.171909   \n",
       "3                              6.896499                      53.593661   \n",
       "4                             14.269573                     252.567306   \n",
       "\n",
       "   target_class  \n",
       "0             0  \n",
       "1             0  \n",
       "2             0  \n",
       "3             0  \n",
       "4             0  "
      ]
     },
     "execution_count": 5,
     "metadata": {},
     "output_type": "execute_result"
    }
   ],
   "source": [
    "data=pd.read_csv('data/pulsar_stars.csv')\n",
    "data.head()"
   ]
  },
  {
   "cell_type": "code",
   "execution_count": 6,
   "metadata": {},
   "outputs": [],
   "source": [
    "data=data.drop(columns=['target_class'])"
   ]
  },
  {
   "cell_type": "markdown",
   "metadata": {},
   "source": [
    "#### normalización\n",
    "\n",
    "Recordemos, el primer paso de PCA es la normalización de los datos. \n",
    "\n",
    "Primero, veamos la 'standarización'   ($N(\\mu, \\sigma)$):\n",
    "\n",
    "$$\\frac{x-\\mu}{\\frac{\\sigma}{\\sqrt{n}}}$$"
   ]
  },
  {
   "cell_type": "code",
   "execution_count": 7,
   "metadata": {},
   "outputs": [
    {
     "data": {
      "text/plain": [
       " Mean of the integrated profile                  0.000000e+00\n",
       " Standard deviation of the integrated profile   -1.115067e-10\n",
       " Excess kurtosis of the integrated profile      -3.456999e-11\n",
       " Skewness of the integrated profile             -7.172045e-12\n",
       " Mean of the DM-SNR curve                        1.174245e-11\n",
       " Standard deviation of the DM-SNR curve         -9.144349e-11\n",
       " Excess kurtosis of the DM-SNR curve             2.822222e-11\n",
       " Skewness of the DM-SNR curve                    1.180685e-11\n",
       "dtype: float64"
      ]
     },
     "execution_count": 7,
     "metadata": {},
     "output_type": "execute_result"
    }
   ],
   "source": [
    "data_n_mano=(data-np.mean(data))/np.std(data)\n",
    "\n",
    "data_n=StandardScaler().fit_transform(data)\n",
    "\n",
    "np.sum(data_n_mano-data_n)"
   ]
  },
  {
   "cell_type": "markdown",
   "metadata": {},
   "source": [
    "Ahora el MinMax :\n",
    "\n",
    "$$\\frac{x-min}{max-min}$$"
   ]
  },
  {
   "cell_type": "code",
   "execution_count": 9,
   "metadata": {},
   "outputs": [
    {
     "data": {
      "text/plain": [
       " Mean of the integrated profile                  1.568736e-13\n",
       " Standard deviation of the integrated profile    5.605374e-14\n",
       " Excess kurtosis of the integrated profile       1.882314e-13\n",
       " Skewness of the integrated profile              2.829209e-14\n",
       " Mean of the DM-SNR curve                        1.212409e-13\n",
       " Standard deviation of the DM-SNR curve          4.598752e-14\n",
       " Excess kurtosis of the DM-SNR curve            -2.881462e-13\n",
       " Skewness of the DM-SNR curve                    6.918713e-14\n",
       "dtype: float64"
      ]
     },
     "execution_count": 9,
     "metadata": {},
     "output_type": "execute_result"
    }
   ],
   "source": [
    "data_mm_mano=(data-np.min(data))/(np.max(data)-np.min(data))\n",
    "\n",
    "data_mm=MinMaxScaler().fit_transform(data)\n",
    "\n",
    "np.sum(data_mm_mano-data_mm)"
   ]
  },
  {
   "cell_type": "markdown",
   "metadata": {},
   "source": [
    "Se usa la standarización:"
   ]
  },
  {
   "cell_type": "code",
   "execution_count": 10,
   "metadata": {},
   "outputs": [],
   "source": [
    "data=StandardScaler().fit_transform(data)"
   ]
  },
  {
   "cell_type": "markdown",
   "metadata": {},
   "source": [
    "Se aplica **PCA**"
   ]
  },
  {
   "cell_type": "code",
   "execution_count": 13,
   "metadata": {},
   "outputs": [
    {
     "name": "stdout",
     "output_type": "stream",
     "text": [
      "(17898, 8)\n"
     ]
    },
    {
     "data": {
      "text/plain": [
       "array([0.51675584, 0.26807564, 0.10116862, 0.0571781 , 0.03227836,\n",
       "       0.01998491, 0.00255524, 0.00200328])"
      ]
     },
     "execution_count": 13,
     "metadata": {},
     "output_type": "execute_result"
    }
   ],
   "source": [
    "pca=PCA()\n",
    "\n",
    "pca.fit(data)\n",
    "\n",
    "print (data.shape)\n",
    "pca.explained_variance_ratio_"
   ]
  },
  {
   "cell_type": "code",
   "execution_count": 14,
   "metadata": {},
   "outputs": [
    {
     "data": {
      "text/plain": [
       "(0, 1.01)"
      ]
     },
     "execution_count": 14,
     "metadata": {},
     "output_type": "execute_result"
    },
    {
     "data": {
      "image/png": "[encoded data removed]",
      "text/plain": [
       "<Figure size 720x360 with 1 Axes>"
      ]
     },
     "metadata": {
      "needs_background": "light"
     },
     "output_type": "display_data"
    }
   ],
   "source": [
    "plt.figure(figsize=(10, 5))\n",
    "\n",
    "plt.plot(np.cumsum(pca.explained_variance_ratio_))\n",
    "\n",
    "plt.xlabel('Numero de componentes')\n",
    "plt.ylabel('% varianza')\n",
    "plt.ylim([0, 1.01])"
   ]
  },
  {
   "cell_type": "code",
   "execution_count": 16,
   "metadata": {},
   "outputs": [
    {
     "data": {
      "text/html": [
       "<div>\n",
       "<style scoped>\n",
       "    .dataframe tbody tr th:only-of-type {\n",
       "        vertical-align: middle;\n",
       "    }\n",
       "\n",
       "    .dataframe tbody tr th {\n",
       "        vertical-align: top;\n",
       "    }\n",
       "\n",
       "    .dataframe thead th {\n",
       "        text-align: right;\n",
       "    }\n",
       "</style>\n",
       "<table border=\"1\" class=\"dataframe\">\n",
       "  <thead>\n",
       "    <tr style=\"text-align: right;\">\n",
       "      <th></th>\n",
       "      <th>0</th>\n",
       "      <th>1</th>\n",
       "      <th>2</th>\n",
       "      <th>3</th>\n",
       "    </tr>\n",
       "  </thead>\n",
       "  <tbody>\n",
       "    <tr>\n",
       "      <td>0</td>\n",
       "      <td>-1.278849</td>\n",
       "      <td>-1.273133</td>\n",
       "      <td>0.016213</td>\n",
       "      <td>0.662102</td>\n",
       "    </tr>\n",
       "    <tr>\n",
       "      <td>1</td>\n",
       "      <td>-1.020553</td>\n",
       "      <td>-0.201162</td>\n",
       "      <td>0.670478</td>\n",
       "      <td>1.605779</td>\n",
       "    </tr>\n",
       "    <tr>\n",
       "      <td>2</td>\n",
       "      <td>0.188289</td>\n",
       "      <td>0.432114</td>\n",
       "      <td>-0.979766</td>\n",
       "      <td>-0.519232</td>\n",
       "    </tr>\n",
       "    <tr>\n",
       "      <td>3</td>\n",
       "      <td>-1.015466</td>\n",
       "      <td>-1.469881</td>\n",
       "      <td>-0.018832</td>\n",
       "      <td>0.938386</td>\n",
       "    </tr>\n",
       "    <tr>\n",
       "      <td>4</td>\n",
       "      <td>-0.822626</td>\n",
       "      <td>2.123651</td>\n",
       "      <td>0.407953</td>\n",
       "      <td>-0.380922</td>\n",
       "    </tr>\n",
       "  </tbody>\n",
       "</table>\n",
       "</div>"
      ],
      "text/plain": [
       "          0         1         2         3\n",
       "0 -1.278849 -1.273133  0.016213  0.662102\n",
       "1 -1.020553 -0.201162  0.670478  1.605779\n",
       "2  0.188289  0.432114 -0.979766 -0.519232\n",
       "3 -1.015466 -1.469881 -0.018832  0.938386\n",
       "4 -0.822626  2.123651  0.407953 -0.380922"
      ]
     },
     "execution_count": 16,
     "metadata": {},
     "output_type": "execute_result"
    }
   ],
   "source": [
    "pca=PCA(n_components=4)\n",
    "\n",
    "df=pd.DataFrame(pca.fit_transform(data))\n",
    "\n",
    "df.head()"
   ]
  },
  {
   "cell_type": "code",
   "execution_count": 17,
   "metadata": {},
   "outputs": [
    {
     "data": {
      "text/html": [
       "<div>\n",
       "<style scoped>\n",
       "    .dataframe tbody tr th:only-of-type {\n",
       "        vertical-align: middle;\n",
       "    }\n",
       "\n",
       "    .dataframe tbody tr th {\n",
       "        vertical-align: top;\n",
       "    }\n",
       "\n",
       "    .dataframe thead th {\n",
       "        text-align: right;\n",
       "    }\n",
       "</style>\n",
       "<table border=\"1\" class=\"dataframe\">\n",
       "  <thead>\n",
       "    <tr style=\"text-align: right;\">\n",
       "      <th></th>\n",
       "      <th>0</th>\n",
       "      <th>1</th>\n",
       "      <th>2</th>\n",
       "      <th>3</th>\n",
       "      <th>4</th>\n",
       "      <th>5</th>\n",
       "      <th>6</th>\n",
       "      <th>7</th>\n",
       "    </tr>\n",
       "  </thead>\n",
       "  <tbody>\n",
       "    <tr>\n",
       "      <td>0</td>\n",
       "      <td>1.149317</td>\n",
       "      <td>1.334832</td>\n",
       "      <td>-0.669570</td>\n",
       "      <td>-0.400459</td>\n",
       "      <td>-0.319440</td>\n",
       "      <td>-0.370625</td>\n",
       "      <td>-0.072798</td>\n",
       "      <td>-0.287438</td>\n",
       "    </tr>\n",
       "    <tr>\n",
       "      <td>1</td>\n",
       "      <td>-0.334168</td>\n",
       "      <td>1.802265</td>\n",
       "      <td>-0.011785</td>\n",
       "      <td>-0.370535</td>\n",
       "      <td>-0.371102</td>\n",
       "      <td>-0.588924</td>\n",
       "      <td>0.504427</td>\n",
       "      <td>0.211581</td>\n",
       "    </tr>\n",
       "    <tr>\n",
       "      <td>2</td>\n",
       "      <td>-0.314372</td>\n",
       "      <td>-1.053322</td>\n",
       "      <td>-0.145233</td>\n",
       "      <td>-0.116593</td>\n",
       "      <td>-0.322107</td>\n",
       "      <td>-0.235328</td>\n",
       "      <td>-0.125996</td>\n",
       "      <td>-0.391373</td>\n",
       "    </tr>\n",
       "    <tr>\n",
       "      <td>3</td>\n",
       "      <td>1.000694</td>\n",
       "      <td>1.553254</td>\n",
       "      <td>-0.513409</td>\n",
       "      <td>-0.390178</td>\n",
       "      <td>-0.304404</td>\n",
       "      <td>-0.275666</td>\n",
       "      <td>-0.312265</td>\n",
       "      <td>-0.481300</td>\n",
       "    </tr>\n",
       "    <tr>\n",
       "      <td>4</td>\n",
       "      <td>-0.871402</td>\n",
       "      <td>-0.858879</td>\n",
       "      <td>0.115609</td>\n",
       "      <td>-0.104866</td>\n",
       "      <td>-0.388010</td>\n",
       "      <td>-0.763111</td>\n",
       "      <td>1.324026</td>\n",
       "      <td>1.386794</td>\n",
       "    </tr>\n",
       "  </tbody>\n",
       "</table>\n",
       "</div>"
      ],
      "text/plain": [
       "          0         1         2         3         4         5         6  \\\n",
       "0  1.149317  1.334832 -0.669570 -0.400459 -0.319440 -0.370625 -0.072798   \n",
       "1 -0.334168  1.802265 -0.011785 -0.370535 -0.371102 -0.588924  0.504427   \n",
       "2 -0.314372 -1.053322 -0.145233 -0.116593 -0.322107 -0.235328 -0.125996   \n",
       "3  1.000694  1.553254 -0.513409 -0.390178 -0.304404 -0.275666 -0.312265   \n",
       "4 -0.871402 -0.858879  0.115609 -0.104866 -0.388010 -0.763111  1.324026   \n",
       "\n",
       "          7  \n",
       "0 -0.287438  \n",
       "1  0.211581  \n",
       "2 -0.391373  \n",
       "3 -0.481300  \n",
       "4  1.386794  "
      ]
     },
     "execution_count": 17,
     "metadata": {},
     "output_type": "execute_result"
    }
   ],
   "source": [
    "pd.DataFrame(data).head()"
   ]
  },
  {
   "cell_type": "code",
   "execution_count": 18,
   "metadata": {},
   "outputs": [
    {
     "data": {
      "text/html": [
       "<div>\n",
       "<style scoped>\n",
       "    .dataframe tbody tr th:only-of-type {\n",
       "        vertical-align: middle;\n",
       "    }\n",
       "\n",
       "    .dataframe tbody tr th {\n",
       "        vertical-align: top;\n",
       "    }\n",
       "\n",
       "    .dataframe thead th {\n",
       "        text-align: right;\n",
       "    }\n",
       "</style>\n",
       "<table border=\"1\" class=\"dataframe\">\n",
       "  <thead>\n",
       "    <tr style=\"text-align: right;\">\n",
       "      <th></th>\n",
       "      <th>0</th>\n",
       "      <th>1</th>\n",
       "      <th>2</th>\n",
       "      <th>3</th>\n",
       "      <th>4</th>\n",
       "      <th>5</th>\n",
       "      <th>6</th>\n",
       "      <th>7</th>\n",
       "    </tr>\n",
       "  </thead>\n",
       "  <tbody>\n",
       "    <tr>\n",
       "      <td>0</td>\n",
       "      <td>0.726963</td>\n",
       "      <td>1.327427</td>\n",
       "      <td>-0.735075</td>\n",
       "      <td>-0.783587</td>\n",
       "      <td>-0.337221</td>\n",
       "      <td>-0.257022</td>\n",
       "      <td>-0.070554</td>\n",
       "      <td>-0.255592</td>\n",
       "    </tr>\n",
       "    <tr>\n",
       "      <td>1</td>\n",
       "      <td>-0.038332</td>\n",
       "      <td>1.811110</td>\n",
       "      <td>0.059444</td>\n",
       "      <td>-0.129622</td>\n",
       "      <td>-0.454226</td>\n",
       "      <td>-0.587282</td>\n",
       "      <td>0.417421</td>\n",
       "      <td>0.287539</td>\n",
       "    </tr>\n",
       "    <tr>\n",
       "      <td>2</td>\n",
       "      <td>-0.059363</td>\n",
       "      <td>-1.046436</td>\n",
       "      <td>-0.031402</td>\n",
       "      <td>0.033576</td>\n",
       "      <td>-0.428290</td>\n",
       "      <td>-0.159977</td>\n",
       "      <td>-0.140189</td>\n",
       "      <td>-0.349821</td>\n",
       "    </tr>\n",
       "    <tr>\n",
       "      <td>3</td>\n",
       "      <td>0.623153</td>\n",
       "      <td>1.549935</td>\n",
       "      <td>-0.607552</td>\n",
       "      <td>-0.691777</td>\n",
       "      <td>-0.309245</td>\n",
       "      <td>-0.172273</td>\n",
       "      <td>-0.269003</td>\n",
       "      <td>-0.486495</td>\n",
       "    </tr>\n",
       "    <tr>\n",
       "      <td>4</td>\n",
       "      <td>-0.366730</td>\n",
       "      <td>-0.849173</td>\n",
       "      <td>0.255278</td>\n",
       "      <td>0.285361</td>\n",
       "      <td>-0.451494</td>\n",
       "      <td>-0.797759</td>\n",
       "      <td>1.303397</td>\n",
       "      <td>1.398872</td>\n",
       "    </tr>\n",
       "  </tbody>\n",
       "</table>\n",
       "</div>"
      ],
      "text/plain": [
       "          0         1         2         3         4         5         6  \\\n",
       "0  0.726963  1.327427 -0.735075 -0.783587 -0.337221 -0.257022 -0.070554   \n",
       "1 -0.038332  1.811110  0.059444 -0.129622 -0.454226 -0.587282  0.417421   \n",
       "2 -0.059363 -1.046436 -0.031402  0.033576 -0.428290 -0.159977 -0.140189   \n",
       "3  0.623153  1.549935 -0.607552 -0.691777 -0.309245 -0.172273 -0.269003   \n",
       "4 -0.366730 -0.849173  0.255278  0.285361 -0.451494 -0.797759  1.303397   \n",
       "\n",
       "          7  \n",
       "0 -0.255592  \n",
       "1  0.287539  \n",
       "2 -0.349821  \n",
       "3 -0.486495  \n",
       "4  1.398872  "
      ]
     },
     "execution_count": 18,
     "metadata": {},
     "output_type": "execute_result"
    }
   ],
   "source": [
    "pd.DataFrame(pca.inverse_transform(df)).head()"
   ]
  },
  {
   "cell_type": "markdown",
   "metadata": {},
   "source": [
    "# ICA (análisis de componente independiente)\n",
    "\n",
    "Es la generalización de PCA. También es una transformación lineal, pero no requiere que los datos sigan una distribución Normal.\n",
    "\n",
    "\n",
    "### Ejemplo\n",
    "##### Problema de la fiesta:\n",
    "Se intentan separar la voces de una grabación de audio..."
   ]
  },
  {
   "cell_type": "code",
   "execution_count": null,
   "metadata": {},
   "outputs": [],
   "source": []
  },
  {
   "cell_type": "code",
   "execution_count": null,
   "metadata": {},
   "outputs": [],
   "source": []
  },
  {
   "cell_type": "code",
   "execution_count": null,
   "metadata": {},
   "outputs": [],
   "source": []
  },
  {
   "cell_type": "code",
   "execution_count": null,
   "metadata": {},
   "outputs": [],
   "source": []
  },
  {
   "cell_type": "code",
   "execution_count": null,
   "metadata": {},
   "outputs": [],
   "source": []
  },
  {
   "cell_type": "code",
   "execution_count": null,
   "metadata": {},
   "outputs": [],
   "source": []
  },
  {
   "cell_type": "code",
   "execution_count": null,
   "metadata": {},
   "outputs": [],
   "source": []
  },
  {
   "cell_type": "markdown",
   "metadata": {},
   "source": [
    "# UMAP (uniform manifold aprox and projection)"
   ]
  },
  {
   "cell_type": "code",
   "execution_count": null,
   "metadata": {},
   "outputs": [],
   "source": []
  },
  {
   "cell_type": "code",
   "execution_count": null,
   "metadata": {},
   "outputs": [],
   "source": []
  },
  {
   "cell_type": "code",
   "execution_count": null,
   "metadata": {},
   "outputs": [],
   "source": []
  },
  {
   "cell_type": "code",
   "execution_count": null,
   "metadata": {},
   "outputs": [],
   "source": []
  },
  {
   "cell_type": "code",
   "execution_count": null,
   "metadata": {},
   "outputs": [],
   "source": []
  },
  {
   "cell_type": "markdown",
   "metadata": {},
   "source": [
    "# Series Temporales"
   ]
  },
  {
   "cell_type": "code",
   "execution_count": null,
   "metadata": {},
   "outputs": [],
   "source": []
  },
  {
   "cell_type": "code",
   "execution_count": null,
   "metadata": {},
   "outputs": [],
   "source": []
  },
  {
   "cell_type": "code",
   "execution_count": null,
   "metadata": {},
   "outputs": [],
   "source": []
  },
  {
   "cell_type": "code",
   "execution_count": null,
   "metadata": {},
   "outputs": [],
   "source": []
  },
  {
   "cell_type": "code",
   "execution_count": null,
   "metadata": {},
   "outputs": [],
   "source": []
  },
  {
   "cell_type": "code",
   "execution_count": null,
   "metadata": {},
   "outputs": [],
   "source": []
  },
  {
   "cell_type": "code",
   "execution_count": null,
   "metadata": {},
   "outputs": [],
   "source": []
  },
  {
   "cell_type": "code",
   "execution_count": null,
   "metadata": {},
   "outputs": [],
   "source": []
  },
  {
   "cell_type": "code",
   "execution_count": null,
   "metadata": {},
   "outputs": [],
   "source": []
  },
  {
   "cell_type": "code",
   "execution_count": null,
   "metadata": {},
   "outputs": [],
   "source": []
  },
  {
   "cell_type": "markdown",
   "metadata": {},
   "source": [
    "### Autoregresión\n",
    "\n",
    "El modelo usa la relación de dependencia del momento actual con $n$ momentos anteriores. Es, en realidad, una regresión lineal.\n",
    "\n",
    "$$y_t = \\beta_0+\\beta_1y_{t-1}+\\beta_2y_{t-2}+\\ldots+\\beta_ny_{t-n}+\\epsilon_t$$\n",
    "\n",
    "Si solamente nos fijamos en el momento anterior, $t-1$, entonces:\n",
    "\n",
    "$$y_t = \\beta_0+\\beta_1y_{t-1}$$\n",
    "\n",
    "Es la llamada Cadena de Markov"
   ]
  },
  {
   "cell_type": "code",
   "execution_count": null,
   "metadata": {},
   "outputs": [],
   "source": []
  },
  {
   "cell_type": "code",
   "execution_count": null,
   "metadata": {},
   "outputs": [],
   "source": []
  },
  {
   "cell_type": "code",
   "execution_count": null,
   "metadata": {},
   "outputs": [],
   "source": []
  },
  {
   "cell_type": "code",
   "execution_count": null,
   "metadata": {},
   "outputs": [],
   "source": [
    "# AR\n"
   ]
  },
  {
   "cell_type": "code",
   "execution_count": null,
   "metadata": {},
   "outputs": [],
   "source": []
  },
  {
   "cell_type": "code",
   "execution_count": null,
   "metadata": {},
   "outputs": [],
   "source": []
  },
  {
   "cell_type": "code",
   "execution_count": null,
   "metadata": {},
   "outputs": [],
   "source": []
  },
  {
   "cell_type": "code",
   "execution_count": null,
   "metadata": {},
   "outputs": [],
   "source": []
  },
  {
   "cell_type": "code",
   "execution_count": null,
   "metadata": {},
   "outputs": [],
   "source": []
  },
  {
   "cell_type": "markdown",
   "metadata": {},
   "source": [
    "### Media Móvil (Moving Average MA)\n",
    "\n",
    "Una manera matemática de expresar la MA puede ser:\n",
    "\n",
    "$$y_t = \\beta_0+\\epsilon_t+\\epsilon_t\\phi_{t-1}+\\epsilon_t\\phi_{t-2}+\\ldots+\\epsilon_t\\phi_{t-n}$$\n",
    "\n",
    "\n",
    "Se usa la relación entre las observaciones y el error residual de la media móvil.\n",
    "\n",
    "Otra es la evidente, la media móvil, se muestra en el gráfico."
   ]
  },
  {
   "cell_type": "code",
   "execution_count": null,
   "metadata": {},
   "outputs": [],
   "source": [
    "plt.figure(figsize=(10, 5))\n",
    "\n",
    "plt.plot(dias.values)\n",
    "\n",
    "plt.plot([50, 80],[1000, 1000], color='black')\n",
    "plt.plot([50, 50],[1000, 1100], color='black')\n",
    "plt.plot([50, 80],[1100, 1100], color='black')\n",
    "plt.plot([80, 80],[1000, 1100], color='black')\n",
    "\n",
    "plt.quiver(80, 1050, 1, 0, scale=20, color='r');"
   ]
  },
  {
   "cell_type": "markdown",
   "metadata": {},
   "source": [
    "\n",
    "### ARMA (AutoRegressive Moving Average)\n",
    "\n",
    "Unión de ambos conceptos.\n",
    "\n",
    "$$y_t = \\beta_0 + \\epsilon_t + \\sum_{i=1}^{n}\\beta_iy_{t-i} + \\sum_{i=1}^{n}\\phi_i\\epsilon_{t-i}$$"
   ]
  },
  {
   "cell_type": "code",
   "execution_count": null,
   "metadata": {},
   "outputs": [],
   "source": [
    "# ARMA  order==> p=>AR, q=>MA\n"
   ]
  },
  {
   "cell_type": "code",
   "execution_count": null,
   "metadata": {},
   "outputs": [],
   "source": []
  },
  {
   "cell_type": "code",
   "execution_count": null,
   "metadata": {},
   "outputs": [],
   "source": []
  },
  {
   "cell_type": "markdown",
   "metadata": {},
   "source": [
    "### ARIMA (AutoRegressive Integrated Moving Average)\n",
    "\n",
    "Lo de Integrated trata de hacer la serie temporal estacionaria, similar al concepto de PID."
   ]
  },
  {
   "cell_type": "code",
   "execution_count": null,
   "metadata": {},
   "outputs": [],
   "source": [
    "# ARIMA  order==> (p, d, q)  d=>Integrated\n"
   ]
  },
  {
   "cell_type": "code",
   "execution_count": null,
   "metadata": {},
   "outputs": [],
   "source": [
    "# ADF-test (testeo de la estacionaridad)"
   ]
  },
  {
   "cell_type": "markdown",
   "metadata": {},
   "source": [
    "### SARIMA (Seasonal AutoRegressive Integrated Moving Average)\n",
    "Arima por estaciones.\n",
    "\n",
    "### SARIMAX (Seasonal AutoRegressive Integrated Moving Average Exogenous)\n",
    "SARIMA con regresores exógenos.\n"
   ]
  },
  {
   "cell_type": "code",
   "execution_count": null,
   "metadata": {},
   "outputs": [],
   "source": []
  },
  {
   "cell_type": "code",
   "execution_count": null,
   "metadata": {},
   "outputs": [],
   "source": []
  },
  {
   "cell_type": "markdown",
   "metadata": {},
   "source": [
    "# FB-Prophet"
   ]
  },
  {
   "cell_type": "code",
   "execution_count": null,
   "metadata": {},
   "outputs": [],
   "source": [
    "import numpy as np\n",
    "import pandas as pd\n",
    "import seaborn as sns\n",
    "import matplotlib.pyplot as plt\n",
    "from fbprophet import Prophet\n",
    "from sklearn.metrics import mean_squared_error, mean_absolute_error\n",
    "\n",
    "plt.style.use('fivethirtyeight')"
   ]
  },
  {
   "cell_type": "code",
   "execution_count": null,
   "metadata": {},
   "outputs": [],
   "source": [
    "# datos, consumo de energia\n",
    "\n",
    "pjme=pd.read_csv('data/PJME_hourly.csv', index_col=[0], parse_dates=[0])\n",
    "pjme.tail()"
   ]
  },
  {
   "cell_type": "code",
   "execution_count": null,
   "metadata": {},
   "outputs": [],
   "source": [
    "_=pjme.plot(style='.', figsize=(15, 5), color='r', title='PJME')"
   ]
  },
  {
   "cell_type": "code",
   "execution_count": null,
   "metadata": {},
   "outputs": [],
   "source": [
    "# se definen las caracteristicas temporales\n",
    "\n",
    "def features(df, label):\n",
    "    df=df.copy()\n",
    "    df['date']=df.index\n",
    "    df['hour']=df.date.dt.hour\n",
    "    df['day_of_week']=df.date.dt.dayofweek\n",
    "    df['quarter']=df.date.dt.quarter\n",
    "    df['month']=df.date.dt.month\n",
    "    df['year']=df.date.dt.year\n",
    "    df['day_of_year']=df.date.dt.dayofyear\n",
    "    df['day_of_month']=df.date.dt.day\n",
    "    df['week_of_year']=df.date.dt.weekofyear\n",
    "    \n",
    "    X=df[['hour', 'day_of_week', 'quarter', 'month', 'year',\n",
    "          'day_of_year', 'day_of_month', 'week_of_year']]\n",
    "    y=df[label]\n",
    "    \n",
    "    return X,y"
   ]
  },
  {
   "cell_type": "code",
   "execution_count": null,
   "metadata": {},
   "outputs": [],
   "source": [
    "X, y = features(pjme, 'PJME_MW')\n",
    "data=pd.concat([X, y], axis=1)\n",
    "data.head()"
   ]
  },
  {
   "cell_type": "code",
   "execution_count": null,
   "metadata": {},
   "outputs": [],
   "source": [
    "sns.pairplot(data.dropna(), hue='hour', \n",
    "            x_vars=['hour', 'day_of_week', 'year', 'week_of_year'],\n",
    "            y_vars='PJME_MW', height=5, plot_kws={'alpha':0.1, 'linewidth':0})\n",
    "\n",
    "plt.suptitle('MW por hora, dia, dia de la semana, y semana del año')\n",
    "plt.show();"
   ]
  },
  {
   "cell_type": "code",
   "execution_count": null,
   "metadata": {},
   "outputs": [],
   "source": [
    "split_date='01-Jan-2015'\n",
    "\n",
    "train=pjme.loc[pjme.index<=split_date].copy()\n",
    "test=pjme.loc[pjme.index>split_date].copy()\n",
    "\n",
    "_=test.rename(columns={'PJME_MW': 'Test'})\\\n",
    "      .join(train.rename(columns={'PJME_MW': 'Train'}), how='outer')\\\n",
    "      .plot(figsize=(15,5), title='PJME', style='.')"
   ]
  },
  {
   "cell_type": "code",
   "execution_count": null,
   "metadata": {},
   "outputs": [],
   "source": [
    "# modelo\n",
    "\n",
    "train=train.reset_index().rename(columns={'Datetime':'ds', 'PJME_MW':'y'})\n",
    "test=test.reset_index().rename(columns={'Datetime':'ds', 'PJME_MW':'y'})\n",
    "train.head()"
   ]
  },
  {
   "cell_type": "code",
   "execution_count": null,
   "metadata": {},
   "outputs": [],
   "source": [
    "modelo=Prophet().fit(train)\n",
    "\n",
    "pred=modelo.predict(test)"
   ]
  },
  {
   "cell_type": "code",
   "execution_count": null,
   "metadata": {},
   "outputs": [],
   "source": [
    "f, ax=plt.subplots(1)\n",
    "f.set_figheight(5)\n",
    "f.set_figwidth(15)\n",
    "fig=modelo.plot(pred, ax=ax)"
   ]
  },
  {
   "cell_type": "code",
   "execution_count": null,
   "metadata": {},
   "outputs": [],
   "source": [
    "# comparando\n",
    "\n",
    "f, ax=plt.subplots(1)\n",
    "f.set_figheight(5)\n",
    "f.set_figwidth(15)\n",
    "ax.scatter(test.ds, test.y, color='r')\n",
    "fig=modelo.plot(pred, ax)"
   ]
  },
  {
   "cell_type": "code",
   "execution_count": null,
   "metadata": {},
   "outputs": [],
   "source": [
    "# metricas de error\n",
    "\n",
    "mean_squared_error(test.y, pred.yhat)**0.5"
   ]
  },
  {
   "cell_type": "code",
   "execution_count": null,
   "metadata": {},
   "outputs": [],
   "source": [
    "mean_absolute_error(test.y, pred.yhat)"
   ]
  },
  {
   "cell_type": "code",
   "execution_count": null,
   "metadata": {},
   "outputs": [],
   "source": [
    "def mape(y_true, y_pred):\n",
    "    y_true, y_pred=np.array(y_true), np.array(y_pred)\n",
    "    return np.mean(np.abs((y_true-y_pred)/y_true))*100"
   ]
  },
  {
   "cell_type": "code",
   "execution_count": null,
   "metadata": {},
   "outputs": [],
   "source": [
    "mape(test.y, pred.yhat)"
   ]
  },
  {
   "cell_type": "code",
   "execution_count": null,
   "metadata": {},
   "outputs": [],
   "source": [
    "fig = modelo.plot_components(pred)"
   ]
  },
  {
   "cell_type": "code",
   "execution_count": null,
   "metadata": {},
   "outputs": [],
   "source": [
    "# Con vacaciones\n",
    "\n",
    "from pandas.tseries.holiday import USFederalHolidayCalendar as calendar\n",
    "\n",
    "cal = calendar()\n",
    "train_h = cal.holidays(train.index.min(), train.index.max())\n",
    "test_h = cal.holidays(test.index.min(), test.index.max())"
   ]
  },
  {
   "cell_type": "code",
   "execution_count": null,
   "metadata": {},
   "outputs": [],
   "source": [
    "pjme['date'] = pjme.index.date\n",
    "pjme['is_holiday'] = pjme.date.isin([d.date() for d in cal.holidays()])\n",
    "df_h = pjme.loc[pjme['is_holiday']].reset_index().rename(columns={'Datetime':'ds'})\n",
    "df_h['holiday'] = 'USFederalHoliday'\n",
    "df_h = df_h.drop(['PJME_MW','date','is_holiday'], axis=1)\n",
    "df_h.head()"
   ]
  },
  {
   "cell_type": "code",
   "execution_count": null,
   "metadata": {},
   "outputs": [],
   "source": [
    "modelo_h = Prophet(holidays=df_h).fit(train)\n",
    "\n",
    "fig2=modelo_h.plot_components(pred)"
   ]
  },
  {
   "cell_type": "code",
   "execution_count": null,
   "metadata": {},
   "outputs": [],
   "source": [
    "pred_h=modelo.predict(test)\n",
    "pred_h.head()"
   ]
  },
  {
   "cell_type": "code",
   "execution_count": null,
   "metadata": {},
   "outputs": [],
   "source": [
    "mean_squared_error(test.y, pred_h.yhat)**0.5"
   ]
  },
  {
   "cell_type": "code",
   "execution_count": null,
   "metadata": {},
   "outputs": [],
   "source": [
    "mean_absolute_error(test.y, pred_h.yhat)"
   ]
  },
  {
   "cell_type": "code",
   "execution_count": null,
   "metadata": {},
   "outputs": [],
   "source": [
    "mape(test.y, pred_h.yhat)"
   ]
  },
  {
   "cell_type": "code",
   "execution_count": null,
   "metadata": {},
   "outputs": [],
   "source": []
  },
  {
   "cell_type": "code",
   "execution_count": null,
   "metadata": {},
   "outputs": [],
   "source": []
  }
 ],
 "metadata": {
  "kernelspec": {
   "display_name": "Python 3",
   "language": "python",
   "name": "python3"
  },
  "language_info": {
   "codemirror_mode": {
    "name": "ipython",
    "version": 3
   },
   "file_extension": ".py",
   "mimetype": "text/x-python",
   "name": "python",
   "nbconvert_exporter": "python",
   "pygments_lexer": "ipython3",
   "version": "3.7.6"
  }
 },
 "nbformat": 4,
 "nbformat_minor": 2
}
