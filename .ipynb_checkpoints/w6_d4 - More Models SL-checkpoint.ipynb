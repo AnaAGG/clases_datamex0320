{
 "cells": [
  {
   "cell_type": "code",
   "execution_count": 1,
   "metadata": {},
   "outputs": [],
   "source": [
    "import pandas as pd\n",
    "from sklearn.datasets import load_diabetes, load_wine\n",
    "from sklearn.model_selection import train_test_split as tts"
   ]
  },
  {
   "cell_type": "code",
   "execution_count": 2,
   "metadata": {},
   "outputs": [
    {
     "data": {
      "text/html": [
       "<div>\n",
       "<style scoped>\n",
       "    .dataframe tbody tr th:only-of-type {\n",
       "        vertical-align: middle;\n",
       "    }\n",
       "\n",
       "    .dataframe tbody tr th {\n",
       "        vertical-align: top;\n",
       "    }\n",
       "\n",
       "    .dataframe thead th {\n",
       "        text-align: right;\n",
       "    }\n",
       "</style>\n",
       "<table border=\"1\" class=\"dataframe\">\n",
       "  <thead>\n",
       "    <tr style=\"text-align: right;\">\n",
       "      <th></th>\n",
       "      <th>age</th>\n",
       "      <th>sex</th>\n",
       "      <th>bmi</th>\n",
       "      <th>bp</th>\n",
       "      <th>s1</th>\n",
       "      <th>s2</th>\n",
       "      <th>s3</th>\n",
       "      <th>s4</th>\n",
       "      <th>s5</th>\n",
       "      <th>s6</th>\n",
       "      <th>target</th>\n",
       "    </tr>\n",
       "  </thead>\n",
       "  <tbody>\n",
       "    <tr>\n",
       "      <td>0</td>\n",
       "      <td>0.038076</td>\n",
       "      <td>0.050680</td>\n",
       "      <td>0.061696</td>\n",
       "      <td>0.021872</td>\n",
       "      <td>-0.044223</td>\n",
       "      <td>-0.034821</td>\n",
       "      <td>-0.043401</td>\n",
       "      <td>-0.002592</td>\n",
       "      <td>0.019908</td>\n",
       "      <td>-0.017646</td>\n",
       "      <td>151.0</td>\n",
       "    </tr>\n",
       "    <tr>\n",
       "      <td>1</td>\n",
       "      <td>-0.001882</td>\n",
       "      <td>-0.044642</td>\n",
       "      <td>-0.051474</td>\n",
       "      <td>-0.026328</td>\n",
       "      <td>-0.008449</td>\n",
       "      <td>-0.019163</td>\n",
       "      <td>0.074412</td>\n",
       "      <td>-0.039493</td>\n",
       "      <td>-0.068330</td>\n",
       "      <td>-0.092204</td>\n",
       "      <td>75.0</td>\n",
       "    </tr>\n",
       "    <tr>\n",
       "      <td>2</td>\n",
       "      <td>0.085299</td>\n",
       "      <td>0.050680</td>\n",
       "      <td>0.044451</td>\n",
       "      <td>-0.005671</td>\n",
       "      <td>-0.045599</td>\n",
       "      <td>-0.034194</td>\n",
       "      <td>-0.032356</td>\n",
       "      <td>-0.002592</td>\n",
       "      <td>0.002864</td>\n",
       "      <td>-0.025930</td>\n",
       "      <td>141.0</td>\n",
       "    </tr>\n",
       "    <tr>\n",
       "      <td>3</td>\n",
       "      <td>-0.089063</td>\n",
       "      <td>-0.044642</td>\n",
       "      <td>-0.011595</td>\n",
       "      <td>-0.036656</td>\n",
       "      <td>0.012191</td>\n",
       "      <td>0.024991</td>\n",
       "      <td>-0.036038</td>\n",
       "      <td>0.034309</td>\n",
       "      <td>0.022692</td>\n",
       "      <td>-0.009362</td>\n",
       "      <td>206.0</td>\n",
       "    </tr>\n",
       "    <tr>\n",
       "      <td>4</td>\n",
       "      <td>0.005383</td>\n",
       "      <td>-0.044642</td>\n",
       "      <td>-0.036385</td>\n",
       "      <td>0.021872</td>\n",
       "      <td>0.003935</td>\n",
       "      <td>0.015596</td>\n",
       "      <td>0.008142</td>\n",
       "      <td>-0.002592</td>\n",
       "      <td>-0.031991</td>\n",
       "      <td>-0.046641</td>\n",
       "      <td>135.0</td>\n",
       "    </tr>\n",
       "  </tbody>\n",
       "</table>\n",
       "</div>"
      ],
      "text/plain": [
       "        age       sex       bmi        bp        s1        s2        s3  \\\n",
       "0  0.038076  0.050680  0.061696  0.021872 -0.044223 -0.034821 -0.043401   \n",
       "1 -0.001882 -0.044642 -0.051474 -0.026328 -0.008449 -0.019163  0.074412   \n",
       "2  0.085299  0.050680  0.044451 -0.005671 -0.045599 -0.034194 -0.032356   \n",
       "3 -0.089063 -0.044642 -0.011595 -0.036656  0.012191  0.024991 -0.036038   \n",
       "4  0.005383 -0.044642 -0.036385  0.021872  0.003935  0.015596  0.008142   \n",
       "\n",
       "         s4        s5        s6  target  \n",
       "0 -0.002592  0.019908 -0.017646   151.0  \n",
       "1 -0.039493 -0.068330 -0.092204    75.0  \n",
       "2 -0.002592  0.002864 -0.025930   141.0  \n",
       "3  0.034309  0.022692 -0.009362   206.0  \n",
       "4 -0.002592 -0.031991 -0.046641   135.0  "
      ]
     },
     "execution_count": 2,
     "metadata": {},
     "output_type": "execute_result"
    }
   ],
   "source": [
    "diabetes=pd.DataFrame(load_diabetes().data, columns=load_diabetes().feature_names)\n",
    "diabetes['target']=load_diabetes().target\n",
    "\n",
    "diabetes.head()"
   ]
  },
  {
   "cell_type": "code",
   "execution_count": 3,
   "metadata": {},
   "outputs": [
    {
     "data": {
      "text/plain": [
       "array([0, 1, 2])"
      ]
     },
     "execution_count": 3,
     "metadata": {},
     "output_type": "execute_result"
    }
   ],
   "source": [
    "wine=pd.DataFrame(load_wine().data, columns=load_wine().feature_names)\n",
    "wine['target']=load_wine().target\n",
    "\n",
    "wine.target.unique()"
   ]
  },
  {
   "cell_type": "code",
   "execution_count": 4,
   "metadata": {},
   "outputs": [],
   "source": [
    "X_train_d, X_test_d, y_train_d, y_test_d = tts(diabetes.drop('target', axis=1), diabetes.target)"
   ]
  },
  {
   "cell_type": "code",
   "execution_count": 5,
   "metadata": {},
   "outputs": [],
   "source": [
    "X_train_v, X_test_v, y_train_v, y_test_v = tts(wine.drop('target', axis=1), wine.target)"
   ]
  },
  {
   "cell_type": "markdown",
   "metadata": {},
   "source": [
    "# Gradiente Descendente Estocástico SGD\n",
    "\n",
    "![](data/grad1.png)\n",
    "\n",
    "![](data/grad2.jpg)"
   ]
  },
  {
   "cell_type": "markdown",
   "metadata": {},
   "source": [
    "Es una derivación numérica. Lo estocástico viene de la elección de la muestra, en vez de coger todos los datos solo coge uno. Reduce el costo computacional. Sirve como regresor o como clasificador."
   ]
  },
  {
   "cell_type": "markdown",
   "metadata": {},
   "source": [
    "##### SGDR"
   ]
  },
  {
   "cell_type": "code",
   "execution_count": 8,
   "metadata": {},
   "outputs": [],
   "source": [
    "from sklearn.linear_model import SGDRegressor as SGDR"
   ]
  },
  {
   "cell_type": "code",
   "execution_count": 52,
   "metadata": {},
   "outputs": [
    {
     "name": "stdout",
     "output_type": "stream",
     "text": [
      "train R2: 0.49476166546094774 -- test R2: 0.5304516759533083\n"
     ]
    }
   ],
   "source": [
    "sgdr=SGDR(max_iter=8000)\n",
    "\n",
    "sgdr.fit(X_train_d, y_train_d)\n",
    "\n",
    "train_score=sgdr.score(X_train_d, y_train_d) #R2\n",
    "test_score=sgdr.score(X_test_d, y_test_d)\n",
    "\n",
    "print ('train R2:',train_score, '-- test R2:', test_score)"
   ]
  },
  {
   "cell_type": "code",
   "execution_count": 10,
   "metadata": {},
   "outputs": [
    {
     "data": {
      "text/plain": [
       "SGDRegressor(alpha=0.0001, average=False, early_stopping=False, epsilon=0.1,\n",
       "             eta0=0.01, fit_intercept=True, l1_ratio=0.15,\n",
       "             learning_rate='invscaling', loss='squared_loss', max_iter=1000,\n",
       "             n_iter_no_change=5, penalty='l2', power_t=0.25, random_state=None,\n",
       "             shuffle=True, tol=0.001, validation_fraction=0.1, verbose=0,\n",
       "             warm_start=False)"
      ]
     },
     "execution_count": 10,
     "metadata": {},
     "output_type": "execute_result"
    }
   ],
   "source": [
    "sgdr"
   ]
  },
  {
   "cell_type": "markdown",
   "metadata": {},
   "source": [
    "##### SGDC"
   ]
  },
  {
   "cell_type": "code",
   "execution_count": 16,
   "metadata": {},
   "outputs": [],
   "source": [
    "from sklearn.linear_model import SGDClassifier as SGDC"
   ]
  },
  {
   "cell_type": "code",
   "execution_count": 39,
   "metadata": {},
   "outputs": [
    {
     "name": "stdout",
     "output_type": "stream",
     "text": [
      "train Acc: 0.6766917293233082 -- test Acc: 0.6666666666666666\n"
     ]
    }
   ],
   "source": [
    "sgdc=SGDC(max_iter=8000)\n",
    "\n",
    "sgdc.fit(X_train_v, y_train_v)\n",
    "\n",
    "train_score=sgdc.score(X_train_v, y_train_v) # Accuracy\n",
    "test_score=sgdc.score(X_test_v, y_test_v)\n",
    "\n",
    "print ('train Acc:',train_score, '-- test Acc:', test_score)"
   ]
  },
  {
   "cell_type": "code",
   "execution_count": 18,
   "metadata": {},
   "outputs": [
    {
     "data": {
      "text/plain": [
       "SGDClassifier(alpha=0.0001, average=False, class_weight=None,\n",
       "              early_stopping=False, epsilon=0.1, eta0=0.0, fit_intercept=True,\n",
       "              l1_ratio=0.15, learning_rate='optimal', loss='hinge',\n",
       "              max_iter=8000, n_iter_no_change=5, n_jobs=None, penalty='l2',\n",
       "              power_t=0.5, random_state=None, shuffle=True, tol=0.001,\n",
       "              validation_fraction=0.1, verbose=0, warm_start=False)"
      ]
     },
     "execution_count": 18,
     "metadata": {},
     "output_type": "execute_result"
    }
   ],
   "source": [
    "sgdc"
   ]
  },
  {
   "cell_type": "markdown",
   "metadata": {},
   "source": [
    "# Naive Bayes\n",
    "\n",
    "$$P(clase|data)= \\frac{P(data|clase)·P(clase)}{P(data)}$$\n",
    "\n",
    "\n"
   ]
  },
  {
   "cell_type": "markdown",
   "metadata": {},
   "source": [
    "+ P(data|clase) es $N(\\mu, \\sigma)$ (datos normalizados)\n",
    "\n",
    "+ P(clase) es el a priori \n",
    "\n",
    "+ P(data) no se calcula\n",
    "\n",
    "+ P(clase|data) el a posteriori, lo que se busca"
   ]
  },
  {
   "cell_type": "markdown",
   "metadata": {},
   "source": [
    "Lo de Naive viene de la suposición de independencia condicional entre predictores, lo cuál no suele ser verdad.\n",
    "\n",
    "\n",
    "$$\\hat{y}=argmax [P(y) \\prod_{i=1}^{n} P(x_i|y)]$$"
   ]
  },
  {
   "cell_type": "markdown",
   "metadata": {},
   "source": [
    "### GNB (Gaussian Naive Bayes)"
   ]
  },
  {
   "cell_type": "code",
   "execution_count": 54,
   "metadata": {},
   "outputs": [
    {
     "name": "stdout",
     "output_type": "stream",
     "text": [
      "train Acc: 0.9924812030075187 -- test Acc: 0.9777777777777777\n"
     ]
    }
   ],
   "source": [
    "from sklearn.naive_bayes import GaussianNB as GNB\n",
    "\n",
    "gnb=GNB()\n",
    "\n",
    "gnb.fit(X_train_v, y_train_v)\n",
    "\n",
    "train_score=gnb.score(X_train_v, y_train_v) # Accuracy\n",
    "test_score=gnb.score(X_test_v, y_test_v)\n",
    "\n",
    "print ('train Acc:',train_score, '-- test Acc:', test_score)"
   ]
  },
  {
   "cell_type": "code",
   "execution_count": 55,
   "metadata": {},
   "outputs": [
    {
     "data": {
      "text/plain": [
       "GaussianNB(priors=None, var_smoothing=1e-09)"
      ]
     },
     "execution_count": 55,
     "metadata": {},
     "output_type": "execute_result"
    }
   ],
   "source": [
    "gnb"
   ]
  },
  {
   "cell_type": "markdown",
   "metadata": {},
   "source": [
    "### MNB (Multinomial Naive Bayes)"
   ]
  },
  {
   "cell_type": "code",
   "execution_count": 56,
   "metadata": {},
   "outputs": [
    {
     "name": "stdout",
     "output_type": "stream",
     "text": [
      "train Acc: 0.8872180451127819 -- test Acc: 0.8444444444444444\n"
     ]
    }
   ],
   "source": [
    "from sklearn.naive_bayes import MultinomialNB as MNB\n",
    "\n",
    "mnb=MNB()\n",
    "\n",
    "mnb.fit(X_train_v, y_train_v)\n",
    "\n",
    "train_score=mnb.score(X_train_v, y_train_v) # Accuracy\n",
    "test_score=mnb.score(X_test_v, y_test_v)\n",
    "\n",
    "print ('train Acc:',train_score, '-- test Acc:', test_score)"
   ]
  },
  {
   "cell_type": "code",
   "execution_count": 57,
   "metadata": {},
   "outputs": [
    {
     "data": {
      "text/plain": [
       "MultinomialNB(alpha=1.0, class_prior=None, fit_prior=True)"
      ]
     },
     "execution_count": 57,
     "metadata": {},
     "output_type": "execute_result"
    }
   ],
   "source": [
    "mnb"
   ]
  },
  {
   "cell_type": "markdown",
   "metadata": {},
   "source": [
    "### CNB (Complement Naive Bayes)"
   ]
  },
  {
   "cell_type": "code",
   "execution_count": 58,
   "metadata": {},
   "outputs": [
    {
     "name": "stdout",
     "output_type": "stream",
     "text": [
      "train Acc: 0.6616541353383458 -- test Acc: 0.5777777777777777\n"
     ]
    }
   ],
   "source": [
    "from sklearn.naive_bayes import ComplementNB as CNB\n",
    "\n",
    "cnb=CNB()\n",
    "\n",
    "cnb.fit(X_train_v, y_train_v)\n",
    "\n",
    "train_score=cnb.score(X_train_v, y_train_v) # Accuracy\n",
    "test_score=cnb.score(X_test_v, y_test_v)\n",
    "\n",
    "print ('train Acc:',train_score, '-- test Acc:', test_score)"
   ]
  },
  {
   "cell_type": "code",
   "execution_count": 59,
   "metadata": {},
   "outputs": [
    {
     "data": {
      "text/plain": [
       "ComplementNB(alpha=1.0, class_prior=None, fit_prior=True, norm=False)"
      ]
     },
     "execution_count": 59,
     "metadata": {},
     "output_type": "execute_result"
    }
   ],
   "source": [
    "cnb"
   ]
  },
  {
   "cell_type": "markdown",
   "metadata": {},
   "source": [
    "### BNB (Bernoulli Naive Bayes)"
   ]
  },
  {
   "cell_type": "code",
   "execution_count": 60,
   "metadata": {},
   "outputs": [
    {
     "name": "stdout",
     "output_type": "stream",
     "text": [
      "train Acc: 0.44360902255639095 -- test Acc: 0.26666666666666666\n"
     ]
    }
   ],
   "source": [
    "from sklearn.naive_bayes import BernoulliNB as BNB\n",
    "\n",
    "bnb=BNB()\n",
    "\n",
    "bnb.fit(X_train_v, y_train_v)\n",
    "\n",
    "train_score=bnb.score(X_train_v, y_train_v) # Accuracy\n",
    "test_score=bnb.score(X_test_v, y_test_v)\n",
    "\n",
    "print ('train Acc:',train_score, '-- test Acc:', test_score)"
   ]
  },
  {
   "cell_type": "code",
   "execution_count": 61,
   "metadata": {},
   "outputs": [
    {
     "data": {
      "text/plain": [
       "BernoulliNB(alpha=1.0, binarize=0.0, class_prior=None, fit_prior=True)"
      ]
     },
     "execution_count": 61,
     "metadata": {},
     "output_type": "execute_result"
    }
   ],
   "source": [
    "bnb"
   ]
  },
  {
   "cell_type": "markdown",
   "metadata": {},
   "source": [
    "# K-Nearest Neighbors\n",
    "\n",
    "![](data/knn.png)"
   ]
  },
  {
   "cell_type": "markdown",
   "metadata": {},
   "source": [
    "Este modelo se basa en al idea de vecindario, según sea lo que rodea al nuevo dato, así se clasificará.\n",
    "\n",
    "Básicamente se trata de calcular las distancias (euclídea o L1 normalmente) entre los datos, para asignar el valor (etiqueta) al nuevo dato según sean sus vecinos.\n",
    "\n",
    "Se suele tomar $k$ como un número impar para poder tomar una decisión en caso de empate."
   ]
  },
  {
   "cell_type": "markdown",
   "metadata": {},
   "source": [
    "#### KNNR"
   ]
  },
  {
   "cell_type": "code",
   "execution_count": 62,
   "metadata": {},
   "outputs": [],
   "source": [
    "from sklearn.neighbors import KNeighborsRegressor as KNNR"
   ]
  },
  {
   "cell_type": "code",
   "execution_count": 80,
   "metadata": {},
   "outputs": [
    {
     "name": "stdout",
     "output_type": "stream",
     "text": [
      "train R2: 0.49724409643210205 -- test R2: 0.5470638166786077\n"
     ]
    }
   ],
   "source": [
    "knnr=KNNR(n_neighbors=7)\n",
    "knnr.fit(X_train_d, y_train_d)\n",
    "\n",
    "train_score=knnr.score(X_train_d, y_train_d) #R2\n",
    "test_score=knnr.score(X_test_d, y_test_d)\n",
    "\n",
    "print ('train R2:',train_score, '-- test R2:', test_score)"
   ]
  },
  {
   "cell_type": "code",
   "execution_count": 64,
   "metadata": {},
   "outputs": [
    {
     "data": {
      "text/plain": [
       "KNeighborsRegressor(algorithm='auto', leaf_size=30, metric='minkowski',\n",
       "                    metric_params=None, n_jobs=None, n_neighbors=5, p=2,\n",
       "                    weights='uniform')"
      ]
     },
     "execution_count": 64,
     "metadata": {},
     "output_type": "execute_result"
    }
   ],
   "source": [
    "knnr"
   ]
  },
  {
   "cell_type": "markdown",
   "metadata": {},
   "source": [
    "#### KNNC"
   ]
  },
  {
   "cell_type": "code",
   "execution_count": 69,
   "metadata": {},
   "outputs": [],
   "source": [
    "from sklearn.neighbors import KNeighborsClassifier as KNNC"
   ]
  },
  {
   "cell_type": "code",
   "execution_count": 84,
   "metadata": {},
   "outputs": [
    {
     "name": "stdout",
     "output_type": "stream",
     "text": [
      "train Acc: 0.7669172932330827 -- test Acc: 0.7333333333333333\n"
     ]
    }
   ],
   "source": [
    "knnc=KNNC(n_neighbors=5, metric='euclidean')\n",
    "knnc.fit(X_train_v, y_train_v)\n",
    "\n",
    "train_score=knnc.score(X_train_v, y_train_v) #R2\n",
    "test_score=knnc.score(X_test_v, y_test_v)\n",
    "\n",
    "print ('train Acc:',train_score, '-- test Acc:', test_score)"
   ]
  },
  {
   "cell_type": "code",
   "execution_count": 74,
   "metadata": {},
   "outputs": [
    {
     "data": {
      "text/plain": [
       "KNeighborsClassifier(algorithm='auto', leaf_size=30, metric='euclidean',\n",
       "                     metric_params=None, n_jobs=None, n_neighbors=5, p=2,\n",
       "                     weights='uniform')"
      ]
     },
     "execution_count": 74,
     "metadata": {},
     "output_type": "execute_result"
    }
   ],
   "source": [
    "knnc"
   ]
  },
  {
   "cell_type": "markdown",
   "metadata": {},
   "source": [
    "# Ensemble Models\n",
    "\n",
    "\n",
    "### Bagging  -  Boosting\n",
    "\n",
    "\n",
    "![](data/boost.png)"
   ]
  },
  {
   "cell_type": "code",
   "execution_count": 94,
   "metadata": {},
   "outputs": [
    {
     "data": {
      "text/plain": [
       "array([2, 2, 2, 2, 2, 2, 2, 2, 2, 2, 2, 2, 2, 2, 2, 2, 2, 2, 2, 2, 2, 2,\n",
       "       2, 2, 2, 2, 2, 2, 2, 2, 2, 2, 2, 2, 2, 2, 2, 2, 2, 2, 2, 2, 2, 2,\n",
       "       2])"
      ]
     },
     "execution_count": 94,
     "metadata": {},
     "output_type": "execute_result"
    }
   ],
   "source": [
    "# ejemplo\n",
    "\n",
    "knnc=KNNC(n_neighbors=5, metric='euclidean')\n",
    "knnc.fit(X_train_v, y_train_v)\n",
    "y_pred=knnc.predict(X_test_v)\n",
    "\n",
    "knnc2=KNNC(n_neighbors=5, metric='euclidean')\n",
    "knnc2.fit([y_pred for i in range(45)], y_test_v)\n",
    "\n",
    "knnc2.predict([y_pred for i in range(45)])"
   ]
  },
  {
   "cell_type": "markdown",
   "metadata": {},
   "source": [
    "#### Gradient Boost Regressor"
   ]
  },
  {
   "cell_type": "code",
   "execution_count": 95,
   "metadata": {},
   "outputs": [],
   "source": [
    "from sklearn.ensemble import GradientBoostingRegressor as GBR"
   ]
  },
  {
   "cell_type": "code",
   "execution_count": 96,
   "metadata": {},
   "outputs": [
    {
     "name": "stdout",
     "output_type": "stream",
     "text": [
      "train R2: 0.8364165213139023 -- test R2: 0.5316908203881698\n"
     ]
    }
   ],
   "source": [
    "gbr=GBR()\n",
    "gbr.fit(X_train_d, y_train_d)\n",
    "\n",
    "train_score=gbr.score(X_train_d, y_train_d) #R2\n",
    "test_score=gbr.score(X_test_d, y_test_d)\n",
    "\n",
    "print ('train R2:',train_score, '-- test R2:', test_score)"
   ]
  },
  {
   "cell_type": "code",
   "execution_count": 97,
   "metadata": {},
   "outputs": [
    {
     "data": {
      "text/plain": [
       "GradientBoostingRegressor(alpha=0.9, ccp_alpha=0.0, criterion='friedman_mse',\n",
       "                          init=None, learning_rate=0.1, loss='ls', max_depth=3,\n",
       "                          max_features=None, max_leaf_nodes=None,\n",
       "                          min_impurity_decrease=0.0, min_impurity_split=None,\n",
       "                          min_samples_leaf=1, min_samples_split=2,\n",
       "                          min_weight_fraction_leaf=0.0, n_estimators=100,\n",
       "                          n_iter_no_change=None, presort='deprecated',\n",
       "                          random_state=None, subsample=1.0, tol=0.0001,\n",
       "                          validation_fraction=0.1, verbose=0, warm_start=False)"
      ]
     },
     "execution_count": 97,
     "metadata": {},
     "output_type": "execute_result"
    }
   ],
   "source": [
    "gbr"
   ]
  },
  {
   "cell_type": "markdown",
   "metadata": {},
   "source": [
    "#### Gradient Boost Classifier"
   ]
  },
  {
   "cell_type": "code",
   "execution_count": 98,
   "metadata": {},
   "outputs": [],
   "source": [
    "from sklearn.ensemble import GradientBoostingClassifier as GBC"
   ]
  },
  {
   "cell_type": "code",
   "execution_count": 100,
   "metadata": {},
   "outputs": [
    {
     "name": "stdout",
     "output_type": "stream",
     "text": [
      "train Acc: 1.0 -- test Acc: 0.9777777777777777\n"
     ]
    }
   ],
   "source": [
    "gbc=GBC()\n",
    "gbc.fit(X_train_v, y_train_v)\n",
    "\n",
    "train_score=gbc.score(X_train_v, y_train_v) #R2\n",
    "test_score=gbc.score(X_test_v, y_test_v)\n",
    "\n",
    "print ('train Acc:',train_score, '-- test Acc:', test_score)"
   ]
  },
  {
   "cell_type": "markdown",
   "metadata": {},
   "source": [
    "## Extreme Gradient Boosting"
   ]
  },
  {
   "cell_type": "code",
   "execution_count": null,
   "metadata": {},
   "outputs": [],
   "source": [
    "# !pip3 install xgboost"
   ]
  },
  {
   "cell_type": "markdown",
   "metadata": {},
   "source": [
    "#### XGBR"
   ]
  },
  {
   "cell_type": "code",
   "execution_count": 101,
   "metadata": {},
   "outputs": [
    {
     "name": "stdout",
     "output_type": "stream",
     "text": [
      "[11:53:20] WARNING: src/objective/regression_obj.cu:152: reg:linear is now deprecated in favor of reg:squarederror.\n",
      "train R2: 0.8121713260630528 -- test R2: 0.5150332268768092\n"
     ]
    },
    {
     "name": "stderr",
     "output_type": "stream",
     "text": [
      "/Users/data/Library/Python/3.7/lib/python/site-packages/xgboost/core.py:587: FutureWarning: Series.base is deprecated and will be removed in a future version\n",
      "  if getattr(data, 'base', None) is not None and \\\n"
     ]
    }
   ],
   "source": [
    "from xgboost import XGBRegressor as XGBR\n",
    "\n",
    "xgbr=XGBR()\n",
    "xgbr.fit(X_train_d, y_train_d)\n",
    "\n",
    "train_score=xgbr.score(X_train_d, y_train_d) #R2\n",
    "test_score=xgbr.score(X_test_d, y_test_d)\n",
    "\n",
    "print ('train R2:',train_score, '-- test R2:', test_score)"
   ]
  },
  {
   "cell_type": "code",
   "execution_count": 103,
   "metadata": {},
   "outputs": [
    {
     "data": {
      "text/plain": [
       "XGBRegressor(base_score=0.5, booster='gbtree', colsample_bylevel=1,\n",
       "             colsample_bynode=1, colsample_bytree=1, gamma=0,\n",
       "             importance_type='gain', learning_rate=0.1, max_delta_step=0,\n",
       "             max_depth=3, min_child_weight=1, missing=None, n_estimators=100,\n",
       "             n_jobs=1, nthread=None, objective='reg:linear', random_state=0,\n",
       "             reg_alpha=0, reg_lambda=1, scale_pos_weight=1, seed=None,\n",
       "             silent=None, subsample=1, verbosity=1)"
      ]
     },
     "execution_count": 103,
     "metadata": {},
     "output_type": "execute_result"
    }
   ],
   "source": [
    "xgbr"
   ]
  },
  {
   "cell_type": "markdown",
   "metadata": {},
   "source": [
    "#### XGBC"
   ]
  },
  {
   "cell_type": "code",
   "execution_count": 102,
   "metadata": {},
   "outputs": [
    {
     "name": "stdout",
     "output_type": "stream",
     "text": [
      "train Acc: 1.0 -- test Acc: 0.9777777777777777\n"
     ]
    }
   ],
   "source": [
    "from xgboost import XGBClassifier as XGBC\n",
    "\n",
    "xgbc=XGBC()\n",
    "xgbc.fit(X_train_v, y_train_v)\n",
    "\n",
    "train_score=xgbc.score(X_train_v, y_train_v) \n",
    "test_score=xgbc.score(X_test_v, y_test_v)\n",
    "\n",
    "print ('train Acc:',train_score, '-- test Acc:', test_score)"
   ]
  },
  {
   "cell_type": "markdown",
   "metadata": {},
   "source": [
    "### Catboost"
   ]
  },
  {
   "cell_type": "markdown",
   "metadata": {},
   "source": [
    "##### CTR"
   ]
  },
  {
   "cell_type": "code",
   "execution_count": 105,
   "metadata": {},
   "outputs": [
    {
     "name": "stdout",
     "output_type": "stream",
     "text": [
      "train R2: 0.9784260937947625 -- test R2: 0.5403921949282431\n"
     ]
    }
   ],
   "source": [
    "from catboost import CatBoostRegressor as CTR\n",
    "\n",
    "ctr=CTR(verbose=0)\n",
    "ctr.fit(X_train_d, y_train_d)\n",
    "\n",
    "train_score=ctr.score(X_train_d, y_train_d) #R2\n",
    "test_score=ctr.score(X_test_d, y_test_d)\n",
    "\n",
    "print ('train R2:',train_score, '-- test R2:', test_score)"
   ]
  },
  {
   "cell_type": "code",
   "execution_count": 106,
   "metadata": {},
   "outputs": [
    {
     "data": {
      "text/plain": [
       "<catboost.core.CatBoostRegressor at 0x123ba05d0>"
      ]
     },
     "execution_count": 106,
     "metadata": {},
     "output_type": "execute_result"
    }
   ],
   "source": [
    "ctr  # sus hiperparametros en https://catboost.ai/"
   ]
  },
  {
   "cell_type": "markdown",
   "metadata": {},
   "source": [
    "##### CTC"
   ]
  },
  {
   "cell_type": "code",
   "execution_count": 108,
   "metadata": {},
   "outputs": [
    {
     "name": "stdout",
     "output_type": "stream",
     "text": [
      "train Acc: 1.0 -- test Acc: 0.9777777777777777\n"
     ]
    }
   ],
   "source": [
    "from catboost import CatBoostClassifier as CTC\n",
    "\n",
    "ctc=CTC(verbose=0)\n",
    "ctc.fit(X_train_v, y_train_v)\n",
    "\n",
    "train_score=ctc.score(X_train_v, y_train_v) \n",
    "test_score=ctc.score(X_test_v, y_test_v)\n",
    "\n",
    "print ('train Acc:',train_score, '-- test Acc:', test_score)"
   ]
  },
  {
   "cell_type": "markdown",
   "metadata": {},
   "source": [
    "## LightGBM"
   ]
  },
  {
   "cell_type": "code",
   "execution_count": null,
   "metadata": {},
   "outputs": [],
   "source": [
    "#!pip3 install lightgbm"
   ]
  },
  {
   "cell_type": "markdown",
   "metadata": {},
   "source": [
    "#### LGBR"
   ]
  },
  {
   "cell_type": "code",
   "execution_count": 109,
   "metadata": {},
   "outputs": [
    {
     "name": "stdout",
     "output_type": "stream",
     "text": [
      "train R2: 0.9090091902991921 -- test R2: 0.5063253399996868\n"
     ]
    }
   ],
   "source": [
    "from lightgbm import LGBMRegressor as LGBMR\n",
    "\n",
    "lgbmr=LGBMR()\n",
    "lgbmr.fit(X_train_d, y_train_d)\n",
    "\n",
    "train_score=lgbmr.score(X_train_d, y_train_d) #R2\n",
    "test_score=lgbmr.score(X_test_d, y_test_d)\n",
    "\n",
    "print ('train R2:',train_score, '-- test R2:', test_score)"
   ]
  },
  {
   "cell_type": "code",
   "execution_count": 110,
   "metadata": {},
   "outputs": [
    {
     "data": {
      "text/plain": [
       "LGBMRegressor(boosting_type='gbdt', class_weight=None, colsample_bytree=1.0,\n",
       "              importance_type='split', learning_rate=0.1, max_depth=-1,\n",
       "              min_child_samples=20, min_child_weight=0.001, min_split_gain=0.0,\n",
       "              n_estimators=100, n_jobs=-1, num_leaves=31, objective=None,\n",
       "              random_state=None, reg_alpha=0.0, reg_lambda=0.0, silent=True,\n",
       "              subsample=1.0, subsample_for_bin=200000, subsample_freq=0)"
      ]
     },
     "execution_count": 110,
     "metadata": {},
     "output_type": "execute_result"
    }
   ],
   "source": [
    "lgbmr"
   ]
  },
  {
   "cell_type": "markdown",
   "metadata": {},
   "source": [
    "#### LGBC"
   ]
  },
  {
   "cell_type": "code",
   "execution_count": 111,
   "metadata": {},
   "outputs": [
    {
     "name": "stdout",
     "output_type": "stream",
     "text": [
      "train Acc: 1.0 -- test Acc: 0.9777777777777777\n"
     ]
    }
   ],
   "source": [
    "from lightgbm import LGBMClassifier as LGBMC\n",
    "\n",
    "lgbmc=LGBMC(verbose=0)\n",
    "lgbmc.fit(X_train_v, y_train_v)\n",
    "\n",
    "train_score=lgbmc.score(X_train_v, y_train_v) \n",
    "test_score=lgbmc.score(X_test_v, y_test_v)\n",
    "\n",
    "print ('train Acc:',train_score, '-- test Acc:', test_score)"
   ]
  },
  {
   "cell_type": "code",
   "execution_count": 112,
   "metadata": {},
   "outputs": [
    {
     "data": {
      "text/plain": [
       "LGBMClassifier(boosting_type='gbdt', class_weight=None, colsample_bytree=1.0,\n",
       "               importance_type='split', learning_rate=0.1, max_depth=-1,\n",
       "               min_child_samples=20, min_child_weight=0.001, min_split_gain=0.0,\n",
       "               n_estimators=100, n_jobs=-1, num_leaves=31, objective=None,\n",
       "               random_state=None, reg_alpha=0.0, reg_lambda=0.0, silent=True,\n",
       "               subsample=1.0, subsample_for_bin=200000, subsample_freq=0,\n",
       "               verbose=0)"
      ]
     },
     "execution_count": 112,
     "metadata": {},
     "output_type": "execute_result"
    }
   ],
   "source": [
    "lgbmc"
   ]
  },
  {
   "cell_type": "markdown",
   "metadata": {},
   "source": [
    "  "
   ]
  },
  {
   "cell_type": "markdown",
   "metadata": {},
   "source": [
    "# H2o\n",
    "\n",
    "\n",
    "https://www.h2o.ai/"
   ]
  },
  {
   "cell_type": "code",
   "execution_count": 113,
   "metadata": {},
   "outputs": [],
   "source": [
    "import h2o\n",
    "from h2o.automl import H2OAutoML"
   ]
  },
  {
   "cell_type": "code",
   "execution_count": 114,
   "metadata": {},
   "outputs": [
    {
     "name": "stdout",
     "output_type": "stream",
     "text": [
      "Checking whether there is an H2O instance running at http://localhost:54321 ..... not found.\n",
      "Attempting to start a local H2O server...\n",
      "  Java Version: openjdk version \"1.8.0_222\"; OpenJDK Runtime Environment (AdoptOpenJDK)(build 1.8.0_222-b10); OpenJDK 64-Bit Server VM (AdoptOpenJDK)(build 25.222-b10, mixed mode)\n",
      "  Starting server from /Users/data/Library/Python/3.7/lib/python/site-packages/h2o/backend/bin/h2o.jar\n",
      "  Ice root: /var/folders/xx/_vmf5v917hb0dgxz9fw65cnh0000gn/T/tmp910adiq2\n",
      "  JVM stdout: /var/folders/xx/_vmf5v917hb0dgxz9fw65cnh0000gn/T/tmp910adiq2/h2o_data_started_from_python.out\n",
      "  JVM stderr: /var/folders/xx/_vmf5v917hb0dgxz9fw65cnh0000gn/T/tmp910adiq2/h2o_data_started_from_python.err\n",
      "  Server is running at http://127.0.0.1:54321\n",
      "Connecting to H2O server at http://127.0.0.1:54321 ... successful.\n",
      "Warning: Your H2O cluster version is too old (5 months and 22 days)! Please download and install the latest version from http://h2o.ai/download/\n"
     ]
    },
    {
     "data": {
      "text/html": [
       "<div style=\"overflow:auto\"><table style=\"width:50%\"><tr><td>H2O cluster uptime:</td>\n",
       "<td>05 secs</td></tr>\n",
       "<tr><td>H2O cluster timezone:</td>\n",
       "<td>America/Mexico_City</td></tr>\n",
       "<tr><td>H2O data parsing timezone:</td>\n",
       "<td>UTC</td></tr>\n",
       "<tr><td>H2O cluster version:</td>\n",
       "<td>3.26.0.10</td></tr>\n",
       "<tr><td>H2O cluster version age:</td>\n",
       "<td>5 months and 22 days !!!</td></tr>\n",
       "<tr><td>H2O cluster name:</td>\n",
       "<td>H2O_from_python_data_jm1ovl</td></tr>\n",
       "<tr><td>H2O cluster total nodes:</td>\n",
       "<td>1</td></tr>\n",
       "<tr><td>H2O cluster free memory:</td>\n",
       "<td>1.778 Gb</td></tr>\n",
       "<tr><td>H2O cluster total cores:</td>\n",
       "<td>0</td></tr>\n",
       "<tr><td>H2O cluster allowed cores:</td>\n",
       "<td>0</td></tr>\n",
       "<tr><td>H2O cluster status:</td>\n",
       "<td>accepting new members, healthy</td></tr>\n",
       "<tr><td>H2O connection url:</td>\n",
       "<td>http://127.0.0.1:54321</td></tr>\n",
       "<tr><td>H2O connection proxy:</td>\n",
       "<td>{'http': None, 'https': None}</td></tr>\n",
       "<tr><td>H2O internal security:</td>\n",
       "<td>False</td></tr>\n",
       "<tr><td>H2O API Extensions:</td>\n",
       "<td>Amazon S3, XGBoost, Algos, AutoML, Core V3, TargetEncoder, Core V4</td></tr>\n",
       "<tr><td>Python version:</td>\n",
       "<td>3.7.6 final</td></tr></table></div>"
      ],
      "text/plain": [
       "--------------------------  ------------------------------------------------------------------\n",
       "H2O cluster uptime:         05 secs\n",
       "H2O cluster timezone:       America/Mexico_City\n",
       "H2O data parsing timezone:  UTC\n",
       "H2O cluster version:        3.26.0.10\n",
       "H2O cluster version age:    5 months and 22 days !!!\n",
       "H2O cluster name:           H2O_from_python_data_jm1ovl\n",
       "H2O cluster total nodes:    1\n",
       "H2O cluster free memory:    1.778 Gb\n",
       "H2O cluster total cores:    0\n",
       "H2O cluster allowed cores:  0\n",
       "H2O cluster status:         accepting new members, healthy\n",
       "H2O connection url:         http://127.0.0.1:54321\n",
       "H2O connection proxy:       {'http': None, 'https': None}\n",
       "H2O internal security:      False\n",
       "H2O API Extensions:         Amazon S3, XGBoost, Algos, AutoML, Core V3, TargetEncoder, Core V4\n",
       "Python version:             3.7.6 final\n",
       "--------------------------  ------------------------------------------------------------------"
      ]
     },
     "metadata": {},
     "output_type": "display_data"
    }
   ],
   "source": [
    "h2o.init()"
   ]
  },
  {
   "cell_type": "code",
   "execution_count": 115,
   "metadata": {},
   "outputs": [
    {
     "name": "stdout",
     "output_type": "stream",
     "text": [
      "Parse progress: |█████████████████████████████████████████████████████████| 100%\n",
      "Parse progress: |█████████████████████████████████████████████████████████| 100%\n"
     ]
    }
   ],
   "source": [
    "url='https://s3.amazonaws.com/erin-data/higgs/'\n",
    "\n",
    "\n",
    "# parsear datos a h2o\n",
    "train=h2o.import_file(url + 'higgs_train_10k.csv')\n",
    "test=h2o.import_file(url + 'higgs_test_5k.csv')\n",
    "\n",
    "\n",
    "X=train.columns\n",
    "y='response'\n",
    "X.remove(y)"
   ]
  },
  {
   "cell_type": "code",
   "execution_count": 116,
   "metadata": {},
   "outputs": [],
   "source": [
    "# factor para clasificacion binaria\n",
    "\n",
    "train[y]=train[y].asfactor()\n",
    "test[y]=test[y].asfactor()"
   ]
  },
  {
   "cell_type": "code",
   "execution_count": 118,
   "metadata": {},
   "outputs": [
    {
     "name": "stdout",
     "output_type": "stream",
     "text": [
      "AutoML progress: |████████████████████████████████████████████████████████| 100%\n"
     ]
    }
   ],
   "source": [
    "# 20 modelos\n",
    "\n",
    "aml=H2OAutoML(max_models=20, seed=1)\n",
    "aml.train(x=X, y=y, training_frame=train)"
   ]
  },
  {
   "cell_type": "code",
   "execution_count": 119,
   "metadata": {},
   "outputs": [
    {
     "data": {
      "text/html": [
       "<table>\n",
       "<thead>\n",
       "<tr><th>model_id                                           </th><th style=\"text-align: right;\">     auc</th><th style=\"text-align: right;\">  logloss</th><th style=\"text-align: right;\">  mean_per_class_error</th><th style=\"text-align: right;\">    rmse</th><th style=\"text-align: right;\">     mse</th></tr>\n",
       "</thead>\n",
       "<tbody>\n",
       "<tr><td>StackedEnsemble_AllModels_AutoML_20200430_120943   </td><td style=\"text-align: right;\">0.789794</td><td style=\"text-align: right;\"> 0.551505</td><td style=\"text-align: right;\">              0.314831</td><td style=\"text-align: right;\">0.432205</td><td style=\"text-align: right;\">0.186801</td></tr>\n",
       "<tr><td>StackedEnsemble_BestOfFamily_AutoML_20200430_120943</td><td style=\"text-align: right;\">0.788382</td><td style=\"text-align: right;\"> 0.552364</td><td style=\"text-align: right;\">              0.322685</td><td style=\"text-align: right;\">0.43276 </td><td style=\"text-align: right;\">0.187281</td></tr>\n",
       "<tr><td>XGBoost_grid_1_AutoML_20200430_120943_model_4      </td><td style=\"text-align: right;\">0.785011</td><td style=\"text-align: right;\"> 0.556344</td><td style=\"text-align: right;\">              0.318063</td><td style=\"text-align: right;\">0.434527</td><td style=\"text-align: right;\">0.188814</td></tr>\n",
       "<tr><td>XGBoost_3_AutoML_20200430_120943                   </td><td style=\"text-align: right;\">0.784844</td><td style=\"text-align: right;\"> 0.557121</td><td style=\"text-align: right;\">              0.311898</td><td style=\"text-align: right;\">0.434717</td><td style=\"text-align: right;\">0.188979</td></tr>\n",
       "<tr><td>XGBoost_2_AutoML_20200430_120943                   </td><td style=\"text-align: right;\">0.784043</td><td style=\"text-align: right;\"> 0.555627</td><td style=\"text-align: right;\">              0.312643</td><td style=\"text-align: right;\">0.434452</td><td style=\"text-align: right;\">0.188748</td></tr>\n",
       "<tr><td>XGBoost_grid_1_AutoML_20200430_120943_model_3      </td><td style=\"text-align: right;\">0.784037</td><td style=\"text-align: right;\"> 0.558918</td><td style=\"text-align: right;\">              0.327596</td><td style=\"text-align: right;\">0.435303</td><td style=\"text-align: right;\">0.189489</td></tr>\n",
       "<tr><td>XGBoost_grid_1_AutoML_20200430_120943_model_1      </td><td style=\"text-align: right;\">0.783577</td><td style=\"text-align: right;\"> 0.559298</td><td style=\"text-align: right;\">              0.336173</td><td style=\"text-align: right;\">0.435577</td><td style=\"text-align: right;\">0.189727</td></tr>\n",
       "<tr><td>XGBoost_1_AutoML_20200430_120943                   </td><td style=\"text-align: right;\">0.783156</td><td style=\"text-align: right;\"> 0.55631 </td><td style=\"text-align: right;\">              0.322884</td><td style=\"text-align: right;\">0.434894</td><td style=\"text-align: right;\">0.189132</td></tr>\n",
       "<tr><td>GBM_5_AutoML_20200430_120943                       </td><td style=\"text-align: right;\">0.780344</td><td style=\"text-align: right;\"> 0.558723</td><td style=\"text-align: right;\">              0.334826</td><td style=\"text-align: right;\">0.436138</td><td style=\"text-align: right;\">0.190216</td></tr>\n",
       "<tr><td>GBM_1_AutoML_20200430_120943                       </td><td style=\"text-align: right;\">0.780286</td><td style=\"text-align: right;\"> 0.560701</td><td style=\"text-align: right;\">              0.316822</td><td style=\"text-align: right;\">0.43642 </td><td style=\"text-align: right;\">0.190462</td></tr>\n",
       "<tr><td>GBM_2_AutoML_20200430_120943                       </td><td style=\"text-align: right;\">0.77971 </td><td style=\"text-align: right;\"> 0.560845</td><td style=\"text-align: right;\">              0.332059</td><td style=\"text-align: right;\">0.436651</td><td style=\"text-align: right;\">0.190664</td></tr>\n",
       "<tr><td>GBM_3_AutoML_20200430_120943                       </td><td style=\"text-align: right;\">0.774661</td><td style=\"text-align: right;\"> 0.56568 </td><td style=\"text-align: right;\">              0.33475 </td><td style=\"text-align: right;\">0.43918 </td><td style=\"text-align: right;\">0.192879</td></tr>\n",
       "<tr><td>XGBoost_grid_1_AutoML_20200430_120943_model_2      </td><td style=\"text-align: right;\">0.773   </td><td style=\"text-align: right;\"> 0.577489</td><td style=\"text-align: right;\">              0.34726 </td><td style=\"text-align: right;\">0.443367</td><td style=\"text-align: right;\">0.196575</td></tr>\n",
       "<tr><td>GBM_4_AutoML_20200430_120943                       </td><td style=\"text-align: right;\">0.769793</td><td style=\"text-align: right;\"> 0.571616</td><td style=\"text-align: right;\">              0.338649</td><td style=\"text-align: right;\">0.441869</td><td style=\"text-align: right;\">0.195248</td></tr>\n",
       "<tr><td>GBM_grid_1_AutoML_20200430_120943_model_1          </td><td style=\"text-align: right;\">0.769752</td><td style=\"text-align: right;\"> 0.572583</td><td style=\"text-align: right;\">              0.344331</td><td style=\"text-align: right;\">0.442452</td><td style=\"text-align: right;\">0.195764</td></tr>\n",
       "<tr><td>DRF_1_AutoML_20200430_120943                       </td><td style=\"text-align: right;\">0.76334 </td><td style=\"text-align: right;\"> 0.580105</td><td style=\"text-align: right;\">              0.342391</td><td style=\"text-align: right;\">0.445477</td><td style=\"text-align: right;\">0.198449</td></tr>\n",
       "<tr><td>XRT_1_AutoML_20200430_120943                       </td><td style=\"text-align: right;\">0.76257 </td><td style=\"text-align: right;\"> 0.582324</td><td style=\"text-align: right;\">              0.347   </td><td style=\"text-align: right;\">0.446207</td><td style=\"text-align: right;\">0.199101</td></tr>\n",
       "<tr><td>GBM_grid_1_AutoML_20200430_120943_model_2          </td><td style=\"text-align: right;\">0.752753</td><td style=\"text-align: right;\"> 0.931836</td><td style=\"text-align: right;\">              0.345093</td><td style=\"text-align: right;\">0.496916</td><td style=\"text-align: right;\">0.246926</td></tr>\n",
       "<tr><td>DeepLearning_grid_1_AutoML_20200430_120943_model_2 </td><td style=\"text-align: right;\">0.732709</td><td style=\"text-align: right;\"> 0.603902</td><td style=\"text-align: right;\">              0.373027</td><td style=\"text-align: right;\">0.45652 </td><td style=\"text-align: right;\">0.20841 </td></tr>\n",
       "<tr><td>DeepLearning_grid_1_AutoML_20200430_120943_model_1 </td><td style=\"text-align: right;\">0.68783 </td><td style=\"text-align: right;\"> 0.665493</td><td style=\"text-align: right;\">              0.421468</td><td style=\"text-align: right;\">0.477607</td><td style=\"text-align: right;\">0.228108</td></tr>\n",
       "<tr><td>DeepLearning_1_AutoML_20200430_120943              </td><td style=\"text-align: right;\">0.687102</td><td style=\"text-align: right;\"> 0.638245</td><td style=\"text-align: right;\">              0.41052 </td><td style=\"text-align: right;\">0.472019</td><td style=\"text-align: right;\">0.222802</td></tr>\n",
       "<tr><td>GLM_grid_1_AutoML_20200430_120943_model_1          </td><td style=\"text-align: right;\">0.682648</td><td style=\"text-align: right;\"> 0.63852 </td><td style=\"text-align: right;\">              0.397234</td><td style=\"text-align: right;\">0.472683</td><td style=\"text-align: right;\">0.223429</td></tr>\n",
       "</tbody>\n",
       "</table>"
      ]
     },
     "metadata": {},
     "output_type": "display_data"
    },
    {
     "data": {
      "text/plain": []
     },
     "execution_count": 119,
     "metadata": {},
     "output_type": "execute_result"
    }
   ],
   "source": [
    "lb=aml.leaderboard\n",
    "\n",
    "lb.head(rows=lb.nrows)"
   ]
  },
  {
   "cell_type": "code",
   "execution_count": 120,
   "metadata": {},
   "outputs": [
    {
     "name": "stdout",
     "output_type": "stream",
     "text": [
      "Model Details\n",
      "=============\n",
      "H2OStackedEnsembleEstimator :  Stacked Ensemble\n",
      "Model Key:  StackedEnsemble_AllModels_AutoML_20200430_120943\n",
      "\n",
      "No model summary for this model\n",
      "\n",
      "ModelMetricsBinomialGLM: stackedensemble\n",
      "** Reported on train data. **\n",
      "\n",
      "MSE: 0.10383613150306796\n",
      "RMSE: 0.3222361424531208\n",
      "LogLoss: 0.3580036320135908\n",
      "Null degrees of freedom: 9999\n",
      "Residual degrees of freedom: 9986\n",
      "Null deviance: 13828.113387424273\n",
      "Residual deviance: 7160.072640271816\n",
      "AIC: 7188.072640271816\n",
      "AUC: 0.9560785895702941\n",
      "pr_auc: 0.95921856695093\n",
      "Gini: 0.9121571791405882\n",
      "\n",
      "Confusion Matrix (Act/Pred) for max f1 @ threshold = 0.45132709264265974: \n"
     ]
    },
    {
     "data": {
      "text/html": [
       "<div>\n",
       "<style scoped>\n",
       "    .dataframe tbody tr th:only-of-type {\n",
       "        vertical-align: middle;\n",
       "    }\n",
       "\n",
       "    .dataframe tbody tr th {\n",
       "        vertical-align: top;\n",
       "    }\n",
       "\n",
       "    .dataframe thead th {\n",
       "        text-align: right;\n",
       "    }\n",
       "</style>\n",
       "<table border=\"1\" class=\"dataframe\">\n",
       "  <thead>\n",
       "    <tr style=\"text-align: right;\">\n",
       "      <th></th>\n",
       "      <th></th>\n",
       "      <th>0</th>\n",
       "      <th>1</th>\n",
       "      <th>Error</th>\n",
       "      <th>Rate</th>\n",
       "    </tr>\n",
       "  </thead>\n",
       "  <tbody>\n",
       "    <tr>\n",
       "      <td>0</td>\n",
       "      <td>0</td>\n",
       "      <td>3867.0</td>\n",
       "      <td>838.0</td>\n",
       "      <td>0.1781</td>\n",
       "      <td>(838.0/4705.0)</td>\n",
       "    </tr>\n",
       "    <tr>\n",
       "      <td>1</td>\n",
       "      <td>1</td>\n",
       "      <td>369.0</td>\n",
       "      <td>4926.0</td>\n",
       "      <td>0.0697</td>\n",
       "      <td>(369.0/5295.0)</td>\n",
       "    </tr>\n",
       "    <tr>\n",
       "      <td>2</td>\n",
       "      <td>Total</td>\n",
       "      <td>4236.0</td>\n",
       "      <td>5764.0</td>\n",
       "      <td>0.1207</td>\n",
       "      <td>(1207.0/10000.0)</td>\n",
       "    </tr>\n",
       "  </tbody>\n",
       "</table>\n",
       "</div>"
      ],
      "text/plain": [
       "               0       1   Error               Rate\n",
       "0      0  3867.0   838.0  0.1781     (838.0/4705.0)\n",
       "1      1   369.0  4926.0  0.0697     (369.0/5295.0)\n",
       "2  Total  4236.0  5764.0  0.1207   (1207.0/10000.0)"
      ]
     },
     "metadata": {},
     "output_type": "display_data"
    },
    {
     "name": "stdout",
     "output_type": "stream",
     "text": [
      "\n",
      "Maximum Metrics: Maximum metrics at their respective thresholds\n"
     ]
    },
    {
     "data": {
      "text/html": [
       "<div>\n",
       "<style scoped>\n",
       "    .dataframe tbody tr th:only-of-type {\n",
       "        vertical-align: middle;\n",
       "    }\n",
       "\n",
       "    .dataframe tbody tr th {\n",
       "        vertical-align: top;\n",
       "    }\n",
       "\n",
       "    .dataframe thead th {\n",
       "        text-align: right;\n",
       "    }\n",
       "</style>\n",
       "<table border=\"1\" class=\"dataframe\">\n",
       "  <thead>\n",
       "    <tr style=\"text-align: right;\">\n",
       "      <th></th>\n",
       "      <th>metric</th>\n",
       "      <th>threshold</th>\n",
       "      <th>value</th>\n",
       "      <th>idx</th>\n",
       "    </tr>\n",
       "  </thead>\n",
       "  <tbody>\n",
       "    <tr>\n",
       "      <td>0</td>\n",
       "      <td>max f1</td>\n",
       "      <td>0.451327</td>\n",
       "      <td>0.890858</td>\n",
       "      <td>223.0</td>\n",
       "    </tr>\n",
       "    <tr>\n",
       "      <td>1</td>\n",
       "      <td>max f2</td>\n",
       "      <td>0.378433</td>\n",
       "      <td>0.931305</td>\n",
       "      <td>252.0</td>\n",
       "    </tr>\n",
       "    <tr>\n",
       "      <td>2</td>\n",
       "      <td>max f0point5</td>\n",
       "      <td>0.611741</td>\n",
       "      <td>0.901469</td>\n",
       "      <td>158.0</td>\n",
       "    </tr>\n",
       "    <tr>\n",
       "      <td>3</td>\n",
       "      <td>max accuracy</td>\n",
       "      <td>0.490485</td>\n",
       "      <td>0.880900</td>\n",
       "      <td>206.0</td>\n",
       "    </tr>\n",
       "    <tr>\n",
       "      <td>4</td>\n",
       "      <td>max precision</td>\n",
       "      <td>0.941093</td>\n",
       "      <td>1.000000</td>\n",
       "      <td>0.0</td>\n",
       "    </tr>\n",
       "    <tr>\n",
       "      <td>5</td>\n",
       "      <td>max recall</td>\n",
       "      <td>0.161910</td>\n",
       "      <td>1.000000</td>\n",
       "      <td>349.0</td>\n",
       "    </tr>\n",
       "    <tr>\n",
       "      <td>6</td>\n",
       "      <td>max specificity</td>\n",
       "      <td>0.941093</td>\n",
       "      <td>1.000000</td>\n",
       "      <td>0.0</td>\n",
       "    </tr>\n",
       "    <tr>\n",
       "      <td>7</td>\n",
       "      <td>max absolute_mcc</td>\n",
       "      <td>0.482566</td>\n",
       "      <td>0.761086</td>\n",
       "      <td>209.0</td>\n",
       "    </tr>\n",
       "    <tr>\n",
       "      <td>8</td>\n",
       "      <td>max min_per_class_accuracy</td>\n",
       "      <td>0.516347</td>\n",
       "      <td>0.879702</td>\n",
       "      <td>196.0</td>\n",
       "    </tr>\n",
       "    <tr>\n",
       "      <td>9</td>\n",
       "      <td>max mean_per_class_accuracy</td>\n",
       "      <td>0.519846</td>\n",
       "      <td>0.880562</td>\n",
       "      <td>194.0</td>\n",
       "    </tr>\n",
       "    <tr>\n",
       "      <td>10</td>\n",
       "      <td>max tns</td>\n",
       "      <td>0.941093</td>\n",
       "      <td>4705.000000</td>\n",
       "      <td>0.0</td>\n",
       "    </tr>\n",
       "    <tr>\n",
       "      <td>11</td>\n",
       "      <td>max fns</td>\n",
       "      <td>0.941093</td>\n",
       "      <td>5287.000000</td>\n",
       "      <td>0.0</td>\n",
       "    </tr>\n",
       "    <tr>\n",
       "      <td>12</td>\n",
       "      <td>max fps</td>\n",
       "      <td>0.052287</td>\n",
       "      <td>4705.000000</td>\n",
       "      <td>399.0</td>\n",
       "    </tr>\n",
       "    <tr>\n",
       "      <td>13</td>\n",
       "      <td>max tps</td>\n",
       "      <td>0.161910</td>\n",
       "      <td>5295.000000</td>\n",
       "      <td>349.0</td>\n",
       "    </tr>\n",
       "    <tr>\n",
       "      <td>14</td>\n",
       "      <td>max tnr</td>\n",
       "      <td>0.941093</td>\n",
       "      <td>1.000000</td>\n",
       "      <td>0.0</td>\n",
       "    </tr>\n",
       "    <tr>\n",
       "      <td>15</td>\n",
       "      <td>max fnr</td>\n",
       "      <td>0.941093</td>\n",
       "      <td>0.998489</td>\n",
       "      <td>0.0</td>\n",
       "    </tr>\n",
       "    <tr>\n",
       "      <td>16</td>\n",
       "      <td>max fpr</td>\n",
       "      <td>0.052287</td>\n",
       "      <td>1.000000</td>\n",
       "      <td>399.0</td>\n",
       "    </tr>\n",
       "    <tr>\n",
       "      <td>17</td>\n",
       "      <td>max tpr</td>\n",
       "      <td>0.161910</td>\n",
       "      <td>1.000000</td>\n",
       "      <td>349.0</td>\n",
       "    </tr>\n",
       "  </tbody>\n",
       "</table>\n",
       "</div>"
      ],
      "text/plain": [
       "                         metric  threshold        value    idx\n",
       "0                        max f1   0.451327     0.890858  223.0\n",
       "1                        max f2   0.378433     0.931305  252.0\n",
       "2                  max f0point5   0.611741     0.901469  158.0\n",
       "3                  max accuracy   0.490485     0.880900  206.0\n",
       "4                 max precision   0.941093     1.000000    0.0\n",
       "5                    max recall   0.161910     1.000000  349.0\n",
       "6               max specificity   0.941093     1.000000    0.0\n",
       "7              max absolute_mcc   0.482566     0.761086  209.0\n",
       "8    max min_per_class_accuracy   0.516347     0.879702  196.0\n",
       "9   max mean_per_class_accuracy   0.519846     0.880562  194.0\n",
       "10                      max tns   0.941093  4705.000000    0.0\n",
       "11                      max fns   0.941093  5287.000000    0.0\n",
       "12                      max fps   0.052287  4705.000000  399.0\n",
       "13                      max tps   0.161910  5295.000000  349.0\n",
       "14                      max tnr   0.941093     1.000000    0.0\n",
       "15                      max fnr   0.941093     0.998489    0.0\n",
       "16                      max fpr   0.052287     1.000000  399.0\n",
       "17                      max tpr   0.161910     1.000000  349.0"
      ]
     },
     "metadata": {},
     "output_type": "display_data"
    },
    {
     "name": "stdout",
     "output_type": "stream",
     "text": [
      "\n",
      "Gains/Lift Table: Avg response rate: 52,95 %, avg score: 52,61 %\n"
     ]
    },
    {
     "data": {
      "text/html": [
       "<div>\n",
       "<style scoped>\n",
       "    .dataframe tbody tr th:only-of-type {\n",
       "        vertical-align: middle;\n",
       "    }\n",
       "\n",
       "    .dataframe tbody tr th {\n",
       "        vertical-align: top;\n",
       "    }\n",
       "\n",
       "    .dataframe thead th {\n",
       "        text-align: right;\n",
       "    }\n",
       "</style>\n",
       "<table border=\"1\" class=\"dataframe\">\n",
       "  <thead>\n",
       "    <tr style=\"text-align: right;\">\n",
       "      <th></th>\n",
       "      <th></th>\n",
       "      <th>group</th>\n",
       "      <th>cumulative_data_fraction</th>\n",
       "      <th>lower_threshold</th>\n",
       "      <th>lift</th>\n",
       "      <th>cumulative_lift</th>\n",
       "      <th>response_rate</th>\n",
       "      <th>score</th>\n",
       "      <th>cumulative_response_rate</th>\n",
       "      <th>cumulative_score</th>\n",
       "      <th>capture_rate</th>\n",
       "      <th>cumulative_capture_rate</th>\n",
       "      <th>gain</th>\n",
       "      <th>cumulative_gain</th>\n",
       "    </tr>\n",
       "  </thead>\n",
       "  <tbody>\n",
       "    <tr>\n",
       "      <td>0</td>\n",
       "      <td></td>\n",
       "      <td>1</td>\n",
       "      <td>0.01</td>\n",
       "      <td>0.922234</td>\n",
       "      <td>1.888574</td>\n",
       "      <td>1.888574</td>\n",
       "      <td>1.000</td>\n",
       "      <td>0.928264</td>\n",
       "      <td>1.000000</td>\n",
       "      <td>0.928264</td>\n",
       "      <td>0.018886</td>\n",
       "      <td>0.018886</td>\n",
       "      <td>88.857413</td>\n",
       "      <td>88.857413</td>\n",
       "    </tr>\n",
       "    <tr>\n",
       "      <td>1</td>\n",
       "      <td></td>\n",
       "      <td>2</td>\n",
       "      <td>0.02</td>\n",
       "      <td>0.915357</td>\n",
       "      <td>1.888574</td>\n",
       "      <td>1.888574</td>\n",
       "      <td>1.000</td>\n",
       "      <td>0.918770</td>\n",
       "      <td>1.000000</td>\n",
       "      <td>0.923517</td>\n",
       "      <td>0.018886</td>\n",
       "      <td>0.037771</td>\n",
       "      <td>88.857413</td>\n",
       "      <td>88.857413</td>\n",
       "    </tr>\n",
       "    <tr>\n",
       "      <td>2</td>\n",
       "      <td></td>\n",
       "      <td>3</td>\n",
       "      <td>0.03</td>\n",
       "      <td>0.910702</td>\n",
       "      <td>1.888574</td>\n",
       "      <td>1.888574</td>\n",
       "      <td>1.000</td>\n",
       "      <td>0.912934</td>\n",
       "      <td>1.000000</td>\n",
       "      <td>0.919989</td>\n",
       "      <td>0.018886</td>\n",
       "      <td>0.056657</td>\n",
       "      <td>88.857413</td>\n",
       "      <td>88.857413</td>\n",
       "    </tr>\n",
       "    <tr>\n",
       "      <td>3</td>\n",
       "      <td></td>\n",
       "      <td>4</td>\n",
       "      <td>0.04</td>\n",
       "      <td>0.906721</td>\n",
       "      <td>1.888574</td>\n",
       "      <td>1.888574</td>\n",
       "      <td>1.000</td>\n",
       "      <td>0.908866</td>\n",
       "      <td>1.000000</td>\n",
       "      <td>0.917209</td>\n",
       "      <td>0.018886</td>\n",
       "      <td>0.075543</td>\n",
       "      <td>88.857413</td>\n",
       "      <td>88.857413</td>\n",
       "    </tr>\n",
       "    <tr>\n",
       "      <td>4</td>\n",
       "      <td></td>\n",
       "      <td>5</td>\n",
       "      <td>0.05</td>\n",
       "      <td>0.902610</td>\n",
       "      <td>1.888574</td>\n",
       "      <td>1.888574</td>\n",
       "      <td>1.000</td>\n",
       "      <td>0.904723</td>\n",
       "      <td>1.000000</td>\n",
       "      <td>0.914711</td>\n",
       "      <td>0.018886</td>\n",
       "      <td>0.094429</td>\n",
       "      <td>88.857413</td>\n",
       "      <td>88.857413</td>\n",
       "    </tr>\n",
       "    <tr>\n",
       "      <td>5</td>\n",
       "      <td></td>\n",
       "      <td>6</td>\n",
       "      <td>0.10</td>\n",
       "      <td>0.880119</td>\n",
       "      <td>1.884797</td>\n",
       "      <td>1.886686</td>\n",
       "      <td>0.998</td>\n",
       "      <td>0.891574</td>\n",
       "      <td>0.999000</td>\n",
       "      <td>0.903143</td>\n",
       "      <td>0.094240</td>\n",
       "      <td>0.188669</td>\n",
       "      <td>88.479698</td>\n",
       "      <td>88.668555</td>\n",
       "    </tr>\n",
       "    <tr>\n",
       "      <td>6</td>\n",
       "      <td></td>\n",
       "      <td>7</td>\n",
       "      <td>0.15</td>\n",
       "      <td>0.855721</td>\n",
       "      <td>1.888574</td>\n",
       "      <td>1.887315</td>\n",
       "      <td>1.000</td>\n",
       "      <td>0.868411</td>\n",
       "      <td>0.999333</td>\n",
       "      <td>0.891566</td>\n",
       "      <td>0.094429</td>\n",
       "      <td>0.283097</td>\n",
       "      <td>88.857413</td>\n",
       "      <td>88.731508</td>\n",
       "    </tr>\n",
       "    <tr>\n",
       "      <td>7</td>\n",
       "      <td></td>\n",
       "      <td>8</td>\n",
       "      <td>0.20</td>\n",
       "      <td>0.827064</td>\n",
       "      <td>1.869688</td>\n",
       "      <td>1.882908</td>\n",
       "      <td>0.990</td>\n",
       "      <td>0.842302</td>\n",
       "      <td>0.997000</td>\n",
       "      <td>0.879250</td>\n",
       "      <td>0.093484</td>\n",
       "      <td>0.376582</td>\n",
       "      <td>86.968839</td>\n",
       "      <td>88.290840</td>\n",
       "    </tr>\n",
       "    <tr>\n",
       "      <td>8</td>\n",
       "      <td></td>\n",
       "      <td>9</td>\n",
       "      <td>0.30</td>\n",
       "      <td>0.754056</td>\n",
       "      <td>1.794145</td>\n",
       "      <td>1.853321</td>\n",
       "      <td>0.950</td>\n",
       "      <td>0.792030</td>\n",
       "      <td>0.981333</td>\n",
       "      <td>0.850177</td>\n",
       "      <td>0.179415</td>\n",
       "      <td>0.555996</td>\n",
       "      <td>79.414542</td>\n",
       "      <td>85.332074</td>\n",
       "    </tr>\n",
       "    <tr>\n",
       "      <td>9</td>\n",
       "      <td></td>\n",
       "      <td>10</td>\n",
       "      <td>0.40</td>\n",
       "      <td>0.660380</td>\n",
       "      <td>1.644948</td>\n",
       "      <td>1.801228</td>\n",
       "      <td>0.871</td>\n",
       "      <td>0.708875</td>\n",
       "      <td>0.953750</td>\n",
       "      <td>0.814851</td>\n",
       "      <td>0.164495</td>\n",
       "      <td>0.720491</td>\n",
       "      <td>64.494806</td>\n",
       "      <td>80.122757</td>\n",
       "    </tr>\n",
       "    <tr>\n",
       "      <td>10</td>\n",
       "      <td></td>\n",
       "      <td>11</td>\n",
       "      <td>0.50</td>\n",
       "      <td>0.543420</td>\n",
       "      <td>1.340888</td>\n",
       "      <td>1.709160</td>\n",
       "      <td>0.710</td>\n",
       "      <td>0.603486</td>\n",
       "      <td>0.905000</td>\n",
       "      <td>0.772578</td>\n",
       "      <td>0.134089</td>\n",
       "      <td>0.854580</td>\n",
       "      <td>34.088763</td>\n",
       "      <td>70.915958</td>\n",
       "    </tr>\n",
       "    <tr>\n",
       "      <td>11</td>\n",
       "      <td></td>\n",
       "      <td>12</td>\n",
       "      <td>0.60</td>\n",
       "      <td>0.420558</td>\n",
       "      <td>0.936733</td>\n",
       "      <td>1.580422</td>\n",
       "      <td>0.496</td>\n",
       "      <td>0.482155</td>\n",
       "      <td>0.836833</td>\n",
       "      <td>0.724174</td>\n",
       "      <td>0.093673</td>\n",
       "      <td>0.948253</td>\n",
       "      <td>-6.326723</td>\n",
       "      <td>58.042178</td>\n",
       "    </tr>\n",
       "    <tr>\n",
       "      <td>12</td>\n",
       "      <td></td>\n",
       "      <td>13</td>\n",
       "      <td>0.70</td>\n",
       "      <td>0.309903</td>\n",
       "      <td>0.400378</td>\n",
       "      <td>1.411844</td>\n",
       "      <td>0.212</td>\n",
       "      <td>0.363256</td>\n",
       "      <td>0.747571</td>\n",
       "      <td>0.672615</td>\n",
       "      <td>0.040038</td>\n",
       "      <td>0.988291</td>\n",
       "      <td>-59.962229</td>\n",
       "      <td>41.184406</td>\n",
       "    </tr>\n",
       "    <tr>\n",
       "      <td>13</td>\n",
       "      <td></td>\n",
       "      <td>14</td>\n",
       "      <td>0.80</td>\n",
       "      <td>0.221017</td>\n",
       "      <td>0.092540</td>\n",
       "      <td>1.246931</td>\n",
       "      <td>0.049</td>\n",
       "      <td>0.263173</td>\n",
       "      <td>0.660250</td>\n",
       "      <td>0.621434</td>\n",
       "      <td>0.009254</td>\n",
       "      <td>0.997545</td>\n",
       "      <td>-90.745987</td>\n",
       "      <td>24.693107</td>\n",
       "    </tr>\n",
       "    <tr>\n",
       "      <td>14</td>\n",
       "      <td></td>\n",
       "      <td>15</td>\n",
       "      <td>0.90</td>\n",
       "      <td>0.147251</td>\n",
       "      <td>0.024551</td>\n",
       "      <td>1.111111</td>\n",
       "      <td>0.013</td>\n",
       "      <td>0.184968</td>\n",
       "      <td>0.588333</td>\n",
       "      <td>0.572938</td>\n",
       "      <td>0.002455</td>\n",
       "      <td>1.000000</td>\n",
       "      <td>-97.544854</td>\n",
       "      <td>11.111111</td>\n",
       "    </tr>\n",
       "    <tr>\n",
       "      <td>15</td>\n",
       "      <td></td>\n",
       "      <td>16</td>\n",
       "      <td>1.00</td>\n",
       "      <td>0.049655</td>\n",
       "      <td>0.000000</td>\n",
       "      <td>1.000000</td>\n",
       "      <td>0.000</td>\n",
       "      <td>0.104496</td>\n",
       "      <td>0.529500</td>\n",
       "      <td>0.526094</td>\n",
       "      <td>0.000000</td>\n",
       "      <td>1.000000</td>\n",
       "      <td>-100.000000</td>\n",
       "      <td>0.000000</td>\n",
       "    </tr>\n",
       "  </tbody>\n",
       "</table>\n",
       "</div>"
      ],
      "text/plain": [
       "      group  cumulative_data_fraction  lower_threshold      lift  \\\n",
       "0         1                      0.01         0.922234  1.888574   \n",
       "1         2                      0.02         0.915357  1.888574   \n",
       "2         3                      0.03         0.910702  1.888574   \n",
       "3         4                      0.04         0.906721  1.888574   \n",
       "4         5                      0.05         0.902610  1.888574   \n",
       "5         6                      0.10         0.880119  1.884797   \n",
       "6         7                      0.15         0.855721  1.888574   \n",
       "7         8                      0.20         0.827064  1.869688   \n",
       "8         9                      0.30         0.754056  1.794145   \n",
       "9        10                      0.40         0.660380  1.644948   \n",
       "10       11                      0.50         0.543420  1.340888   \n",
       "11       12                      0.60         0.420558  0.936733   \n",
       "12       13                      0.70         0.309903  0.400378   \n",
       "13       14                      0.80         0.221017  0.092540   \n",
       "14       15                      0.90         0.147251  0.024551   \n",
       "15       16                      1.00         0.049655  0.000000   \n",
       "\n",
       "    cumulative_lift  response_rate     score  cumulative_response_rate  \\\n",
       "0          1.888574          1.000  0.928264                  1.000000   \n",
       "1          1.888574          1.000  0.918770                  1.000000   \n",
       "2          1.888574          1.000  0.912934                  1.000000   \n",
       "3          1.888574          1.000  0.908866                  1.000000   \n",
       "4          1.888574          1.000  0.904723                  1.000000   \n",
       "5          1.886686          0.998  0.891574                  0.999000   \n",
       "6          1.887315          1.000  0.868411                  0.999333   \n",
       "7          1.882908          0.990  0.842302                  0.997000   \n",
       "8          1.853321          0.950  0.792030                  0.981333   \n",
       "9          1.801228          0.871  0.708875                  0.953750   \n",
       "10         1.709160          0.710  0.603486                  0.905000   \n",
       "11         1.580422          0.496  0.482155                  0.836833   \n",
       "12         1.411844          0.212  0.363256                  0.747571   \n",
       "13         1.246931          0.049  0.263173                  0.660250   \n",
       "14         1.111111          0.013  0.184968                  0.588333   \n",
       "15         1.000000          0.000  0.104496                  0.529500   \n",
       "\n",
       "    cumulative_score  capture_rate  cumulative_capture_rate        gain  \\\n",
       "0           0.928264      0.018886                 0.018886   88.857413   \n",
       "1           0.923517      0.018886                 0.037771   88.857413   \n",
       "2           0.919989      0.018886                 0.056657   88.857413   \n",
       "3           0.917209      0.018886                 0.075543   88.857413   \n",
       "4           0.914711      0.018886                 0.094429   88.857413   \n",
       "5           0.903143      0.094240                 0.188669   88.479698   \n",
       "6           0.891566      0.094429                 0.283097   88.857413   \n",
       "7           0.879250      0.093484                 0.376582   86.968839   \n",
       "8           0.850177      0.179415                 0.555996   79.414542   \n",
       "9           0.814851      0.164495                 0.720491   64.494806   \n",
       "10          0.772578      0.134089                 0.854580   34.088763   \n",
       "11          0.724174      0.093673                 0.948253   -6.326723   \n",
       "12          0.672615      0.040038                 0.988291  -59.962229   \n",
       "13          0.621434      0.009254                 0.997545  -90.745987   \n",
       "14          0.572938      0.002455                 1.000000  -97.544854   \n",
       "15          0.526094      0.000000                 1.000000 -100.000000   \n",
       "\n",
       "    cumulative_gain  \n",
       "0         88.857413  \n",
       "1         88.857413  \n",
       "2         88.857413  \n",
       "3         88.857413  \n",
       "4         88.857413  \n",
       "5         88.668555  \n",
       "6         88.731508  \n",
       "7         88.290840  \n",
       "8         85.332074  \n",
       "9         80.122757  \n",
       "10        70.915958  \n",
       "11        58.042178  \n",
       "12        41.184406  \n",
       "13        24.693107  \n",
       "14        11.111111  \n",
       "15         0.000000  "
      ]
     },
     "metadata": {},
     "output_type": "display_data"
    },
    {
     "name": "stdout",
     "output_type": "stream",
     "text": [
      "\n",
      "\n",
      "ModelMetricsBinomialGLM: stackedensemble\n",
      "** Reported on cross-validation data. **\n",
      "\n",
      "MSE: 0.18680131614195267\n",
      "RMSE: 0.43220517829145993\n",
      "LogLoss: 0.5515051808332613\n",
      "Null degrees of freedom: 9999\n",
      "Residual degrees of freedom: 9986\n",
      "Null deviance: 13829.717313823481\n",
      "Residual deviance: 11030.103616665225\n",
      "AIC: 11058.103616665225\n",
      "AUC: 0.7897944745659641\n",
      "pr_auc: 0.8063694433652726\n",
      "Gini: 0.5795889491319282\n",
      "\n",
      "Confusion Matrix (Act/Pred) for max f1 @ threshold = 0.3575050937171837: \n"
     ]
    },
    {
     "data": {
      "text/html": [
       "<div>\n",
       "<style scoped>\n",
       "    .dataframe tbody tr th:only-of-type {\n",
       "        vertical-align: middle;\n",
       "    }\n",
       "\n",
       "    .dataframe tbody tr th {\n",
       "        vertical-align: top;\n",
       "    }\n",
       "\n",
       "    .dataframe thead th {\n",
       "        text-align: right;\n",
       "    }\n",
       "</style>\n",
       "<table border=\"1\" class=\"dataframe\">\n",
       "  <thead>\n",
       "    <tr style=\"text-align: right;\">\n",
       "      <th></th>\n",
       "      <th></th>\n",
       "      <th>0</th>\n",
       "      <th>1</th>\n",
       "      <th>Error</th>\n",
       "      <th>Rate</th>\n",
       "    </tr>\n",
       "  </thead>\n",
       "  <tbody>\n",
       "    <tr>\n",
       "      <td>0</td>\n",
       "      <td>0</td>\n",
       "      <td>2360.0</td>\n",
       "      <td>2345.0</td>\n",
       "      <td>0.4984</td>\n",
       "      <td>(2345.0/4705.0)</td>\n",
       "    </tr>\n",
       "    <tr>\n",
       "      <td>1</td>\n",
       "      <td>1</td>\n",
       "      <td>695.0</td>\n",
       "      <td>4600.0</td>\n",
       "      <td>0.1313</td>\n",
       "      <td>(695.0/5295.0)</td>\n",
       "    </tr>\n",
       "    <tr>\n",
       "      <td>2</td>\n",
       "      <td>Total</td>\n",
       "      <td>3055.0</td>\n",
       "      <td>6945.0</td>\n",
       "      <td>0.304</td>\n",
       "      <td>(3040.0/10000.0)</td>\n",
       "    </tr>\n",
       "  </tbody>\n",
       "</table>\n",
       "</div>"
      ],
      "text/plain": [
       "               0       1   Error               Rate\n",
       "0      0  2360.0  2345.0  0.4984    (2345.0/4705.0)\n",
       "1      1   695.0  4600.0  0.1313     (695.0/5295.0)\n",
       "2  Total  3055.0  6945.0   0.304   (3040.0/10000.0)"
      ]
     },
     "metadata": {},
     "output_type": "display_data"
    },
    {
     "name": "stdout",
     "output_type": "stream",
     "text": [
      "\n",
      "Maximum Metrics: Maximum metrics at their respective thresholds\n"
     ]
    },
    {
     "data": {
      "text/html": [
       "<div>\n",
       "<style scoped>\n",
       "    .dataframe tbody tr th:only-of-type {\n",
       "        vertical-align: middle;\n",
       "    }\n",
       "\n",
       "    .dataframe tbody tr th {\n",
       "        vertical-align: top;\n",
       "    }\n",
       "\n",
       "    .dataframe thead th {\n",
       "        text-align: right;\n",
       "    }\n",
       "</style>\n",
       "<table border=\"1\" class=\"dataframe\">\n",
       "  <thead>\n",
       "    <tr style=\"text-align: right;\">\n",
       "      <th></th>\n",
       "      <th>metric</th>\n",
       "      <th>threshold</th>\n",
       "      <th>value</th>\n",
       "      <th>idx</th>\n",
       "    </tr>\n",
       "  </thead>\n",
       "  <tbody>\n",
       "    <tr>\n",
       "      <td>0</td>\n",
       "      <td>max f1</td>\n",
       "      <td>0.357505</td>\n",
       "      <td>0.751634</td>\n",
       "      <td>269.0</td>\n",
       "    </tr>\n",
       "    <tr>\n",
       "      <td>1</td>\n",
       "      <td>max f2</td>\n",
       "      <td>0.161212</td>\n",
       "      <td>0.861626</td>\n",
       "      <td>355.0</td>\n",
       "    </tr>\n",
       "    <tr>\n",
       "      <td>2</td>\n",
       "      <td>max f0point5</td>\n",
       "      <td>0.608919</td>\n",
       "      <td>0.740244</td>\n",
       "      <td>158.0</td>\n",
       "    </tr>\n",
       "    <tr>\n",
       "      <td>3</td>\n",
       "      <td>max accuracy</td>\n",
       "      <td>0.495853</td>\n",
       "      <td>0.713700</td>\n",
       "      <td>210.0</td>\n",
       "    </tr>\n",
       "    <tr>\n",
       "      <td>4</td>\n",
       "      <td>max precision</td>\n",
       "      <td>0.940249</td>\n",
       "      <td>1.000000</td>\n",
       "      <td>0.0</td>\n",
       "    </tr>\n",
       "    <tr>\n",
       "      <td>5</td>\n",
       "      <td>max recall</td>\n",
       "      <td>0.071277</td>\n",
       "      <td>1.000000</td>\n",
       "      <td>394.0</td>\n",
       "    </tr>\n",
       "    <tr>\n",
       "      <td>6</td>\n",
       "      <td>max specificity</td>\n",
       "      <td>0.940249</td>\n",
       "      <td>1.000000</td>\n",
       "      <td>0.0</td>\n",
       "    </tr>\n",
       "    <tr>\n",
       "      <td>7</td>\n",
       "      <td>max absolute_mcc</td>\n",
       "      <td>0.578879</td>\n",
       "      <td>0.428451</td>\n",
       "      <td>172.0</td>\n",
       "    </tr>\n",
       "    <tr>\n",
       "      <td>8</td>\n",
       "      <td>max min_per_class_accuracy</td>\n",
       "      <td>0.525527</td>\n",
       "      <td>0.711796</td>\n",
       "      <td>197.0</td>\n",
       "    </tr>\n",
       "    <tr>\n",
       "      <td>9</td>\n",
       "      <td>max mean_per_class_accuracy</td>\n",
       "      <td>0.578879</td>\n",
       "      <td>0.713946</td>\n",
       "      <td>172.0</td>\n",
       "    </tr>\n",
       "    <tr>\n",
       "      <td>10</td>\n",
       "      <td>max tns</td>\n",
       "      <td>0.940249</td>\n",
       "      <td>4705.000000</td>\n",
       "      <td>0.0</td>\n",
       "    </tr>\n",
       "    <tr>\n",
       "      <td>11</td>\n",
       "      <td>max fns</td>\n",
       "      <td>0.940249</td>\n",
       "      <td>5290.000000</td>\n",
       "      <td>0.0</td>\n",
       "    </tr>\n",
       "    <tr>\n",
       "      <td>12</td>\n",
       "      <td>max fps</td>\n",
       "      <td>0.056377</td>\n",
       "      <td>4705.000000</td>\n",
       "      <td>399.0</td>\n",
       "    </tr>\n",
       "    <tr>\n",
       "      <td>13</td>\n",
       "      <td>max tps</td>\n",
       "      <td>0.071277</td>\n",
       "      <td>5295.000000</td>\n",
       "      <td>394.0</td>\n",
       "    </tr>\n",
       "    <tr>\n",
       "      <td>14</td>\n",
       "      <td>max tnr</td>\n",
       "      <td>0.940249</td>\n",
       "      <td>1.000000</td>\n",
       "      <td>0.0</td>\n",
       "    </tr>\n",
       "    <tr>\n",
       "      <td>15</td>\n",
       "      <td>max fnr</td>\n",
       "      <td>0.940249</td>\n",
       "      <td>0.999056</td>\n",
       "      <td>0.0</td>\n",
       "    </tr>\n",
       "    <tr>\n",
       "      <td>16</td>\n",
       "      <td>max fpr</td>\n",
       "      <td>0.056377</td>\n",
       "      <td>1.000000</td>\n",
       "      <td>399.0</td>\n",
       "    </tr>\n",
       "    <tr>\n",
       "      <td>17</td>\n",
       "      <td>max tpr</td>\n",
       "      <td>0.071277</td>\n",
       "      <td>1.000000</td>\n",
       "      <td>394.0</td>\n",
       "    </tr>\n",
       "  </tbody>\n",
       "</table>\n",
       "</div>"
      ],
      "text/plain": [
       "                         metric  threshold        value    idx\n",
       "0                        max f1   0.357505     0.751634  269.0\n",
       "1                        max f2   0.161212     0.861626  355.0\n",
       "2                  max f0point5   0.608919     0.740244  158.0\n",
       "3                  max accuracy   0.495853     0.713700  210.0\n",
       "4                 max precision   0.940249     1.000000    0.0\n",
       "5                    max recall   0.071277     1.000000  394.0\n",
       "6               max specificity   0.940249     1.000000    0.0\n",
       "7              max absolute_mcc   0.578879     0.428451  172.0\n",
       "8    max min_per_class_accuracy   0.525527     0.711796  197.0\n",
       "9   max mean_per_class_accuracy   0.578879     0.713946  172.0\n",
       "10                      max tns   0.940249  4705.000000    0.0\n",
       "11                      max fns   0.940249  5290.000000    0.0\n",
       "12                      max fps   0.056377  4705.000000  399.0\n",
       "13                      max tps   0.071277  5295.000000  394.0\n",
       "14                      max tnr   0.940249     1.000000    0.0\n",
       "15                      max fnr   0.940249     0.999056    0.0\n",
       "16                      max fpr   0.056377     1.000000  399.0\n",
       "17                      max tpr   0.071277     1.000000  394.0"
      ]
     },
     "metadata": {},
     "output_type": "display_data"
    },
    {
     "name": "stdout",
     "output_type": "stream",
     "text": [
      "\n",
      "Gains/Lift Table: Avg response rate: 52,95 %, avg score: 52,94 %\n"
     ]
    },
    {
     "data": {
      "text/html": [
       "<div>\n",
       "<style scoped>\n",
       "    .dataframe tbody tr th:only-of-type {\n",
       "        vertical-align: middle;\n",
       "    }\n",
       "\n",
       "    .dataframe tbody tr th {\n",
       "        vertical-align: top;\n",
       "    }\n",
       "\n",
       "    .dataframe thead th {\n",
       "        text-align: right;\n",
       "    }\n",
       "</style>\n",
       "<table border=\"1\" class=\"dataframe\">\n",
       "  <thead>\n",
       "    <tr style=\"text-align: right;\">\n",
       "      <th></th>\n",
       "      <th></th>\n",
       "      <th>group</th>\n",
       "      <th>cumulative_data_fraction</th>\n",
       "      <th>lower_threshold</th>\n",
       "      <th>lift</th>\n",
       "      <th>cumulative_lift</th>\n",
       "      <th>response_rate</th>\n",
       "      <th>score</th>\n",
       "      <th>cumulative_response_rate</th>\n",
       "      <th>cumulative_score</th>\n",
       "      <th>capture_rate</th>\n",
       "      <th>cumulative_capture_rate</th>\n",
       "      <th>gain</th>\n",
       "      <th>cumulative_gain</th>\n",
       "    </tr>\n",
       "  </thead>\n",
       "  <tbody>\n",
       "    <tr>\n",
       "      <td>0</td>\n",
       "      <td></td>\n",
       "      <td>1</td>\n",
       "      <td>0.01</td>\n",
       "      <td>0.915847</td>\n",
       "      <td>1.831917</td>\n",
       "      <td>1.831917</td>\n",
       "      <td>0.970</td>\n",
       "      <td>0.924522</td>\n",
       "      <td>0.970000</td>\n",
       "      <td>0.924522</td>\n",
       "      <td>0.018319</td>\n",
       "      <td>0.018319</td>\n",
       "      <td>83.191690</td>\n",
       "      <td>83.191690</td>\n",
       "    </tr>\n",
       "    <tr>\n",
       "      <td>1</td>\n",
       "      <td></td>\n",
       "      <td>2</td>\n",
       "      <td>0.02</td>\n",
       "      <td>0.908652</td>\n",
       "      <td>1.831917</td>\n",
       "      <td>1.831917</td>\n",
       "      <td>0.970</td>\n",
       "      <td>0.912095</td>\n",
       "      <td>0.970000</td>\n",
       "      <td>0.918308</td>\n",
       "      <td>0.018319</td>\n",
       "      <td>0.036638</td>\n",
       "      <td>83.191690</td>\n",
       "      <td>83.191690</td>\n",
       "    </tr>\n",
       "    <tr>\n",
       "      <td>2</td>\n",
       "      <td></td>\n",
       "      <td>3</td>\n",
       "      <td>0.03</td>\n",
       "      <td>0.902161</td>\n",
       "      <td>1.813031</td>\n",
       "      <td>1.825622</td>\n",
       "      <td>0.960</td>\n",
       "      <td>0.905457</td>\n",
       "      <td>0.966667</td>\n",
       "      <td>0.914024</td>\n",
       "      <td>0.018130</td>\n",
       "      <td>0.054769</td>\n",
       "      <td>81.303116</td>\n",
       "      <td>82.562166</td>\n",
       "    </tr>\n",
       "    <tr>\n",
       "      <td>3</td>\n",
       "      <td></td>\n",
       "      <td>4</td>\n",
       "      <td>0.04</td>\n",
       "      <td>0.895910</td>\n",
       "      <td>1.756374</td>\n",
       "      <td>1.808310</td>\n",
       "      <td>0.930</td>\n",
       "      <td>0.898929</td>\n",
       "      <td>0.957500</td>\n",
       "      <td>0.910251</td>\n",
       "      <td>0.017564</td>\n",
       "      <td>0.072332</td>\n",
       "      <td>75.637394</td>\n",
       "      <td>80.830973</td>\n",
       "    </tr>\n",
       "    <tr>\n",
       "      <td>4</td>\n",
       "      <td></td>\n",
       "      <td>5</td>\n",
       "      <td>0.05</td>\n",
       "      <td>0.889943</td>\n",
       "      <td>1.756374</td>\n",
       "      <td>1.797923</td>\n",
       "      <td>0.930</td>\n",
       "      <td>0.893034</td>\n",
       "      <td>0.952000</td>\n",
       "      <td>0.906807</td>\n",
       "      <td>0.017564</td>\n",
       "      <td>0.089896</td>\n",
       "      <td>75.637394</td>\n",
       "      <td>79.792257</td>\n",
       "    </tr>\n",
       "    <tr>\n",
       "      <td>5</td>\n",
       "      <td></td>\n",
       "      <td>6</td>\n",
       "      <td>0.10</td>\n",
       "      <td>0.862742</td>\n",
       "      <td>1.695940</td>\n",
       "      <td>1.746931</td>\n",
       "      <td>0.898</td>\n",
       "      <td>0.876792</td>\n",
       "      <td>0.925000</td>\n",
       "      <td>0.891800</td>\n",
       "      <td>0.084797</td>\n",
       "      <td>0.174693</td>\n",
       "      <td>69.593957</td>\n",
       "      <td>74.693107</td>\n",
       "    </tr>\n",
       "    <tr>\n",
       "      <td>6</td>\n",
       "      <td></td>\n",
       "      <td>7</td>\n",
       "      <td>0.15</td>\n",
       "      <td>0.832285</td>\n",
       "      <td>1.616619</td>\n",
       "      <td>1.703494</td>\n",
       "      <td>0.856</td>\n",
       "      <td>0.847602</td>\n",
       "      <td>0.902000</td>\n",
       "      <td>0.877067</td>\n",
       "      <td>0.080831</td>\n",
       "      <td>0.255524</td>\n",
       "      <td>61.661945</td>\n",
       "      <td>70.349386</td>\n",
       "    </tr>\n",
       "    <tr>\n",
       "      <td>7</td>\n",
       "      <td></td>\n",
       "      <td>8</td>\n",
       "      <td>0.20</td>\n",
       "      <td>0.799093</td>\n",
       "      <td>1.525968</td>\n",
       "      <td>1.659112</td>\n",
       "      <td>0.808</td>\n",
       "      <td>0.815900</td>\n",
       "      <td>0.878500</td>\n",
       "      <td>0.861775</td>\n",
       "      <td>0.076298</td>\n",
       "      <td>0.331822</td>\n",
       "      <td>52.596789</td>\n",
       "      <td>65.911237</td>\n",
       "    </tr>\n",
       "    <tr>\n",
       "      <td>8</td>\n",
       "      <td></td>\n",
       "      <td>9</td>\n",
       "      <td>0.30</td>\n",
       "      <td>0.724059</td>\n",
       "      <td>1.389991</td>\n",
       "      <td>1.569405</td>\n",
       "      <td>0.736</td>\n",
       "      <td>0.763220</td>\n",
       "      <td>0.831000</td>\n",
       "      <td>0.828924</td>\n",
       "      <td>0.138999</td>\n",
       "      <td>0.470822</td>\n",
       "      <td>38.999056</td>\n",
       "      <td>56.940510</td>\n",
       "    </tr>\n",
       "    <tr>\n",
       "      <td>9</td>\n",
       "      <td></td>\n",
       "      <td>10</td>\n",
       "      <td>0.40</td>\n",
       "      <td>0.633805</td>\n",
       "      <td>1.237016</td>\n",
       "      <td>1.486308</td>\n",
       "      <td>0.655</td>\n",
       "      <td>0.679136</td>\n",
       "      <td>0.787000</td>\n",
       "      <td>0.791477</td>\n",
       "      <td>0.123702</td>\n",
       "      <td>0.594523</td>\n",
       "      <td>23.701605</td>\n",
       "      <td>48.630784</td>\n",
       "    </tr>\n",
       "    <tr>\n",
       "      <td>10</td>\n",
       "      <td></td>\n",
       "      <td>11</td>\n",
       "      <td>0.50</td>\n",
       "      <td>0.537497</td>\n",
       "      <td>1.050047</td>\n",
       "      <td>1.399056</td>\n",
       "      <td>0.556</td>\n",
       "      <td>0.587145</td>\n",
       "      <td>0.740800</td>\n",
       "      <td>0.750610</td>\n",
       "      <td>0.105005</td>\n",
       "      <td>0.699528</td>\n",
       "      <td>5.004721</td>\n",
       "      <td>39.905571</td>\n",
       "    </tr>\n",
       "    <tr>\n",
       "      <td>11</td>\n",
       "      <td></td>\n",
       "      <td>12</td>\n",
       "      <td>0.60</td>\n",
       "      <td>0.445888</td>\n",
       "      <td>0.912181</td>\n",
       "      <td>1.317910</td>\n",
       "      <td>0.483</td>\n",
       "      <td>0.490843</td>\n",
       "      <td>0.697833</td>\n",
       "      <td>0.707316</td>\n",
       "      <td>0.091218</td>\n",
       "      <td>0.790746</td>\n",
       "      <td>-8.781870</td>\n",
       "      <td>31.790998</td>\n",
       "    </tr>\n",
       "    <tr>\n",
       "      <td>12</td>\n",
       "      <td></td>\n",
       "      <td>13</td>\n",
       "      <td>0.70</td>\n",
       "      <td>0.350327</td>\n",
       "      <td>0.810198</td>\n",
       "      <td>1.245380</td>\n",
       "      <td>0.429</td>\n",
       "      <td>0.398108</td>\n",
       "      <td>0.659429</td>\n",
       "      <td>0.663143</td>\n",
       "      <td>0.081020</td>\n",
       "      <td>0.871766</td>\n",
       "      <td>-18.980170</td>\n",
       "      <td>24.537974</td>\n",
       "    </tr>\n",
       "    <tr>\n",
       "      <td>13</td>\n",
       "      <td></td>\n",
       "      <td>14</td>\n",
       "      <td>0.80</td>\n",
       "      <td>0.266371</td>\n",
       "      <td>0.619452</td>\n",
       "      <td>1.167139</td>\n",
       "      <td>0.328</td>\n",
       "      <td>0.307285</td>\n",
       "      <td>0.618000</td>\n",
       "      <td>0.618661</td>\n",
       "      <td>0.061945</td>\n",
       "      <td>0.933711</td>\n",
       "      <td>-38.054769</td>\n",
       "      <td>16.713881</td>\n",
       "    </tr>\n",
       "    <tr>\n",
       "      <td>14</td>\n",
       "      <td></td>\n",
       "      <td>15</td>\n",
       "      <td>0.90</td>\n",
       "      <td>0.175487</td>\n",
       "      <td>0.479698</td>\n",
       "      <td>1.090756</td>\n",
       "      <td>0.254</td>\n",
       "      <td>0.222854</td>\n",
       "      <td>0.577556</td>\n",
       "      <td>0.574682</td>\n",
       "      <td>0.047970</td>\n",
       "      <td>0.981681</td>\n",
       "      <td>-52.030217</td>\n",
       "      <td>9.075648</td>\n",
       "    </tr>\n",
       "    <tr>\n",
       "      <td>15</td>\n",
       "      <td></td>\n",
       "      <td>16</td>\n",
       "      <td>1.00</td>\n",
       "      <td>0.052278</td>\n",
       "      <td>0.183192</td>\n",
       "      <td>1.000000</td>\n",
       "      <td>0.097</td>\n",
       "      <td>0.121770</td>\n",
       "      <td>0.529500</td>\n",
       "      <td>0.529391</td>\n",
       "      <td>0.018319</td>\n",
       "      <td>1.000000</td>\n",
       "      <td>-81.680831</td>\n",
       "      <td>0.000000</td>\n",
       "    </tr>\n",
       "  </tbody>\n",
       "</table>\n",
       "</div>"
      ],
      "text/plain": [
       "      group  cumulative_data_fraction  lower_threshold      lift  \\\n",
       "0         1                      0.01         0.915847  1.831917   \n",
       "1         2                      0.02         0.908652  1.831917   \n",
       "2         3                      0.03         0.902161  1.813031   \n",
       "3         4                      0.04         0.895910  1.756374   \n",
       "4         5                      0.05         0.889943  1.756374   \n",
       "5         6                      0.10         0.862742  1.695940   \n",
       "6         7                      0.15         0.832285  1.616619   \n",
       "7         8                      0.20         0.799093  1.525968   \n",
       "8         9                      0.30         0.724059  1.389991   \n",
       "9        10                      0.40         0.633805  1.237016   \n",
       "10       11                      0.50         0.537497  1.050047   \n",
       "11       12                      0.60         0.445888  0.912181   \n",
       "12       13                      0.70         0.350327  0.810198   \n",
       "13       14                      0.80         0.266371  0.619452   \n",
       "14       15                      0.90         0.175487  0.479698   \n",
       "15       16                      1.00         0.052278  0.183192   \n",
       "\n",
       "    cumulative_lift  response_rate     score  cumulative_response_rate  \\\n",
       "0          1.831917          0.970  0.924522                  0.970000   \n",
       "1          1.831917          0.970  0.912095                  0.970000   \n",
       "2          1.825622          0.960  0.905457                  0.966667   \n",
       "3          1.808310          0.930  0.898929                  0.957500   \n",
       "4          1.797923          0.930  0.893034                  0.952000   \n",
       "5          1.746931          0.898  0.876792                  0.925000   \n",
       "6          1.703494          0.856  0.847602                  0.902000   \n",
       "7          1.659112          0.808  0.815900                  0.878500   \n",
       "8          1.569405          0.736  0.763220                  0.831000   \n",
       "9          1.486308          0.655  0.679136                  0.787000   \n",
       "10         1.399056          0.556  0.587145                  0.740800   \n",
       "11         1.317910          0.483  0.490843                  0.697833   \n",
       "12         1.245380          0.429  0.398108                  0.659429   \n",
       "13         1.167139          0.328  0.307285                  0.618000   \n",
       "14         1.090756          0.254  0.222854                  0.577556   \n",
       "15         1.000000          0.097  0.121770                  0.529500   \n",
       "\n",
       "    cumulative_score  capture_rate  cumulative_capture_rate       gain  \\\n",
       "0           0.924522      0.018319                 0.018319  83.191690   \n",
       "1           0.918308      0.018319                 0.036638  83.191690   \n",
       "2           0.914024      0.018130                 0.054769  81.303116   \n",
       "3           0.910251      0.017564                 0.072332  75.637394   \n",
       "4           0.906807      0.017564                 0.089896  75.637394   \n",
       "5           0.891800      0.084797                 0.174693  69.593957   \n",
       "6           0.877067      0.080831                 0.255524  61.661945   \n",
       "7           0.861775      0.076298                 0.331822  52.596789   \n",
       "8           0.828924      0.138999                 0.470822  38.999056   \n",
       "9           0.791477      0.123702                 0.594523  23.701605   \n",
       "10          0.750610      0.105005                 0.699528   5.004721   \n",
       "11          0.707316      0.091218                 0.790746  -8.781870   \n",
       "12          0.663143      0.081020                 0.871766 -18.980170   \n",
       "13          0.618661      0.061945                 0.933711 -38.054769   \n",
       "14          0.574682      0.047970                 0.981681 -52.030217   \n",
       "15          0.529391      0.018319                 1.000000 -81.680831   \n",
       "\n",
       "    cumulative_gain  \n",
       "0         83.191690  \n",
       "1         83.191690  \n",
       "2         82.562166  \n",
       "3         80.830973  \n",
       "4         79.792257  \n",
       "5         74.693107  \n",
       "6         70.349386  \n",
       "7         65.911237  \n",
       "8         56.940510  \n",
       "9         48.630784  \n",
       "10        39.905571  \n",
       "11        31.790998  \n",
       "12        24.537974  \n",
       "13        16.713881  \n",
       "14         9.075648  \n",
       "15         0.000000  "
      ]
     },
     "metadata": {},
     "output_type": "display_data"
    },
    {
     "name": "stdout",
     "output_type": "stream",
     "text": [
      "\n"
     ]
    },
    {
     "data": {
      "text/plain": []
     },
     "execution_count": 120,
     "metadata": {},
     "output_type": "execute_result"
    }
   ],
   "source": [
    "aml.leader  # mejor modelo"
   ]
  },
  {
   "cell_type": "code",
   "execution_count": 121,
   "metadata": {},
   "outputs": [
    {
     "name": "stdout",
     "output_type": "stream",
     "text": [
      "stackedensemble prediction progress: |████████████████████████████████████| 100%\n"
     ]
    },
    {
     "data": {
      "text/html": [
       "<table>\n",
       "<thead>\n",
       "<tr><th style=\"text-align: right;\">  predict</th><th style=\"text-align: right;\">      p0</th><th style=\"text-align: right;\">      p1</th></tr>\n",
       "</thead>\n",
       "<tbody>\n",
       "<tr><td style=\"text-align: right;\">        0</td><td style=\"text-align: right;\">0.755542</td><td style=\"text-align: right;\">0.244458</td></tr>\n",
       "<tr><td style=\"text-align: right;\">        0</td><td style=\"text-align: right;\">0.66782 </td><td style=\"text-align: right;\">0.33218 </td></tr>\n",
       "<tr><td style=\"text-align: right;\">        1</td><td style=\"text-align: right;\">0.556233</td><td style=\"text-align: right;\">0.443767</td></tr>\n",
       "<tr><td style=\"text-align: right;\">        1</td><td style=\"text-align: right;\">0.320363</td><td style=\"text-align: right;\">0.679637</td></tr>\n",
       "<tr><td style=\"text-align: right;\">        0</td><td style=\"text-align: right;\">0.694617</td><td style=\"text-align: right;\">0.305383</td></tr>\n",
       "<tr><td style=\"text-align: right;\">        1</td><td style=\"text-align: right;\">0.254764</td><td style=\"text-align: right;\">0.745236</td></tr>\n",
       "<tr><td style=\"text-align: right;\">        1</td><td style=\"text-align: right;\">0.281006</td><td style=\"text-align: right;\">0.718994</td></tr>\n",
       "<tr><td style=\"text-align: right;\">        0</td><td style=\"text-align: right;\">0.682642</td><td style=\"text-align: right;\">0.317358</td></tr>\n",
       "<tr><td style=\"text-align: right;\">        1</td><td style=\"text-align: right;\">0.614314</td><td style=\"text-align: right;\">0.385686</td></tr>\n",
       "<tr><td style=\"text-align: right;\">        0</td><td style=\"text-align: right;\">0.791965</td><td style=\"text-align: right;\">0.208035</td></tr>\n",
       "</tbody>\n",
       "</table>"
      ]
     },
     "metadata": {},
     "output_type": "display_data"
    },
    {
     "data": {
      "text/plain": []
     },
     "execution_count": 121,
     "metadata": {},
     "output_type": "execute_result"
    }
   ],
   "source": [
    "pred=aml.leader.predict(test)\n",
    "\n",
    "pred"
   ]
  },
  {
   "cell_type": "code",
   "execution_count": 122,
   "metadata": {},
   "outputs": [
    {
     "data": {
      "text/html": [
       "<table>\n",
       "<thead>\n",
       "<tr><th style=\"text-align: right;\">  response</th><th style=\"text-align: right;\">      x1</th><th style=\"text-align: right;\">       x2</th><th style=\"text-align: right;\">       x3</th><th style=\"text-align: right;\">      x4</th><th style=\"text-align: right;\">        x5</th><th style=\"text-align: right;\">      x6</th><th style=\"text-align: right;\">        x7</th><th style=\"text-align: right;\">       x8</th><th style=\"text-align: right;\">     x9</th><th style=\"text-align: right;\">     x10</th><th style=\"text-align: right;\">        x11</th><th style=\"text-align: right;\">       x12</th><th style=\"text-align: right;\">    x13</th><th style=\"text-align: right;\">     x14</th><th style=\"text-align: right;\">       x15</th><th style=\"text-align: right;\">      x16</th><th style=\"text-align: right;\">    x17</th><th style=\"text-align: right;\">     x18</th><th style=\"text-align: right;\">        x19</th><th style=\"text-align: right;\">       x20</th><th style=\"text-align: right;\">    x21</th><th style=\"text-align: right;\">     x22</th><th style=\"text-align: right;\">     x23</th><th style=\"text-align: right;\">     x24</th><th style=\"text-align: right;\">     x25</th><th style=\"text-align: right;\">     x26</th><th style=\"text-align: right;\">     x27</th><th style=\"text-align: right;\">     x28</th></tr>\n",
       "</thead>\n",
       "<tbody>\n",
       "<tr><td style=\"text-align: right;\">         0</td><td style=\"text-align: right;\">0.623878</td><td style=\"text-align: right;\"> 0.459659</td><td style=\"text-align: right;\">-0.316512</td><td style=\"text-align: right;\">1.55701 </td><td style=\"text-align: right;\"> 0.644784 </td><td style=\"text-align: right;\">0.455929</td><td style=\"text-align: right;\">-2.24983  </td><td style=\"text-align: right;\">-0.361949</td><td style=\"text-align: right;\">0      </td><td style=\"text-align: right;\">0.832978</td><td style=\"text-align: right;\"> 1.41147   </td><td style=\"text-align: right;\"> 1.52846  </td><td style=\"text-align: right;\">0      </td><td style=\"text-align: right;\">0.722857</td><td style=\"text-align: right;\"> 1.00964  </td><td style=\"text-align: right;\"> 0.999539</td><td style=\"text-align: right;\">0      </td><td style=\"text-align: right;\">1.19099 </td><td style=\"text-align: right;\"> 0.81404   </td><td style=\"text-align: right;\">-0.879803 </td><td style=\"text-align: right;\">3.10196</td><td style=\"text-align: right;\">0.583344</td><td style=\"text-align: right;\">0.790246</td><td style=\"text-align: right;\">1.04087 </td><td style=\"text-align: right;\">0.848858</td><td style=\"text-align: right;\">0.229702</td><td style=\"text-align: right;\">0.65594 </td><td style=\"text-align: right;\">0.677857</td></tr>\n",
       "<tr><td style=\"text-align: right;\">         0</td><td style=\"text-align: right;\">1.68204 </td><td style=\"text-align: right;\"> 0.774251</td><td style=\"text-align: right;\"> 1.32875 </td><td style=\"text-align: right;\">0.234729</td><td style=\"text-align: right;\">-0.55783  </td><td style=\"text-align: right;\">0.442921</td><td style=\"text-align: right;\">-0.0832048</td><td style=\"text-align: right;\"> 1.08119 </td><td style=\"text-align: right;\">2.17308</td><td style=\"text-align: right;\">1.14585 </td><td style=\"text-align: right;\"> 0.16228   </td><td style=\"text-align: right;\">-0.268187 </td><td style=\"text-align: right;\">0      </td><td style=\"text-align: right;\">1.21407 </td><td style=\"text-align: right;\"> 0.194966 </td><td style=\"text-align: right;\">-1.15627 </td><td style=\"text-align: right;\">2.54822</td><td style=\"text-align: right;\">1.01915 </td><td style=\"text-align: right;\">-0.759163  </td><td style=\"text-align: right;\"> 0.136347 </td><td style=\"text-align: right;\">0      </td><td style=\"text-align: right;\">0.94183 </td><td style=\"text-align: right;\">0.941976</td><td style=\"text-align: right;\">0.98816 </td><td style=\"text-align: right;\">0.86435 </td><td style=\"text-align: right;\">0.835132</td><td style=\"text-align: right;\">0.767871</td><td style=\"text-align: right;\">0.833013</td></tr>\n",
       "<tr><td style=\"text-align: right;\">         1</td><td style=\"text-align: right;\">1.09403 </td><td style=\"text-align: right;\">-0.88734 </td><td style=\"text-align: right;\"> 0.949229</td><td style=\"text-align: right;\">0.410261</td><td style=\"text-align: right;\">-1.55868  </td><td style=\"text-align: right;\">0.523352</td><td style=\"text-align: right;\"> 0.131675 </td><td style=\"text-align: right;\"> 0.304513</td><td style=\"text-align: right;\">0      </td><td style=\"text-align: right;\">1.11916 </td><td style=\"text-align: right;\"> 1.09383   </td><td style=\"text-align: right;\">-0.396352 </td><td style=\"text-align: right;\">2.21487</td><td style=\"text-align: right;\">0.6289  </td><td style=\"text-align: right;\"> 0.628245 </td><td style=\"text-align: right;\"> 1.45775 </td><td style=\"text-align: right;\">0      </td><td style=\"text-align: right;\">0.523082</td><td style=\"text-align: right;\"> 0.508394  </td><td style=\"text-align: right;\"> 0.988137 </td><td style=\"text-align: right;\">0      </td><td style=\"text-align: right;\">0.929989</td><td style=\"text-align: right;\">0.973742</td><td style=\"text-align: right;\">0.989141</td><td style=\"text-align: right;\">0.780519</td><td style=\"text-align: right;\">0.749821</td><td style=\"text-align: right;\">0.887545</td><td style=\"text-align: right;\">0.925278</td></tr>\n",
       "<tr><td style=\"text-align: right;\">         0</td><td style=\"text-align: right;\">1.33871 </td><td style=\"text-align: right;\">-0.899027</td><td style=\"text-align: right;\">-1.25534 </td><td style=\"text-align: right;\">0.884285</td><td style=\"text-align: right;\">-0.747925 </td><td style=\"text-align: right;\">0.547445</td><td style=\"text-align: right;\">-0.79518  </td><td style=\"text-align: right;\"> 0.174235</td><td style=\"text-align: right;\">2.17308</td><td style=\"text-align: right;\">0.771663</td><td style=\"text-align: right;\">-0.31855   </td><td style=\"text-align: right;\"> 1.02356  </td><td style=\"text-align: right;\">2.21487</td><td style=\"text-align: right;\">0.408495</td><td style=\"text-align: right;\">-1.1431   </td><td style=\"text-align: right;\"> 0.139699</td><td style=\"text-align: right;\">0      </td><td style=\"text-align: right;\">1.29395 </td><td style=\"text-align: right;\">-1.34131   </td><td style=\"text-align: right;\"> 1.61685  </td><td style=\"text-align: right;\">0      </td><td style=\"text-align: right;\">0.79204 </td><td style=\"text-align: right;\">0.76921 </td><td style=\"text-align: right;\">0.984082</td><td style=\"text-align: right;\">1.06928 </td><td style=\"text-align: right;\">0.700852</td><td style=\"text-align: right;\">0.83083 </td><td style=\"text-align: right;\">0.71671 </td></tr>\n",
       "<tr><td style=\"text-align: right;\">         0</td><td style=\"text-align: right;\">0.699095</td><td style=\"text-align: right;\"> 1.43363 </td><td style=\"text-align: right;\">-1.72253 </td><td style=\"text-align: right;\">0.650113</td><td style=\"text-align: right;\">-0.167574 </td><td style=\"text-align: right;\">0.967464</td><td style=\"text-align: right;\"> 0.737696 </td><td style=\"text-align: right;\">-0.886391</td><td style=\"text-align: right;\">2.17308</td><td style=\"text-align: right;\">1.66797 </td><td style=\"text-align: right;\"> 0.446892  </td><td style=\"text-align: right;\"> 0.851008 </td><td style=\"text-align: right;\">0      </td><td style=\"text-align: right;\">0.59641 </td><td style=\"text-align: right;\"> 0.156736 </td><td style=\"text-align: right;\"> 0.340513</td><td style=\"text-align: right;\">0      </td><td style=\"text-align: right;\">0.694684</td><td style=\"text-align: right;\">-0.00046069</td><td style=\"text-align: right;\">-1.14949  </td><td style=\"text-align: right;\">3.10196</td><td style=\"text-align: right;\">0.714182</td><td style=\"text-align: right;\">0.839843</td><td style=\"text-align: right;\">0.984067</td><td style=\"text-align: right;\">0.917766</td><td style=\"text-align: right;\">0.388553</td><td style=\"text-align: right;\">0.91664 </td><td style=\"text-align: right;\">0.886331</td></tr>\n",
       "<tr><td style=\"text-align: right;\">         1</td><td style=\"text-align: right;\">0.842208</td><td style=\"text-align: right;\">-0.144202</td><td style=\"text-align: right;\">-1.702   </td><td style=\"text-align: right;\">0.685875</td><td style=\"text-align: right;\"> 0.544338 </td><td style=\"text-align: right;\">0.578774</td><td style=\"text-align: right;\">-0.221837 </td><td style=\"text-align: right;\">-0.586474</td><td style=\"text-align: right;\">1.08654</td><td style=\"text-align: right;\">0.909401</td><td style=\"text-align: right;\"> 2.81316   </td><td style=\"text-align: right;\">-0.0706666</td><td style=\"text-align: right;\">0      </td><td style=\"text-align: right;\">1.54986 </td><td style=\"text-align: right;\">-0.85182  </td><td style=\"text-align: right;\"> 1.58811 </td><td style=\"text-align: right;\">0      </td><td style=\"text-align: right;\">1.14986 </td><td style=\"text-align: right;\"> 0.590011  </td><td style=\"text-align: right;\"> 0.0597691</td><td style=\"text-align: right;\">0      </td><td style=\"text-align: right;\">0.872279</td><td style=\"text-align: right;\">0.684341</td><td style=\"text-align: right;\">0.99032 </td><td style=\"text-align: right;\">0.510151</td><td style=\"text-align: right;\">0.720446</td><td style=\"text-align: right;\">0.555454</td><td style=\"text-align: right;\">0.535795</td></tr>\n",
       "<tr><td style=\"text-align: right;\">         1</td><td style=\"text-align: right;\">0.456242</td><td style=\"text-align: right;\"> 1.74043 </td><td style=\"text-align: right;\"> 0.258427</td><td style=\"text-align: right;\">1.45223 </td><td style=\"text-align: right;\">-0.0513728</td><td style=\"text-align: right;\">0.675328</td><td style=\"text-align: right;\">-0.797161 </td><td style=\"text-align: right;\">-1.34763 </td><td style=\"text-align: right;\">2.17308</td><td style=\"text-align: right;\">0.56858 </td><td style=\"text-align: right;\">-0.482712  </td><td style=\"text-align: right;\">-1.73738  </td><td style=\"text-align: right;\">0      </td><td style=\"text-align: right;\">0.539333</td><td style=\"text-align: right;\"> 1.17621  </td><td style=\"text-align: right;\"> 1.06666 </td><td style=\"text-align: right;\">0      </td><td style=\"text-align: right;\">0.980687</td><td style=\"text-align: right;\">-0.125384  </td><td style=\"text-align: right;\"> 0.0869597</td><td style=\"text-align: right;\">3.10196</td><td style=\"text-align: right;\">0.994118</td><td style=\"text-align: right;\">0.960552</td><td style=\"text-align: right;\">1.00353 </td><td style=\"text-align: right;\">0.57609 </td><td style=\"text-align: right;\">0.876509</td><td style=\"text-align: right;\">0.85138 </td><td style=\"text-align: right;\">0.801164</td></tr>\n",
       "<tr><td style=\"text-align: right;\">         0</td><td style=\"text-align: right;\">0.933712</td><td style=\"text-align: right;\"> 1.35084 </td><td style=\"text-align: right;\"> 0.773338</td><td style=\"text-align: right;\">0.532638</td><td style=\"text-align: right;\">-0.679537 </td><td style=\"text-align: right;\">0.718017</td><td style=\"text-align: right;\"> 0.745618 </td><td style=\"text-align: right;\">-1.4962  </td><td style=\"text-align: right;\">1.08654</td><td style=\"text-align: right;\">0.274218</td><td style=\"text-align: right;\"> 1.07537   </td><td style=\"text-align: right;\"> 1.56341  </td><td style=\"text-align: right;\">0      </td><td style=\"text-align: right;\">0.39146 </td><td style=\"text-align: right;\">-0.59422  </td><td style=\"text-align: right;\"> 0.170209</td><td style=\"text-align: right;\">2.54822</td><td style=\"text-align: right;\">0.573711</td><td style=\"text-align: right;\"> 2.12157   </td><td style=\"text-align: right;\"> 0.256763 </td><td style=\"text-align: right;\">0      </td><td style=\"text-align: right;\">0.625972</td><td style=\"text-align: right;\">0.773067</td><td style=\"text-align: right;\">0.987348</td><td style=\"text-align: right;\">0.674946</td><td style=\"text-align: right;\">0.829309</td><td style=\"text-align: right;\">0.645423</td><td style=\"text-align: right;\">0.597715</td></tr>\n",
       "<tr><td style=\"text-align: right;\">         0</td><td style=\"text-align: right;\">0.7335  </td><td style=\"text-align: right;\">-0.998372</td><td style=\"text-align: right;\">-1.68702 </td><td style=\"text-align: right;\">0.951169</td><td style=\"text-align: right;\">-0.591779 </td><td style=\"text-align: right;\">1.14912 </td><td style=\"text-align: right;\">-0.942724 </td><td style=\"text-align: right;\">-0.424039</td><td style=\"text-align: right;\">2.17308</td><td style=\"text-align: right;\">1.04185 </td><td style=\"text-align: right;\"> 1.10063   </td><td style=\"text-align: right;\"> 1.27434  </td><td style=\"text-align: right;\">0      </td><td style=\"text-align: right;\">0.713549</td><td style=\"text-align: right;\"> 0.0201984</td><td style=\"text-align: right;\"> 0.343287</td><td style=\"text-align: right;\">2.54822</td><td style=\"text-align: right;\">1.44706 </td><td style=\"text-align: right;\"> 0.165271  </td><td style=\"text-align: right;\"> 1.40599  </td><td style=\"text-align: right;\">0      </td><td style=\"text-align: right;\">0.798081</td><td style=\"text-align: right;\">0.852638</td><td style=\"text-align: right;\">0.990337</td><td style=\"text-align: right;\">0.799596</td><td style=\"text-align: right;\">0.918739</td><td style=\"text-align: right;\">1.27283 </td><td style=\"text-align: right;\">1.07795 </td></tr>\n",
       "<tr><td style=\"text-align: right;\">         0</td><td style=\"text-align: right;\">0.968118</td><td style=\"text-align: right;\"> 1.719   </td><td style=\"text-align: right;\"> 0.030934</td><td style=\"text-align: right;\">1.80122 </td><td style=\"text-align: right;\">-0.867323 </td><td style=\"text-align: right;\">0.631357</td><td style=\"text-align: right;\">-0.810034 </td><td style=\"text-align: right;\"> 1.20648 </td><td style=\"text-align: right;\">0      </td><td style=\"text-align: right;\">0.88699 </td><td style=\"text-align: right;\"> 0.00103165</td><td style=\"text-align: right;\"> 1.57395  </td><td style=\"text-align: right;\">0      </td><td style=\"text-align: right;\">1.02721 </td><td style=\"text-align: right;\"> 0.512643 </td><td style=\"text-align: right;\"> 0.381009</td><td style=\"text-align: right;\">2.54822</td><td style=\"text-align: right;\">1.08511 </td><td style=\"text-align: right;\"> 0.54837   </td><td style=\"text-align: right;\">-0.86704  </td><td style=\"text-align: right;\">3.10196</td><td style=\"text-align: right;\">0.844315</td><td style=\"text-align: right;\">1.03113 </td><td style=\"text-align: right;\">1.32327 </td><td style=\"text-align: right;\">1.11639 </td><td style=\"text-align: right;\">0.728902</td><td style=\"text-align: right;\">0.805447</td><td style=\"text-align: right;\">1.19234 </td></tr>\n",
       "</tbody>\n",
       "</table>"
      ]
     },
     "metadata": {},
     "output_type": "display_data"
    },
    {
     "data": {
      "text/plain": []
     },
     "execution_count": 122,
     "metadata": {},
     "output_type": "execute_result"
    }
   ],
   "source": [
    "test"
   ]
  },
  {
   "cell_type": "markdown",
   "metadata": {},
   "source": [
    "### Stacking\n",
    "\n",
    "\n",
    "![](data/stacking.png)"
   ]
  },
  {
   "cell_type": "code",
   "execution_count": null,
   "metadata": {},
   "outputs": [],
   "source": []
  },
  {
   "cell_type": "code",
   "execution_count": null,
   "metadata": {},
   "outputs": [],
   "source": []
  },
  {
   "cell_type": "code",
   "execution_count": null,
   "metadata": {},
   "outputs": [],
   "source": []
  },
  {
   "cell_type": "code",
   "execution_count": null,
   "metadata": {},
   "outputs": [],
   "source": []
  },
  {
   "cell_type": "code",
   "execution_count": null,
   "metadata": {},
   "outputs": [],
   "source": []
  },
  {
   "cell_type": "code",
   "execution_count": null,
   "metadata": {},
   "outputs": [],
   "source": []
  }
 ],
 "metadata": {
  "kernelspec": {
   "display_name": "Python 3",
   "language": "python",
   "name": "python3"
  },
  "language_info": {
   "codemirror_mode": {
    "name": "ipython",
    "version": 3
   },
   "file_extension": ".py",
   "mimetype": "text/x-python",
   "name": "python",
   "nbconvert_exporter": "python",
   "pygments_lexer": "ipython3",
   "version": "3.7.6"
  }
 },
 "nbformat": 4,
 "nbformat_minor": 2
}
