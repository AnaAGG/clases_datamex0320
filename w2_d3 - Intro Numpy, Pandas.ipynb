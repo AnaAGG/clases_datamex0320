{
 "cells": [
  {
   "cell_type": "markdown",
   "metadata": {},
   "source": [
    "# Numpy (numerical python)"
   ]
  },
  {
   "cell_type": "code",
   "execution_count": 1,
   "metadata": {},
   "outputs": [],
   "source": [
    "import numpy as np"
   ]
  },
  {
   "cell_type": "code",
   "execution_count": 2,
   "metadata": {},
   "outputs": [
    {
     "data": {
      "text/plain": [
       "array([[0.38018035, 0.94635125, 0.22166541, 0.73828079],\n",
       "       [0.65465851, 0.48483427, 0.80033823, 0.17818909],\n",
       "       [0.04367941, 0.19328519, 0.22232014, 0.22379344],\n",
       "       [0.115895  , 0.65713697, 0.71367011, 0.35626796],\n",
       "       [0.17959905, 0.85909889, 0.15982231, 0.90864213],\n",
       "       [0.48842821, 0.64959728, 0.94142384, 0.82303516],\n",
       "       [0.46733237, 0.66422802, 0.66117076, 0.23509042],\n",
       "       [0.74394709, 0.4595162 , 0.28634494, 0.88771701],\n",
       "       [0.1341197 , 0.05069735, 0.04427928, 0.94771472],\n",
       "       [0.57160459, 0.79585072, 0.35855024, 0.40496336]])"
      ]
     },
     "execution_count": 2,
     "metadata": {},
     "output_type": "execute_result"
    }
   ],
   "source": [
    "# matriz\n",
    "\n",
    "a=np.random.random((10, 4))\n",
    "a"
   ]
  },
  {
   "cell_type": "code",
   "execution_count": 3,
   "metadata": {},
   "outputs": [
    {
     "data": {
      "text/plain": [
       "(10, 4)"
      ]
     },
     "execution_count": 3,
     "metadata": {},
     "output_type": "execute_result"
    }
   ],
   "source": [
    "a.shape"
   ]
  },
  {
   "cell_type": "code",
   "execution_count": 4,
   "metadata": {},
   "outputs": [
    {
     "data": {
      "text/plain": [
       "40"
      ]
     },
     "execution_count": 4,
     "metadata": {},
     "output_type": "execute_result"
    }
   ],
   "source": [
    "a.size"
   ]
  },
  {
   "cell_type": "code",
   "execution_count": 6,
   "metadata": {},
   "outputs": [
    {
     "data": {
      "text/plain": [
       "array([[[0.72661925, 0.34230488],\n",
       "        [0.30219514, 0.94507086],\n",
       "        [0.65189974, 0.54074108]],\n",
       "\n",
       "       [[0.41758871, 0.2400138 ],\n",
       "        [0.49543552, 0.05822703],\n",
       "        [0.06254915, 0.89625759]],\n",
       "\n",
       "       [[0.18147869, 0.01794373],\n",
       "        [0.21946864, 0.92589557],\n",
       "        [0.84254175, 0.89538745]]])"
      ]
     },
     "execution_count": 6,
     "metadata": {},
     "output_type": "execute_result"
    }
   ],
   "source": [
    "# cubo\n",
    "\n",
    "b=np.random.random((3, 3, 2))\n",
    "b"
   ]
  },
  {
   "cell_type": "code",
   "execution_count": 7,
   "metadata": {},
   "outputs": [
    {
     "data": {
      "text/plain": [
       "array([[[[0.63120239, 0.66535653, 0.43656508, 0.17164343, 0.355253  ],\n",
       "         [0.86608573, 0.65953271, 0.65978916, 0.84210045, 0.84970937],\n",
       "         [0.28886859, 0.60264838, 0.71821925, 0.14600312, 0.13706404],\n",
       "         [0.74763811, 0.44971717, 0.28975344, 0.69550386, 0.25050847]],\n",
       "\n",
       "        [[0.15090598, 0.2221462 , 0.77818222, 0.55667879, 0.45885934],\n",
       "         [0.08438512, 0.56276984, 0.73809978, 0.87872997, 0.67880754],\n",
       "         [0.0055019 , 0.73780902, 0.82614845, 0.23229137, 0.8652656 ],\n",
       "         [0.00875366, 0.90117307, 0.46019982, 0.06120569, 0.18868453]],\n",
       "\n",
       "        [[0.1380722 , 0.16227569, 0.50597993, 0.33334575, 0.42636541],\n",
       "         [0.20980949, 0.27617791, 0.75677773, 0.29472874, 0.87180569],\n",
       "         [0.1836598 , 0.53510923, 0.50136543, 0.72683661, 0.01445627],\n",
       "         [0.02749334, 0.22278903, 0.13001427, 0.65479077, 0.72354396]]],\n",
       "\n",
       "\n",
       "       [[[0.8935942 , 0.29279233, 0.9311133 , 0.45617207, 0.62784671],\n",
       "         [0.31058033, 0.42471223, 0.51901959, 0.48418975, 0.3605093 ],\n",
       "         [0.1868954 , 0.90140147, 0.90460878, 0.40525742, 0.69942673],\n",
       "         [0.64954966, 0.77150714, 0.02466912, 0.46380657, 0.24263398]],\n",
       "\n",
       "        [[0.71225048, 0.40693205, 0.80359663, 0.84640433, 0.09563816],\n",
       "         [0.73317031, 0.05453456, 0.60395941, 0.415214  , 0.43400977],\n",
       "         [0.57038867, 0.8708596 , 0.0044524 , 0.8037617 , 0.70751037],\n",
       "         [0.99079869, 0.57140485, 0.45380876, 0.09375111, 0.50295673]],\n",
       "\n",
       "        [[0.43223667, 0.20277168, 0.99383586, 0.82669416, 0.34718938],\n",
       "         [0.01356109, 0.03125159, 0.11861919, 0.89980533, 0.80020263],\n",
       "         [0.54419483, 0.95720134, 0.36943498, 0.97234203, 0.04822878],\n",
       "         [0.99917145, 0.6446246 , 0.22832888, 0.57589646, 0.70645429]]]])"
      ]
     },
     "execution_count": 7,
     "metadata": {},
     "output_type": "execute_result"
    }
   ],
   "source": [
    "# tensor rango 4\n",
    "\n",
    "c=np.random.random((2,3,4,5))\n",
    "\n",
    "c"
   ]
  },
  {
   "cell_type": "code",
   "execution_count": 8,
   "metadata": {},
   "outputs": [
    {
     "data": {
      "text/plain": [
       "(2, 3, 4, 5)"
      ]
     },
     "execution_count": 8,
     "metadata": {},
     "output_type": "execute_result"
    }
   ],
   "source": [
    "c.shape"
   ]
  },
  {
   "cell_type": "code",
   "execution_count": 9,
   "metadata": {},
   "outputs": [
    {
     "data": {
      "text/plain": [
       "numpy.ndarray"
      ]
     },
     "execution_count": 9,
     "metadata": {},
     "output_type": "execute_result"
    }
   ],
   "source": [
    "type(a[0])"
   ]
  },
  {
   "cell_type": "code",
   "execution_count": 10,
   "metadata": {},
   "outputs": [
    {
     "data": {
      "text/plain": [
       "array([[0.38018035, 0.94635125, 0.22166541, 0.73828079],\n",
       "       [0.65465851, 0.48483427, 0.80033823, 0.17818909],\n",
       "       [0.04367941, 0.19328519, 0.22232014, 0.22379344],\n",
       "       [0.115895  , 0.65713697, 0.71367011, 0.35626796],\n",
       "       [0.17959905, 0.85909889, 0.15982231, 0.90864213],\n",
       "       [0.48842821, 0.64959728, 0.94142384, 0.82303516],\n",
       "       [0.46733237, 0.66422802, 0.66117076, 0.23509042],\n",
       "       [0.74394709, 0.4595162 , 0.28634494, 0.88771701],\n",
       "       [0.1341197 , 0.05069735, 0.04427928, 0.94771472],\n",
       "       [0.57160459, 0.79585072, 0.35855024, 0.40496336]])"
      ]
     },
     "execution_count": 10,
     "metadata": {},
     "output_type": "execute_result"
    }
   ],
   "source": [
    "a"
   ]
  },
  {
   "cell_type": "code",
   "execution_count": 11,
   "metadata": {},
   "outputs": [
    {
     "data": {
      "text/plain": [
       "array([0.38018035, 0.65465851, 0.04367941, 0.115895  , 0.17959905,\n",
       "       0.48842821, 0.46733237, 0.74394709, 0.1341197 , 0.57160459])"
      ]
     },
     "execution_count": 11,
     "metadata": {},
     "output_type": "execute_result"
    }
   ],
   "source": [
    "a[:, 0]"
   ]
  },
  {
   "cell_type": "code",
   "execution_count": 12,
   "metadata": {},
   "outputs": [
    {
     "data": {
      "text/plain": [
       "array([0.73828079, 0.17818909, 0.22379344, 0.35626796, 0.90864213,\n",
       "       0.82303516, 0.23509042, 0.88771701, 0.94771472, 0.40496336])"
      ]
     },
     "execution_count": 12,
     "metadata": {},
     "output_type": "execute_result"
    }
   ],
   "source": [
    "a[:, -1]"
   ]
  },
  {
   "cell_type": "code",
   "execution_count": 13,
   "metadata": {},
   "outputs": [
    {
     "data": {
      "text/plain": [
       "0.1598223131307721"
      ]
     },
     "execution_count": 13,
     "metadata": {},
     "output_type": "execute_result"
    }
   ],
   "source": [
    "a[4, 2]"
   ]
  },
  {
   "cell_type": "code",
   "execution_count": 15,
   "metadata": {},
   "outputs": [
    {
     "data": {
      "text/plain": [
       "0.6571369676216764"
      ]
     },
     "execution_count": 15,
     "metadata": {},
     "output_type": "execute_result"
    }
   ],
   "source": [
    "a[3, 1]"
   ]
  },
  {
   "cell_type": "code",
   "execution_count": 14,
   "metadata": {},
   "outputs": [
    {
     "data": {
      "text/plain": [
       "array([[[[0.63120239, 0.66535653, 0.43656508, 0.17164343, 0.355253  ],\n",
       "         [0.86608573, 0.65953271, 0.65978916, 0.84210045, 0.84970937],\n",
       "         [0.28886859, 0.60264838, 0.71821925, 0.14600312, 0.13706404],\n",
       "         [0.74763811, 0.44971717, 0.28975344, 0.69550386, 0.25050847]],\n",
       "\n",
       "        [[0.15090598, 0.2221462 , 0.77818222, 0.55667879, 0.45885934],\n",
       "         [0.08438512, 0.56276984, 0.73809978, 0.87872997, 0.67880754],\n",
       "         [0.0055019 , 0.73780902, 0.82614845, 0.23229137, 0.8652656 ],\n",
       "         [0.00875366, 0.90117307, 0.46019982, 0.06120569, 0.18868453]],\n",
       "\n",
       "        [[0.1380722 , 0.16227569, 0.50597993, 0.33334575, 0.42636541],\n",
       "         [0.20980949, 0.27617791, 0.75677773, 0.29472874, 0.87180569],\n",
       "         [0.1836598 , 0.53510923, 0.50136543, 0.72683661, 0.01445627],\n",
       "         [0.02749334, 0.22278903, 0.13001427, 0.65479077, 0.72354396]]],\n",
       "\n",
       "\n",
       "       [[[0.8935942 , 0.29279233, 0.9311133 , 0.45617207, 0.62784671],\n",
       "         [0.31058033, 0.42471223, 0.51901959, 0.48418975, 0.3605093 ],\n",
       "         [0.1868954 , 0.90140147, 0.90460878, 0.40525742, 0.69942673],\n",
       "         [0.64954966, 0.77150714, 0.02466912, 0.46380657, 0.24263398]],\n",
       "\n",
       "        [[0.71225048, 0.40693205, 0.80359663, 0.84640433, 0.09563816],\n",
       "         [0.73317031, 0.05453456, 0.60395941, 0.415214  , 0.43400977],\n",
       "         [0.57038867, 0.8708596 , 0.0044524 , 0.8037617 , 0.70751037],\n",
       "         [0.99079869, 0.57140485, 0.45380876, 0.09375111, 0.50295673]],\n",
       "\n",
       "        [[0.43223667, 0.20277168, 0.99383586, 0.82669416, 0.34718938],\n",
       "         [0.01356109, 0.03125159, 0.11861919, 0.89980533, 0.80020263],\n",
       "         [0.54419483, 0.95720134, 0.36943498, 0.97234203, 0.04822878],\n",
       "         [0.99917145, 0.6446246 , 0.22832888, 0.57589646, 0.70645429]]]])"
      ]
     },
     "execution_count": 14,
     "metadata": {},
     "output_type": "execute_result"
    }
   ],
   "source": [
    "c"
   ]
  },
  {
   "cell_type": "code",
   "execution_count": 19,
   "metadata": {},
   "outputs": [
    {
     "data": {
      "text/plain": [
       "array([[[0.63120239, 0.66535653, 0.43656508, 0.17164343, 0.355253  ],\n",
       "        [0.86608573, 0.65953271, 0.65978916, 0.84210045, 0.84970937],\n",
       "        [0.28886859, 0.60264838, 0.71821925, 0.14600312, 0.13706404],\n",
       "        [0.74763811, 0.44971717, 0.28975344, 0.69550386, 0.25050847]],\n",
       "\n",
       "       [[0.15090598, 0.2221462 , 0.77818222, 0.55667879, 0.45885934],\n",
       "        [0.08438512, 0.56276984, 0.73809978, 0.87872997, 0.67880754],\n",
       "        [0.0055019 , 0.73780902, 0.82614845, 0.23229137, 0.8652656 ],\n",
       "        [0.00875366, 0.90117307, 0.46019982, 0.06120569, 0.18868453]],\n",
       "\n",
       "       [[0.1380722 , 0.16227569, 0.50597993, 0.33334575, 0.42636541],\n",
       "        [0.20980949, 0.27617791, 0.75677773, 0.29472874, 0.87180569],\n",
       "        [0.1836598 , 0.53510923, 0.50136543, 0.72683661, 0.01445627],\n",
       "        [0.02749334, 0.22278903, 0.13001427, 0.65479077, 0.72354396]]])"
      ]
     },
     "execution_count": 19,
     "metadata": {},
     "output_type": "execute_result"
    }
   ],
   "source": [
    "c[0]"
   ]
  },
  {
   "cell_type": "code",
   "execution_count": 20,
   "metadata": {},
   "outputs": [
    {
     "data": {
      "text/plain": [
       "array([[0.15090598, 0.2221462 , 0.77818222, 0.55667879, 0.45885934],\n",
       "       [0.08438512, 0.56276984, 0.73809978, 0.87872997, 0.67880754],\n",
       "       [0.0055019 , 0.73780902, 0.82614845, 0.23229137, 0.8652656 ],\n",
       "       [0.00875366, 0.90117307, 0.46019982, 0.06120569, 0.18868453]])"
      ]
     },
     "execution_count": 20,
     "metadata": {},
     "output_type": "execute_result"
    }
   ],
   "source": [
    "c[0, 1]"
   ]
  },
  {
   "cell_type": "code",
   "execution_count": 21,
   "metadata": {},
   "outputs": [
    {
     "data": {
      "text/plain": [
       "array([0.0055019 , 0.73780902, 0.82614845, 0.23229137, 0.8652656 ])"
      ]
     },
     "execution_count": 21,
     "metadata": {},
     "output_type": "execute_result"
    }
   ],
   "source": [
    "c[0, 1, 2]"
   ]
  },
  {
   "cell_type": "code",
   "execution_count": 23,
   "metadata": {},
   "outputs": [
    {
     "data": {
      "text/plain": [
       "0.8652656023742072"
      ]
     },
     "execution_count": 23,
     "metadata": {},
     "output_type": "execute_result"
    }
   ],
   "source": [
    "c[0,1,2,4]"
   ]
  },
  {
   "cell_type": "code",
   "execution_count": 24,
   "metadata": {},
   "outputs": [
    {
     "data": {
      "text/plain": [
       "0.8652656023742072"
      ]
     },
     "execution_count": 24,
     "metadata": {},
     "output_type": "execute_result"
    }
   ],
   "source": [
    "c[0,1,2,-1]"
   ]
  },
  {
   "cell_type": "code",
   "execution_count": 25,
   "metadata": {},
   "outputs": [
    {
     "data": {
      "text/plain": [
       "array([0.15090598, 0.08438512, 0.0055019 , 0.00875366])"
      ]
     },
     "execution_count": 25,
     "metadata": {},
     "output_type": "execute_result"
    }
   ],
   "source": [
    "c[0, 1, :, 0]"
   ]
  },
  {
   "cell_type": "code",
   "execution_count": 26,
   "metadata": {},
   "outputs": [
    {
     "data": {
      "text/plain": [
       "array([[1, 2, 3],\n",
       "       [4, 5, 6],\n",
       "       [7, 8, 9]])"
      ]
     },
     "execution_count": 26,
     "metadata": {},
     "output_type": "execute_result"
    }
   ],
   "source": [
    "# de listas a arrays\n",
    "\n",
    "lst_lst=[[1,2,3], [4,5,6], [7,8,9]]\n",
    "\n",
    "d=np.array(lst_lst)\n",
    "\n",
    "d"
   ]
  },
  {
   "cell_type": "code",
   "execution_count": 27,
   "metadata": {},
   "outputs": [
    {
     "data": {
      "text/plain": [
       "numpy.ndarray"
      ]
     },
     "execution_count": 27,
     "metadata": {},
     "output_type": "execute_result"
    }
   ],
   "source": [
    "type(d)"
   ]
  },
  {
   "cell_type": "code",
   "execution_count": 33,
   "metadata": {},
   "outputs": [
    {
     "data": {
      "text/plain": [
       "0.6653565306759767"
      ]
     },
     "execution_count": 33,
     "metadata": {},
     "output_type": "execute_result"
    }
   ],
   "source": [
    "num1=c[0, 0, 0, 1]\n",
    "\n",
    "num1"
   ]
  },
  {
   "cell_type": "code",
   "execution_count": 45,
   "metadata": {},
   "outputs": [
    {
     "data": {
      "text/plain": [
       "0.5758964646666453"
      ]
     },
     "execution_count": 45,
     "metadata": {},
     "output_type": "execute_result"
    }
   ],
   "source": [
    "num2=c[1, -1, -1, -2]\n",
    "\n",
    "num2"
   ]
  },
  {
   "cell_type": "code",
   "execution_count": 41,
   "metadata": {},
   "outputs": [
    {
     "data": {
      "text/plain": [
       "1.241252995342622"
      ]
     },
     "execution_count": 41,
     "metadata": {},
     "output_type": "execute_result"
    }
   ],
   "source": [
    "num1+num2"
   ]
  },
  {
   "cell_type": "code",
   "execution_count": 42,
   "metadata": {},
   "outputs": [
    {
     "data": {
      "text/plain": [
       "[0.6653565306759767, 0.5758964646666453]"
      ]
     },
     "execution_count": 42,
     "metadata": {},
     "output_type": "execute_result"
    }
   ],
   "source": [
    "[num1, num2]"
   ]
  },
  {
   "cell_type": "code",
   "execution_count": 46,
   "metadata": {},
   "outputs": [
    {
     "data": {
      "text/plain": [
       "array([[0.38018035, 0.94635125, 0.22166541, 0.73828079],\n",
       "       [0.65465851, 0.48483427, 0.80033823, 0.17818909],\n",
       "       [0.04367941, 0.19328519, 0.22232014, 0.22379344],\n",
       "       [0.115895  , 0.65713697, 0.71367011, 0.35626796],\n",
       "       [0.17959905, 0.85909889, 0.15982231, 0.90864213],\n",
       "       [0.48842821, 0.64959728, 0.94142384, 0.82303516],\n",
       "       [0.46733237, 0.66422802, 0.66117076, 0.23509042],\n",
       "       [0.74394709, 0.4595162 , 0.28634494, 0.88771701],\n",
       "       [0.1341197 , 0.05069735, 0.04427928, 0.94771472],\n",
       "       [0.57160459, 0.79585072, 0.35855024, 0.40496336]])"
      ]
     },
     "execution_count": 46,
     "metadata": {},
     "output_type": "execute_result"
    }
   ],
   "source": [
    "a"
   ]
  },
  {
   "cell_type": "code",
   "execution_count": 47,
   "metadata": {},
   "outputs": [
    {
     "data": {
      "text/plain": [
       "19.65331973094718"
      ]
     },
     "execution_count": 47,
     "metadata": {},
     "output_type": "execute_result"
    }
   ],
   "source": [
    "# funciones matematicas\n",
    "\n",
    "np.sum(a)"
   ]
  },
  {
   "cell_type": "code",
   "execution_count": 48,
   "metadata": {},
   "outputs": [
    {
     "data": {
      "text/plain": [
       "array([3.77944428, 5.76059613, 4.40958525, 5.70369407])"
      ]
     },
     "execution_count": 48,
     "metadata": {},
     "output_type": "execute_result"
    }
   ],
   "source": [
    "np.sum(a, axis=0)"
   ]
  },
  {
   "cell_type": "code",
   "execution_count": 49,
   "metadata": {},
   "outputs": [
    {
     "data": {
      "text/plain": [
       "array([2.28647779, 2.11802009, 0.68307817, 1.84297004, 2.10716238,\n",
       "       2.90248448, 2.02782156, 2.37752525, 1.17681105, 2.13096891])"
      ]
     },
     "execution_count": 49,
     "metadata": {},
     "output_type": "execute_result"
    }
   ],
   "source": [
    "np.sum(a, axis=1)"
   ]
  },
  {
   "cell_type": "code",
   "execution_count": 53,
   "metadata": {},
   "outputs": [
    {
     "data": {
      "text/plain": [
       "array([[[2.26002044, 3.87721743, 1.89280339, 2.43312106],\n",
       "        [2.16677253, 2.94279226, 2.66701634, 1.62001677],\n",
       "        [1.56603898, 2.40929956, 1.96142734, 1.75863137]],\n",
       "\n",
       "       [[3.20151862, 2.0990112 , 3.09758981, 2.15216648],\n",
       "        [2.86482165, 2.24088806, 2.95697274, 2.61272014],\n",
       "        [2.80272776, 1.86343983, 2.89140198, 3.1544757 ]]])"
      ]
     },
     "execution_count": 53,
     "metadata": {},
     "output_type": "execute_result"
    }
   ],
   "source": [
    "np.sum(c, axis=3)"
   ]
  },
  {
   "cell_type": "code",
   "execution_count": 55,
   "metadata": {},
   "outputs": [
    {
     "data": {
      "text/plain": [
       "(2, 3, 4)"
      ]
     },
     "execution_count": 55,
     "metadata": {},
     "output_type": "execute_result"
    }
   ],
   "source": [
    "np.sum(c, axis=3).shape  # suma por columnas"
   ]
  },
  {
   "cell_type": "code",
   "execution_count": 54,
   "metadata": {},
   "outputs": [
    {
     "data": {
      "text/plain": [
       "(2, 3, 4, 5)"
      ]
     },
     "execution_count": 54,
     "metadata": {},
     "output_type": "execute_result"
    }
   ],
   "source": [
    "c.shape"
   ]
  },
  {
   "cell_type": "code",
   "execution_count": 58,
   "metadata": {},
   "outputs": [
    {
     "data": {
      "text/plain": [
       "(3, 4, 5)"
      ]
     },
     "execution_count": 58,
     "metadata": {},
     "output_type": "execute_result"
    }
   ],
   "source": [
    "np.sum(c, axis=0).shape  # suma por cajas"
   ]
  },
  {
   "cell_type": "code",
   "execution_count": 59,
   "metadata": {},
   "outputs": [
    {
     "data": {
      "text/plain": [
       "(2, 4, 5)"
      ]
     },
     "execution_count": 59,
     "metadata": {},
     "output_type": "execute_result"
    }
   ],
   "source": [
    "np.sum(c, axis=1).shape  # suma por capas del cubo"
   ]
  },
  {
   "cell_type": "code",
   "execution_count": 60,
   "metadata": {},
   "outputs": [
    {
     "data": {
      "text/plain": [
       "(2, 3, 5)"
      ]
     },
     "execution_count": 60,
     "metadata": {},
     "output_type": "execute_result"
    }
   ],
   "source": [
    "np.sum(c, axis=2).shape  # suma por filas"
   ]
  },
  {
   "cell_type": "code",
   "execution_count": 61,
   "metadata": {},
   "outputs": [
    {
     "data": {
      "text/plain": [
       "(2, 3, 4)"
      ]
     },
     "execution_count": 61,
     "metadata": {},
     "output_type": "execute_result"
    }
   ],
   "source": [
    "np.sum(c, axis=3).shape  # suma por columnas"
   ]
  },
  {
   "cell_type": "code",
   "execution_count": 64,
   "metadata": {},
   "outputs": [
    {
     "data": {
      "text/plain": [
       "array([[0.38018035, 0.94635125, 0.22166541, 0.73828079],\n",
       "       [0.65465851, 0.48483427, 0.80033823, 0.17818909],\n",
       "       [0.04367941, 0.19328519, 0.22232014, 0.22379344],\n",
       "       [0.115895  , 0.65713697, 0.71367011, 0.35626796],\n",
       "       [0.17959905, 0.85909889, 0.15982231, 0.90864213],\n",
       "       [0.48842821, 0.64959728, 0.94142384, 0.82303516],\n",
       "       [0.46733237, 0.66422802, 0.66117076, 0.23509042],\n",
       "       [0.74394709, 0.4595162 , 0.28634494, 0.88771701],\n",
       "       [0.1341197 , 0.05069735, 0.04427928, 0.94771472],\n",
       "       [0.57160459, 0.79585072, 0.35855024, 0.40496336]])"
      ]
     },
     "execution_count": 64,
     "metadata": {},
     "output_type": "execute_result"
    }
   ],
   "source": [
    "a"
   ]
  },
  {
   "cell_type": "code",
   "execution_count": 62,
   "metadata": {},
   "outputs": [
    {
     "data": {
      "text/plain": [
       "0.4913329932736795"
      ]
     },
     "execution_count": 62,
     "metadata": {},
     "output_type": "execute_result"
    }
   ],
   "source": [
    "np.mean(a)"
   ]
  },
  {
   "cell_type": "code",
   "execution_count": 63,
   "metadata": {},
   "outputs": [
    {
     "data": {
      "text/plain": [
       "array([0.37794443, 0.57605961, 0.44095853, 0.57036941])"
      ]
     },
     "execution_count": 63,
     "metadata": {},
     "output_type": "execute_result"
    }
   ],
   "source": [
    "np.mean(a, axis=0)"
   ]
  },
  {
   "cell_type": "code",
   "execution_count": 65,
   "metadata": {},
   "outputs": [
    {
     "data": {
      "text/plain": [
       "array([0.38018035, 0.94635125, 0.22166541, 0.73828079])"
      ]
     },
     "execution_count": 65,
     "metadata": {},
     "output_type": "execute_result"
    }
   ],
   "source": [
    "a[0]"
   ]
  },
  {
   "cell_type": "code",
   "execution_count": 66,
   "metadata": {},
   "outputs": [
    {
     "data": {
      "text/plain": [
       "array([0.65465851, 0.48483427, 0.80033823, 0.17818909])"
      ]
     },
     "execution_count": 66,
     "metadata": {},
     "output_type": "execute_result"
    }
   ],
   "source": [
    "a[1]"
   ]
  },
  {
   "cell_type": "code",
   "execution_count": 67,
   "metadata": {},
   "outputs": [
    {
     "data": {
      "text/plain": [
       "array([1.03483886, 1.43118551, 1.02200364, 0.91646987])"
      ]
     },
     "execution_count": 67,
     "metadata": {},
     "output_type": "execute_result"
    }
   ],
   "source": [
    "np.add(a[0], a[1])   # suma elemento a elemento"
   ]
  },
  {
   "cell_type": "code",
   "execution_count": 68,
   "metadata": {},
   "outputs": [
    {
     "data": {
      "text/plain": [
       "array([-0.27447816,  0.46151698, -0.57867282,  0.5600917 ])"
      ]
     },
     "execution_count": 68,
     "metadata": {},
     "output_type": "execute_result"
    }
   ],
   "source": [
    "np.subtract(a[0], a[1])  # resta elemento a elemento"
   ]
  },
  {
   "cell_type": "code",
   "execution_count": 69,
   "metadata": {},
   "outputs": [
    {
     "data": {
      "text/plain": [
       "array([0.2488883 , 0.45882351, 0.1774073 , 0.13155358])"
      ]
     },
     "execution_count": 69,
     "metadata": {},
     "output_type": "execute_result"
    }
   ],
   "source": [
    "np.multiply(a[0], a[1])  # multiplica elemento a elemento"
   ]
  },
  {
   "cell_type": "code",
   "execution_count": 70,
   "metadata": {},
   "outputs": [
    {
     "data": {
      "text/plain": [
       "1.0166726979800456"
      ]
     },
     "execution_count": 70,
     "metadata": {},
     "output_type": "execute_result"
    }
   ],
   "source": [
    "np.dot(a[0], a[1])    # producto escalar (resultado es un numero), dot product, inner product"
   ]
  },
  {
   "cell_type": "code",
   "execution_count": 72,
   "metadata": {},
   "outputs": [
    {
     "data": {
      "text/plain": [
       "array([[0.38018035, 0.94635125, 0.22166541, 0.73828079],\n",
       "       [0.65465851, 0.48483427, 0.80033823, 0.17818909],\n",
       "       [0.04367941, 0.19328519, 0.22232014, 0.22379344],\n",
       "       [0.115895  , 0.65713697, 0.71367011, 0.35626796],\n",
       "       [0.17959905, 0.85909889, 0.15982231, 0.90864213],\n",
       "       [0.48842821, 0.64959728, 0.94142384, 0.82303516],\n",
       "       [0.46733237, 0.66422802, 0.66117076, 0.23509042],\n",
       "       [0.74394709, 0.4595162 , 0.28634494, 0.88771701],\n",
       "       [0.1341197 , 0.05069735, 0.04427928, 0.94771472],\n",
       "       [0.57160459, 0.79585072, 0.35855024, 0.40496336]])"
      ]
     },
     "execution_count": 72,
     "metadata": {},
     "output_type": "execute_result"
    }
   ],
   "source": [
    "a"
   ]
  },
  {
   "cell_type": "code",
   "execution_count": 71,
   "metadata": {},
   "outputs": [
    {
     "data": {
      "text/plain": [
       "array([ 0.38018035,  1.3265316 ,  1.54819701,  2.28647779,  2.94113631,\n",
       "        3.42597057,  4.2263088 ,  4.40449789,  4.4481773 ,  4.64146249,\n",
       "        4.86378263,  5.08757606,  5.20347106,  5.86060803,  6.57427814,\n",
       "        6.9305461 ,  7.11014515,  7.96924403,  8.12906635,  9.03770848,\n",
       "        9.52613669, 10.17573396, 11.1171578 , 11.94019296, 12.40752533,\n",
       "       13.07175335, 13.73292411, 13.96801452, 14.71196162, 15.17147782,\n",
       "       15.45782276, 16.34553977, 16.47965948, 16.53035682, 16.5746361 ,\n",
       "       17.52235082, 18.09395541, 18.88980613, 19.24835637, 19.65331973])"
      ]
     },
     "execution_count": 71,
     "metadata": {},
     "output_type": "execute_result"
    }
   ],
   "source": [
    "np.cumsum(a)   # suma acumulada"
   ]
  },
  {
   "cell_type": "code",
   "execution_count": 73,
   "metadata": {},
   "outputs": [
    {
     "data": {
      "text/plain": [
       "19.65331973094718"
      ]
     },
     "execution_count": 73,
     "metadata": {},
     "output_type": "execute_result"
    }
   ],
   "source": [
    "np.sum(a)"
   ]
  },
  {
   "cell_type": "code",
   "execution_count": 74,
   "metadata": {},
   "outputs": [
    {
     "data": {
      "text/plain": [
       "array([3.80180351e-01, 3.59784149e-01, 7.97517017e-02, 5.88791490e-02,\n",
       "       3.85457360e-02, 1.86882937e-02, 1.49569559e-02, 2.66516631e-03,\n",
       "       1.16412904e-04, 2.25008899e-05, 5.00240089e-06, 1.11950449e-06,\n",
       "       1.29744971e-07, 8.52602169e-08, 6.08476680e-08, 2.16780748e-08,\n",
       "       3.89336156e-09, 3.34478258e-09, 5.34570889e-10, 4.85733634e-10,\n",
       "       2.37246007e-10, 1.54114360e-10, 1.45086932e-10, 1.19411647e-10,\n",
       "       5.58049275e-11, 3.70671967e-11, 2.45077465e-11, 5.76153630e-12,\n",
       "       4.28627818e-12, 1.96961427e-12, 5.63989089e-13, 5.00662708e-13,\n",
       "       6.71487329e-14, 3.40426261e-15, 1.50738303e-16, 1.42856908e-16,\n",
       "       8.16576647e-17, 6.49873113e-17, 2.33012160e-17, 9.43613871e-18])"
      ]
     },
     "execution_count": 74,
     "metadata": {},
     "output_type": "execute_result"
    }
   ],
   "source": [
    "np.cumprod(a)   # producto acumulado"
   ]
  },
  {
   "cell_type": "code",
   "execution_count": 77,
   "metadata": {},
   "outputs": [
    {
     "data": {
      "text/plain": [
       "9.436138706232722e-18"
      ]
     },
     "execution_count": 77,
     "metadata": {},
     "output_type": "execute_result"
    }
   ],
   "source": [
    "np.prod(a)"
   ]
  },
  {
   "cell_type": "code",
   "execution_count": 76,
   "metadata": {},
   "outputs": [
    {
     "data": {
      "text/plain": [
       "1000.0"
      ]
     },
     "execution_count": 76,
     "metadata": {},
     "output_type": "execute_result"
    }
   ],
   "source": [
    "1e3  # 10 elevado a 3 (notacion cientifica)"
   ]
  },
  {
   "cell_type": "code",
   "execution_count": 78,
   "metadata": {},
   "outputs": [
    {
     "data": {
      "text/plain": [
       "0.28895943690455406"
      ]
     },
     "execution_count": 78,
     "metadata": {},
     "output_type": "execute_result"
    }
   ],
   "source": [
    "np.std(a)  # desviacion estandar"
   ]
  },
  {
   "cell_type": "code",
   "execution_count": 79,
   "metadata": {},
   "outputs": [
    {
     "data": {
      "text/plain": [
       "0.08349755617619695"
      ]
     },
     "execution_count": 79,
     "metadata": {},
     "output_type": "execute_result"
    }
   ],
   "source": [
    "np.var(a)   # varianza"
   ]
  },
  {
   "cell_type": "code",
   "execution_count": 80,
   "metadata": {},
   "outputs": [
    {
     "data": {
      "text/plain": [
       "0.28895943690455406"
      ]
     },
     "execution_count": 80,
     "metadata": {},
     "output_type": "execute_result"
    }
   ],
   "source": [
    "np.var(a)**0.5  # desviacion estandar"
   ]
  },
  {
   "cell_type": "code",
   "execution_count": 81,
   "metadata": {},
   "outputs": [
    {
     "data": {
      "text/plain": [
       "array([0.28605798, 0.23153422, 0.07437717, 0.24102795, 0.35757765,\n",
       "       0.1718287 , 0.17606647, 0.23531402, 0.37896606, 0.17132327])"
      ]
     },
     "execution_count": 81,
     "metadata": {},
     "output_type": "execute_result"
    }
   ],
   "source": [
    "np.std(a, axis=1)"
   ]
  },
  {
   "cell_type": "code",
   "execution_count": 82,
   "metadata": {},
   "outputs": [
    {
     "data": {
      "text/plain": [
       "array([0.23397204, 0.27013264, 0.29418787, 0.30151161])"
      ]
     },
     "execution_count": 82,
     "metadata": {},
     "output_type": "execute_result"
    }
   ],
   "source": [
    "np.std(a, axis=0)"
   ]
  },
  {
   "cell_type": "code",
   "execution_count": 83,
   "metadata": {},
   "outputs": [
    {
     "data": {
      "text/plain": [
       "array([[0.38018035, 0.94635125, 0.22166541, 0.73828079],\n",
       "       [0.65465851, 0.48483427, 0.80033823, 0.17818909],\n",
       "       [0.04367941, 0.19328519, 0.22232014, 0.22379344],\n",
       "       [0.115895  , 0.65713697, 0.71367011, 0.35626796],\n",
       "       [0.17959905, 0.85909889, 0.15982231, 0.90864213],\n",
       "       [0.48842821, 0.64959728, 0.94142384, 0.82303516],\n",
       "       [0.46733237, 0.66422802, 0.66117076, 0.23509042],\n",
       "       [0.74394709, 0.4595162 , 0.28634494, 0.88771701],\n",
       "       [0.1341197 , 0.05069735, 0.04427928, 0.94771472],\n",
       "       [0.57160459, 0.79585072, 0.35855024, 0.40496336]])"
      ]
     },
     "execution_count": 83,
     "metadata": {},
     "output_type": "execute_result"
    }
   ],
   "source": [
    "a"
   ]
  },
  {
   "cell_type": "code",
   "execution_count": 88,
   "metadata": {},
   "outputs": [
    {
     "data": {
      "text/plain": [
       "array([[[0.72661925, 0.34230488],\n",
       "        [0.30219514, 0.94507086],\n",
       "        [0.65189974, 0.54074108]],\n",
       "\n",
       "       [[0.41758871, 0.2400138 ],\n",
       "        [0.49543552, 0.05822703],\n",
       "        [0.06254915, 0.89625759]],\n",
       "\n",
       "       [[0.18147869, 0.01794373],\n",
       "        [0.21946864, 0.92589557],\n",
       "        [0.84254175, 0.89538745]]])"
      ]
     },
     "execution_count": 88,
     "metadata": {},
     "output_type": "execute_result"
    }
   ],
   "source": [
    "b"
   ]
  },
  {
   "cell_type": "code",
   "execution_count": 85,
   "metadata": {},
   "outputs": [
    {
     "data": {
      "text/plain": [
       "array([0.72661925, 0.34230488, 0.30219514, 0.94507086, 0.65189974,\n",
       "       0.54074108, 0.41758871, 0.2400138 , 0.49543552, 0.05822703,\n",
       "       0.06254915, 0.89625759, 0.18147869, 0.01794373, 0.21946864,\n",
       "       0.92589557, 0.84254175, 0.89538745])"
      ]
     },
     "execution_count": 85,
     "metadata": {},
     "output_type": "execute_result"
    }
   ],
   "source": [
    "b.flatten()"
   ]
  },
  {
   "cell_type": "code",
   "execution_count": 86,
   "metadata": {},
   "outputs": [
    {
     "data": {
      "text/plain": [
       "(3, 3, 2)"
      ]
     },
     "execution_count": 86,
     "metadata": {},
     "output_type": "execute_result"
    }
   ],
   "source": [
    "b.shape"
   ]
  },
  {
   "cell_type": "code",
   "execution_count": 87,
   "metadata": {},
   "outputs": [
    {
     "data": {
      "text/plain": [
       "(18,)"
      ]
     },
     "execution_count": 87,
     "metadata": {},
     "output_type": "execute_result"
    }
   ],
   "source": [
    "b.flatten().shape"
   ]
  },
  {
   "cell_type": "code",
   "execution_count": 89,
   "metadata": {},
   "outputs": [
    {
     "data": {
      "text/plain": [
       "0.9450708605202915"
      ]
     },
     "execution_count": 89,
     "metadata": {},
     "output_type": "execute_result"
    }
   ],
   "source": [
    "b.max()"
   ]
  },
  {
   "cell_type": "code",
   "execution_count": 90,
   "metadata": {},
   "outputs": [
    {
     "data": {
      "text/plain": [
       "0.0179437347241026"
      ]
     },
     "execution_count": 90,
     "metadata": {},
     "output_type": "execute_result"
    }
   ],
   "source": [
    "b.min()"
   ]
  },
  {
   "cell_type": "code",
   "execution_count": 91,
   "metadata": {},
   "outputs": [
    {
     "data": {
      "text/plain": [
       "0.4867565876112526"
      ]
     },
     "execution_count": 91,
     "metadata": {},
     "output_type": "execute_result"
    }
   ],
   "source": [
    "b.mean()"
   ]
  },
  {
   "cell_type": "code",
   "execution_count": 93,
   "metadata": {},
   "outputs": [
    {
     "data": {
      "text/plain": [
       "0.45651211474401954"
      ]
     },
     "execution_count": 93,
     "metadata": {},
     "output_type": "execute_result"
    }
   ],
   "source": [
    "np.median(b)"
   ]
  },
  {
   "cell_type": "code",
   "execution_count": null,
   "metadata": {},
   "outputs": [],
   "source": [
    "# https://docs.scipy.org/doc/numpy/"
   ]
  },
  {
   "cell_type": "code",
   "execution_count": 104,
   "metadata": {},
   "outputs": [
    {
     "data": {
      "text/plain": [
       "0.3021951387210805"
      ]
     },
     "execution_count": 104,
     "metadata": {},
     "output_type": "execute_result"
    }
   ],
   "source": [
    "b[0][1][0]"
   ]
  },
  {
   "cell_type": "code",
   "execution_count": 107,
   "metadata": {},
   "outputs": [
    {
     "data": {
      "text/plain": [
       "array([ 0.38018035,  1.03483886,  1.07851828,  1.19441328,  1.37401232,\n",
       "        1.86244053,  2.32977289,  3.07371999,  3.20783969,  3.77944428,\n",
       "        4.72579553,  5.21062979,  5.40391498,  6.06105195,  6.92015083,\n",
       "        7.56974811,  8.23397614,  8.69349234,  8.74418969,  9.54004041,\n",
       "        9.76170582, 10.56204405, 10.78436418, 11.49803429, 11.6578566 ,\n",
       "       12.59928044, 13.26045119, 13.54679614, 13.59107542, 13.94962566,\n",
       "       14.68790644, 14.86609553, 15.08988897, 15.44615693, 16.35479906,\n",
       "       17.17783423, 17.41292464, 18.30064165, 19.24835637, 19.65331973])"
      ]
     },
     "execution_count": 107,
     "metadata": {},
     "output_type": "execute_result"
    }
   ],
   "source": [
    "a.transpose().cumsum()"
   ]
  },
  {
   "cell_type": "code",
   "execution_count": 108,
   "metadata": {},
   "outputs": [
    {
     "data": {
      "text/plain": [
       "array([[0.38018035, 0.65465851, 0.04367941, 0.115895  , 0.17959905,\n",
       "        0.48842821, 0.46733237, 0.74394709, 0.1341197 , 0.57160459],\n",
       "       [0.94635125, 0.48483427, 0.19328519, 0.65713697, 0.85909889,\n",
       "        0.64959728, 0.66422802, 0.4595162 , 0.05069735, 0.79585072],\n",
       "       [0.22166541, 0.80033823, 0.22232014, 0.71367011, 0.15982231,\n",
       "        0.94142384, 0.66117076, 0.28634494, 0.04427928, 0.35855024],\n",
       "       [0.73828079, 0.17818909, 0.22379344, 0.35626796, 0.90864213,\n",
       "        0.82303516, 0.23509042, 0.88771701, 0.94771472, 0.40496336]])"
      ]
     },
     "execution_count": 108,
     "metadata": {},
     "output_type": "execute_result"
    }
   ],
   "source": [
    "a.T  # transponer"
   ]
  },
  {
   "cell_type": "code",
   "execution_count": 109,
   "metadata": {},
   "outputs": [
    {
     "data": {
      "text/plain": [
       "array([[[0.72661925, 0.34230488],\n",
       "        [0.30219514, 0.94507086],\n",
       "        [0.65189974, 0.54074108]],\n",
       "\n",
       "       [[0.41758871, 0.2400138 ],\n",
       "        [0.49543552, 0.05822703],\n",
       "        [0.06254915, 0.89625759]],\n",
       "\n",
       "       [[0.18147869, 0.01794373],\n",
       "        [0.21946864, 0.92589557],\n",
       "        [0.84254175, 0.89538745]]])"
      ]
     },
     "execution_count": 109,
     "metadata": {},
     "output_type": "execute_result"
    }
   ],
   "source": [
    "b"
   ]
  },
  {
   "cell_type": "code",
   "execution_count": 110,
   "metadata": {},
   "outputs": [
    {
     "data": {
      "text/plain": [
       "array([0.72661925, 1.06892413, 1.37111927, 2.31619013, 2.96808987,\n",
       "       3.50883095, 3.92641966, 4.16643345, 4.66186897, 4.720096  ,\n",
       "       4.78264515, 5.67890274, 5.86038143, 5.87832517, 6.09779381,\n",
       "       7.02368938, 7.86623113, 8.76161858])"
      ]
     },
     "execution_count": 110,
     "metadata": {},
     "output_type": "execute_result"
    }
   ],
   "source": [
    "b.cumsum()"
   ]
  },
  {
   "cell_type": "code",
   "execution_count": 111,
   "metadata": {},
   "outputs": [
    {
     "data": {
      "text/plain": [
       "(3, 3, 2)"
      ]
     },
     "execution_count": 111,
     "metadata": {},
     "output_type": "execute_result"
    }
   ],
   "source": [
    "b.shape"
   ]
  },
  {
   "cell_type": "code",
   "execution_count": 118,
   "metadata": {},
   "outputs": [
    {
     "data": {
      "text/plain": [
       "array([[[0.72661925],\n",
       "        [0.34230488]],\n",
       "\n",
       "       [[0.30219514],\n",
       "        [0.94507086]],\n",
       "\n",
       "       [[0.65189974],\n",
       "        [0.54074108]],\n",
       "\n",
       "       [[0.41758871],\n",
       "        [0.2400138 ]],\n",
       "\n",
       "       [[0.49543552],\n",
       "        [0.05822703]],\n",
       "\n",
       "       [[0.06254915],\n",
       "        [0.89625759]],\n",
       "\n",
       "       [[0.18147869],\n",
       "        [0.01794373]],\n",
       "\n",
       "       [[0.21946864],\n",
       "        [0.92589557]],\n",
       "\n",
       "       [[0.84254175],\n",
       "        [0.89538745]]])"
      ]
     },
     "execution_count": 118,
     "metadata": {},
     "output_type": "execute_result"
    }
   ],
   "source": [
    "b.reshape((9, 2, 1))"
   ]
  },
  {
   "cell_type": "code",
   "execution_count": 122,
   "metadata": {},
   "outputs": [
    {
     "data": {
      "text/plain": [
       "[[0.3801803514780223,\n",
       "  0.9463512452945494,\n",
       "  0.22166541218016422,\n",
       "  0.738280785788031],\n",
       " [0.6546585116012865,\n",
       "  0.484834267345824,\n",
       "  0.8003382294110822,\n",
       "  0.178189086460959],\n",
       " [0.043679414537077244,\n",
       "  0.19328518738540046,\n",
       "  0.22232013502863723,\n",
       "  0.2237934364077394],\n",
       " [0.11589499889828192,\n",
       "  0.6571369676216764,\n",
       "  0.7136701063673511,\n",
       "  0.3562679637003402],\n",
       " [0.17959904650341074,\n",
       "  0.8590988865035918,\n",
       "  0.1598223131307721,\n",
       "  0.9086421337308931],\n",
       " [0.48842820594799263,\n",
       "  0.6495972767032322,\n",
       "  0.9414238353445233,\n",
       "  0.8230351637850691],\n",
       " [0.4673323659813251,\n",
       "  0.6642280245952564,\n",
       "  0.6611707563615605,\n",
       "  0.23509041518861273],\n",
       " [0.7439470930780068,\n",
       "  0.4595162023765126,\n",
       "  0.2863449440436877,\n",
       "  0.8877170107874716],\n",
       " [0.13411970151325758,\n",
       "  0.050697346986463776,\n",
       "  0.04427928167681783,\n",
       "  0.9477147171874187],\n",
       " [0.5716045909094752,\n",
       "  0.7958507205006912,\n",
       "  0.35855023892013427,\n",
       "  0.40496335968457975]]"
      ]
     },
     "execution_count": 122,
     "metadata": {},
     "output_type": "execute_result"
    }
   ],
   "source": [
    "a.tolist()"
   ]
  },
  {
   "cell_type": "code",
   "execution_count": 123,
   "metadata": {},
   "outputs": [
    {
     "data": {
      "text/plain": [
       "numpy.ndarray"
      ]
     },
     "execution_count": 123,
     "metadata": {},
     "output_type": "execute_result"
    }
   ],
   "source": [
    "type(a)"
   ]
  },
  {
   "cell_type": "code",
   "execution_count": 124,
   "metadata": {},
   "outputs": [
    {
     "data": {
      "text/plain": [
       "list"
      ]
     },
     "execution_count": 124,
     "metadata": {},
     "output_type": "execute_result"
    }
   ],
   "source": [
    "type(a.tolist())"
   ]
  },
  {
   "cell_type": "code",
   "execution_count": 125,
   "metadata": {},
   "outputs": [
    {
     "data": {
      "text/plain": [
       "(10, 4)"
      ]
     },
     "execution_count": 125,
     "metadata": {},
     "output_type": "execute_result"
    }
   ],
   "source": [
    "a.shape"
   ]
  },
  {
   "cell_type": "code",
   "execution_count": 126,
   "metadata": {},
   "outputs": [
    {
     "data": {
      "text/plain": [
       "10"
      ]
     },
     "execution_count": 126,
     "metadata": {},
     "output_type": "execute_result"
    }
   ],
   "source": [
    "len(a.tolist())"
   ]
  },
  {
   "cell_type": "code",
   "execution_count": 127,
   "metadata": {},
   "outputs": [
    {
     "ename": "AttributeError",
     "evalue": "'list' object has no attribute 'shape'",
     "output_type": "error",
     "traceback": [
      "\u001b[0;31m---------------------------------------------------------------------------\u001b[0m",
      "\u001b[0;31mAttributeError\u001b[0m                            Traceback (most recent call last)",
      "\u001b[0;32m<ipython-input-127-4c9b72255492>\u001b[0m in \u001b[0;36m<module>\u001b[0;34m\u001b[0m\n\u001b[0;32m----> 1\u001b[0;31m \u001b[0ma\u001b[0m\u001b[0;34m.\u001b[0m\u001b[0mtolist\u001b[0m\u001b[0;34m(\u001b[0m\u001b[0;34m)\u001b[0m\u001b[0;34m.\u001b[0m\u001b[0mshape\u001b[0m\u001b[0;34m\u001b[0m\u001b[0;34m\u001b[0m\u001b[0m\n\u001b[0m",
      "\u001b[0;31mAttributeError\u001b[0m: 'list' object has no attribute 'shape'"
     ]
    }
   ],
   "source": [
    "a.tolist().shape"
   ]
  },
  {
   "cell_type": "code",
   "execution_count": 129,
   "metadata": {},
   "outputs": [
    {
     "data": {
      "text/plain": [
       "array([[1.63431185, 1.0166727 , 0.41402481, 1.08716516, 1.58754944,\n",
       "        1.61675015, 1.12638503, 1.43655498, 0.80846192, 1.34892201],\n",
       "       [1.0166727 , 1.33593467, 0.34011523, 1.0291347 , 0.82391864,\n",
       "        1.53481407, 1.1990344 , 1.09717479, 0.31669324, 1.11918303],\n",
       "       [0.41402481, 0.34011523, 0.1387768 , 0.37047073, 0.41277573,\n",
       "        0.54037913, 0.34840151, 0.38363834, 0.23759383, 0.34913459],\n",
       "       [1.08716516, 1.0291347 , 0.37047073, 1.08151253, 1.02314076,\n",
       "        1.44856788, 1.04626326, 0.90880579, 0.4181001 , 0.9893911 ],\n",
       "       [1.58754944, 0.82391864, 0.41277573, 1.02314076, 1.62148041,\n",
       "        1.5440945 , 0.9738529 , 1.38076344, 0.93585214, 1.21164521],\n",
       "       [1.61675015, 1.53481407, 0.54037913, 1.44856788, 1.5440945 ,\n",
       "        2.22420445, 1.47566861, 1.66205949, 0.92012881, 1.46701709],\n",
       "       [1.12638503, 1.1990344 , 0.34840151, 1.04626326, 0.9738529 ,\n",
       "        1.47566861, 1.15201268, 1.05091076, 0.34842789, 1.12802161],\n",
       "       [1.43655498, 1.09717479, 0.38363834, 0.90880579, 1.38076344,\n",
       "        1.66205949, 1.05091076, 1.63464734, 0.97705584, 1.25311179],\n",
       "       [0.80846192, 0.31669324, 0.23759383, 0.4181001 , 0.93585214,\n",
       "        0.92012881, 0.34842789, 0.97705584, 0.92068216, 0.51667704],\n",
       "       [1.34892201, 1.11918303, 0.34913459, 0.9893911 , 1.21164521,\n",
       "        1.46701709, 1.12802161, 1.25311179, 0.51667704, 1.25266377]])"
      ]
     },
     "execution_count": 129,
     "metadata": {},
     "output_type": "execute_result"
    }
   ],
   "source": [
    "np.matmul(a, a.T)   # multiplicion de matrices"
   ]
  },
  {
   "cell_type": "code",
   "execution_count": 130,
   "metadata": {},
   "outputs": [
    {
     "data": {
      "text/plain": [
       "(10, 4)"
      ]
     },
     "execution_count": 130,
     "metadata": {},
     "output_type": "execute_result"
    }
   ],
   "source": [
    "a.shape"
   ]
  },
  {
   "cell_type": "code",
   "execution_count": 131,
   "metadata": {},
   "outputs": [
    {
     "ename": "ValueError",
     "evalue": "matmul: Input operand 1 has a mismatch in its core dimension 0, with gufunc signature (n?,k),(k,m?)->(n?,m?) (size 10 is different from 4)",
     "output_type": "error",
     "traceback": [
      "\u001b[0;31m---------------------------------------------------------------------------\u001b[0m",
      "\u001b[0;31mValueError\u001b[0m                                Traceback (most recent call last)",
      "\u001b[0;32m<ipython-input-131-f1850bd40e72>\u001b[0m in \u001b[0;36m<module>\u001b[0;34m\u001b[0m\n\u001b[0;32m----> 1\u001b[0;31m \u001b[0mnp\u001b[0m\u001b[0;34m.\u001b[0m\u001b[0mmatmul\u001b[0m\u001b[0;34m(\u001b[0m\u001b[0ma\u001b[0m\u001b[0;34m,\u001b[0m \u001b[0ma\u001b[0m\u001b[0;34m)\u001b[0m\u001b[0;34m\u001b[0m\u001b[0;34m\u001b[0m\u001b[0m\n\u001b[0m",
      "\u001b[0;31mValueError\u001b[0m: matmul: Input operand 1 has a mismatch in its core dimension 0, with gufunc signature (n?,k),(k,m?)->(n?,m?) (size 10 is different from 4)"
     ]
    }
   ],
   "source": [
    "np.matmul(a, a)   # problema de dimensiones (el nº de columnas del primero tiene que ser igual que el nº de filas del segundo)"
   ]
  },
  {
   "cell_type": "code",
   "execution_count": 132,
   "metadata": {},
   "outputs": [
    {
     "data": {
      "text/plain": [
       "(4, 10)"
      ]
     },
     "execution_count": 132,
     "metadata": {},
     "output_type": "execute_result"
    }
   ],
   "source": [
    "a.T.shape"
   ]
  },
  {
   "cell_type": "code",
   "execution_count": 133,
   "metadata": {},
   "outputs": [
    {
     "data": {
      "text/plain": [
       "(10, 10)"
      ]
     },
     "execution_count": 133,
     "metadata": {},
     "output_type": "execute_result"
    }
   ],
   "source": [
    "np.matmul(a, a.T).shape"
   ]
  },
  {
   "cell_type": "code",
   "execution_count": 134,
   "metadata": {},
   "outputs": [
    {
     "data": {
      "text/plain": [
       "array([[0.06062433, 0.05584048, 0.47686869],\n",
       "       [0.93888267, 0.33963425, 0.33324139],\n",
       "       [0.49431725, 0.85973034, 0.64340912]])"
      ]
     },
     "execution_count": 134,
     "metadata": {},
     "output_type": "execute_result"
    }
   ],
   "source": [
    "d=np.random.random((3,3))\n",
    "d"
   ]
  },
  {
   "cell_type": "code",
   "execution_count": 135,
   "metadata": {},
   "outputs": [
    {
     "data": {
      "text/plain": [
       "array([[0.29182739, 0.43232911, 0.35433987],\n",
       "       [0.54052281, 0.45427681, 0.7753145 ],\n",
       "       [1.1552018 , 0.87275512, 0.93619746]])"
      ]
     },
     "execution_count": 135,
     "metadata": {},
     "output_type": "execute_result"
    }
   ],
   "source": [
    "np.matmul(d, d)"
   ]
  },
  {
   "cell_type": "code",
   "execution_count": 136,
   "metadata": {},
   "outputs": [
    {
     "data": {
      "text/plain": [
       "array([[[0.07333276],\n",
       "        [0.12851528]],\n",
       "\n",
       "       [[0.82513383],\n",
       "        [0.30779743]],\n",
       "\n",
       "       [[0.51503465],\n",
       "        [0.70957491]]])"
      ]
     },
     "execution_count": 136,
     "metadata": {},
     "output_type": "execute_result"
    }
   ],
   "source": [
    "f=np.random.random((3,2,1))\n",
    "\n",
    "f"
   ]
  },
  {
   "cell_type": "code",
   "execution_count": 137,
   "metadata": {},
   "outputs": [
    {
     "data": {
      "text/plain": [
       "(1, 2, 3)"
      ]
     },
     "execution_count": 137,
     "metadata": {},
     "output_type": "execute_result"
    }
   ],
   "source": [
    "f.T.shape"
   ]
  },
  {
   "cell_type": "code",
   "execution_count": 138,
   "metadata": {},
   "outputs": [],
   "source": [
    "g=np.random.random((3,2,1,5,6,7))"
   ]
  },
  {
   "cell_type": "code",
   "execution_count": 139,
   "metadata": {},
   "outputs": [
    {
     "data": {
      "text/plain": [
       "(7, 6, 5, 1, 2, 3)"
      ]
     },
     "execution_count": 139,
     "metadata": {},
     "output_type": "execute_result"
    }
   ],
   "source": [
    "g.T.shape"
   ]
  },
  {
   "cell_type": "code",
   "execution_count": 141,
   "metadata": {},
   "outputs": [
    {
     "ename": "ValueError",
     "evalue": "matmul: Input operand 1 has a mismatch in its core dimension 0, with gufunc signature (n?,k),(k,m?)->(n?,m?) (size 6 is different from 3)",
     "output_type": "error",
     "traceback": [
      "\u001b[0;31m---------------------------------------------------------------------------\u001b[0m",
      "\u001b[0;31mValueError\u001b[0m                                Traceback (most recent call last)",
      "\u001b[0;32m<ipython-input-141-9ca6ece2a9e0>\u001b[0m in \u001b[0;36m<module>\u001b[0;34m\u001b[0m\n\u001b[0;32m----> 1\u001b[0;31m \u001b[0mnp\u001b[0m\u001b[0;34m.\u001b[0m\u001b[0mmatmul\u001b[0m\u001b[0;34m(\u001b[0m\u001b[0mg\u001b[0m\u001b[0;34m.\u001b[0m\u001b[0mT\u001b[0m\u001b[0;34m,\u001b[0m \u001b[0mg\u001b[0m\u001b[0;34m)\u001b[0m\u001b[0;34m.\u001b[0m\u001b[0mshape\u001b[0m\u001b[0;34m\u001b[0m\u001b[0;34m\u001b[0m\u001b[0m\n\u001b[0m",
      "\u001b[0;31mValueError\u001b[0m: matmul: Input operand 1 has a mismatch in its core dimension 0, with gufunc signature (n?,k),(k,m?)->(n?,m?) (size 6 is different from 3)"
     ]
    }
   ],
   "source": [
    "np.matmul(g.T, g).shape"
   ]
  },
  {
   "cell_type": "code",
   "execution_count": 142,
   "metadata": {},
   "outputs": [
    {
     "data": {
      "text/plain": [
       "array([1.36217086, 2.70439801])"
      ]
     },
     "execution_count": 142,
     "metadata": {},
     "output_type": "execute_result"
    }
   ],
   "source": [
    "np.random.normal((2,2))   # aleatorio distribucion normal (media, std)"
   ]
  },
  {
   "cell_type": "code",
   "execution_count": 143,
   "metadata": {},
   "outputs": [
    {
     "data": {
      "text/plain": [
       "array([[0.58724675, 0.38334078],\n",
       "       [0.22315496, 0.01989885]])"
      ]
     },
     "execution_count": 143,
     "metadata": {},
     "output_type": "execute_result"
    }
   ],
   "source": [
    "np.random.random((2,2))  # aleatorio distribucion uniforme (dimensiones)"
   ]
  },
  {
   "cell_type": "code",
   "execution_count": 147,
   "metadata": {},
   "outputs": [
    {
     "data": {
      "text/plain": [
       "array(12.99622666)"
      ]
     },
     "execution_count": 147,
     "metadata": {},
     "output_type": "execute_result"
    }
   ],
   "source": [
    "np.tensordot(a, a)    # producto tensorial"
   ]
  },
  {
   "cell_type": "code",
   "execution_count": 148,
   "metadata": {},
   "outputs": [
    {
     "data": {
      "text/plain": [
       "0.04167866054099601"
      ]
     },
     "execution_count": 148,
     "metadata": {},
     "output_type": "execute_result"
    }
   ],
   "source": [
    "np.linalg.det(a[:4, :])    # determinante de una matriz (tiene que ser cuadrada)"
   ]
  },
  {
   "cell_type": "code",
   "execution_count": 149,
   "metadata": {},
   "outputs": [
    {
     "data": {
      "text/plain": [
       "inf"
      ]
     },
     "execution_count": 149,
     "metadata": {},
     "output_type": "execute_result"
    }
   ],
   "source": [
    "np.inf"
   ]
  },
  {
   "cell_type": "code",
   "execution_count": null,
   "metadata": {},
   "outputs": [],
   "source": []
  }
 ],
 "metadata": {
  "kernelspec": {
   "display_name": "Python 3",
   "language": "python",
   "name": "python3"
  },
  "language_info": {
   "codemirror_mode": {
    "name": "ipython",
    "version": 3
   },
   "file_extension": ".py",
   "mimetype": "text/x-python",
   "name": "python",
   "nbconvert_exporter": "python",
   "pygments_lexer": "ipython3",
   "version": "3.7.6"
  }
 },
 "nbformat": 4,
 "nbformat_minor": 2
}
