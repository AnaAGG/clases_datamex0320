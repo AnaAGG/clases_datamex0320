{
 "cells": [
  {
   "cell_type": "markdown",
   "metadata": {},
   "source": [
    "# Scavengers chapter-1"
   ]
  },
  {
   "cell_type": "code",
   "execution_count": 1,
   "metadata": {},
   "outputs": [],
   "source": [
    "with open('token.txt', 'r') as f:\n",
    "    acceso=f.readlines()[0].split('=')\n",
    "\n",
    "user=acceso[0]\n",
    "key=acceso[1].rstrip('\\n')"
   ]
  },
  {
   "cell_type": "code",
   "execution_count": null,
   "metadata": {},
   "outputs": [],
   "source": [
    "# https://developer.github.com/v3/guides/"
   ]
  },
  {
   "cell_type": "code",
   "execution_count": 4,
   "metadata": {},
   "outputs": [],
   "source": [
    "import json\n",
    "import requests\n",
    "import pandas as pd\n",
    "import time"
   ]
  },
  {
   "cell_type": "code",
   "execution_count": 13,
   "metadata": {},
   "outputs": [],
   "source": [
    "repo='ironhack-datalabs/madrid-oct-2018'\n",
    "\n",
    "get_forks='http://api.github.com/repos/'+repo+'/forks'"
   ]
  },
  {
   "cell_type": "code",
   "execution_count": 14,
   "metadata": {},
   "outputs": [],
   "source": [
    "res_forks=requests.get(get_forks, auth=(user, key))\n",
    "\n",
    "res=res_forks.json()"
   ]
  },
  {
   "cell_type": "code",
   "execution_count": 15,
   "metadata": {},
   "outputs": [
    {
     "data": {
      "text/plain": [
       "dict_keys(['id', 'node_id', 'name', 'full_name', 'private', 'owner', 'html_url', 'description', 'fork', 'url', 'forks_url', 'keys_url', 'collaborators_url', 'teams_url', 'hooks_url', 'issue_events_url', 'events_url', 'assignees_url', 'branches_url', 'tags_url', 'blobs_url', 'git_tags_url', 'git_refs_url', 'trees_url', 'statuses_url', 'languages_url', 'stargazers_url', 'contributors_url', 'subscribers_url', 'subscription_url', 'commits_url', 'git_commits_url', 'comments_url', 'issue_comment_url', 'contents_url', 'compare_url', 'merges_url', 'archive_url', 'downloads_url', 'issues_url', 'pulls_url', 'milestones_url', 'notifications_url', 'labels_url', 'releases_url', 'deployments_url', 'created_at', 'updated_at', 'pushed_at', 'git_url', 'ssh_url', 'clone_url', 'svn_url', 'homepage', 'size', 'stargazers_count', 'watchers_count', 'language', 'has_issues', 'has_projects', 'has_downloads', 'has_wiki', 'has_pages', 'forks_count', 'mirror_url', 'archived', 'disabled', 'open_issues_count', 'license', 'forks', 'open_issues', 'watchers', 'default_branch', 'permissions'])"
      ]
     },
     "execution_count": 15,
     "metadata": {},
     "output_type": "execute_result"
    }
   ],
   "source": [
    "res[0].keys()"
   ]
  },
  {
   "cell_type": "code",
   "execution_count": 16,
   "metadata": {},
   "outputs": [
    {
     "data": {
      "text/plain": [
       "{'HTML', 'Jupyter Notebook', None}"
      ]
     },
     "execution_count": 16,
     "metadata": {},
     "output_type": "execute_result"
    }
   ],
   "source": [
    "lenguajes=set()\n",
    "\n",
    "for i in range(len(res)):\n",
    "    lenguajes.add(res[i]['language'])\n",
    "    \n",
    "lenguajes"
   ]
  },
  {
   "cell_type": "code",
   "execution_count": 17,
   "metadata": {},
   "outputs": [
    {
     "data": {
      "text/plain": [
       "{'HTML', 'Jupyter Notebook', None}"
      ]
     },
     "execution_count": 17,
     "metadata": {},
     "output_type": "execute_result"
    }
   ],
   "source": [
    "lenguajes=[]\n",
    "\n",
    "for i in range(len(res)):\n",
    "    lenguajes.append(res[i]['language'])\n",
    "    \n",
    "set(lenguajes)"
   ]
  },
  {
   "cell_type": "markdown",
   "metadata": {},
   "source": [
    "# scavengers chapter 2"
   ]
  },
  {
   "cell_type": "code",
   "execution_count": 24,
   "metadata": {},
   "outputs": [],
   "source": [
    "repo='YonatanRA/clases_datamex0320'\n",
    "\n",
    "desde='2020-03-27T00:00:00Z'\n",
    "hasta='2020-04-06T23:59:59Z'"
   ]
  },
  {
   "cell_type": "code",
   "execution_count": 25,
   "metadata": {},
   "outputs": [],
   "source": [
    "get_commits='http://api.github.com/repos/{}/commits?since={}&until={}'.format(repo, desde, hasta)"
   ]
  },
  {
   "cell_type": "code",
   "execution_count": 26,
   "metadata": {},
   "outputs": [],
   "source": [
    "res_commit=requests.get(get_commits, auth=(user, key))\n",
    "\n",
    "res=res_commit.json()"
   ]
  },
  {
   "cell_type": "code",
   "execution_count": 30,
   "metadata": {},
   "outputs": [
    {
     "data": {
      "text/plain": [
       "30"
      ]
     },
     "execution_count": 30,
     "metadata": {},
     "output_type": "execute_result"
    }
   ],
   "source": [
    "commit=[]\n",
    "\n",
    "for i in range(len(res)):\n",
    "    commit.append(res[i]['commit'])\n",
    "    \n",
    "len(commit)"
   ]
  },
  {
   "cell_type": "markdown",
   "metadata": {},
   "source": [
    "# scavengers chapter 3 V1"
   ]
  },
  {
   "cell_type": "code",
   "execution_count": 32,
   "metadata": {},
   "outputs": [],
   "source": [
    "repo='ironhack-datalabs/scavenger'"
   ]
  },
  {
   "cell_type": "code",
   "execution_count": 33,
   "metadata": {},
   "outputs": [],
   "source": [
    "get_repo='http://api.github.com/repos/{}/git/trees/master?recursive=1'.format(repo)"
   ]
  },
  {
   "cell_type": "code",
   "execution_count": 34,
   "metadata": {},
   "outputs": [],
   "source": [
    "get_repo=requests.get(get_repo, auth=(user, key))\n",
    "\n",
    "res=get_repo.json()"
   ]
  },
  {
   "cell_type": "code",
   "execution_count": 44,
   "metadata": {},
   "outputs": [
    {
     "data": {
      "text/plain": [
       "'15534/.0008.scavengerhunt'"
      ]
     },
     "execution_count": 44,
     "metadata": {},
     "output_type": "execute_result"
    }
   ],
   "source": [
    "res['tree'][7]['path']"
   ]
  },
  {
   "cell_type": "code",
   "execution_count": 45,
   "metadata": {},
   "outputs": [],
   "source": [
    "url='https://api.github.com/repos/ironhack-datalabs/scavenger/contents/'\n",
    "\n",
    "tree=res['tree']"
   ]
  },
  {
   "cell_type": "code",
   "execution_count": 48,
   "metadata": {},
   "outputs": [
    {
     "data": {
      "text/plain": [
       "[('.0006.scavengerhunt', 'b2YK\\n'),\n",
       " ('.0008.scavengerhunt', 'c3BlbnQK\\n'),\n",
       " ('.0012.scavengerhunt', 'MjAK\\n'),\n",
       " ('.0007.scavengerhunt', 'dGltZQo=\\n'),\n",
       " ('.0021.scavengerhunt', 'bmVlZAo=\\n'),\n",
       " ('.0022.scavengerhunt', 'dG8K\\n'),\n",
       " ('.0005.scavengerhunt', 'cGVyY2VudAo=\\n'),\n",
       " ('.0018.scavengerhunt', 'Y29tcGxhaW5pbmcK\\n'),\n",
       " ('.0016.scavengerhunt', 'aXMK\\n'),\n",
       " ('.0024.scavengerhunt', 'ZGF0YS4K\\n'),\n",
       " ('.0010.scavengerhunt', 'cHJlcGFyaW5nCg==\\n'),\n",
       " ('.0014.scavengerhunt', 'b2YK\\n'),\n",
       " ('.0011.scavengerhunt', 'ZGF0YSwK\\n'),\n",
       " ('.0023.scavengerhunt', 'cHJlcGFyZQo=\\n'),\n",
       " ('.0020.scavengerhunt', 'dGhlCg==\\n'),\n",
       " ('.0003.scavengerhunt', 'c2NpZW5jZSwK\\n'),\n",
       " ('.0004.scavengerhunt', 'ODAK\\n'),\n",
       " ('.0019.scavengerhunt', 'YWJvdXQK\\n'),\n",
       " ('.0017.scavengerhunt', 'c3BlbnQK\\n'),\n",
       " ('.0002.scavengerhunt', 'ZGF0YQo=\\n'),\n",
       " ('.0013.scavengerhunt', 'cGVyY2VudAo=\\n'),\n",
       " ('.0015.scavengerhunt', 'dGltZQo=\\n'),\n",
       " ('.0009.scavengerhunt', 'aXMK\\n'),\n",
       " ('.0001.scavengerhunt', 'SW4K\\n')]"
      ]
     },
     "execution_count": 48,
     "metadata": {},
     "output_type": "execute_result"
    }
   ],
   "source": [
    "archivos=[]\n",
    "\n",
    "for i in range(len(tree)):\n",
    "    if tree[i]['type']=='blob' and 'scavengerhunt' in tree[i]['path']:\n",
    "        # obtengo el path y el contenido del archivo\n",
    "        get_contenido=requests.get(url + tree[i]['path'], auth=(user, key))\n",
    "        contenido=get_contenido.json()\n",
    "        archivos.append((contenido['name'], contenido['content']))\n",
    "        time.sleep(1)\n",
    "        \n",
    "archivos"
   ]
  },
  {
   "cell_type": "code",
   "execution_count": 50,
   "metadata": {},
   "outputs": [
    {
     "data": {
      "text/plain": [
       "[('.0001.scavengerhunt', 'SW4K\\n'),\n",
       " ('.0002.scavengerhunt', 'ZGF0YQo=\\n'),\n",
       " ('.0003.scavengerhunt', 'c2NpZW5jZSwK\\n'),\n",
       " ('.0004.scavengerhunt', 'ODAK\\n'),\n",
       " ('.0005.scavengerhunt', 'cGVyY2VudAo=\\n'),\n",
       " ('.0006.scavengerhunt', 'b2YK\\n'),\n",
       " ('.0007.scavengerhunt', 'dGltZQo=\\n'),\n",
       " ('.0008.scavengerhunt', 'c3BlbnQK\\n'),\n",
       " ('.0009.scavengerhunt', 'aXMK\\n'),\n",
       " ('.0010.scavengerhunt', 'cHJlcGFyaW5nCg==\\n'),\n",
       " ('.0011.scavengerhunt', 'ZGF0YSwK\\n'),\n",
       " ('.0012.scavengerhunt', 'MjAK\\n'),\n",
       " ('.0013.scavengerhunt', 'cGVyY2VudAo=\\n'),\n",
       " ('.0014.scavengerhunt', 'b2YK\\n'),\n",
       " ('.0015.scavengerhunt', 'dGltZQo=\\n'),\n",
       " ('.0016.scavengerhunt', 'aXMK\\n'),\n",
       " ('.0017.scavengerhunt', 'c3BlbnQK\\n'),\n",
       " ('.0018.scavengerhunt', 'Y29tcGxhaW5pbmcK\\n'),\n",
       " ('.0019.scavengerhunt', 'YWJvdXQK\\n'),\n",
       " ('.0020.scavengerhunt', 'dGhlCg==\\n'),\n",
       " ('.0021.scavengerhunt', 'bmVlZAo=\\n'),\n",
       " ('.0022.scavengerhunt', 'dG8K\\n'),\n",
       " ('.0023.scavengerhunt', 'cHJlcGFyZQo=\\n'),\n",
       " ('.0024.scavengerhunt', 'ZGF0YS4K\\n')]"
      ]
     },
     "execution_count": 50,
     "metadata": {},
     "output_type": "execute_result"
    }
   ],
   "source": [
    "archivos.sort()\n",
    "\n",
    "archivos"
   ]
  },
  {
   "cell_type": "code",
   "execution_count": 51,
   "metadata": {},
   "outputs": [
    {
     "data": {
      "text/plain": [
       "'In data science, 80 percent of time spent is preparing data, 20 percent of time is spent complaining about the need to prepare data. '"
      ]
     },
     "execution_count": 51,
     "metadata": {},
     "output_type": "execute_result"
    }
   ],
   "source": [
    "import base64\n",
    "\n",
    "frase=''\n",
    "\n",
    "for texto in archivos:\n",
    "    frase+=str(base64.b64decode(texto[1]))\n",
    "    \n",
    "# La frase buscada es....\n",
    "\n",
    "frase=frase.replace('b\\'', '').replace('\\\\n\\'', ' ')\n",
    "\n",
    "frase"
   ]
  },
  {
   "cell_type": "markdown",
   "metadata": {},
   "source": [
    "# scavengers chater 3 V2"
   ]
  },
  {
   "cell_type": "code",
   "execution_count": 52,
   "metadata": {},
   "outputs": [],
   "source": [
    "def get_auth(url, headers={'Authorization': 'token {}'.format(key)}):\n",
    "    baseURL='https://api.github.com{}'.format(url)\n",
    "    res=requests.get(baseURL, headers=headers, auth=(user, key))\n",
    "    return res.json()"
   ]
  },
  {
   "cell_type": "code",
   "execution_count": 53,
   "metadata": {},
   "outputs": [],
   "source": [
    "data=get_auth('/search/code?q=extension:.scavengerhunt repo:ironhack-datalabs/scavenger')"
   ]
  },
  {
   "cell_type": "code",
   "execution_count": 57,
   "metadata": {},
   "outputs": [
    {
     "data": {
      "text/plain": [
       "'.0006.scavengerhunt'"
      ]
     },
     "execution_count": 57,
     "metadata": {},
     "output_type": "execute_result"
    }
   ],
   "source": [
    "data['items'][0]['name']"
   ]
  },
  {
   "cell_type": "code",
   "execution_count": 58,
   "metadata": {},
   "outputs": [
    {
     "data": {
      "text/plain": [
       "('.0008.scavengerhunt', '15534/.0008.scavengerhunt')"
      ]
     },
     "execution_count": 58,
     "metadata": {},
     "output_type": "execute_result"
    }
   ],
   "source": [
    "files=[(e['name'], e['path']) for e in data['items']]\n",
    "\n",
    "files[2]"
   ]
  },
  {
   "cell_type": "code",
   "execution_count": 59,
   "metadata": {},
   "outputs": [],
   "source": [
    "formated=[(e[0], 'https://githubusercontent.com/ironhack-datalabs/scavenger/master/{}'.format(e[1])) for e in files]"
   ]
  },
  {
   "cell_type": "code",
   "execution_count": 61,
   "metadata": {},
   "outputs": [
    {
     "data": {
      "text/plain": [
       "('.0006.scavengerhunt',\n",
       " 'https://githubusercontent.com/ironhack-datalabs/scavenger/master/15024/.0006.scavengerhunt')"
      ]
     },
     "execution_count": 61,
     "metadata": {},
     "output_type": "execute_result"
    }
   ],
   "source": [
    "formated[0]"
   ]
  },
  {
   "cell_type": "code",
   "execution_count": 63,
   "metadata": {},
   "outputs": [],
   "source": [
    "urls=[e[1] for e in sorted(formated, key=lambda x: x[0])]"
   ]
  },
  {
   "cell_type": "code",
   "execution_count": 65,
   "metadata": {},
   "outputs": [
    {
     "data": {
      "text/plain": [
       "'https://githubusercontent.com/ironhack-datalabs/scavenger/master/98750/.0001.scavengerhunt'"
      ]
     },
     "execution_count": 65,
     "metadata": {},
     "output_type": "execute_result"
    }
   ],
   "source": [
    "urls[0]"
   ]
  },
  {
   "cell_type": "code",
   "execution_count": 68,
   "metadata": {},
   "outputs": [],
   "source": [
    "#lst=[requests.get(e, auth=(user, key)).text for e in urls]"
   ]
  },
  {
   "cell_type": "code",
   "execution_count": 69,
   "metadata": {},
   "outputs": [],
   "source": [
    "#' '.join(lst)"
   ]
  },
  {
   "cell_type": "code",
   "execution_count": 70,
   "metadata": {},
   "outputs": [],
   "source": [
    "# ya no se puede asi"
   ]
  },
  {
   "cell_type": "code",
   "execution_count": null,
   "metadata": {},
   "outputs": [],
   "source": []
  }
 ],
 "metadata": {
  "kernelspec": {
   "display_name": "Python 3",
   "language": "python",
   "name": "python3"
  },
  "language_info": {
   "codemirror_mode": {
    "name": "ipython",
    "version": 3
   },
   "file_extension": ".py",
   "mimetype": "text/x-python",
   "name": "python",
   "nbconvert_exporter": "python",
   "pygments_lexer": "ipython3",
   "version": "3.7.6"
  }
 },
 "nbformat": 4,
 "nbformat_minor": 2
}
