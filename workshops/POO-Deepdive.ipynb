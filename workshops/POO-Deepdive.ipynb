{
 "cells": [
  {
   "cell_type": "code",
   "execution_count": 93,
   "metadata": {},
   "outputs": [
    {
     "output_type": "stream",
     "name": "stdout",
     "text": "Help on class object in module builtins:\n\nclass object\n |  The most base type\n\n"
    }
   ],
   "source": [
    "#En python todo es un objeto\n",
    "help(object)"
   ]
  },
  {
   "cell_type": "code",
   "execution_count": 3,
   "metadata": {},
   "outputs": [],
   "source": [
    "lista = [1,2,3,4,5,6]"
   ]
  },
  {
   "cell_type": "code",
   "execution_count": 10,
   "metadata": {},
   "outputs": [
    {
     "output_type": "execute_result",
     "data": {
      "text/plain": "3"
     },
     "metadata": {},
     "execution_count": 10
    }
   ],
   "source": [
    "#Internamente python realiza una suma de la siguiente manera:\n",
    "# que es igual que lista[0]+lista[1]\n",
    "lista.__getitem__(0).__add__(lista.__getitem__(1))"
   ]
  },
  {
   "cell_type": "code",
   "execution_count": 12,
   "metadata": {},
   "outputs": [
    {
     "output_type": "execute_result",
     "data": {
      "text/plain": "-1"
     },
     "metadata": {},
     "execution_count": 12
    }
   ],
   "source": [
    "lista.__getitem__(0).__sub__(lista.__getitem__(1))"
   ]
  },
  {
   "cell_type": "code",
   "execution_count": 11,
   "metadata": {},
   "outputs": [
    {
     "output_type": "stream",
     "name": "stdout",
     "text": "Help on class list in module builtins:\n\nclass list(object)\n |  list(iterable=(), /)\n |  \n |  Built-in mutable sequence.\n |  \n |  If no argument is given, the constructor creates a new empty list.\n |  The argument must be an iterable if specified.\n |  \n |  Methods defined here:\n |  \n |  __add__(self, value, /)\n |      Return self+value.\n |  \n |  __contains__(self, key, /)\n |      Return key in self.\n |  \n |  __delitem__(self, key, /)\n |      Delete self[key].\n |  \n |  __eq__(self, value, /)\n |      Return self==value.\n |  \n |  __ge__(self, value, /)\n |      Return self>=value.\n |  \n |  __getattribute__(self, name, /)\n |      Return getattr(self, name).\n |  \n |  __getitem__(...)\n |      x.__getitem__(y) <==> x[y]\n |  \n |  __gt__(self, value, /)\n |      Return self>value.\n |  \n |  __iadd__(self, value, /)\n |      Implement self+=value.\n |  \n |  __imul__(self, value, /)\n |      Implement self*=value.\n |  \n |  __init__(self, /, *args, **kwargs)\n |      Initialize self.  See help(type(self)) for accurate signature.\n |  \n |  __iter__(self, /)\n |      Implement iter(self).\n |  \n |  __le__(self, value, /)\n |      Return self<=value.\n |  \n |  __len__(self, /)\n |      Return len(self).\n |  \n |  __lt__(self, value, /)\n |      Return self<value.\n |  \n |  __mul__(self, value, /)\n |      Return self*value.\n |  \n |  __ne__(self, value, /)\n |      Return self!=value.\n |  \n |  __repr__(self, /)\n |      Return repr(self).\n |  \n |  __reversed__(self, /)\n |      Return a reverse iterator over the list.\n |  \n |  __rmul__(self, value, /)\n |      Return value*self.\n |  \n |  __setitem__(self, key, value, /)\n |      Set self[key] to value.\n |  \n |  __sizeof__(self, /)\n |      Return the size of the list in memory, in bytes.\n |  \n |  append(self, object, /)\n |      Append object to the end of the list.\n |  \n |  clear(self, /)\n |      Remove all items from list.\n |  \n |  copy(self, /)\n |      Return a shallow copy of the list.\n |  \n |  count(self, value, /)\n |      Return number of occurrences of value.\n |  \n |  extend(self, iterable, /)\n |      Extend list by appending elements from the iterable.\n |  \n |  index(self, value, start=0, stop=9223372036854775807, /)\n |      Return first index of value.\n |      \n |      Raises ValueError if the value is not present.\n |  \n |  insert(self, index, object, /)\n |      Insert object before index.\n |  \n |  pop(self, index=-1, /)\n |      Remove and return item at index (default last).\n |      \n |      Raises IndexError if list is empty or index is out of range.\n |  \n |  remove(self, value, /)\n |      Remove first occurrence of value.\n |      \n |      Raises ValueError if the value is not present.\n |  \n |  reverse(self, /)\n |      Reverse *IN PLACE*.\n |  \n |  sort(self, /, *, key=None, reverse=False)\n |      Stable sort *IN PLACE*.\n |  \n |  ----------------------------------------------------------------------\n |  Static methods defined here:\n |  \n |  __new__(*args, **kwargs) from builtins.type\n |      Create and return a new object.  See help(type) for accurate signature.\n |  \n |  ----------------------------------------------------------------------\n |  Data and other attributes defined here:\n |  \n |  __hash__ = None\n\n"
    }
   ],
   "source": [
    "help(list)"
   ]
  },
  {
   "cell_type": "code",
   "execution_count": 17,
   "metadata": {},
   "outputs": [],
   "source": [
    "class nueva:\n",
    "    pass"
   ]
  },
  {
   "cell_type": "code",
   "execution_count": 20,
   "metadata": {},
   "outputs": [
    {
     "output_type": "execute_result",
     "data": {
      "text/plain": "object"
     },
     "metadata": {},
     "execution_count": 20
    }
   ],
   "source": [
    "nueva.__class__.__base__"
   ]
  },
  {
   "cell_type": "code",
   "execution_count": 21,
   "metadata": {},
   "outputs": [],
   "source": [
    "class Rectangle:\n",
    "    def area(self):\n",
    "        return self.length * self.height"
   ]
  },
  {
   "cell_type": "code",
   "execution_count": 22,
   "metadata": {},
   "outputs": [],
   "source": [
    "r = Rectangle()"
   ]
  },
  {
   "cell_type": "code",
   "execution_count": 24,
   "metadata": {},
   "outputs": [],
   "source": [
    "r.length, r.height = 12, 3"
   ]
  },
  {
   "cell_type": "code",
   "execution_count": 25,
   "metadata": {},
   "outputs": [
    {
     "output_type": "execute_result",
     "data": {
      "text/plain": "36"
     },
     "metadata": {},
     "execution_count": 25
    }
   ],
   "source": [
    "r.area()"
   ]
  },
  {
   "cell_type": "code",
   "execution_count": 30,
   "metadata": {},
   "outputs": [],
   "source": [
    "class puntos:\n",
    "    def __init__(self,x,y):\n",
    "        self.x = x\n",
    "        self.y = y\n",
    "    def __add__(self,otro):\n",
    "        return puntos(self.x + otro.x , self.y + otro.y)\n",
    "    def __str__(self):\n",
    "        return f'{self.x,self.y}'"
   ]
  },
  {
   "cell_type": "code",
   "execution_count": 27,
   "metadata": {},
   "outputs": [],
   "source": [
    "primer_punto = puntos(2,6)\n",
    "segundo_punto = puntos(3,6)"
   ]
  },
  {
   "cell_type": "code",
   "execution_count": 36,
   "metadata": {},
   "outputs": [
    {
     "output_type": "execute_result",
     "data": {
      "text/plain": "12"
     },
     "metadata": {},
     "execution_count": 36
    }
   ],
   "source": [
    "resultado = primer_punto+segundo_punto\n",
    "resultado.x"
   ]
  },
  {
   "cell_type": "code",
   "execution_count": 88,
   "metadata": {},
   "outputs": [],
   "source": [
    "class Escuela():\n",
    "    clases = {}"
   ]
  },
  {
   "cell_type": "code",
   "execution_count": 89,
   "metadata": {},
   "outputs": [],
   "source": [
    "class Clases(Escuela):\n",
    "    def __init__(self, clase:str, profe:str) -> None:\n",
    "        \"\"\"Se define una clase para clases y profesores\"\"\"\n",
    "        #Esto no es un doctring\n",
    "        Escuela.clases.update({clase:{'profe':profe}, 'Alumnos':[]})"
   ]
  },
  {
   "cell_type": "code",
   "execution_count": 90,
   "metadata": {},
   "outputs": [
    {
     "output_type": "execute_result",
     "data": {
      "text/plain": "'Se define una clase para clases y profesores'"
     },
     "metadata": {},
     "execution_count": 90
    }
   ],
   "source": [
    "Clases.__init__.__doc__"
   ]
  },
  {
   "cell_type": "code",
   "execution_count": 91,
   "metadata": {},
   "outputs": [],
   "source": [
    "class Alumnos(Clases):\n",
    "    \"\"\"Se inicializa un clase para los alumnos y su informacion\"\"\"\n",
    "    def __init__(self, nombre: str, edad:int) -> None:\n",
    "        self.__nombre = nombre\n",
    "        self.__edad = edad\n",
    "        Clases.clases['Alumnos'].append({'nombre':nombre, 'edad':edad})\n",
    "    \n",
    "    def __str__(self):\n",
    "        \"\"\"String que regresa informacion del alumno\"\"\"\n",
    "        return f\"{clases['Alumnos']['Nombre']}, {clases['Alumno']['Edad']}\"\n",
    "\n",
    "    def califaciones_parciale(nombre,*calificaciones):\n",
    "        for i in Clases.clases['Alumnos']:\n",
    "            if nombre in i.values():\n",
    "                i.update({'calificaciones':calificaciones})\n",
    "    @staticmethod\n",
    "    def calificacion_final():\n",
    "        for i in Clases.clases['Alumnos']:\n",
    "            i.update({'calificacion_final':sum(i['calificaciones'])/len(i['calificaciones'])})\n",
    "\n",
    "    @classmethod\n",
    "    def nuevo_alumno(cls,nuevo_nombre,nueva_edad):\n",
    "        cls.nombre = nuevo_nombre\n",
    "        cls.edad = nueva_edad\n",
    "        Clases.clases['Alumnos'].append({'nombre':nuevo_nombre,'edad':nueva_edad})"
   ]
  },
  {
   "cell_type": "code",
   "execution_count": 92,
   "metadata": {},
   "outputs": [
    {
     "output_type": "error",
     "ename": "KeyError",
     "evalue": "'Alumnos'",
     "traceback": [
      "\u001b[1;31m---------------------------------------------------------------------------\u001b[0m",
      "\u001b[1;31mKeyError\u001b[0m                                  Traceback (most recent call last)",
      "\u001b[1;32m<ipython-input-92-f633fa9973e2>\u001b[0m in \u001b[0;36m<module>\u001b[1;34m\u001b[0m\n\u001b[1;32m----> 1\u001b[1;33m \u001b[0mAlumnos\u001b[0m\u001b[1;33m.\u001b[0m\u001b[0mnuevo_alumno\u001b[0m\u001b[1;33m(\u001b[0m\u001b[1;34m'Cesar'\u001b[0m\u001b[1;33m,\u001b[0m\u001b[1;36m40\u001b[0m\u001b[1;33m)\u001b[0m\u001b[1;33m\u001b[0m\u001b[1;33m\u001b[0m\u001b[0m\n\u001b[0m",
      "\u001b[1;32m<ipython-input-91-5136be3a795b>\u001b[0m in \u001b[0;36mnuevo_alumno\u001b[1;34m(cls, nuevo_nombre, nueva_edad)\u001b[0m\n\u001b[0;32m     23\u001b[0m         \u001b[0mcls\u001b[0m\u001b[1;33m.\u001b[0m\u001b[0mnombre\u001b[0m \u001b[1;33m=\u001b[0m \u001b[0mnuevo_nombre\u001b[0m\u001b[1;33m\u001b[0m\u001b[1;33m\u001b[0m\u001b[0m\n\u001b[0;32m     24\u001b[0m         \u001b[0mcls\u001b[0m\u001b[1;33m.\u001b[0m\u001b[0medad\u001b[0m \u001b[1;33m=\u001b[0m \u001b[0mnueva_edad\u001b[0m\u001b[1;33m\u001b[0m\u001b[1;33m\u001b[0m\u001b[0m\n\u001b[1;32m---> 25\u001b[1;33m         \u001b[0mClases\u001b[0m\u001b[1;33m.\u001b[0m\u001b[0mclases\u001b[0m\u001b[1;33m[\u001b[0m\u001b[1;34m'Alumnos'\u001b[0m\u001b[1;33m]\u001b[0m\u001b[1;33m.\u001b[0m\u001b[0mappend\u001b[0m\u001b[1;33m(\u001b[0m\u001b[1;33m{\u001b[0m\u001b[1;34m'nombre'\u001b[0m\u001b[1;33m:\u001b[0m\u001b[0mnuevo_nombre\u001b[0m\u001b[1;33m,\u001b[0m\u001b[1;34m'edad'\u001b[0m\u001b[1;33m:\u001b[0m\u001b[0mnueva_edad\u001b[0m\u001b[1;33m}\u001b[0m\u001b[1;33m)\u001b[0m\u001b[1;33m\u001b[0m\u001b[1;33m\u001b[0m\u001b[0m\n\u001b[0m",
      "\u001b[1;31mKeyError\u001b[0m: 'Alumnos'"
     ]
    }
   ],
   "source": [
    "Alumnos.nuevo_alumno('Cesar',40)"
   ]
  },
  {
   "cell_type": "code",
   "execution_count": 85,
   "metadata": {},
   "outputs": [
    {
     "output_type": "execute_result",
     "data": {
      "text/plain": "<__main__.Clases at 0x1efaa52c148>"
     },
     "metadata": {},
     "execution_count": 85
    }
   ],
   "source": [
    "Clases('Matemeticas', 'Yona')"
   ]
  },
  {
   "cell_type": "code",
   "execution_count": 87,
   "metadata": {},
   "outputs": [],
   "source": [
    "Alumnos.edad = 123"
   ]
  },
  {
   "cell_type": "code",
   "execution_count": 67,
   "metadata": {},
   "outputs": [
    {
     "output_type": "execute_result",
     "data": {
      "text/plain": "<__main__.Alumnos at 0x1efaa807248>"
     },
     "metadata": {},
     "execution_count": 67
    }
   ],
   "source": [
    "Alumnos('Oscar',27)"
   ]
  },
  {
   "cell_type": "code",
   "execution_count": 68,
   "metadata": {},
   "outputs": [],
   "source": [
    "Alumnos.califaciones_parciale('Oscar',6,7,8,9)"
   ]
  },
  {
   "cell_type": "code",
   "execution_count": 69,
   "metadata": {},
   "outputs": [
    {
     "output_type": "execute_result",
     "data": {
      "text/plain": "{'Matemeticas': {'profe': 'Yona'},\n 'Alumnos': [{'nombre': 'Oscar', 'edad': 27, 'calificaciones': (6, 7, 8, 9)}]}"
     },
     "metadata": {},
     "execution_count": 69
    }
   ],
   "source": [
    "Clases.clases"
   ]
  },
  {
   "cell_type": "code",
   "execution_count": 70,
   "metadata": {},
   "outputs": [],
   "source": [
    "Alumnos.calificacion_final()"
   ]
  },
  {
   "cell_type": "code",
   "execution_count": 71,
   "metadata": {},
   "outputs": [
    {
     "output_type": "execute_result",
     "data": {
      "text/plain": "{'Matemeticas': {'profe': 'Yona'},\n 'Alumnos': [{'nombre': 'Oscar',\n   'edad': 27,\n   'calificaciones': (6, 7, 8, 9),\n   'calificacion_final': 7.5}]}"
     },
     "metadata": {},
     "execution_count": 71
    }
   ],
   "source": [
    "Alumnos.clases"
   ]
  },
  {
   "cell_type": "code",
   "execution_count": null,
   "metadata": {},
   "outputs": [],
   "source": []
  }
 ],
 "metadata": {
  "language_info": {
   "codemirror_mode": {
    "name": "ipython",
    "version": 3
   },
   "file_extension": ".py",
   "mimetype": "text/x-python",
   "name": "python",
   "nbconvert_exporter": "python",
   "pygments_lexer": "ipython3",
   "version": "3.7.4-final"
  },
  "orig_nbformat": 2,
  "kernelspec": {
   "name": "python37464bit456c2aecd4e54895bedac2416c319c0f",
   "display_name": "Python 3.7.4 64-bit"
  }
 },
 "nbformat": 4,
 "nbformat_minor": 2
}