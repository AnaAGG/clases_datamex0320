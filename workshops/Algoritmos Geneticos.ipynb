{
 "cells": [
  {
   "cell_type": "markdown",
   "metadata": {},
   "source": [
    "# Algoritmos Genéticos\n",
    "\n",
    "Los Algoritmos Genéticos (GA) son métodos adaptativos que pueden usarse para resolver problemas de búsqueda y  optimización. Están basados en el proceso genético de los organismos vivos. A\n",
    "lo largo de las generaciones, las poblaciones evolucionan en la naturaleza de acorde con los principios de la selección natural y la supervivencia de los más aptos, postulados por Darwin (1859), matemáticamente explicados por Ronald Fisher (1930) y generalizados por George R. Price (1972).\n",
    "Por imitación de este proceso, los Algoritmos Genéticos son capaces de ir creando soluciones para\n",
    "problemas del mundo real. La evolución de dichas soluciones hacia valores óptimos del problema\n",
    "depende en buena medida de una adecuada codificación de las mismas.\n",
    "\n",
    "Los principios básicos de los Algoritmos Genéticos fueron establecidos por Holland (1975), y se\n",
    "encuentran bien descritos en varios textos – Goldberg (1989), Davis (1991), Michalewicz (1992),\n",
    "Reeves (1993)."
   ]
  },
  {
   "cell_type": "markdown",
   "metadata": {},
   "source": [
    "## Pasos del algoritmo\n",
    "\n",
    "* Determinar la población\n",
    "* Calcular la aptitud de dicha población\n",
    "* Selección de los mejores individuos para generar la siguiente generación\n",
    "* Apareamiento\n",
    "* Mutación\n",
    "* Selección de la descendencia\n",
    "\n",
    "\n",
    "En primer lugar vamos a generar unas funciones para seguir estos pasos:"
   ]
  },
  {
   "cell_type": "code",
   "execution_count": 1,
   "metadata": {},
   "outputs": [],
   "source": [
    "# librerias\n",
    "\n",
    "import numpy as np"
   ]
  },
  {
   "cell_type": "code",
   "execution_count": 2,
   "metadata": {},
   "outputs": [],
   "source": [
    "# aptitud:\n",
    "# se calcula el valor de la aptitud en la población \n",
    "# esta función se calcula como la suma de los productos entre los inputs y sus correspondientes pesos\n",
    "\n",
    "def aptitud(X, w):\n",
    "    \n",
    "    apt = np.sum(X*w, axis=1)\n",
    "    \n",
    "    return apt"
   ]
  },
  {
   "cell_type": "code",
   "execution_count": 3,
   "metadata": {},
   "outputs": [],
   "source": [
    "# seleccion de los mejores individuos en la presente generación como progenitores de la siguiente generación\n",
    "\n",
    "def posibles_padres(poblacion, aptitud, num_padres):\n",
    "    \n",
    "    padres = np.empty((num_padres, poblacion.shape[1]))\n",
    "    \n",
    "    for i in range(num_padres):\n",
    "        max_aptitud_id = np.where(aptitud == np.max(aptitud))\n",
    "        max_aptitud_id = max_aptitud_id[0][0]\n",
    "        padres[i, :] = poblacion[max_aptitud_id, :]\n",
    "        aptitud[max_aptitud_id] = -99999999999          # a minimos para no elegir al mismo\n",
    "        \n",
    "    return padres"
   ]
  },
  {
   "cell_type": "code",
   "execution_count": 4,
   "metadata": {},
   "outputs": [],
   "source": [
    "# cruce\n",
    "\n",
    "def cruce(padres, num_hijos):\n",
    "    hijos = np.empty(num_hijos)\n",
    "    # punto de cruce entre dos progenitores. Usualmente es el centro (la mitad de los genes)\n",
    "    punto_cruce = np.uint8(num_hijos[1]/2)\n",
    "\n",
    "    for k in range(num_hijos[0]):\n",
    "        # indice del primer progenitor \n",
    "        padre1_idx = k%padres.shape[0]\n",
    "        # indice del segundo progenitor\n",
    "        padre2_idx = (k+1)%padres.shape[0]\n",
    "        \n",
    "        # la nueva descendencia tendra la primera mitad de sus genes del primer progenitor\n",
    "        hijos[k, 0:punto_cruce] = padres[padre1_idx, 0:punto_cruce]\n",
    "        # la nueva descendencia tendra la segunda mitad de sus genes del segundo progenitor\n",
    "        hijos[k, punto_cruce:] = padres[padre2_idx, punto_cruce:]\n",
    "        \n",
    "    return hijos\n"
   ]
  },
  {
   "cell_type": "markdown",
   "metadata": {},
   "source": [
    "Existen diferentes tipos de cruce: uniforme, un punto, dos puntos, etc...En este caso se usa cruce en un punto"
   ]
  },
  {
   "cell_type": "code",
   "execution_count": 5,
   "metadata": {},
   "outputs": [],
   "source": [
    "# mutación, cambia un solo gen en cada hijo aleatoriamente \n",
    "# se usa la representación decimal de los genes, pueden ser enteros, binarios, etc...\n",
    "\n",
    "def mutacion(mut_hijos):\n",
    "    \n",
    "    for i in range(mut_hijos.shape[0]):\n",
    "        random = np.random.uniform(-1.0, 1.0, 1)\n",
    "        mut_hijos[i, 4] = mut_hijos[i, 4] + random\n",
    "        \n",
    "    return mut_hijos\n"
   ]
  },
  {
   "cell_type": "markdown",
   "metadata": {},
   "source": [
    "En este caso se ha optado por una mutación aleatoria, pero la mutación puede seguir cualquier distribución:\n",
    "uniforme, normal, etc..."
   ]
  },
  {
   "cell_type": "markdown",
   "metadata": {},
   "source": [
    "## Ejemplo de aplicación\n",
    "\n",
    "En éste ejemplo vamos a maximizar una función lineal, representada por la siguiente ecuación:\n",
    "\n",
    "**Y = w1x1 + w2x2 + w3x3 + w4x4 + w5x5 + w6x6**\n",
    "\n",
    "La ecuación tiene 6 entradas (x1-x6) y 6 pesos (w1-w6).\n",
    "\n",
    "Para unos valores dados de x, por ejemplo (x1,x2,x3,x4,x5,x6)=(4,-2,7,5,11,1), tratamos de encontrar aquellos pesos que maximicen el valor de Y. \n",
    "\n",
    "La idea de maximizar ésta ecuación es simple. Para x positivas se buscan valores de w positivos lo más grandes posibles, y para x negativos valores de w lo más negativos posibles.Pero vamos a hacerlo implementando un algoritmo genético. \n",
    "\n",
    "En principio, se crea la lista de X y se determina el número de parámetros w a optimizar:\n"
   ]
  },
  {
   "cell_type": "code",
   "execution_count": 6,
   "metadata": {},
   "outputs": [],
   "source": [
    "# valores fijos de X\n",
    "X = [4,-2,3.5,5,-11,-4.7]\n",
    "\n",
    "# numero de pesos que vamos a optimizar\n",
    "num_pesos = 6"
   ]
  },
  {
   "cell_type": "markdown",
   "metadata": {},
   "source": [
    "El siguiente paso es definir la población inicial. Basándose en el número de pesos, cada cromosoma in la población tendrá 6 genes, un gen por cada peso.Pero, ¿cuántas soluciones hay para la población?. No hay un valor fijo, se puede escoger un número cualquiera, asi que se pondrá como una variable más en el código para poder cambiarla. Lo siguiente sería definir el número total de individuos en la población:\n"
   ]
  },
  {
   "cell_type": "code",
   "execution_count": 7,
   "metadata": {},
   "outputs": [],
   "source": [
    "sol_pob = 8     # soluciones posibles en la poblacion\n",
    "\n",
    "# se define el tamaño de la poblacion \n",
    "pob_size = (sol_pob, num_pesos) \n",
    "\n",
    "# creando la poblacion inicial\n",
    "nueva_pob = np.random.uniform(low=-4.0, high=4.0, size=pob_size)"
   ]
  },
  {
   "cell_type": "markdown",
   "metadata": {},
   "source": [
    "Se inicia aleatoriamente la población inicial. De acuerdo con los parámetros escogidos, las dimensiones son (8, 6).\n",
    "Esto significa 8 cromosomas con 6 genes cada uno, uno para cada peso. Se muestra la población:"
   ]
  },
  {
   "cell_type": "code",
   "execution_count": 8,
   "metadata": {},
   "outputs": [
    {
     "data": {
      "text/plain": [
       "array([[-0.72189015,  2.8894041 , -2.29901094,  3.33220696,  3.46060772,\n",
       "         3.07128832],\n",
       "       [-0.90199941, -0.78178018,  3.22220007,  1.11600828, -1.81247402,\n",
       "        -3.59996858],\n",
       "       [-2.06207578, -3.68310994, -1.59853487, -2.54856734, -2.68924485,\n",
       "        -0.04568113],\n",
       "       [ 0.68571943,  1.50846357,  1.54450052, -3.7218215 , -0.39543571,\n",
       "        -2.29610381],\n",
       "       [ 1.68619447, -2.94126315, -1.63754933,  3.41091674, -2.95262997,\n",
       "        -3.06407845],\n",
       "       [ 0.20180404,  0.43353111, -1.49612024,  0.07196183,  1.52513159,\n",
       "         2.22578542],\n",
       "       [-1.47427824,  2.51577733, -1.94800919, -2.52792993, -3.28231177,\n",
       "         0.63278833],\n",
       "       [-1.50428152, -0.95091628, -2.73269284,  3.82299807,  1.92065479,\n",
       "        -3.24243953]])"
      ]
     },
     "execution_count": 8,
     "metadata": {},
     "output_type": "execute_result"
    }
   ],
   "source": [
    "nueva_pob"
   ]
  },
  {
   "cell_type": "markdown",
   "metadata": {},
   "source": [
    "# Algoritmo Genético\n",
    "\n",
    "Ahora se aplican las funciones creadas, con la mutación y el cruce entre la población, e iterando un número dado de generaciones"
   ]
  },
  {
   "cell_type": "code",
   "execution_count": 9,
   "metadata": {},
   "outputs": [],
   "source": [
    "num_posibles_padres = 4    # numero de posibles padres en la poblacion\n",
    "num_gen = 10               # numero de generaciones"
   ]
  },
  {
   "cell_type": "code",
   "execution_count": 10,
   "metadata": {},
   "outputs": [
    {
     "name": "stdout",
     "output_type": "stream",
     "text": [
      "Generacion :  0\n",
      "Mejor resultado :  70.83056365111689\n",
      "\n",
      "Generacion :  1\n",
      "Mejor resultado :  87.11637173029433\n",
      "\n",
      "Generacion :  2\n",
      "Mejor resultado :  94.16949611235327\n",
      "\n",
      "Generacion :  3\n",
      "Mejor resultado :  106.89700547016784\n",
      "\n",
      "Generacion :  4\n",
      "Mejor resultado :  111.99460120900225\n",
      "\n",
      "Generacion :  5\n",
      "Mejor resultado :  115.14434262180679\n",
      "\n",
      "Generacion :  6\n",
      "Mejor resultado :  115.14434262180679\n",
      "\n",
      "Generacion :  7\n",
      "Mejor resultado :  123.63502408659306\n",
      "\n",
      "Generacion :  8\n",
      "Mejor resultado :  125.4442878320192\n",
      "\n",
      "Generacion :  9\n",
      "Mejor resultado :  134.2168102153403\n",
      "\n",
      "Mejor solucion [[[-0.90199941 -0.78178018  3.22220007  3.41091674 -8.5025268\n",
      "   -3.06407845]]]\n",
      "\n",
      "Mejor solucion de aptitud [134.21681022]\n"
     ]
    }
   ],
   "source": [
    "for gen in range(num_gen):\n",
    "    print ('Generacion : ', gen)\n",
    "    # se mide la aptitud de cada cromosoma en la poblacion\n",
    "    apt = aptitud(X, nueva_pob)\n",
    "\n",
    "    # se seleccionan los mejores progenitores para el cruce\n",
    "    padres = posibles_padres(nueva_pob, apt, num_posibles_padres)\n",
    "\n",
    "    # se genera la siguiente generacion\n",
    "    descendencia = cruce(padres, num_hijos=(pob_size[0]-padres.shape[0], num_pesos))\n",
    "\n",
    "    # se añaden las mutaciones\n",
    "    descendencia_mutada = mutacion(descendencia)\n",
    "\n",
    "    # se crea una nueva poblacion basada en los padres y la descendencia\n",
    "    nueva_pob[0:padres.shape[0], :] = padres\n",
    "    nueva_pob[padres.shape[0]:, :] = descendencia_mutada\n",
    "\n",
    "    # mejor resultado\n",
    "    print ('Mejor resultado : ', np.max(np.sum(nueva_pob*X, axis=1)))\n",
    "    print ()\n",
    "    \n",
    "# mejor resultado despues de todas la generaciones\n",
    "# primero se calcula la aptitud para cada solucion en al generacion final \n",
    "apt = aptitud(X, nueva_pob)\n",
    "\n",
    "# luego se devuelve el indice de esa solucion que corresponde al resultadon con mejor aptitud \n",
    "mejores_id = np.where(apt == np.max(apt))\n",
    "\n",
    "print ('Mejor solucion' , nueva_pob[mejores_id, :])\n",
    "print ()\n",
    "print ('Mejor solucion de aptitud' , apt[mejores_id])"
   ]
  },
  {
   "cell_type": "code",
   "execution_count": null,
   "metadata": {},
   "outputs": [],
   "source": []
  }
 ],
 "metadata": {
  "kernelspec": {
   "display_name": "Python 3",
   "language": "python",
   "name": "python3"
  },
  "language_info": {
   "codemirror_mode": {
    "name": "ipython",
    "version": 3
   },
   "file_extension": ".py",
   "mimetype": "text/x-python",
   "name": "python",
   "nbconvert_exporter": "python",
   "pygments_lexer": "ipython3",
   "version": "3.7.2"
  }
 },
 "nbformat": 4,
 "nbformat_minor": 2
}
